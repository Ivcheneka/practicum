{
 "cells": [
  {
   "cell_type": "markdown",
   "metadata": {},
   "source": [
    "# Определение стоимости автомобилей"
   ]
  },
  {
   "cell_type": "markdown",
   "metadata": {},
   "source": [
    "Сервис по продаже автомобилей с пробегом «Не бит, не крашен» разрабатывает приложение для привлечения новых клиентов. В нём можно быстро узнать рыночную стоимость своего автомобиля. В вашем распоряжении исторические данные: технические характеристики, комплектации и цены автомобилей. Нам нужно построить модель для определения стоимости. \n",
    "\n",
    "Заказчику важны:\n",
    "\n",
    "- качество предсказания;\n",
    "- скорость предсказания;\n",
    "- время обучения."
   ]
  },
  {
   "cell_type": "markdown",
   "metadata": {},
   "source": [
    "## Необходимые условия"
   ]
  },
  {
   "cell_type": "markdown",
   "metadata": {},
   "source": [
    "* Для оценки качества моделей нужно применить метрику RMSE.\n",
    "* Значение метрики RMSE должно быть меньше 2500.\n",
    "* Средствами библиотеки LightGBM необходимо построить модели градиентного бустинга."
   ]
  },
  {
   "cell_type": "markdown",
   "metadata": {},
   "source": [
    "## Описание данных"
   ]
  },
  {
   "cell_type": "markdown",
   "metadata": {},
   "source": [
    "**Признаки**\n",
    "\n",
    "- *DateCrawled* — дата скачивания анкеты из базы\n",
    "- *VehicleType* — тип автомобильного кузова\n",
    "- *RegistrationYear* — год регистрации автомобиля\n",
    "- *Gearbox* — тип коробки передач\n",
    "- *Power* — мощность (л. с.)\n",
    "- *Model* — модель автомобиля\n",
    "- *Kilometer* — пробег (км)\n",
    "- *RegistrationMonth* — месяц регистрации автомобиля\n",
    "- *FuelType* — тип топлива\n",
    "- *Brand* — марка автомобиля\n",
    "- *Repaired* — была машина в ремонте или нет\n",
    "- *DateCreated* — дата создания анкеты\n",
    "- *NumberOfPictures* — количество фотографий автомобиля\n",
    "- *PostalCode* — почтовый индекс владельца анкеты (пользователя)\n",
    "- *LastSeen* — дата последней активности пользователя\n",
    "\n",
    "**Целевой признак**\n",
    "\n",
    "*Price* — цена (евро)"
   ]
  },
  {
   "cell_type": "markdown",
   "metadata": {},
   "source": [
    "## Подготовка данных"
   ]
  },
  {
   "cell_type": "markdown",
   "metadata": {},
   "source": [
    "### Загрузка библиотек"
   ]
  },
  {
   "cell_type": "code",
   "execution_count": 1,
   "metadata": {},
   "outputs": [
    {
     "name": "stdout",
     "output_type": "stream",
     "text": [
      "Requirement already satisfied: lightgbm in c:\\users\\user\\anaconda3\\lib\\site-packages (4.3.0)\n",
      "Requirement already satisfied: scipy in c:\\users\\user\\anaconda3\\lib\\site-packages (from lightgbm) (1.10.0)\n",
      "Requirement already satisfied: numpy in c:\\users\\user\\anaconda3\\lib\\site-packages (from lightgbm) (1.23.5)\n"
     ]
    },
    {
     "name": "stderr",
     "output_type": "stream",
     "text": [
      "WARNING: Ignoring invalid distribution -cikit-learn (c:\\users\\user\\anaconda3\\lib\\site-packages)\n",
      "WARNING: Ignoring invalid distribution -cikit-learn (c:\\users\\user\\anaconda3\\lib\\site-packages)\n",
      "WARNING: Ignoring invalid distribution -cikit-learn (c:\\users\\user\\anaconda3\\lib\\site-packages)\n",
      "WARNING: Ignoring invalid distribution -cikit-learn (c:\\users\\user\\anaconda3\\lib\\site-packages)\n",
      "WARNING: Ignoring invalid distribution -cikit-learn (c:\\users\\user\\anaconda3\\lib\\site-packages)\n",
      "WARNING: Ignoring invalid distribution -cikit-learn (c:\\users\\user\\anaconda3\\lib\\site-packages)\n"
     ]
    },
    {
     "name": "stdout",
     "output_type": "stream",
     "text": [
      "Requirement already satisfied: scikit-learn in c:\\users\\user\\anaconda3\\lib\\site-packages (1.4.2)"
     ]
    },
    {
     "name": "stderr",
     "output_type": "stream",
     "text": [
      "WARNING: Ignoring invalid distribution -cikit-learn (c:\\users\\user\\anaconda3\\lib\\site-packages)\n",
      "WARNING: Ignoring invalid distribution -cikit-learn (c:\\users\\user\\anaconda3\\lib\\site-packages)\n",
      "WARNING: Ignoring invalid distribution -cikit-learn (c:\\users\\user\\anaconda3\\lib\\site-packages)\n",
      "WARNING: Ignoring invalid distribution -cikit-learn (c:\\users\\user\\anaconda3\\lib\\site-packages)\n",
      "WARNING: Ignoring invalid distribution -cikit-learn (c:\\users\\user\\anaconda3\\lib\\site-packages)\n",
      "WARNING: Ignoring invalid distribution -cikit-learn (c:\\users\\user\\anaconda3\\lib\\site-packages)\n"
     ]
    },
    {
     "name": "stdout",
     "output_type": "stream",
     "text": [
      "\n",
      "Requirement already satisfied: threadpoolctl>=2.0.0 in c:\\users\\user\\anaconda3\\lib\\site-packages (from scikit-learn) (2.2.0)\n",
      "Requirement already satisfied: joblib>=1.2.0 in c:\\users\\user\\anaconda3\\lib\\site-packages (from scikit-learn) (1.4.2)\n",
      "Requirement already satisfied: scipy>=1.6.0 in c:\\users\\user\\anaconda3\\lib\\site-packages (from scikit-learn) (1.10.0)\n",
      "Requirement already satisfied: numpy>=1.19.5 in c:\\users\\user\\anaconda3\\lib\\site-packages (from scikit-learn) (1.23.5)\n"
     ]
    }
   ],
   "source": [
    "!pip install lightgbm\n",
    "!pip install -U scikit-learn"
   ]
  },
  {
   "cell_type": "code",
   "execution_count": 2,
   "metadata": {},
   "outputs": [],
   "source": [
    "# импорт основных библиотек\n",
    "import numpy as np\n",
    "import pandas as pd\n",
    "import seaborn as sns\n",
    "import matplotlib.pyplot as plt\n",
    "import re\n",
    "from tqdm.notebook import tqdm\n",
    "\n",
    "# импорт спец. модулей\n",
    "from sklearn.metrics import mean_squared_error\n",
    "from sklearn.linear_model import LinearRegression\n",
    "from sklearn.ensemble import RandomForestRegressor\n",
    "from sklearn.preprocessing import (\n",
    "    OneHotEncoder,\n",
    "    OrdinalEncoder,\n",
    "    StandardScaler\n",
    ")\n",
    "from sklearn.model_selection import train_test_split, cross_val_score, GridSearchCV\n",
    "from patsy import dmatrices\n",
    "from statsmodels.stats.outliers_influence import variance_inflation_factor\n",
    "\n",
    "\n",
    "\n",
    "import lightgbm as lgb\n",
    "from lightgbm import LGBMRegressor\n",
    "\n",
    "import warnings\n",
    "warnings.filterwarnings(\"ignore\")\n",
    "\n",
    "# константы\n",
    "RANDOM_STATE = 123"
   ]
  },
  {
   "cell_type": "markdown",
   "metadata": {},
   "source": [
    "### Обзор данных"
   ]
  },
  {
   "cell_type": "markdown",
   "metadata": {},
   "source": [
    "Загрузим необходимый датасет и посмотрим его основные характеристики:"
   ]
  },
  {
   "cell_type": "code",
   "execution_count": 3,
   "metadata": {},
   "outputs": [],
   "source": [
    "try:\n",
    "    data = pd.read_csv('autos.csv', parse_dates=['DateCrawled', 'DateCreated', 'LastSeen']) \n",
    "except:\n",
    "    data = pd.read_csv('/datasets/autos.csv', parse_dates=['DateCrawled', 'DateCreated', 'LastSeen'])"
   ]
  },
  {
   "cell_type": "code",
   "execution_count": 4,
   "metadata": {},
   "outputs": [
    {
     "data": {
      "text/html": [
       "<div>\n",
       "<style scoped>\n",
       "    .dataframe tbody tr th:only-of-type {\n",
       "        vertical-align: middle;\n",
       "    }\n",
       "\n",
       "    .dataframe tbody tr th {\n",
       "        vertical-align: top;\n",
       "    }\n",
       "\n",
       "    .dataframe thead th {\n",
       "        text-align: right;\n",
       "    }\n",
       "</style>\n",
       "<table border=\"1\" class=\"dataframe\">\n",
       "  <thead>\n",
       "    <tr style=\"text-align: right;\">\n",
       "      <th></th>\n",
       "      <th>DateCrawled</th>\n",
       "      <th>Price</th>\n",
       "      <th>VehicleType</th>\n",
       "      <th>RegistrationYear</th>\n",
       "      <th>Gearbox</th>\n",
       "      <th>Power</th>\n",
       "      <th>Model</th>\n",
       "      <th>Kilometer</th>\n",
       "      <th>RegistrationMonth</th>\n",
       "      <th>FuelType</th>\n",
       "      <th>Brand</th>\n",
       "      <th>Repaired</th>\n",
       "      <th>DateCreated</th>\n",
       "      <th>NumberOfPictures</th>\n",
       "      <th>PostalCode</th>\n",
       "      <th>LastSeen</th>\n",
       "    </tr>\n",
       "  </thead>\n",
       "  <tbody>\n",
       "    <tr>\n",
       "      <th>0</th>\n",
       "      <td>2016-03-24 11:52:17</td>\n",
       "      <td>480</td>\n",
       "      <td>NaN</td>\n",
       "      <td>1993</td>\n",
       "      <td>manual</td>\n",
       "      <td>0</td>\n",
       "      <td>golf</td>\n",
       "      <td>150000</td>\n",
       "      <td>0</td>\n",
       "      <td>petrol</td>\n",
       "      <td>volkswagen</td>\n",
       "      <td>NaN</td>\n",
       "      <td>2016-03-24</td>\n",
       "      <td>0</td>\n",
       "      <td>70435</td>\n",
       "      <td>2016-04-07 03:16:57</td>\n",
       "    </tr>\n",
       "    <tr>\n",
       "      <th>1</th>\n",
       "      <td>2016-03-24 10:58:45</td>\n",
       "      <td>18300</td>\n",
       "      <td>coupe</td>\n",
       "      <td>2011</td>\n",
       "      <td>manual</td>\n",
       "      <td>190</td>\n",
       "      <td>NaN</td>\n",
       "      <td>125000</td>\n",
       "      <td>5</td>\n",
       "      <td>gasoline</td>\n",
       "      <td>audi</td>\n",
       "      <td>yes</td>\n",
       "      <td>2016-03-24</td>\n",
       "      <td>0</td>\n",
       "      <td>66954</td>\n",
       "      <td>2016-04-07 01:46:50</td>\n",
       "    </tr>\n",
       "    <tr>\n",
       "      <th>2</th>\n",
       "      <td>2016-03-14 12:52:21</td>\n",
       "      <td>9800</td>\n",
       "      <td>suv</td>\n",
       "      <td>2004</td>\n",
       "      <td>auto</td>\n",
       "      <td>163</td>\n",
       "      <td>grand</td>\n",
       "      <td>125000</td>\n",
       "      <td>8</td>\n",
       "      <td>gasoline</td>\n",
       "      <td>jeep</td>\n",
       "      <td>NaN</td>\n",
       "      <td>2016-03-14</td>\n",
       "      <td>0</td>\n",
       "      <td>90480</td>\n",
       "      <td>2016-04-05 12:47:46</td>\n",
       "    </tr>\n",
       "    <tr>\n",
       "      <th>3</th>\n",
       "      <td>2016-03-17 16:54:04</td>\n",
       "      <td>1500</td>\n",
       "      <td>small</td>\n",
       "      <td>2001</td>\n",
       "      <td>manual</td>\n",
       "      <td>75</td>\n",
       "      <td>golf</td>\n",
       "      <td>150000</td>\n",
       "      <td>6</td>\n",
       "      <td>petrol</td>\n",
       "      <td>volkswagen</td>\n",
       "      <td>no</td>\n",
       "      <td>2016-03-17</td>\n",
       "      <td>0</td>\n",
       "      <td>91074</td>\n",
       "      <td>2016-03-17 17:40:17</td>\n",
       "    </tr>\n",
       "    <tr>\n",
       "      <th>4</th>\n",
       "      <td>2016-03-31 17:25:20</td>\n",
       "      <td>3600</td>\n",
       "      <td>small</td>\n",
       "      <td>2008</td>\n",
       "      <td>manual</td>\n",
       "      <td>69</td>\n",
       "      <td>fabia</td>\n",
       "      <td>90000</td>\n",
       "      <td>7</td>\n",
       "      <td>gasoline</td>\n",
       "      <td>skoda</td>\n",
       "      <td>no</td>\n",
       "      <td>2016-03-31</td>\n",
       "      <td>0</td>\n",
       "      <td>60437</td>\n",
       "      <td>2016-04-06 10:17:21</td>\n",
       "    </tr>\n",
       "  </tbody>\n",
       "</table>\n",
       "</div>"
      ],
      "text/plain": [
       "          DateCrawled  Price VehicleType  RegistrationYear Gearbox  Power  \\\n",
       "0 2016-03-24 11:52:17    480         NaN              1993  manual      0   \n",
       "1 2016-03-24 10:58:45  18300       coupe              2011  manual    190   \n",
       "2 2016-03-14 12:52:21   9800         suv              2004    auto    163   \n",
       "3 2016-03-17 16:54:04   1500       small              2001  manual     75   \n",
       "4 2016-03-31 17:25:20   3600       small              2008  manual     69   \n",
       "\n",
       "   Model  Kilometer  RegistrationMonth  FuelType       Brand Repaired  \\\n",
       "0   golf     150000                  0    petrol  volkswagen      NaN   \n",
       "1    NaN     125000                  5  gasoline        audi      yes   \n",
       "2  grand     125000                  8  gasoline        jeep      NaN   \n",
       "3   golf     150000                  6    petrol  volkswagen       no   \n",
       "4  fabia      90000                  7  gasoline       skoda       no   \n",
       "\n",
       "  DateCreated  NumberOfPictures  PostalCode            LastSeen  \n",
       "0  2016-03-24                 0       70435 2016-04-07 03:16:57  \n",
       "1  2016-03-24                 0       66954 2016-04-07 01:46:50  \n",
       "2  2016-03-14                 0       90480 2016-04-05 12:47:46  \n",
       "3  2016-03-17                 0       91074 2016-03-17 17:40:17  \n",
       "4  2016-03-31                 0       60437 2016-04-06 10:17:21  "
      ]
     },
     "execution_count": 4,
     "metadata": {},
     "output_type": "execute_result"
    }
   ],
   "source": [
    "data.head()"
   ]
  },
  {
   "cell_type": "code",
   "execution_count": 5,
   "metadata": {},
   "outputs": [
    {
     "name": "stdout",
     "output_type": "stream",
     "text": [
      "<class 'pandas.core.frame.DataFrame'>\n",
      "RangeIndex: 354369 entries, 0 to 354368\n",
      "Data columns (total 16 columns):\n",
      " #   Column             Non-Null Count   Dtype         \n",
      "---  ------             --------------   -----         \n",
      " 0   DateCrawled        354369 non-null  datetime64[ns]\n",
      " 1   Price              354369 non-null  int64         \n",
      " 2   VehicleType        316879 non-null  object        \n",
      " 3   RegistrationYear   354369 non-null  int64         \n",
      " 4   Gearbox            334536 non-null  object        \n",
      " 5   Power              354369 non-null  int64         \n",
      " 6   Model              334664 non-null  object        \n",
      " 7   Kilometer          354369 non-null  int64         \n",
      " 8   RegistrationMonth  354369 non-null  int64         \n",
      " 9   FuelType           321474 non-null  object        \n",
      " 10  Brand              354369 non-null  object        \n",
      " 11  Repaired           283215 non-null  object        \n",
      " 12  DateCreated        354369 non-null  datetime64[ns]\n",
      " 13  NumberOfPictures   354369 non-null  int64         \n",
      " 14  PostalCode         354369 non-null  int64         \n",
      " 15  LastSeen           354369 non-null  datetime64[ns]\n",
      "dtypes: datetime64[ns](3), int64(7), object(6)\n",
      "memory usage: 43.3+ MB\n"
     ]
    }
   ],
   "source": [
    "data.info()"
   ]
  },
  {
   "cell_type": "code",
   "execution_count": 6,
   "metadata": {},
   "outputs": [
    {
     "data": {
      "text/html": [
       "<div>\n",
       "<style scoped>\n",
       "    .dataframe tbody tr th:only-of-type {\n",
       "        vertical-align: middle;\n",
       "    }\n",
       "\n",
       "    .dataframe tbody tr th {\n",
       "        vertical-align: top;\n",
       "    }\n",
       "\n",
       "    .dataframe thead th {\n",
       "        text-align: right;\n",
       "    }\n",
       "</style>\n",
       "<table border=\"1\" class=\"dataframe\">\n",
       "  <thead>\n",
       "    <tr style=\"text-align: right;\">\n",
       "      <th></th>\n",
       "      <th>Price</th>\n",
       "      <th>RegistrationYear</th>\n",
       "      <th>Power</th>\n",
       "      <th>Kilometer</th>\n",
       "      <th>RegistrationMonth</th>\n",
       "      <th>NumberOfPictures</th>\n",
       "      <th>PostalCode</th>\n",
       "    </tr>\n",
       "  </thead>\n",
       "  <tbody>\n",
       "    <tr>\n",
       "      <th>count</th>\n",
       "      <td>354369.000000</td>\n",
       "      <td>354369.000000</td>\n",
       "      <td>354369.000000</td>\n",
       "      <td>354369.000000</td>\n",
       "      <td>354369.000000</td>\n",
       "      <td>354369.0</td>\n",
       "      <td>354369.000000</td>\n",
       "    </tr>\n",
       "    <tr>\n",
       "      <th>mean</th>\n",
       "      <td>4416.656776</td>\n",
       "      <td>2004.234448</td>\n",
       "      <td>110.094337</td>\n",
       "      <td>128211.172535</td>\n",
       "      <td>5.714645</td>\n",
       "      <td>0.0</td>\n",
       "      <td>50508.689087</td>\n",
       "    </tr>\n",
       "    <tr>\n",
       "      <th>std</th>\n",
       "      <td>4514.158514</td>\n",
       "      <td>90.227958</td>\n",
       "      <td>189.850405</td>\n",
       "      <td>37905.341530</td>\n",
       "      <td>3.726421</td>\n",
       "      <td>0.0</td>\n",
       "      <td>25783.096248</td>\n",
       "    </tr>\n",
       "    <tr>\n",
       "      <th>min</th>\n",
       "      <td>0.000000</td>\n",
       "      <td>1000.000000</td>\n",
       "      <td>0.000000</td>\n",
       "      <td>5000.000000</td>\n",
       "      <td>0.000000</td>\n",
       "      <td>0.0</td>\n",
       "      <td>1067.000000</td>\n",
       "    </tr>\n",
       "    <tr>\n",
       "      <th>25%</th>\n",
       "      <td>1050.000000</td>\n",
       "      <td>1999.000000</td>\n",
       "      <td>69.000000</td>\n",
       "      <td>125000.000000</td>\n",
       "      <td>3.000000</td>\n",
       "      <td>0.0</td>\n",
       "      <td>30165.000000</td>\n",
       "    </tr>\n",
       "    <tr>\n",
       "      <th>50%</th>\n",
       "      <td>2700.000000</td>\n",
       "      <td>2003.000000</td>\n",
       "      <td>105.000000</td>\n",
       "      <td>150000.000000</td>\n",
       "      <td>6.000000</td>\n",
       "      <td>0.0</td>\n",
       "      <td>49413.000000</td>\n",
       "    </tr>\n",
       "    <tr>\n",
       "      <th>75%</th>\n",
       "      <td>6400.000000</td>\n",
       "      <td>2008.000000</td>\n",
       "      <td>143.000000</td>\n",
       "      <td>150000.000000</td>\n",
       "      <td>9.000000</td>\n",
       "      <td>0.0</td>\n",
       "      <td>71083.000000</td>\n",
       "    </tr>\n",
       "    <tr>\n",
       "      <th>max</th>\n",
       "      <td>20000.000000</td>\n",
       "      <td>9999.000000</td>\n",
       "      <td>20000.000000</td>\n",
       "      <td>150000.000000</td>\n",
       "      <td>12.000000</td>\n",
       "      <td>0.0</td>\n",
       "      <td>99998.000000</td>\n",
       "    </tr>\n",
       "  </tbody>\n",
       "</table>\n",
       "</div>"
      ],
      "text/plain": [
       "               Price  RegistrationYear          Power      Kilometer  \\\n",
       "count  354369.000000     354369.000000  354369.000000  354369.000000   \n",
       "mean     4416.656776       2004.234448     110.094337  128211.172535   \n",
       "std      4514.158514         90.227958     189.850405   37905.341530   \n",
       "min         0.000000       1000.000000       0.000000    5000.000000   \n",
       "25%      1050.000000       1999.000000      69.000000  125000.000000   \n",
       "50%      2700.000000       2003.000000     105.000000  150000.000000   \n",
       "75%      6400.000000       2008.000000     143.000000  150000.000000   \n",
       "max     20000.000000       9999.000000   20000.000000  150000.000000   \n",
       "\n",
       "       RegistrationMonth  NumberOfPictures     PostalCode  \n",
       "count      354369.000000          354369.0  354369.000000  \n",
       "mean            5.714645               0.0   50508.689087  \n",
       "std             3.726421               0.0   25783.096248  \n",
       "min             0.000000               0.0    1067.000000  \n",
       "25%             3.000000               0.0   30165.000000  \n",
       "50%             6.000000               0.0   49413.000000  \n",
       "75%             9.000000               0.0   71083.000000  \n",
       "max            12.000000               0.0   99998.000000  "
      ]
     },
     "execution_count": 6,
     "metadata": {},
     "output_type": "execute_result"
    }
   ],
   "source": [
    "data.describe()"
   ]
  },
  {
   "cell_type": "code",
   "execution_count": 7,
   "metadata": {},
   "outputs": [
    {
     "name": "stdout",
     "output_type": "stream",
     "text": [
      "Количество пропусков:\n"
     ]
    },
    {
     "data": {
      "text/plain": [
       "DateCrawled              0\n",
       "Price                    0\n",
       "VehicleType          37490\n",
       "RegistrationYear         0\n",
       "Gearbox              19833\n",
       "Power                    0\n",
       "Model                19705\n",
       "Kilometer                0\n",
       "RegistrationMonth        0\n",
       "FuelType             32895\n",
       "Brand                    0\n",
       "Repaired             71154\n",
       "DateCreated              0\n",
       "NumberOfPictures         0\n",
       "PostalCode               0\n",
       "LastSeen                 0\n",
       "dtype: int64"
      ]
     },
     "execution_count": 7,
     "metadata": {},
     "output_type": "execute_result"
    }
   ],
   "source": [
    "print('Количество пропусков:') \n",
    "data.isna().sum()"
   ]
  },
  {
   "cell_type": "code",
   "execution_count": 8,
   "metadata": {},
   "outputs": [
    {
     "name": "stdout",
     "output_type": "stream",
     "text": [
      "Количество дубликатов:\n"
     ]
    },
    {
     "data": {
      "text/plain": [
       "4"
      ]
     },
     "execution_count": 8,
     "metadata": {},
     "output_type": "execute_result"
    }
   ],
   "source": [
    "print('Количество дубликатов:') \n",
    "data.duplicated().sum()"
   ]
  },
  {
   "cell_type": "markdown",
   "metadata": {},
   "source": [
    "### Выводы по обзору данных"
   ]
  },
  {
   "cell_type": "markdown",
   "metadata": {},
   "source": [
    "* Есть признаки, которые никак не влияют на цену: *DateCrawled*, *RegistrationMonth*, *DateCreated*, *NumberOfPictures*, *PostalCode* и *LastSeen*. От них нам предстоит избавиться.\n",
    "* В признаках, влияющих на цену, есть пропуски (а именно в столбцах *VehicleType*, *Gearbox*, *Model*, *FuelType* и *Repaired*).\n",
    "* В столбцах *Price* и *Power* минимальное значение 0, что может свидетельствовать о наличии выбросов.\n",
    "* В *RegistrationYear* указан минимальный год 1000, что также является ошибочным значением и является выбросом.\n",
    "* Есть дубликаты, от которых также надо избавиться.\n",
    "* В названиях признаков надо избавиться от верблюжьего стиля.\n",
    "* В признаках *Gearbox* и *NotRepaired* значения можно заменить на 1/0."
   ]
  },
  {
   "cell_type": "markdown",
   "metadata": {},
   "source": [
    "### Предобработка данных"
   ]
  },
  {
   "cell_type": "markdown",
   "metadata": {},
   "source": [
    "Сначала преобразуем все названия столбцов и приведём их к змеиному регистру."
   ]
  },
  {
   "cell_type": "code",
   "execution_count": 9,
   "metadata": {},
   "outputs": [],
   "source": [
    "#data.columns = data.columns.str.replace(r\"([A-Z])\", r\" \\1\").str.lower().str.replace(' ', '_').str[1:]\n",
    "#data.columns"
   ]
  },
  {
   "cell_type": "code",
   "execution_count": 10,
   "metadata": {},
   "outputs": [
    {
     "data": {
      "text/plain": [
       "Index(['date_crawled', 'price', 'vehicle_type', 'registration_year', 'gearbox',\n",
       "       'power', 'model', 'kilometer', 'registration_month', 'fuel_type',\n",
       "       'brand', 'repaired', 'date_created', 'number_of_pictures',\n",
       "       'postal_code', 'last_seen'],\n",
       "      dtype='object')"
      ]
     },
     "execution_count": 10,
     "metadata": {},
     "output_type": "execute_result"
    }
   ],
   "source": [
    "data = data.rename(columns=lambda x: re.sub(r'(?<!^)([A-Z])', r'_\\1', x).lower())  \n",
    "\n",
    "data.columns"
   ]
  },
  {
   "cell_type": "markdown",
   "metadata": {},
   "source": [
    "Избавляемся от явных дубликатов и сразу же проверяем."
   ]
  },
  {
   "cell_type": "code",
   "execution_count": 11,
   "metadata": {},
   "outputs": [
    {
     "name": "stdout",
     "output_type": "stream",
     "text": [
      "Количество дубликатов:\n"
     ]
    },
    {
     "data": {
      "text/plain": [
       "0"
      ]
     },
     "execution_count": 11,
     "metadata": {},
     "output_type": "execute_result"
    }
   ],
   "source": [
    "data.drop_duplicates(inplace=True)\n",
    "print('Количество дубликатов:') \n",
    "data.duplicated().sum()"
   ]
  },
  {
   "cell_type": "markdown",
   "metadata": {},
   "source": [
    "Удаляем признаки, которые на прямую не влияют на целевой признак."
   ]
  },
  {
   "cell_type": "code",
   "execution_count": 12,
   "metadata": {},
   "outputs": [
    {
     "data": {
      "text/plain": [
       "Index(['price', 'vehicle_type', 'registration_year', 'gearbox', 'power',\n",
       "       'model', 'kilometer', 'fuel_type', 'brand', 'repaired'],\n",
       "      dtype='object')"
      ]
     },
     "execution_count": 12,
     "metadata": {},
     "output_type": "execute_result"
    }
   ],
   "source": [
    "data.drop(columns=['date_crawled', 'date_created', 'number_of_pictures',\n",
    "                    'postal_code', 'last_seen', 'registration_month'],\n",
    "           axis=1,\n",
    "           inplace=True)\n",
    "data.columns"
   ]
  },
  {
   "cell_type": "markdown",
   "metadata": {},
   "source": [
    "Ещё на этапе обзора данных мы заметили, что в целевой признаке есть нулевые значения. Это явнаые выбросы. Посмотрим, какое же их количество."
   ]
  },
  {
   "cell_type": "code",
   "execution_count": 13,
   "metadata": {},
   "outputs": [
    {
     "data": {
      "text/plain": [
       "0        10772\n",
       "500       5670\n",
       "1500      5394\n",
       "1000      4648\n",
       "1200      4594\n",
       "         ...  \n",
       "1368         1\n",
       "233          1\n",
       "11080        1\n",
       "16340        1\n",
       "10985        1\n",
       "Name: price, Length: 3731, dtype: int64"
      ]
     },
     "execution_count": 13,
     "metadata": {},
     "output_type": "execute_result"
    }
   ],
   "source": [
    "data.price.value_counts()"
   ]
  },
  {
   "cell_type": "markdown",
   "metadata": {},
   "source": [
    "Удаляем все 0 из столбца *price*."
   ]
  },
  {
   "cell_type": "code",
   "execution_count": 14,
   "metadata": {},
   "outputs": [],
   "source": [
    "data = data.query('price > 0')"
   ]
  },
  {
   "cell_type": "markdown",
   "metadata": {},
   "source": [
    "Посмотрим гистограмму и ящик с усами для нашего целевого признака, чтобы проанализировать наличие дополнительных выбросов в столбце."
   ]
  },
  {
   "cell_type": "code",
   "execution_count": 15,
   "metadata": {},
   "outputs": [
    {
     "data": {
      "image/png": "[encoded data removed]",
      "text/plain": [
       "<Figure size 2000x500 with 1 Axes>"
      ]
     },
     "metadata": {},
     "output_type": "display_data"
    },
    {
     "data": {
      "image/png": "[encoded data removed]",
      "text/plain": [
       "<Figure size 1000x300 with 1 Axes>"
      ]
     },
     "metadata": {},
     "output_type": "display_data"
    }
   ],
   "source": [
    "data.price.hist(bins=200, figsize=(20,5))\n",
    "\n",
    "plt.figure(figsize=(10,3))\n",
    "sns.boxplot(data=data.price, orient='h')\n",
    "plt.title('Ящик с усами для целевого признака')\n",
    "plt.show()"
   ]
  },
  {
   "cell_type": "markdown",
   "metadata": {},
   "source": [
    "Также для дополнительного понимания посмотрим на квантили, так как по гистограмме заметен длинный хвост, по которому не сразу понятно, что именно является выбросами. По ящику с усами можно сказать, что значения выше 15000 уже можно отбрасывать. "
   ]
  },
  {
   "cell_type": "code",
   "execution_count": 16,
   "metadata": {},
   "outputs": [
    {
     "data": {
      "text/plain": [
       "0.05      350.0\n",
       "0.95    14800.0\n",
       "Name: price, dtype: float64"
      ]
     },
     "execution_count": 16,
     "metadata": {},
     "output_type": "execute_result"
    }
   ],
   "source": [
    "data.price.quantile([.05, 0.95])"
   ]
  },
  {
   "cell_type": "markdown",
   "metadata": {},
   "source": [
    "Удаляем данные в соответствии с показателями квантилей."
   ]
  },
  {
   "cell_type": "code",
   "execution_count": 17,
   "metadata": {},
   "outputs": [],
   "source": [
    "data = data.query('350 <= price <= 14800')"
   ]
  },
  {
   "cell_type": "markdown",
   "metadata": {},
   "source": [
    "Далее приступим к столбцу *registration_year* и посмотрим на разброс данных."
   ]
  },
  {
   "cell_type": "code",
   "execution_count": 18,
   "metadata": {},
   "outputs": [
    {
     "data": {
      "text/html": [
       "<div>\n",
       "<style scoped>\n",
       "    .dataframe tbody tr th:only-of-type {\n",
       "        vertical-align: middle;\n",
       "    }\n",
       "\n",
       "    .dataframe tbody tr th {\n",
       "        vertical-align: top;\n",
       "    }\n",
       "\n",
       "    .dataframe thead th {\n",
       "        text-align: right;\n",
       "    }\n",
       "</style>\n",
       "<table border=\"1\" class=\"dataframe\">\n",
       "  <thead>\n",
       "    <tr style=\"text-align: right;\">\n",
       "      <th></th>\n",
       "      <th>count</th>\n",
       "    </tr>\n",
       "    <tr>\n",
       "      <th>registration_year</th>\n",
       "      <th></th>\n",
       "    </tr>\n",
       "  </thead>\n",
       "  <tbody>\n",
       "    <tr>\n",
       "      <th>1000</th>\n",
       "      <td>18</td>\n",
       "    </tr>\n",
       "    <tr>\n",
       "      <th>1001</th>\n",
       "      <td>1</td>\n",
       "    </tr>\n",
       "    <tr>\n",
       "      <th>1039</th>\n",
       "      <td>1</td>\n",
       "    </tr>\n",
       "    <tr>\n",
       "      <th>1111</th>\n",
       "      <td>1</td>\n",
       "    </tr>\n",
       "    <tr>\n",
       "      <th>1234</th>\n",
       "      <td>2</td>\n",
       "    </tr>\n",
       "    <tr>\n",
       "      <th>...</th>\n",
       "      <td>...</td>\n",
       "    </tr>\n",
       "    <tr>\n",
       "      <th>8500</th>\n",
       "      <td>1</td>\n",
       "    </tr>\n",
       "    <tr>\n",
       "      <th>8888</th>\n",
       "      <td>1</td>\n",
       "    </tr>\n",
       "    <tr>\n",
       "      <th>9000</th>\n",
       "      <td>2</td>\n",
       "    </tr>\n",
       "    <tr>\n",
       "      <th>9450</th>\n",
       "      <td>1</td>\n",
       "    </tr>\n",
       "    <tr>\n",
       "      <th>9999</th>\n",
       "      <td>10</td>\n",
       "    </tr>\n",
       "  </tbody>\n",
       "</table>\n",
       "<p>130 rows × 1 columns</p>\n",
       "</div>"
      ],
      "text/plain": [
       "                   count\n",
       "registration_year       \n",
       "1000                  18\n",
       "1001                   1\n",
       "1039                   1\n",
       "1111                   1\n",
       "1234                   2\n",
       "...                  ...\n",
       "8500                   1\n",
       "8888                   1\n",
       "9000                   2\n",
       "9450                   1\n",
       "9999                  10\n",
       "\n",
       "[130 rows x 1 columns]"
      ]
     },
     "execution_count": 18,
     "metadata": {},
     "output_type": "execute_result"
    }
   ],
   "source": [
    "reg_year = data.pivot_table(index='registration_year', values='brand', aggfunc='count')\n",
    "reg_year.columns = ['count']\n",
    "reg_year"
   ]
  },
  {
   "cell_type": "markdown",
   "metadata": {},
   "source": [
    "Построим гистограмму по столбцу, чтобы примерно понимать распределние данных."
   ]
  },
  {
   "cell_type": "code",
   "execution_count": 19,
   "metadata": {},
   "outputs": [
    {
     "data": {
      "image/png": "[encoded data removed]",
      "text/plain": [
       "<Figure size 2000x500 with 1 Axes>"
      ]
     },
     "metadata": {},
     "output_type": "display_data"
    }
   ],
   "source": [
    "reg_year.plot.bar(figsize = (20,5))\n",
    "plt.title('Распределение годов регистрации')\n",
    "plt.xlabel('Годы регистрации')\n",
    "plt.ylabel('Количество автомобилей за каждый год')\n",
    "plt.show()"
   ]
  },
  {
   "cell_type": "markdown",
   "metadata": {},
   "source": [
    "Посмотрим последнюю дату выгрузки данных, чтобы понимать, какие года отбрасывать по верхней планке."
   ]
  },
  {
   "cell_type": "code",
   "execution_count": 20,
   "metadata": {},
   "outputs": [
    {
     "data": {
      "text/plain": [
       "'2016-04-07 14:36:58'"
      ]
     },
     "execution_count": 20,
     "metadata": {},
     "output_type": "execute_result"
    }
   ],
   "source": [
    "try:\n",
    "    data_ = pd.read_csv('autos.csv') \n",
    "except:\n",
    "    data_ = pd.read_csv('/datasets/autos.csv')\n",
    "    \n",
    "data_.DateCrawled.max()"
   ]
  },
  {
   "cell_type": "markdown",
   "metadata": {},
   "source": [
    "Удалим данные, где год регистрации раньше 1990 (так как по графику после этого года заметен явный скачок вверх) и позже 2016."
   ]
  },
  {
   "cell_type": "code",
   "execution_count": 21,
   "metadata": {},
   "outputs": [],
   "source": [
    "data = data.query('1990 <= registration_year <= 2016')"
   ]
  },
  {
   "cell_type": "markdown",
   "metadata": {},
   "source": [
    "Далее проверяем на наличие выбросов признак *power*. Построим для него гистограмму."
   ]
  },
  {
   "cell_type": "code",
   "execution_count": 22,
   "metadata": {},
   "outputs": [
    {
     "data": {
      "text/plain": [
       "<Axes: >"
      ]
     },
     "execution_count": 22,
     "metadata": {},
     "output_type": "execute_result"
    },
    {
     "data": {
      "image/png": "[encoded data removed]",
      "text/plain": [
       "<Figure size 900x300 with 1 Axes>"
      ]
     },
     "metadata": {},
     "output_type": "display_data"
    }
   ],
   "source": [
    "data.power.hist(bins=300, figsize=(9,3))"
   ]
  },
  {
   "cell_type": "markdown",
   "metadata": {},
   "source": [
    "К сожалению, по гистограмме ничего однозначного сказать невозможно, поэтому попробуем опираться на реальные данные.\n",
    "\n",
    "При поиске было обнаруженно, что на сегодняшний момент (апрель 2024 г) самым маломощным и более-менее современным автомобилем является *Citroën 2CV* с мощностью *9 л. с.* (его примем за нижнюю границу), а самым мощным удалось установить *Arash AF10 Hybrid* с мощностью равной *2108 л.с.* (его примем за верхнюю границу)."
   ]
  },
  {
   "cell_type": "code",
   "execution_count": 23,
   "metadata": {},
   "outputs": [],
   "source": [
    "data = data.query('9 <= power <= 2108')"
   ]
  },
  {
   "cell_type": "markdown",
   "metadata": {},
   "source": [
    "Пропуски в столбце *model* заменяем на значение *unknown* и проверяем."
   ]
  },
  {
   "cell_type": "code",
   "execution_count": 24,
   "metadata": {},
   "outputs": [
    {
     "data": {
      "text/plain": [
       "golf                  21970\n",
       "other                 16240\n",
       "3er                   15813\n",
       "polo                   9651\n",
       "unknown                9074\n",
       "                      ...  \n",
       "amarok                    3\n",
       "q3                        3\n",
       "range_rover_evoque        2\n",
       "gl                        2\n",
       "rangerover                1\n",
       "Name: model, Length: 248, dtype: int64"
      ]
     },
     "execution_count": 24,
     "metadata": {},
     "output_type": "execute_result"
    }
   ],
   "source": [
    "data.fillna({'model':'unknown'}, inplace=True)\n",
    "data.model.value_counts()"
   ]
  },
  {
   "cell_type": "markdown",
   "metadata": {},
   "source": [
    "Чтобы избавиться от пропусков в признаке *gearbox* посмотрим на количество данных в каждой из категорий."
   ]
  },
  {
   "cell_type": "code",
   "execution_count": 25,
   "metadata": {},
   "outputs": [
    {
     "data": {
      "text/plain": [
       "manual    209917\n",
       "auto       49462\n",
       "Name: gearbox, dtype: int64"
      ]
     },
     "execution_count": 25,
     "metadata": {},
     "output_type": "execute_result"
    }
   ],
   "source": [
    "data.gearbox.value_counts()"
   ]
  },
  {
   "cell_type": "markdown",
   "metadata": {},
   "source": [
    "Заменяем пропуски на среднее значение по моделям и проверяем."
   ]
  },
  {
   "cell_type": "code",
   "execution_count": 26,
   "metadata": {},
   "outputs": [],
   "source": [
    "data.gearbox = data.gearbox.fillna(data\n",
    "                                   .groupby('model')['gearbox']\n",
    "                                   .transform(lambda x: x.value_counts().idxmax())\n",
    "                                    )"
   ]
  },
  {
   "cell_type": "code",
   "execution_count": 27,
   "metadata": {},
   "outputs": [
    {
     "data": {
      "text/plain": [
       "0"
      ]
     },
     "execution_count": 27,
     "metadata": {},
     "output_type": "execute_result"
    }
   ],
   "source": [
    "data.gearbox.isna().sum()"
   ]
  },
  {
   "cell_type": "code",
   "execution_count": 28,
   "metadata": {},
   "outputs": [
    {
     "data": {
      "text/plain": [
       "manual    213648\n",
       "auto       50290\n",
       "Name: gearbox, dtype: int64"
      ]
     },
     "execution_count": 28,
     "metadata": {},
     "output_type": "execute_result"
    }
   ],
   "source": [
    "data.gearbox.value_counts()"
   ]
  },
  {
   "cell_type": "markdown",
   "metadata": {},
   "source": [
    "Теперь заполним пропуски в параметре *repaired*. Предположим, что владельцы авто могли не заполнять данную информацию, так как автомобиль не был в ремонте, поэтому заменяем пропуски на **no**. Сразу же меняем *yes* на 1, а *no* на 0 для удобства подсчётов в будущем."
   ]
  },
  {
   "cell_type": "code",
   "execution_count": 29,
   "metadata": {},
   "outputs": [],
   "source": [
    "data.fillna({'repaired':'no'}, inplace=True)"
   ]
  },
  {
   "cell_type": "code",
   "execution_count": 30,
   "metadata": {},
   "outputs": [
    {
     "data": {
      "text/plain": [
       "no     239613\n",
       "yes     24325\n",
       "Name: repaired, dtype: int64"
      ]
     },
     "execution_count": 30,
     "metadata": {},
     "output_type": "execute_result"
    }
   ],
   "source": [
    "data.repaired.value_counts()"
   ]
  },
  {
   "cell_type": "markdown",
   "metadata": {},
   "source": [
    "Обратим внимание в столбце *fuel_type* - на 'petrol' и 'gasoline', ведь это название одного и того же в разных странах. Поэтому для повышения качества обучения и предсказаний моделей в будуще заменим все на один тип - 'petrol'."
   ]
  },
  {
   "cell_type": "code",
   "execution_count": 31,
   "metadata": {},
   "outputs": [
    {
     "name": "stdout",
     "output_type": "stream",
     "text": [
      "Количество автомобилей с типом топлива \"gasoline\": 0\n",
      "Количество автомобилей с типом топлива \"petrol\"  : 245617\n"
     ]
    }
   ],
   "source": [
    "data.loc[data['fuel_type']=='gasoline', 'fuel_type'] = 'petrol'\n",
    "print('Количество автомобилей с типом топлива \"gasoline\":', len(data.query('fuel_type==\"gasoline\"')))\n",
    "print('Количество автомобилей с типом топлива \"petrol\"  :', len(data.query('fuel_type==\"petrol\"')))"
   ]
  },
  {
   "cell_type": "markdown",
   "metadata": {},
   "source": [
    "Пропуски в столбцах *vehicle_type* и *fuel_type* поменяем на значение unknown, чтобы не потерять их."
   ]
  },
  {
   "cell_type": "code",
   "execution_count": 32,
   "metadata": {},
   "outputs": [
    {
     "data": {
      "text/plain": [
       "petrol      245617\n",
       "unknown      13121\n",
       "lpg           4474\n",
       "cng            469\n",
       "hybrid         154\n",
       "electric        54\n",
       "other           49\n",
       "Name: fuel_type, dtype: int64"
      ]
     },
     "execution_count": 32,
     "metadata": {},
     "output_type": "execute_result"
    }
   ],
   "source": [
    "data.fillna({'fuel_type':'unknown'}, inplace=True)\n",
    "data.fuel_type.value_counts()"
   ]
  },
  {
   "cell_type": "code",
   "execution_count": 33,
   "metadata": {},
   "outputs": [
    {
     "data": {
      "text/plain": [
       "sedan          74258\n",
       "small          64103\n",
       "wagon          54488\n",
       "bus            24117\n",
       "convertible    15855\n",
       "coupe          11545\n",
       "unknown         9055\n",
       "suv             8464\n",
       "other           2053\n",
       "Name: vehicle_type, dtype: int64"
      ]
     },
     "execution_count": 33,
     "metadata": {},
     "output_type": "execute_result"
    }
   ],
   "source": [
    "data.fillna({'vehicle_type':'unknown'}, inplace=True)\n",
    "data.vehicle_type.value_counts()"
   ]
  },
  {
   "cell_type": "code",
   "execution_count": 34,
   "metadata": {},
   "outputs": [
    {
     "name": "stdout",
     "output_type": "stream",
     "text": [
      "<class 'pandas.core.frame.DataFrame'>\n",
      "Int64Index: 263938 entries, 2 to 354368\n",
      "Data columns (total 10 columns):\n",
      " #   Column             Non-Null Count   Dtype \n",
      "---  ------             --------------   ----- \n",
      " 0   price              263938 non-null  int64 \n",
      " 1   vehicle_type       263938 non-null  object\n",
      " 2   registration_year  263938 non-null  int64 \n",
      " 3   gearbox            263938 non-null  object\n",
      " 4   power              263938 non-null  int64 \n",
      " 5   model              263938 non-null  object\n",
      " 6   kilometer          263938 non-null  int64 \n",
      " 7   fuel_type          263938 non-null  object\n",
      " 8   brand              263938 non-null  object\n",
      " 9   repaired           263938 non-null  object\n",
      "dtypes: int64(4), object(6)\n",
      "memory usage: 22.2+ MB\n"
     ]
    }
   ],
   "source": [
    "data.info()"
   ]
  },
  {
   "cell_type": "markdown",
   "metadata": {},
   "source": [
    "Также посмотрим на корреляцию между целевым признаком и остальными параметрами. Для начала загрузим и посмотрим на матрицу корреляции по Пирсону:"
   ]
  },
  {
   "cell_type": "code",
   "execution_count": 35,
   "metadata": {},
   "outputs": [
    {
     "data": {
      "text/html": [
       "<style type=\"text/css\">\n",
       "#T_5e87f_row0_col0, #T_5e87f_row1_col1, #T_5e87f_row2_col2, #T_5e87f_row3_col3 {\n",
       "  background-color: #b40426;\n",
       "  color: #f1f1f1;\n",
       "}\n",
       "#T_5e87f_row0_col1 {\n",
       "  background-color: #f7a98b;\n",
       "  color: #000000;\n",
       "}\n",
       "#T_5e87f_row0_col2 {\n",
       "  background-color: #abc8fd;\n",
       "  color: #000000;\n",
       "}\n",
       "#T_5e87f_row0_col3 {\n",
       "  background-color: #4055c8;\n",
       "  color: #f1f1f1;\n",
       "}\n",
       "#T_5e87f_row1_col0 {\n",
       "  background-color: #f7ac8e;\n",
       "  color: #000000;\n",
       "}\n",
       "#T_5e87f_row1_col2, #T_5e87f_row1_col3, #T_5e87f_row3_col0, #T_5e87f_row3_col1 {\n",
       "  background-color: #3b4cc0;\n",
       "  color: #f1f1f1;\n",
       "}\n",
       "#T_5e87f_row2_col0 {\n",
       "  background-color: #e5d8d1;\n",
       "  color: #000000;\n",
       "}\n",
       "#T_5e87f_row2_col1 {\n",
       "  background-color: #a2c1ff;\n",
       "  color: #000000;\n",
       "}\n",
       "#T_5e87f_row2_col3 {\n",
       "  background-color: #b6cefa;\n",
       "  color: #000000;\n",
       "}\n",
       "#T_5e87f_row3_col2 {\n",
       "  background-color: #536edd;\n",
       "  color: #f1f1f1;\n",
       "}\n",
       "</style>\n",
       "<table id=\"T_5e87f\">\n",
       "  <thead>\n",
       "    <tr>\n",
       "      <th class=\"blank level0\" >&nbsp;</th>\n",
       "      <th id=\"T_5e87f_level0_col0\" class=\"col_heading level0 col0\" >price</th>\n",
       "      <th id=\"T_5e87f_level0_col1\" class=\"col_heading level0 col1\" >registration_year</th>\n",
       "      <th id=\"T_5e87f_level0_col2\" class=\"col_heading level0 col2\" >power</th>\n",
       "      <th id=\"T_5e87f_level0_col3\" class=\"col_heading level0 col3\" >kilometer</th>\n",
       "    </tr>\n",
       "  </thead>\n",
       "  <tbody>\n",
       "    <tr>\n",
       "      <th id=\"T_5e87f_level0_row0\" class=\"row_heading level0 row0\" >price</th>\n",
       "      <td id=\"T_5e87f_row0_col0\" class=\"data row0 col0\" >1.000000</td>\n",
       "      <td id=\"T_5e87f_row0_col1\" class=\"data row0 col1\" >0.598962</td>\n",
       "      <td id=\"T_5e87f_row0_col2\" class=\"data row0 col2\" >0.371462</td>\n",
       "      <td id=\"T_5e87f_row0_col3\" class=\"data row0 col3\" >-0.343937</td>\n",
       "    </tr>\n",
       "    <tr>\n",
       "      <th id=\"T_5e87f_level0_row1\" class=\"row_heading level0 row1\" >registration_year</th>\n",
       "      <td id=\"T_5e87f_row1_col0\" class=\"data row1 col0\" >0.598962</td>\n",
       "      <td id=\"T_5e87f_row1_col1\" class=\"data row1 col1\" >1.000000</td>\n",
       "      <td id=\"T_5e87f_row1_col2\" class=\"data row1 col2\" >0.053404</td>\n",
       "      <td id=\"T_5e87f_row1_col3\" class=\"data row1 col3\" >-0.375806</td>\n",
       "    </tr>\n",
       "    <tr>\n",
       "      <th id=\"T_5e87f_level0_row2\" class=\"row_heading level0 row2\" >power</th>\n",
       "      <td id=\"T_5e87f_row2_col0\" class=\"data row2 col0\" >0.371462</td>\n",
       "      <td id=\"T_5e87f_row2_col1\" class=\"data row2 col1\" >0.053404</td>\n",
       "      <td id=\"T_5e87f_row2_col2\" class=\"data row2 col2\" >1.000000</td>\n",
       "      <td id=\"T_5e87f_row2_col3\" class=\"data row2 col3\" >0.129798</td>\n",
       "    </tr>\n",
       "    <tr>\n",
       "      <th id=\"T_5e87f_level0_row3\" class=\"row_heading level0 row3\" >kilometer</th>\n",
       "      <td id=\"T_5e87f_row3_col0\" class=\"data row3 col0\" >-0.343937</td>\n",
       "      <td id=\"T_5e87f_row3_col1\" class=\"data row3 col1\" >-0.375806</td>\n",
       "      <td id=\"T_5e87f_row3_col2\" class=\"data row3 col2\" >0.129798</td>\n",
       "      <td id=\"T_5e87f_row3_col3\" class=\"data row3 col3\" >1.000000</td>\n",
       "    </tr>\n",
       "  </tbody>\n",
       "</table>\n"
      ],
      "text/plain": [
       "<pandas.io.formats.style.Styler at 0x1ea055f4130>"
      ]
     },
     "execution_count": 35,
     "metadata": {},
     "output_type": "execute_result"
    }
   ],
   "source": [
    "corr = data.corr()\n",
    "corr.style.background_gradient(cmap='coolwarm')"
   ]
  },
  {
   "cell_type": "markdown",
   "metadata": {},
   "source": [
    "Построили таблицу корреляции признаков - можем отметить, что больше всего целевой признак зависит от **registrationg_year** (0.599) и **power** (0.371). В остальных случаях, даже между собой, признаки практически никак не коррелируют."
   ]
  },
  {
   "cell_type": "markdown",
   "metadata": {},
   "source": [
    "Теперь проведём тестирование мультколлинеарности целевого признака и остальных столбцов с помощью функции *variance_inflation_factor()*. Если какой-то из признаков будет иметь показатель больше 5, то это может свидетельствовать о серьёзной корреляции между признаками."
   ]
  },
  {
   "cell_type": "code",
   "execution_count": 36,
   "metadata": {},
   "outputs": [],
   "source": [
    "y, X = dmatrices('price ~ registration_year+power+kilometer', data=data, return_type='dataframe')"
   ]
  },
  {
   "cell_type": "code",
   "execution_count": 37,
   "metadata": {},
   "outputs": [],
   "source": [
    "vif_df = pd.DataFrame()\n",
    "vif_df['variable'] = X.columns"
   ]
  },
  {
   "cell_type": "code",
   "execution_count": 38,
   "metadata": {},
   "outputs": [
    {
     "data": {
      "text/html": [
       "<div>\n",
       "<style scoped>\n",
       "    .dataframe tbody tr th:only-of-type {\n",
       "        vertical-align: middle;\n",
       "    }\n",
       "\n",
       "    .dataframe tbody tr th {\n",
       "        vertical-align: top;\n",
       "    }\n",
       "\n",
       "    .dataframe thead th {\n",
       "        text-align: right;\n",
       "    }\n",
       "</style>\n",
       "<table border=\"1\" class=\"dataframe\">\n",
       "  <thead>\n",
       "    <tr style=\"text-align: right;\">\n",
       "      <th></th>\n",
       "      <th>variable</th>\n",
       "      <th>VIF</th>\n",
       "    </tr>\n",
       "  </thead>\n",
       "  <tbody>\n",
       "    <tr>\n",
       "      <th>0</th>\n",
       "      <td>Intercept</td>\n",
       "      <td>169648.061046</td>\n",
       "    </tr>\n",
       "    <tr>\n",
       "      <th>1</th>\n",
       "      <td>registration_year</td>\n",
       "      <td>1.179037</td>\n",
       "    </tr>\n",
       "    <tr>\n",
       "      <th>2</th>\n",
       "      <td>power</td>\n",
       "      <td>1.029872</td>\n",
       "    </tr>\n",
       "    <tr>\n",
       "      <th>3</th>\n",
       "      <td>kilometer</td>\n",
       "      <td>1.195821</td>\n",
       "    </tr>\n",
       "  </tbody>\n",
       "</table>\n",
       "</div>"
      ],
      "text/plain": [
       "            variable            VIF\n",
       "0          Intercept  169648.061046\n",
       "1  registration_year       1.179037\n",
       "2              power       1.029872\n",
       "3          kilometer       1.195821"
      ]
     },
     "execution_count": 38,
     "metadata": {},
     "output_type": "execute_result"
    }
   ],
   "source": [
    "vif_df['VIF'] = [variance_inflation_factor(X.values, i) for i in range(X.shape[1])]\n",
    "vif_df"
   ]
  },
  {
   "cell_type": "markdown",
   "metadata": {},
   "source": [
    "Как мы можем заметить, каждое из значений VIF для признаков в данных стремится к 1, значит мультиколлинеарность не является проблемой."
   ]
  },
  {
   "cell_type": "markdown",
   "metadata": {},
   "source": [
    "### Выводы по предобработке данных"
   ]
  },
  {
   "cell_type": "markdown",
   "metadata": {},
   "source": [
    "* Привели все названия столбцов к змеиному регистру;\n",
    "* Избавились от явных дубликатов и неинформативных признаков;\n",
    "* Почистили от выбросов признаки **price**, **registrationg_year** и **power**;\n",
    "* Заполнили пропуски в столбцах: \n",
    "    * **model** - заменили на значение *uknown*, \n",
    "    * **gearbox** - отсортировали и заполнили по признаку *model*,\n",
    "    * **repaired** - по смысле поменяли на *no*,\n",
    "    * **vehicle_type** - заменили на значение *uknown*,\n",
    "    * **fuel_type** - заменили на значение *uknown*;\n",
    "* Построили таблицу корреляции признаков и проверили мультиколлинеарность с помощью функции VIF - можем отметить, что больше всего целевой признак зависит от **registrationg_year** (0.599) и **power** (0.371). В остальных случаях, даже между собой, признаки практически никак не коррелируют. Проверка на показатель VIF также прошла успешно."
   ]
  },
  {
   "cell_type": "markdown",
   "metadata": {},
   "source": [
    "## Обучение моделей"
   ]
  },
  {
   "cell_type": "markdown",
   "metadata": {},
   "source": [
    "Сначала разделим данные на основные признаки и целевой."
   ]
  },
  {
   "cell_type": "code",
   "execution_count": 39,
   "metadata": {},
   "outputs": [],
   "source": [
    "features_orig = data.drop('price', axis=1)\n",
    "target = data.price"
   ]
  },
  {
   "cell_type": "markdown",
   "metadata": {},
   "source": [
    "Далее разделим данные на тренирововчную выборку, валидационную и тестовую в соотношении 60/20/20."
   ]
  },
  {
   "cell_type": "code",
   "execution_count": 40,
   "metadata": {},
   "outputs": [],
   "source": [
    "features_train, features_other, target_train, target_other = train_test_split(features_orig,\n",
    "                                                                            target, \n",
    "                                                                            test_size=.4,\n",
    "                                                                            random_state=123)"
   ]
  },
  {
   "cell_type": "code",
   "execution_count": 41,
   "metadata": {},
   "outputs": [],
   "source": [
    "features_valid, features_test, target_valid, target_test = train_test_split(features_other,\n",
    "                                                                            target_other, \n",
    "                                                                            test_size=.5,\n",
    "                                                                            random_state=123)"
   ]
  },
  {
   "cell_type": "code",
   "execution_count": 42,
   "metadata": {
    "scrolled": true
   },
   "outputs": [
    {
     "data": {
      "text/html": [
       "<div>\n",
       "<style scoped>\n",
       "    .dataframe tbody tr th:only-of-type {\n",
       "        vertical-align: middle;\n",
       "    }\n",
       "\n",
       "    .dataframe tbody tr th {\n",
       "        vertical-align: top;\n",
       "    }\n",
       "\n",
       "    .dataframe thead th {\n",
       "        text-align: right;\n",
       "    }\n",
       "</style>\n",
       "<table border=\"1\" class=\"dataframe\">\n",
       "  <thead>\n",
       "    <tr style=\"text-align: right;\">\n",
       "      <th></th>\n",
       "      <th>vehicle_type</th>\n",
       "      <th>registration_year</th>\n",
       "      <th>gearbox</th>\n",
       "      <th>power</th>\n",
       "      <th>model</th>\n",
       "      <th>kilometer</th>\n",
       "      <th>fuel_type</th>\n",
       "      <th>brand</th>\n",
       "      <th>repaired</th>\n",
       "    </tr>\n",
       "  </thead>\n",
       "  <tbody>\n",
       "    <tr>\n",
       "      <th>148539</th>\n",
       "      <td>small</td>\n",
       "      <td>2002</td>\n",
       "      <td>auto</td>\n",
       "      <td>41</td>\n",
       "      <td>unknown</td>\n",
       "      <td>150000</td>\n",
       "      <td>petrol</td>\n",
       "      <td>smart</td>\n",
       "      <td>no</td>\n",
       "    </tr>\n",
       "    <tr>\n",
       "      <th>307738</th>\n",
       "      <td>coupe</td>\n",
       "      <td>2007</td>\n",
       "      <td>auto</td>\n",
       "      <td>250</td>\n",
       "      <td>tt</td>\n",
       "      <td>125000</td>\n",
       "      <td>petrol</td>\n",
       "      <td>audi</td>\n",
       "      <td>yes</td>\n",
       "    </tr>\n",
       "    <tr>\n",
       "      <th>248940</th>\n",
       "      <td>wagon</td>\n",
       "      <td>2002</td>\n",
       "      <td>manual</td>\n",
       "      <td>101</td>\n",
       "      <td>fabia</td>\n",
       "      <td>150000</td>\n",
       "      <td>petrol</td>\n",
       "      <td>skoda</td>\n",
       "      <td>no</td>\n",
       "    </tr>\n",
       "    <tr>\n",
       "      <th>207568</th>\n",
       "      <td>sedan</td>\n",
       "      <td>1996</td>\n",
       "      <td>manual</td>\n",
       "      <td>60</td>\n",
       "      <td>golf</td>\n",
       "      <td>150000</td>\n",
       "      <td>petrol</td>\n",
       "      <td>volkswagen</td>\n",
       "      <td>no</td>\n",
       "    </tr>\n",
       "    <tr>\n",
       "      <th>93951</th>\n",
       "      <td>sedan</td>\n",
       "      <td>2003</td>\n",
       "      <td>manual</td>\n",
       "      <td>142</td>\n",
       "      <td>3er</td>\n",
       "      <td>150000</td>\n",
       "      <td>petrol</td>\n",
       "      <td>bmw</td>\n",
       "      <td>no</td>\n",
       "    </tr>\n",
       "  </tbody>\n",
       "</table>\n",
       "</div>"
      ],
      "text/plain": [
       "       vehicle_type  registration_year gearbox  power    model  kilometer  \\\n",
       "148539        small               2002    auto     41  unknown     150000   \n",
       "307738        coupe               2007    auto    250       tt     125000   \n",
       "248940        wagon               2002  manual    101    fabia     150000   \n",
       "207568        sedan               1996  manual     60     golf     150000   \n",
       "93951         sedan               2003  manual    142      3er     150000   \n",
       "\n",
       "       fuel_type       brand repaired  \n",
       "148539    petrol       smart       no  \n",
       "307738    petrol        audi      yes  \n",
       "248940    petrol       skoda       no  \n",
       "207568    petrol  volkswagen       no  \n",
       "93951     petrol         bmw       no  "
      ]
     },
     "execution_count": 42,
     "metadata": {},
     "output_type": "execute_result"
    }
   ],
   "source": [
    "features_train.head()"
   ]
  },
  {
   "cell_type": "markdown",
   "metadata": {},
   "source": [
    "Закодируем категориальные признаки двумя методами - OHE и OE, так как для разных видов моделей потребуются разные типа кодировок. Сразу же отмасштабируем признаки."
   ]
  },
  {
   "cell_type": "code",
   "execution_count": 43,
   "metadata": {},
   "outputs": [],
   "source": [
    "category = features_train.select_dtypes(include='object').columns.to_list()\n",
    "\n",
    "# One Hot Encoding\n",
    "\n",
    "features_train_ohe = features_train.copy()\n",
    "features_valid_ohe = features_valid.copy()\n",
    "features_test_ohe = features_test.copy()\n",
    "\n",
    "OHE_encoder = OneHotEncoder(drop='first', handle_unknown='ignore', sparse_output=False)\n",
    "OHE_encoder.fit(features_train_ohe[category])\n",
    "features_train_ohe[\n",
    "    OHE_encoder.get_feature_names_out()\n",
    "] = OHE_encoder.transform(features_train_ohe[category])\n",
    "features_train_ohe = features_train_ohe.drop(category, axis=1)\n",
    "\n",
    "features_valid_ohe[\n",
    "    OHE_encoder.get_feature_names_out()\n",
    "] = OHE_encoder.transform(features_valid_ohe[category])\n",
    "\n",
    "features_valid_ohe = features_valid_ohe.drop(category, axis=1)\n",
    "\n",
    "features_test_ohe[\n",
    "    OHE_encoder.get_feature_names_out()\n",
    "] = OHE_encoder.transform(features_test_ohe[category])\n",
    "\n",
    "features_test_ohe = features_test_ohe.drop(category, axis=1)\n",
    "\n",
    "\n",
    "\n",
    "\n",
    "# Ordinal Encoding\n",
    "OE_encoder = OrdinalEncoder(handle_unknown='use_encoded_value', unknown_value=(-1)) # UPD\n",
    "OE_encoder.fit(features_train[category])\n",
    "for features in [features_train, features_valid, features_test]:\n",
    "    features[category] = OE_encoder.transform(features[category])"
   ]
  },
  {
   "cell_type": "code",
   "execution_count": 44,
   "metadata": {},
   "outputs": [],
   "source": [
    "# масштабирование признаков\n",
    "numeric = ['registration_year', 'power', 'kilometer']\n",
    "scaler = StandardScaler()\n",
    "scaler.fit(features_train[numeric])\n",
    "for features in [features_train, features_valid, features_test]:\n",
    "    features[numeric] = scaler.transform(features[numeric])"
   ]
  },
  {
   "cell_type": "markdown",
   "metadata": {},
   "source": [
    "Выведем размерность каждой из выборок, чтобы убедиться в соразмерности количества строк в каждой из них."
   ]
  },
  {
   "cell_type": "code",
   "execution_count": 45,
   "metadata": {},
   "outputs": [
    {
     "name": "stdout",
     "output_type": "stream",
     "text": [
      "(158362, 305)\n",
      "(52788, 305)\n",
      "(52788, 305)\n",
      "\n",
      "(158362, 9)\n",
      "(52788, 9)\n",
      "(52788, 9)\n"
     ]
    }
   ],
   "source": [
    "for i in [features_train_ohe, features_valid_ohe, features_test_ohe]:\n",
    "    print(i.shape)    \n",
    "    \n",
    "print()\n",
    "    \n",
    "for i in [features_train, features_valid, features_test]:\n",
    "    print(i.shape)"
   ]
  },
  {
   "cell_type": "markdown",
   "metadata": {},
   "source": [
    "Видим, что выборки везде одинаковы по размерности строк. Далее переходим к обучению моделей и подбору гиперпараметров."
   ]
  },
  {
   "cell_type": "markdown",
   "metadata": {},
   "source": [
    "### LinearRegression"
   ]
  },
  {
   "cell_type": "markdown",
   "metadata": {},
   "source": [
    "#### Данные с кодированием OneHotEncoder"
   ]
  },
  {
   "cell_type": "code",
   "execution_count": 46,
   "metadata": {},
   "outputs": [
    {
     "name": "stdout",
     "output_type": "stream",
     "text": [
      "CPU times: total: 38.9 s\n",
      "Wall time: 17.2 s\n"
     ]
    },
    {
     "data": {
      "text/plain": [
       "1953.421741305466"
      ]
     },
     "execution_count": 46,
     "metadata": {},
     "output_type": "execute_result"
    }
   ],
   "source": [
    "%%time\n",
    "\n",
    "model_lr = LinearRegression()\n",
    "\n",
    "cv_rmse_lr = (cross_val_score(model_lr, \n",
    "                             features_train_ohe, \n",
    "                             target_train, \n",
    "                             cv=5, \n",
    "                             scoring='neg_mean_squared_error').mean() * -1) ** 0.5\n",
    "cv_rmse_lr"
   ]
  },
  {
   "cell_type": "markdown",
   "metadata": {},
   "source": [
    "### RandomForestRegressor"
   ]
  },
  {
   "cell_type": "markdown",
   "metadata": {},
   "source": [
    "#### Данные с кодированием OrdinalEncoder"
   ]
  },
  {
   "cell_type": "code",
   "execution_count": 47,
   "metadata": {},
   "outputs": [
    {
     "data": {
      "application/vnd.jupyter.widget-view+json": {
       "model_id": "ef2a4235aa4142ac97e9e2645a5d35b0",
       "version_major": 2,
       "version_minor": 0
      },
      "text/plain": [
       "  0%|          | 0/4 [00:00<?, ?it/s]"
      ]
     },
     "metadata": {},
     "output_type": "display_data"
    },
    {
     "name": "stdout",
     "output_type": "stream",
     "text": [
      "Минимальная погрешность: 1327.2492102043514 при кол-ве деревьев: 40 и их глубине: 15\n",
      "CPU times: total: 8min 23s\n",
      "Wall time: 8min 54s\n"
     ]
    }
   ],
   "source": [
    "%%time\n",
    "\n",
    "rmse_min = 2500\n",
    "\n",
    "for est in tqdm(range(10, 41, 10)):\n",
    "    for depth in range(5, 16):\n",
    "        model_rf = RandomForestRegressor(max_depth=depth, n_estimators=est, random_state=123)\n",
    "        model_rf.fit(features_train, target_train)\n",
    "        prediction_valid = model_rf.predict(features_valid)\n",
    "        rmse = np.sqrt(mean_squared_error(target_valid, prediction_valid))\n",
    "        if rmse_min >= rmse:\n",
    "            rmse_min = rmse \n",
    "            best_dep = depth\n",
    "            best_est = est\n",
    "            best_RF = model_rf\n",
    "            \n",
    "print('Минимальная погрешность:', rmse_min, 'при кол-ве деревьев:', best_est, 'и их глубине:', best_dep)"
   ]
  },
  {
   "cell_type": "markdown",
   "metadata": {},
   "source": [
    "### LightGBMRegressor"
   ]
  },
  {
   "cell_type": "markdown",
   "metadata": {},
   "source": [
    "#### Данные с кодированием OrdinalEncoder"
   ]
  },
  {
   "cell_type": "code",
   "execution_count": 48,
   "metadata": {
    "scrolled": true
   },
   "outputs": [
    {
     "name": "stdout",
     "output_type": "stream",
     "text": [
      "[LightGBM] [Info] Auto-choosing row-wise multi-threading, the overhead of testing was 0.008756 seconds.\n",
      "You can set `force_row_wise=true` to remove the overhead.\n",
      "And if memory is not enough, you can set `force_col_wise=true`.\n",
      "[LightGBM] [Info] Total Bins 596\n",
      "[LightGBM] [Info] Number of data points in the train set: 126689, number of used features: 9\n",
      "[LightGBM] [Info] Start training from score 4273.231109\n",
      "[LightGBM] [Info] Auto-choosing row-wise multi-threading, the overhead of testing was 0.007616 seconds.\n",
      "You can set `force_row_wise=true` to remove the overhead.\n",
      "And if memory is not enough, you can set `force_col_wise=true`.\n",
      "[LightGBM] [Info] Total Bins 600\n",
      "[LightGBM] [Info] Number of data points in the train set: 126689, number of used features: 9\n",
      "[LightGBM] [Info] Start training from score 4270.762710\n",
      "[LightGBM] [Info] Auto-choosing row-wise multi-threading, the overhead of testing was 0.006989 seconds.\n",
      "You can set `force_row_wise=true` to remove the overhead.\n",
      "And if memory is not enough, you can set `force_col_wise=true`.\n",
      "[LightGBM] [Info] Total Bins 599\n",
      "[LightGBM] [Info] Number of data points in the train set: 126690, number of used features: 9\n",
      "[LightGBM] [Info] Start training from score 4266.262341\n",
      "[LightGBM] [Info] Auto-choosing col-wise multi-threading, the overhead of testing was 0.014596 seconds.\n",
      "You can set `force_col_wise=true` to remove the overhead.\n",
      "[LightGBM] [Info] Total Bins 597\n",
      "[LightGBM] [Info] Number of data points in the train set: 126690, number of used features: 9\n",
      "[LightGBM] [Info] Start training from score 4276.635133\n",
      "[LightGBM] [Info] Auto-choosing row-wise multi-threading, the overhead of testing was 0.007802 seconds.\n",
      "You can set `force_row_wise=true` to remove the overhead.\n",
      "And if memory is not enough, you can set `force_col_wise=true`.\n",
      "[LightGBM] [Info] Total Bins 598\n",
      "[LightGBM] [Info] Number of data points in the train set: 126690, number of used features: 9\n",
      "[LightGBM] [Info] Start training from score 4274.274228\n",
      "[LightGBM] [Info] Auto-choosing row-wise multi-threading, the overhead of testing was 0.007796 seconds.\n",
      "You can set `force_row_wise=true` to remove the overhead.\n",
      "And if memory is not enough, you can set `force_col_wise=true`.\n",
      "[LightGBM] [Info] Total Bins 596\n",
      "[LightGBM] [Info] Number of data points in the train set: 126689, number of used features: 9\n",
      "[LightGBM] [Info] Start training from score 4273.231109\n",
      "[LightGBM] [Info] Auto-choosing row-wise multi-threading, the overhead of testing was 0.003895 seconds.\n",
      "You can set `force_row_wise=true` to remove the overhead.\n",
      "And if memory is not enough, you can set `force_col_wise=true`.\n",
      "[LightGBM] [Info] Total Bins 600\n",
      "[LightGBM] [Info] Number of data points in the train set: 126689, number of used features: 9\n",
      "[LightGBM] [Info] Start training from score 4270.762710\n",
      "[LightGBM] [Info] Auto-choosing row-wise multi-threading, the overhead of testing was 0.007578 seconds.\n",
      "You can set `force_row_wise=true` to remove the overhead.\n",
      "And if memory is not enough, you can set `force_col_wise=true`.\n",
      "[LightGBM] [Info] Total Bins 599\n",
      "[LightGBM] [Info] Number of data points in the train set: 126690, number of used features: 9\n",
      "[LightGBM] [Info] Start training from score 4266.262341\n",
      "[LightGBM] [Info] Auto-choosing row-wise multi-threading, the overhead of testing was 0.007115 seconds.\n",
      "You can set `force_row_wise=true` to remove the overhead.\n",
      "And if memory is not enough, you can set `force_col_wise=true`.\n",
      "[LightGBM] [Info] Total Bins 597\n",
      "[LightGBM] [Info] Number of data points in the train set: 126690, number of used features: 9\n",
      "[LightGBM] [Info] Start training from score 4276.635133\n",
      "[LightGBM] [Info] Auto-choosing row-wise multi-threading, the overhead of testing was 0.007048 seconds.\n",
      "You can set `force_row_wise=true` to remove the overhead.\n",
      "And if memory is not enough, you can set `force_col_wise=true`.\n",
      "[LightGBM] [Info] Total Bins 598\n",
      "[LightGBM] [Info] Number of data points in the train set: 126690, number of used features: 9\n",
      "[LightGBM] [Info] Start training from score 4274.274228\n",
      "[LightGBM] [Info] Auto-choosing row-wise multi-threading, the overhead of testing was 0.007168 seconds.\n",
      "You can set `force_row_wise=true` to remove the overhead.\n",
      "And if memory is not enough, you can set `force_col_wise=true`.\n",
      "[LightGBM] [Info] Total Bins 596\n",
      "[LightGBM] [Info] Number of data points in the train set: 126689, number of used features: 9\n",
      "[LightGBM] [Info] Start training from score 4273.231109\n",
      "[LightGBM] [Info] Auto-choosing row-wise multi-threading, the overhead of testing was 0.004358 seconds.\n",
      "You can set `force_row_wise=true` to remove the overhead.\n",
      "And if memory is not enough, you can set `force_col_wise=true`.\n",
      "[LightGBM] [Info] Total Bins 600\n",
      "[LightGBM] [Info] Number of data points in the train set: 126689, number of used features: 9\n",
      "[LightGBM] [Info] Start training from score 4270.762710\n",
      "[LightGBM] [Info] Auto-choosing row-wise multi-threading, the overhead of testing was 0.007697 seconds.\n",
      "You can set `force_row_wise=true` to remove the overhead.\n",
      "And if memory is not enough, you can set `force_col_wise=true`.\n",
      "[LightGBM] [Info] Total Bins 599\n",
      "[LightGBM] [Info] Number of data points in the train set: 126690, number of used features: 9\n",
      "[LightGBM] [Info] Start training from score 4266.262341\n",
      "[LightGBM] [Info] Auto-choosing row-wise multi-threading, the overhead of testing was 0.008078 seconds.\n",
      "You can set `force_row_wise=true` to remove the overhead.\n",
      "And if memory is not enough, you can set `force_col_wise=true`.\n",
      "[LightGBM] [Info] Total Bins 597\n",
      "[LightGBM] [Info] Number of data points in the train set: 126690, number of used features: 9\n",
      "[LightGBM] [Info] Start training from score 4276.635133\n",
      "[LightGBM] [Info] Auto-choosing col-wise multi-threading, the overhead of testing was 0.016738 seconds.\n",
      "You can set `force_col_wise=true` to remove the overhead.\n",
      "[LightGBM] [Info] Total Bins 598\n",
      "[LightGBM] [Info] Number of data points in the train set: 126690, number of used features: 9\n",
      "[LightGBM] [Info] Start training from score 4274.274228\n",
      "[LightGBM] [Info] Auto-choosing row-wise multi-threading, the overhead of testing was 0.004560 seconds.\n",
      "You can set `force_row_wise=true` to remove the overhead.\n",
      "And if memory is not enough, you can set `force_col_wise=true`.\n",
      "[LightGBM] [Info] Total Bins 596\n",
      "[LightGBM] [Info] Number of data points in the train set: 126689, number of used features: 9\n",
      "[LightGBM] [Info] Start training from score 4273.231109\n",
      "[LightGBM] [Info] Auto-choosing row-wise multi-threading, the overhead of testing was 0.008249 seconds.\n",
      "You can set `force_row_wise=true` to remove the overhead.\n",
      "And if memory is not enough, you can set `force_col_wise=true`.\n",
      "[LightGBM] [Info] Total Bins 600\n",
      "[LightGBM] [Info] Number of data points in the train set: 126689, number of used features: 9\n",
      "[LightGBM] [Info] Start training from score 4270.762710\n",
      "[LightGBM] [Info] Auto-choosing row-wise multi-threading, the overhead of testing was 0.007023 seconds.\n",
      "You can set `force_row_wise=true` to remove the overhead.\n",
      "And if memory is not enough, you can set `force_col_wise=true`.\n",
      "[LightGBM] [Info] Total Bins 599\n",
      "[LightGBM] [Info] Number of data points in the train set: 126690, number of used features: 9\n",
      "[LightGBM] [Info] Start training from score 4266.262341\n",
      "[LightGBM] [Info] Auto-choosing col-wise multi-threading, the overhead of testing was 0.013078 seconds.\n",
      "You can set `force_col_wise=true` to remove the overhead.\n",
      "[LightGBM] [Info] Total Bins 597\n",
      "[LightGBM] [Info] Number of data points in the train set: 126690, number of used features: 9\n",
      "[LightGBM] [Info] Start training from score 4276.635133\n",
      "[LightGBM] [Info] Auto-choosing row-wise multi-threading, the overhead of testing was 0.007722 seconds.\n",
      "You can set `force_row_wise=true` to remove the overhead.\n",
      "And if memory is not enough, you can set `force_col_wise=true`.\n",
      "[LightGBM] [Info] Total Bins 598\n",
      "[LightGBM] [Info] Number of data points in the train set: 126690, number of used features: 9\n",
      "[LightGBM] [Info] Start training from score 4274.274228\n",
      "[LightGBM] [Info] Auto-choosing row-wise multi-threading, the overhead of testing was 0.003643 seconds.\n",
      "You can set `force_row_wise=true` to remove the overhead.\n",
      "And if memory is not enough, you can set `force_col_wise=true`.\n",
      "[LightGBM] [Info] Total Bins 596\n",
      "[LightGBM] [Info] Number of data points in the train set: 126689, number of used features: 9\n",
      "[LightGBM] [Info] Start training from score 4273.231109\n"
     ]
    },
    {
     "name": "stdout",
     "output_type": "stream",
     "text": [
      "[LightGBM] [Info] Auto-choosing row-wise multi-threading, the overhead of testing was 0.005648 seconds.\n",
      "You can set `force_row_wise=true` to remove the overhead.\n",
      "And if memory is not enough, you can set `force_col_wise=true`.\n",
      "[LightGBM] [Info] Total Bins 600\n",
      "[LightGBM] [Info] Number of data points in the train set: 126689, number of used features: 9\n",
      "[LightGBM] [Info] Start training from score 4270.762710\n",
      "[LightGBM] [Info] Auto-choosing row-wise multi-threading, the overhead of testing was 0.003920 seconds.\n",
      "You can set `force_row_wise=true` to remove the overhead.\n",
      "And if memory is not enough, you can set `force_col_wise=true`.\n",
      "[LightGBM] [Info] Total Bins 599\n",
      "[LightGBM] [Info] Number of data points in the train set: 126690, number of used features: 9\n",
      "[LightGBM] [Info] Start training from score 4266.262341\n",
      "[LightGBM] [Info] Auto-choosing row-wise multi-threading, the overhead of testing was 0.004039 seconds.\n",
      "You can set `force_row_wise=true` to remove the overhead.\n",
      "And if memory is not enough, you can set `force_col_wise=true`.\n",
      "[LightGBM] [Info] Total Bins 597\n",
      "[LightGBM] [Info] Number of data points in the train set: 126690, number of used features: 9\n",
      "[LightGBM] [Info] Start training from score 4276.635133\n",
      "[LightGBM] [Info] Auto-choosing row-wise multi-threading, the overhead of testing was 0.007158 seconds.\n",
      "You can set `force_row_wise=true` to remove the overhead.\n",
      "And if memory is not enough, you can set `force_col_wise=true`.\n",
      "[LightGBM] [Info] Total Bins 598\n",
      "[LightGBM] [Info] Number of data points in the train set: 126690, number of used features: 9\n",
      "[LightGBM] [Info] Start training from score 4274.274228\n",
      "[LightGBM] [Info] Auto-choosing row-wise multi-threading, the overhead of testing was 0.007889 seconds.\n",
      "You can set `force_row_wise=true` to remove the overhead.\n",
      "And if memory is not enough, you can set `force_col_wise=true`.\n",
      "[LightGBM] [Info] Total Bins 596\n",
      "[LightGBM] [Info] Number of data points in the train set: 126689, number of used features: 9\n",
      "[LightGBM] [Info] Start training from score 4273.231109\n",
      "[LightGBM] [Info] Auto-choosing row-wise multi-threading, the overhead of testing was 0.005924 seconds.\n",
      "You can set `force_row_wise=true` to remove the overhead.\n",
      "And if memory is not enough, you can set `force_col_wise=true`.\n",
      "[LightGBM] [Info] Total Bins 600\n",
      "[LightGBM] [Info] Number of data points in the train set: 126689, number of used features: 9\n",
      "[LightGBM] [Info] Start training from score 4270.762710\n",
      "[LightGBM] [Info] Auto-choosing row-wise multi-threading, the overhead of testing was 0.007135 seconds.\n",
      "You can set `force_row_wise=true` to remove the overhead.\n",
      "And if memory is not enough, you can set `force_col_wise=true`.\n",
      "[LightGBM] [Info] Total Bins 599\n",
      "[LightGBM] [Info] Number of data points in the train set: 126690, number of used features: 9\n",
      "[LightGBM] [Info] Start training from score 4266.262341\n",
      "[LightGBM] [Info] Auto-choosing row-wise multi-threading, the overhead of testing was 0.006612 seconds.\n",
      "You can set `force_row_wise=true` to remove the overhead.\n",
      "And if memory is not enough, you can set `force_col_wise=true`.\n",
      "[LightGBM] [Info] Total Bins 597\n",
      "[LightGBM] [Info] Number of data points in the train set: 126690, number of used features: 9\n",
      "[LightGBM] [Info] Start training from score 4276.635133\n",
      "[LightGBM] [Info] Auto-choosing row-wise multi-threading, the overhead of testing was 0.004566 seconds.\n",
      "You can set `force_row_wise=true` to remove the overhead.\n",
      "And if memory is not enough, you can set `force_col_wise=true`.\n",
      "[LightGBM] [Info] Total Bins 598\n",
      "[LightGBM] [Info] Number of data points in the train set: 126690, number of used features: 9\n",
      "[LightGBM] [Info] Start training from score 4274.274228\n",
      "[LightGBM] [Info] Auto-choosing row-wise multi-threading, the overhead of testing was 0.007810 seconds.\n",
      "You can set `force_row_wise=true` to remove the overhead.\n",
      "And if memory is not enough, you can set `force_col_wise=true`.\n",
      "[LightGBM] [Info] Total Bins 596\n",
      "[LightGBM] [Info] Number of data points in the train set: 126689, number of used features: 9\n",
      "[LightGBM] [Info] Start training from score 4273.231109\n",
      "[LightGBM] [Info] Auto-choosing row-wise multi-threading, the overhead of testing was 0.006939 seconds.\n",
      "You can set `force_row_wise=true` to remove the overhead.\n",
      "And if memory is not enough, you can set `force_col_wise=true`.\n",
      "[LightGBM] [Info] Total Bins 600\n",
      "[LightGBM] [Info] Number of data points in the train set: 126689, number of used features: 9\n",
      "[LightGBM] [Info] Start training from score 4270.762710\n",
      "[LightGBM] [Info] Auto-choosing row-wise multi-threading, the overhead of testing was 0.007539 seconds.\n",
      "You can set `force_row_wise=true` to remove the overhead.\n",
      "And if memory is not enough, you can set `force_col_wise=true`.\n",
      "[LightGBM] [Info] Total Bins 599\n",
      "[LightGBM] [Info] Number of data points in the train set: 126690, number of used features: 9\n",
      "[LightGBM] [Info] Start training from score 4266.262341\n",
      "[LightGBM] [Info] Auto-choosing row-wise multi-threading, the overhead of testing was 0.007500 seconds.\n",
      "You can set `force_row_wise=true` to remove the overhead.\n",
      "And if memory is not enough, you can set `force_col_wise=true`.\n",
      "[LightGBM] [Info] Total Bins 597\n",
      "[LightGBM] [Info] Number of data points in the train set: 126690, number of used features: 9\n",
      "[LightGBM] [Info] Start training from score 4276.635133\n",
      "[LightGBM] [Info] Auto-choosing row-wise multi-threading, the overhead of testing was 0.004505 seconds.\n",
      "You can set `force_row_wise=true` to remove the overhead.\n",
      "And if memory is not enough, you can set `force_col_wise=true`.\n",
      "[LightGBM] [Info] Total Bins 598\n",
      "[LightGBM] [Info] Number of data points in the train set: 126690, number of used features: 9\n",
      "[LightGBM] [Info] Start training from score 4274.274228\n",
      "[LightGBM] [Info] Auto-choosing row-wise multi-threading, the overhead of testing was 0.007344 seconds.\n",
      "You can set `force_row_wise=true` to remove the overhead.\n",
      "And if memory is not enough, you can set `force_col_wise=true`.\n",
      "[LightGBM] [Info] Total Bins 596\n",
      "[LightGBM] [Info] Number of data points in the train set: 126689, number of used features: 9\n",
      "[LightGBM] [Info] Start training from score 4273.231109\n",
      "[LightGBM] [Info] Auto-choosing row-wise multi-threading, the overhead of testing was 0.007499 seconds.\n",
      "You can set `force_row_wise=true` to remove the overhead.\n",
      "And if memory is not enough, you can set `force_col_wise=true`.\n",
      "[LightGBM] [Info] Total Bins 600\n",
      "[LightGBM] [Info] Number of data points in the train set: 126689, number of used features: 9\n",
      "[LightGBM] [Info] Start training from score 4270.762710\n",
      "[LightGBM] [Info] Auto-choosing col-wise multi-threading, the overhead of testing was 0.016686 seconds.\n",
      "You can set `force_col_wise=true` to remove the overhead.\n",
      "[LightGBM] [Info] Total Bins 599\n",
      "[LightGBM] [Info] Number of data points in the train set: 126690, number of used features: 9\n",
      "[LightGBM] [Info] Start training from score 4266.262341\n",
      "[LightGBM] [Info] Auto-choosing col-wise multi-threading, the overhead of testing was 0.023049 seconds.\n",
      "You can set `force_col_wise=true` to remove the overhead.\n",
      "[LightGBM] [Info] Total Bins 597\n",
      "[LightGBM] [Info] Number of data points in the train set: 126690, number of used features: 9\n",
      "[LightGBM] [Info] Start training from score 4276.635133\n",
      "[LightGBM] [Info] Auto-choosing row-wise multi-threading, the overhead of testing was 0.007195 seconds.\n",
      "You can set `force_row_wise=true` to remove the overhead.\n",
      "And if memory is not enough, you can set `force_col_wise=true`.\n",
      "[LightGBM] [Info] Total Bins 598\n",
      "[LightGBM] [Info] Number of data points in the train set: 126690, number of used features: 9\n",
      "[LightGBM] [Info] Start training from score 4274.274228\n",
      "[LightGBM] [Info] Auto-choosing row-wise multi-threading, the overhead of testing was 0.009153 seconds.\n",
      "You can set `force_row_wise=true` to remove the overhead.\n",
      "And if memory is not enough, you can set `force_col_wise=true`.\n",
      "[LightGBM] [Info] Total Bins 596\n",
      "[LightGBM] [Info] Number of data points in the train set: 126689, number of used features: 9\n",
      "[LightGBM] [Info] Start training from score 4273.231109\n",
      "[LightGBM] [Info] Auto-choosing row-wise multi-threading, the overhead of testing was 0.006248 seconds.\n",
      "You can set `force_row_wise=true` to remove the overhead.\n",
      "And if memory is not enough, you can set `force_col_wise=true`.\n",
      "[LightGBM] [Info] Total Bins 600\n",
      "[LightGBM] [Info] Number of data points in the train set: 126689, number of used features: 9\n",
      "[LightGBM] [Info] Start training from score 4270.762710\n"
     ]
    },
    {
     "name": "stdout",
     "output_type": "stream",
     "text": [
      "[LightGBM] [Info] Auto-choosing col-wise multi-threading, the overhead of testing was 0.021170 seconds.\n",
      "You can set `force_col_wise=true` to remove the overhead.\n",
      "[LightGBM] [Info] Total Bins 599\n",
      "[LightGBM] [Info] Number of data points in the train set: 126690, number of used features: 9\n",
      "[LightGBM] [Info] Start training from score 4266.262341\n",
      "[LightGBM] [Info] Auto-choosing row-wise multi-threading, the overhead of testing was 0.003853 seconds.\n",
      "You can set `force_row_wise=true` to remove the overhead.\n",
      "And if memory is not enough, you can set `force_col_wise=true`.\n",
      "[LightGBM] [Info] Total Bins 597\n",
      "[LightGBM] [Info] Number of data points in the train set: 126690, number of used features: 9\n",
      "[LightGBM] [Info] Start training from score 4276.635133\n",
      "[LightGBM] [Info] Auto-choosing row-wise multi-threading, the overhead of testing was 0.004624 seconds.\n",
      "You can set `force_row_wise=true` to remove the overhead.\n",
      "And if memory is not enough, you can set `force_col_wise=true`.\n",
      "[LightGBM] [Info] Total Bins 598\n",
      "[LightGBM] [Info] Number of data points in the train set: 126690, number of used features: 9\n",
      "[LightGBM] [Info] Start training from score 4274.274228\n",
      "[LightGBM] [Info] Auto-choosing row-wise multi-threading, the overhead of testing was 0.007524 seconds.\n",
      "You can set `force_row_wise=true` to remove the overhead.\n",
      "And if memory is not enough, you can set `force_col_wise=true`.\n",
      "[LightGBM] [Info] Total Bins 596\n",
      "[LightGBM] [Info] Number of data points in the train set: 126689, number of used features: 9\n",
      "[LightGBM] [Info] Start training from score 4273.231109\n",
      "[LightGBM] [Info] Auto-choosing row-wise multi-threading, the overhead of testing was 0.007740 seconds.\n",
      "You can set `force_row_wise=true` to remove the overhead.\n",
      "And if memory is not enough, you can set `force_col_wise=true`.\n",
      "[LightGBM] [Info] Total Bins 600\n",
      "[LightGBM] [Info] Number of data points in the train set: 126689, number of used features: 9\n",
      "[LightGBM] [Info] Start training from score 4270.762710\n",
      "[LightGBM] [Info] Auto-choosing row-wise multi-threading, the overhead of testing was 0.008163 seconds.\n",
      "You can set `force_row_wise=true` to remove the overhead.\n",
      "And if memory is not enough, you can set `force_col_wise=true`.\n",
      "[LightGBM] [Info] Total Bins 599\n",
      "[LightGBM] [Info] Number of data points in the train set: 126690, number of used features: 9\n",
      "[LightGBM] [Info] Start training from score 4266.262341\n",
      "[LightGBM] [Info] Auto-choosing row-wise multi-threading, the overhead of testing was 0.008115 seconds.\n",
      "You can set `force_row_wise=true` to remove the overhead.\n",
      "And if memory is not enough, you can set `force_col_wise=true`.\n",
      "[LightGBM] [Info] Total Bins 597\n",
      "[LightGBM] [Info] Number of data points in the train set: 126690, number of used features: 9\n",
      "[LightGBM] [Info] Start training from score 4276.635133\n",
      "[LightGBM] [Info] Auto-choosing row-wise multi-threading, the overhead of testing was 0.006987 seconds.\n",
      "You can set `force_row_wise=true` to remove the overhead.\n",
      "And if memory is not enough, you can set `force_col_wise=true`.\n",
      "[LightGBM] [Info] Total Bins 598\n",
      "[LightGBM] [Info] Number of data points in the train set: 126690, number of used features: 9\n",
      "[LightGBM] [Info] Start training from score 4274.274228\n",
      "[LightGBM] [Info] Auto-choosing row-wise multi-threading, the overhead of testing was 0.007989 seconds.\n",
      "You can set `force_row_wise=true` to remove the overhead.\n",
      "And if memory is not enough, you can set `force_col_wise=true`.\n",
      "[LightGBM] [Info] Total Bins 596\n",
      "[LightGBM] [Info] Number of data points in the train set: 126689, number of used features: 9\n",
      "[LightGBM] [Info] Start training from score 4273.231109\n",
      "[LightGBM] [Info] Auto-choosing row-wise multi-threading, the overhead of testing was 0.006639 seconds.\n",
      "You can set `force_row_wise=true` to remove the overhead.\n",
      "And if memory is not enough, you can set `force_col_wise=true`.\n",
      "[LightGBM] [Info] Total Bins 600\n",
      "[LightGBM] [Info] Number of data points in the train set: 126689, number of used features: 9\n",
      "[LightGBM] [Info] Start training from score 4270.762710\n",
      "[LightGBM] [Info] Auto-choosing row-wise multi-threading, the overhead of testing was 0.007481 seconds.\n",
      "You can set `force_row_wise=true` to remove the overhead.\n",
      "And if memory is not enough, you can set `force_col_wise=true`.\n",
      "[LightGBM] [Info] Total Bins 599\n",
      "[LightGBM] [Info] Number of data points in the train set: 126690, number of used features: 9\n",
      "[LightGBM] [Info] Start training from score 4266.262341\n",
      "[LightGBM] [Info] Auto-choosing row-wise multi-threading, the overhead of testing was 0.007368 seconds.\n",
      "You can set `force_row_wise=true` to remove the overhead.\n",
      "And if memory is not enough, you can set `force_col_wise=true`.\n",
      "[LightGBM] [Info] Total Bins 597\n",
      "[LightGBM] [Info] Number of data points in the train set: 126690, number of used features: 9\n",
      "[LightGBM] [Info] Start training from score 4276.635133\n",
      "[LightGBM] [Info] Auto-choosing row-wise multi-threading, the overhead of testing was 0.007540 seconds.\n",
      "You can set `force_row_wise=true` to remove the overhead.\n",
      "And if memory is not enough, you can set `force_col_wise=true`.\n",
      "[LightGBM] [Info] Total Bins 598\n",
      "[LightGBM] [Info] Number of data points in the train set: 126690, number of used features: 9\n",
      "[LightGBM] [Info] Start training from score 4274.274228\n",
      "[LightGBM] [Info] Auto-choosing row-wise multi-threading, the overhead of testing was 0.007429 seconds.\n",
      "You can set `force_row_wise=true` to remove the overhead.\n",
      "And if memory is not enough, you can set `force_col_wise=true`.\n",
      "[LightGBM] [Info] Total Bins 596\n",
      "[LightGBM] [Info] Number of data points in the train set: 126689, number of used features: 9\n",
      "[LightGBM] [Info] Start training from score 4273.231109\n",
      "[LightGBM] [Info] Auto-choosing row-wise multi-threading, the overhead of testing was 0.005956 seconds.\n",
      "You can set `force_row_wise=true` to remove the overhead.\n",
      "And if memory is not enough, you can set `force_col_wise=true`.\n",
      "[LightGBM] [Info] Total Bins 600\n",
      "[LightGBM] [Info] Number of data points in the train set: 126689, number of used features: 9\n",
      "[LightGBM] [Info] Start training from score 4270.762710\n",
      "[LightGBM] [Info] Auto-choosing row-wise multi-threading, the overhead of testing was 0.007578 seconds.\n",
      "You can set `force_row_wise=true` to remove the overhead.\n",
      "And if memory is not enough, you can set `force_col_wise=true`.\n",
      "[LightGBM] [Info] Total Bins 599\n",
      "[LightGBM] [Info] Number of data points in the train set: 126690, number of used features: 9\n",
      "[LightGBM] [Info] Start training from score 4266.262341\n",
      "[LightGBM] [Info] Auto-choosing row-wise multi-threading, the overhead of testing was 0.006874 seconds.\n",
      "You can set `force_row_wise=true` to remove the overhead.\n",
      "And if memory is not enough, you can set `force_col_wise=true`.\n",
      "[LightGBM] [Info] Total Bins 597\n",
      "[LightGBM] [Info] Number of data points in the train set: 126690, number of used features: 9\n",
      "[LightGBM] [Info] Start training from score 4276.635133\n",
      "[LightGBM] [Info] Auto-choosing col-wise multi-threading, the overhead of testing was 0.013281 seconds.\n",
      "You can set `force_col_wise=true` to remove the overhead.\n",
      "[LightGBM] [Info] Total Bins 598\n",
      "[LightGBM] [Info] Number of data points in the train set: 126690, number of used features: 9\n",
      "[LightGBM] [Info] Start training from score 4274.274228\n",
      "[LightGBM] [Info] Auto-choosing row-wise multi-threading, the overhead of testing was 0.009598 seconds.\n",
      "You can set `force_row_wise=true` to remove the overhead.\n",
      "And if memory is not enough, you can set `force_col_wise=true`.\n",
      "[LightGBM] [Info] Total Bins 601\n",
      "[LightGBM] [Info] Number of data points in the train set: 158362, number of used features: 9\n",
      "[LightGBM] [Info] Start training from score 4272.233105\n",
      "{'learning_rate': 0.3, 'num_leaves': 200, 'random_state': 123}\n",
      "\n",
      "CPU times: total: 3min 22s\n",
      "Wall time: 1min 16s\n"
     ]
    },
    {
     "data": {
      "text/plain": [
       "1273.3309722989777"
      ]
     },
     "execution_count": 48,
     "metadata": {},
     "output_type": "execute_result"
    }
   ],
   "source": [
    "%%time\n",
    "\n",
    "model_lgbmr = LGBMRegressor() \n",
    "parameters = [{'num_leaves':[25, 50, 100, 200], 'learning_rate':[.1, .3, .5], 'random_state':[123]}]\n",
    "\n",
    "\n",
    "clf = GridSearchCV(model_lgbmr, parameters, scoring='neg_mean_squared_error')\n",
    "clf.fit(features_train, target_train)\n",
    "\n",
    "print(clf.best_params_)\n",
    "print()\n",
    "\n",
    "mts = clf.cv_results_['mean_test_score']\n",
    "\n",
    "rsme_lgbmr = (max(mts) * -1) ** .5\n",
    "rsme_lgbmr"
   ]
  },
  {
   "cell_type": "code",
   "execution_count": 49,
   "metadata": {},
   "outputs": [
    {
     "name": "stdout",
     "output_type": "stream",
     "text": [
      "[LightGBM] [Info] Auto-choosing row-wise multi-threading, the overhead of testing was 0.005238 seconds.\n",
      "You can set `force_row_wise=true` to remove the overhead.\n",
      "And if memory is not enough, you can set `force_col_wise=true`.\n",
      "[LightGBM] [Info] Total Bins 601\n",
      "[LightGBM] [Info] Number of data points in the train set: 158362, number of used features: 9\n",
      "[LightGBM] [Info] Start training from score 4272.233105\n",
      "CPU times: total: 2.86 s\n",
      "Wall time: 1.12 s\n"
     ]
    },
    {
     "data": {
      "text/html": [
       "<style>#sk-container-id-1 {\n",
       "  /* Definition of color scheme common for light and dark mode */\n",
       "  --sklearn-color-text: black;\n",
       "  --sklearn-color-line: gray;\n",
       "  /* Definition of color scheme for unfitted estimators */\n",
       "  --sklearn-color-unfitted-level-0: #fff5e6;\n",
       "  --sklearn-color-unfitted-level-1: #f6e4d2;\n",
       "  --sklearn-color-unfitted-level-2: #ffe0b3;\n",
       "  --sklearn-color-unfitted-level-3: chocolate;\n",
       "  /* Definition of color scheme for fitted estimators */\n",
       "  --sklearn-color-fitted-level-0: #f0f8ff;\n",
       "  --sklearn-color-fitted-level-1: #d4ebff;\n",
       "  --sklearn-color-fitted-level-2: #b3dbfd;\n",
       "  --sklearn-color-fitted-level-3: cornflowerblue;\n",
       "\n",
       "  /* Specific color for light theme */\n",
       "  --sklearn-color-text-on-default-background: var(--sg-text-color, var(--theme-code-foreground, var(--jp-content-font-color1, black)));\n",
       "  --sklearn-color-background: var(--sg-background-color, var(--theme-background, var(--jp-layout-color0, white)));\n",
       "  --sklearn-color-border-box: var(--sg-text-color, var(--theme-code-foreground, var(--jp-content-font-color1, black)));\n",
       "  --sklearn-color-icon: #696969;\n",
       "\n",
       "  @media (prefers-color-scheme: dark) {\n",
       "    /* Redefinition of color scheme for dark theme */\n",
       "    --sklearn-color-text-on-default-background: var(--sg-text-color, var(--theme-code-foreground, var(--jp-content-font-color1, white)));\n",
       "    --sklearn-color-background: var(--sg-background-color, var(--theme-background, var(--jp-layout-color0, #111)));\n",
       "    --sklearn-color-border-box: var(--sg-text-color, var(--theme-code-foreground, var(--jp-content-font-color1, white)));\n",
       "    --sklearn-color-icon: #878787;\n",
       "  }\n",
       "}\n",
       "\n",
       "#sk-container-id-1 {\n",
       "  color: var(--sklearn-color-text);\n",
       "}\n",
       "\n",
       "#sk-container-id-1 pre {\n",
       "  padding: 0;\n",
       "}\n",
       "\n",
       "#sk-container-id-1 input.sk-hidden--visually {\n",
       "  border: 0;\n",
       "  clip: rect(1px 1px 1px 1px);\n",
       "  clip: rect(1px, 1px, 1px, 1px);\n",
       "  height: 1px;\n",
       "  margin: -1px;\n",
       "  overflow: hidden;\n",
       "  padding: 0;\n",
       "  position: absolute;\n",
       "  width: 1px;\n",
       "}\n",
       "\n",
       "#sk-container-id-1 div.sk-dashed-wrapped {\n",
       "  border: 1px dashed var(--sklearn-color-line);\n",
       "  margin: 0 0.4em 0.5em 0.4em;\n",
       "  box-sizing: border-box;\n",
       "  padding-bottom: 0.4em;\n",
       "  background-color: var(--sklearn-color-background);\n",
       "}\n",
       "\n",
       "#sk-container-id-1 div.sk-container {\n",
       "  /* jupyter's `normalize.less` sets `[hidden] { display: none; }`\n",
       "     but bootstrap.min.css set `[hidden] { display: none !important; }`\n",
       "     so we also need the `!important` here to be able to override the\n",
       "     default hidden behavior on the sphinx rendered scikit-learn.org.\n",
       "     See: https://github.com/scikit-learn/scikit-learn/issues/21755 */\n",
       "  display: inline-block !important;\n",
       "  position: relative;\n",
       "}\n",
       "\n",
       "#sk-container-id-1 div.sk-text-repr-fallback {\n",
       "  display: none;\n",
       "}\n",
       "\n",
       "div.sk-parallel-item,\n",
       "div.sk-serial,\n",
       "div.sk-item {\n",
       "  /* draw centered vertical line to link estimators */\n",
       "  background-image: linear-gradient(var(--sklearn-color-text-on-default-background), var(--sklearn-color-text-on-default-background));\n",
       "  background-size: 2px 100%;\n",
       "  background-repeat: no-repeat;\n",
       "  background-position: center center;\n",
       "}\n",
       "\n",
       "/* Parallel-specific style estimator block */\n",
       "\n",
       "#sk-container-id-1 div.sk-parallel-item::after {\n",
       "  content: \"\";\n",
       "  width: 100%;\n",
       "  border-bottom: 2px solid var(--sklearn-color-text-on-default-background);\n",
       "  flex-grow: 1;\n",
       "}\n",
       "\n",
       "#sk-container-id-1 div.sk-parallel {\n",
       "  display: flex;\n",
       "  align-items: stretch;\n",
       "  justify-content: center;\n",
       "  background-color: var(--sklearn-color-background);\n",
       "  position: relative;\n",
       "}\n",
       "\n",
       "#sk-container-id-1 div.sk-parallel-item {\n",
       "  display: flex;\n",
       "  flex-direction: column;\n",
       "}\n",
       "\n",
       "#sk-container-id-1 div.sk-parallel-item:first-child::after {\n",
       "  align-self: flex-end;\n",
       "  width: 50%;\n",
       "}\n",
       "\n",
       "#sk-container-id-1 div.sk-parallel-item:last-child::after {\n",
       "  align-self: flex-start;\n",
       "  width: 50%;\n",
       "}\n",
       "\n",
       "#sk-container-id-1 div.sk-parallel-item:only-child::after {\n",
       "  width: 0;\n",
       "}\n",
       "\n",
       "/* Serial-specific style estimator block */\n",
       "\n",
       "#sk-container-id-1 div.sk-serial {\n",
       "  display: flex;\n",
       "  flex-direction: column;\n",
       "  align-items: center;\n",
       "  background-color: var(--sklearn-color-background);\n",
       "  padding-right: 1em;\n",
       "  padding-left: 1em;\n",
       "}\n",
       "\n",
       "\n",
       "/* Toggleable style: style used for estimator/Pipeline/ColumnTransformer box that is\n",
       "clickable and can be expanded/collapsed.\n",
       "- Pipeline and ColumnTransformer use this feature and define the default style\n",
       "- Estimators will overwrite some part of the style using the `sk-estimator` class\n",
       "*/\n",
       "\n",
       "/* Pipeline and ColumnTransformer style (default) */\n",
       "\n",
       "#sk-container-id-1 div.sk-toggleable {\n",
       "  /* Default theme specific background. It is overwritten whether we have a\n",
       "  specific estimator or a Pipeline/ColumnTransformer */\n",
       "  background-color: var(--sklearn-color-background);\n",
       "}\n",
       "\n",
       "/* Toggleable label */\n",
       "#sk-container-id-1 label.sk-toggleable__label {\n",
       "  cursor: pointer;\n",
       "  display: block;\n",
       "  width: 100%;\n",
       "  margin-bottom: 0;\n",
       "  padding: 0.5em;\n",
       "  box-sizing: border-box;\n",
       "  text-align: center;\n",
       "}\n",
       "\n",
       "#sk-container-id-1 label.sk-toggleable__label-arrow:before {\n",
       "  /* Arrow on the left of the label */\n",
       "  content: \"▸\";\n",
       "  float: left;\n",
       "  margin-right: 0.25em;\n",
       "  color: var(--sklearn-color-icon);\n",
       "}\n",
       "\n",
       "#sk-container-id-1 label.sk-toggleable__label-arrow:hover:before {\n",
       "  color: var(--sklearn-color-text);\n",
       "}\n",
       "\n",
       "/* Toggleable content - dropdown */\n",
       "\n",
       "#sk-container-id-1 div.sk-toggleable__content {\n",
       "  max-height: 0;\n",
       "  max-width: 0;\n",
       "  overflow: hidden;\n",
       "  text-align: left;\n",
       "  /* unfitted */\n",
       "  background-color: var(--sklearn-color-unfitted-level-0);\n",
       "}\n",
       "\n",
       "#sk-container-id-1 div.sk-toggleable__content.fitted {\n",
       "  /* fitted */\n",
       "  background-color: var(--sklearn-color-fitted-level-0);\n",
       "}\n",
       "\n",
       "#sk-container-id-1 div.sk-toggleable__content pre {\n",
       "  margin: 0.2em;\n",
       "  border-radius: 0.25em;\n",
       "  color: var(--sklearn-color-text);\n",
       "  /* unfitted */\n",
       "  background-color: var(--sklearn-color-unfitted-level-0);\n",
       "}\n",
       "\n",
       "#sk-container-id-1 div.sk-toggleable__content.fitted pre {\n",
       "  /* unfitted */\n",
       "  background-color: var(--sklearn-color-fitted-level-0);\n",
       "}\n",
       "\n",
       "#sk-container-id-1 input.sk-toggleable__control:checked~div.sk-toggleable__content {\n",
       "  /* Expand drop-down */\n",
       "  max-height: 200px;\n",
       "  max-width: 100%;\n",
       "  overflow: auto;\n",
       "}\n",
       "\n",
       "#sk-container-id-1 input.sk-toggleable__control:checked~label.sk-toggleable__label-arrow:before {\n",
       "  content: \"▾\";\n",
       "}\n",
       "\n",
       "/* Pipeline/ColumnTransformer-specific style */\n",
       "\n",
       "#sk-container-id-1 div.sk-label input.sk-toggleable__control:checked~label.sk-toggleable__label {\n",
       "  color: var(--sklearn-color-text);\n",
       "  background-color: var(--sklearn-color-unfitted-level-2);\n",
       "}\n",
       "\n",
       "#sk-container-id-1 div.sk-label.fitted input.sk-toggleable__control:checked~label.sk-toggleable__label {\n",
       "  background-color: var(--sklearn-color-fitted-level-2);\n",
       "}\n",
       "\n",
       "/* Estimator-specific style */\n",
       "\n",
       "/* Colorize estimator box */\n",
       "#sk-container-id-1 div.sk-estimator input.sk-toggleable__control:checked~label.sk-toggleable__label {\n",
       "  /* unfitted */\n",
       "  background-color: var(--sklearn-color-unfitted-level-2);\n",
       "}\n",
       "\n",
       "#sk-container-id-1 div.sk-estimator.fitted input.sk-toggleable__control:checked~label.sk-toggleable__label {\n",
       "  /* fitted */\n",
       "  background-color: var(--sklearn-color-fitted-level-2);\n",
       "}\n",
       "\n",
       "#sk-container-id-1 div.sk-label label.sk-toggleable__label,\n",
       "#sk-container-id-1 div.sk-label label {\n",
       "  /* The background is the default theme color */\n",
       "  color: var(--sklearn-color-text-on-default-background);\n",
       "}\n",
       "\n",
       "/* On hover, darken the color of the background */\n",
       "#sk-container-id-1 div.sk-label:hover label.sk-toggleable__label {\n",
       "  color: var(--sklearn-color-text);\n",
       "  background-color: var(--sklearn-color-unfitted-level-2);\n",
       "}\n",
       "\n",
       "/* Label box, darken color on hover, fitted */\n",
       "#sk-container-id-1 div.sk-label.fitted:hover label.sk-toggleable__label.fitted {\n",
       "  color: var(--sklearn-color-text);\n",
       "  background-color: var(--sklearn-color-fitted-level-2);\n",
       "}\n",
       "\n",
       "/* Estimator label */\n",
       "\n",
       "#sk-container-id-1 div.sk-label label {\n",
       "  font-family: monospace;\n",
       "  font-weight: bold;\n",
       "  display: inline-block;\n",
       "  line-height: 1.2em;\n",
       "}\n",
       "\n",
       "#sk-container-id-1 div.sk-label-container {\n",
       "  text-align: center;\n",
       "}\n",
       "\n",
       "/* Estimator-specific */\n",
       "#sk-container-id-1 div.sk-estimator {\n",
       "  font-family: monospace;\n",
       "  border: 1px dotted var(--sklearn-color-border-box);\n",
       "  border-radius: 0.25em;\n",
       "  box-sizing: border-box;\n",
       "  margin-bottom: 0.5em;\n",
       "  /* unfitted */\n",
       "  background-color: var(--sklearn-color-unfitted-level-0);\n",
       "}\n",
       "\n",
       "#sk-container-id-1 div.sk-estimator.fitted {\n",
       "  /* fitted */\n",
       "  background-color: var(--sklearn-color-fitted-level-0);\n",
       "}\n",
       "\n",
       "/* on hover */\n",
       "#sk-container-id-1 div.sk-estimator:hover {\n",
       "  /* unfitted */\n",
       "  background-color: var(--sklearn-color-unfitted-level-2);\n",
       "}\n",
       "\n",
       "#sk-container-id-1 div.sk-estimator.fitted:hover {\n",
       "  /* fitted */\n",
       "  background-color: var(--sklearn-color-fitted-level-2);\n",
       "}\n",
       "\n",
       "/* Specification for estimator info (e.g. \"i\" and \"?\") */\n",
       "\n",
       "/* Common style for \"i\" and \"?\" */\n",
       "\n",
       ".sk-estimator-doc-link,\n",
       "a:link.sk-estimator-doc-link,\n",
       "a:visited.sk-estimator-doc-link {\n",
       "  float: right;\n",
       "  font-size: smaller;\n",
       "  line-height: 1em;\n",
       "  font-family: monospace;\n",
       "  background-color: var(--sklearn-color-background);\n",
       "  border-radius: 1em;\n",
       "  height: 1em;\n",
       "  width: 1em;\n",
       "  text-decoration: none !important;\n",
       "  margin-left: 1ex;\n",
       "  /* unfitted */\n",
       "  border: var(--sklearn-color-unfitted-level-1) 1pt solid;\n",
       "  color: var(--sklearn-color-unfitted-level-1);\n",
       "}\n",
       "\n",
       ".sk-estimator-doc-link.fitted,\n",
       "a:link.sk-estimator-doc-link.fitted,\n",
       "a:visited.sk-estimator-doc-link.fitted {\n",
       "  /* fitted */\n",
       "  border: var(--sklearn-color-fitted-level-1) 1pt solid;\n",
       "  color: var(--sklearn-color-fitted-level-1);\n",
       "}\n",
       "\n",
       "/* On hover */\n",
       "div.sk-estimator:hover .sk-estimator-doc-link:hover,\n",
       ".sk-estimator-doc-link:hover,\n",
       "div.sk-label-container:hover .sk-estimator-doc-link:hover,\n",
       ".sk-estimator-doc-link:hover {\n",
       "  /* unfitted */\n",
       "  background-color: var(--sklearn-color-unfitted-level-3);\n",
       "  color: var(--sklearn-color-background);\n",
       "  text-decoration: none;\n",
       "}\n",
       "\n",
       "div.sk-estimator.fitted:hover .sk-estimator-doc-link.fitted:hover,\n",
       ".sk-estimator-doc-link.fitted:hover,\n",
       "div.sk-label-container:hover .sk-estimator-doc-link.fitted:hover,\n",
       ".sk-estimator-doc-link.fitted:hover {\n",
       "  /* fitted */\n",
       "  background-color: var(--sklearn-color-fitted-level-3);\n",
       "  color: var(--sklearn-color-background);\n",
       "  text-decoration: none;\n",
       "}\n",
       "\n",
       "/* Span, style for the box shown on hovering the info icon */\n",
       ".sk-estimator-doc-link span {\n",
       "  display: none;\n",
       "  z-index: 9999;\n",
       "  position: relative;\n",
       "  font-weight: normal;\n",
       "  right: .2ex;\n",
       "  padding: .5ex;\n",
       "  margin: .5ex;\n",
       "  width: min-content;\n",
       "  min-width: 20ex;\n",
       "  max-width: 50ex;\n",
       "  color: var(--sklearn-color-text);\n",
       "  box-shadow: 2pt 2pt 4pt #999;\n",
       "  /* unfitted */\n",
       "  background: var(--sklearn-color-unfitted-level-0);\n",
       "  border: .5pt solid var(--sklearn-color-unfitted-level-3);\n",
       "}\n",
       "\n",
       ".sk-estimator-doc-link.fitted span {\n",
       "  /* fitted */\n",
       "  background: var(--sklearn-color-fitted-level-0);\n",
       "  border: var(--sklearn-color-fitted-level-3);\n",
       "}\n",
       "\n",
       ".sk-estimator-doc-link:hover span {\n",
       "  display: block;\n",
       "}\n",
       "\n",
       "/* \"?\"-specific style due to the `<a>` HTML tag */\n",
       "\n",
       "#sk-container-id-1 a.estimator_doc_link {\n",
       "  float: right;\n",
       "  font-size: 1rem;\n",
       "  line-height: 1em;\n",
       "  font-family: monospace;\n",
       "  background-color: var(--sklearn-color-background);\n",
       "  border-radius: 1rem;\n",
       "  height: 1rem;\n",
       "  width: 1rem;\n",
       "  text-decoration: none;\n",
       "  /* unfitted */\n",
       "  color: var(--sklearn-color-unfitted-level-1);\n",
       "  border: var(--sklearn-color-unfitted-level-1) 1pt solid;\n",
       "}\n",
       "\n",
       "#sk-container-id-1 a.estimator_doc_link.fitted {\n",
       "  /* fitted */\n",
       "  border: var(--sklearn-color-fitted-level-1) 1pt solid;\n",
       "  color: var(--sklearn-color-fitted-level-1);\n",
       "}\n",
       "\n",
       "/* On hover */\n",
       "#sk-container-id-1 a.estimator_doc_link:hover {\n",
       "  /* unfitted */\n",
       "  background-color: var(--sklearn-color-unfitted-level-3);\n",
       "  color: var(--sklearn-color-background);\n",
       "  text-decoration: none;\n",
       "}\n",
       "\n",
       "#sk-container-id-1 a.estimator_doc_link.fitted:hover {\n",
       "  /* fitted */\n",
       "  background-color: var(--sklearn-color-fitted-level-3);\n",
       "}\n",
       "</style><div id=\"sk-container-id-1\" class=\"sk-top-container\"><div class=\"sk-text-repr-fallback\"><pre>LGBMRegressor(learning_rate=0.3, num_leaves=100, random_state=123)</pre><b>In a Jupyter environment, please rerun this cell to show the HTML representation or trust the notebook. <br />On GitHub, the HTML representation is unable to render, please try loading this page with nbviewer.org.</b></div><div class=\"sk-container\" hidden><div class=\"sk-item\"><div class=\"sk-estimator fitted sk-toggleable\"><input class=\"sk-toggleable__control sk-hidden--visually\" id=\"sk-estimator-id-1\" type=\"checkbox\" checked><label for=\"sk-estimator-id-1\" class=\"sk-toggleable__label fitted sk-toggleable__label-arrow fitted\">&nbsp;LGBMRegressor<span class=\"sk-estimator-doc-link fitted\">i<span>Fitted</span></span></label><div class=\"sk-toggleable__content fitted\"><pre>LGBMRegressor(learning_rate=0.3, num_leaves=100, random_state=123)</pre></div> </div></div></div></div>"
      ],
      "text/plain": [
       "LGBMRegressor(learning_rate=0.3, num_leaves=100, random_state=123)"
      ]
     },
     "execution_count": 49,
     "metadata": {},
     "output_type": "execute_result"
    }
   ],
   "source": [
    "%%time\n",
    "\n",
    "model_lgbmr = LGBMRegressor(learning_rate=.3, num_leaves=100, random_state=123)\n",
    "model_lgbmr.fit(features_train, target_train)"
   ]
  },
  {
   "cell_type": "code",
   "execution_count": 50,
   "metadata": {},
   "outputs": [
    {
     "name": "stdout",
     "output_type": "stream",
     "text": [
      "CPU times: total: 438 ms\n",
      "Wall time: 177 ms\n"
     ]
    }
   ],
   "source": [
    "%%time\n",
    "\n",
    "prediction_valid = model_lgbmr.predict(features_valid)"
   ]
  },
  {
   "cell_type": "code",
   "execution_count": 51,
   "metadata": {},
   "outputs": [
    {
     "data": {
      "text/plain": [
       "1274.4640699022036"
      ]
     },
     "execution_count": 51,
     "metadata": {},
     "output_type": "execute_result"
    }
   ],
   "source": [
    "rsme_lgbmr_oe = mean_squared_error(target_valid, prediction_valid) ** .5\n",
    "rsme_lgbmr_oe"
   ]
  },
  {
   "cell_type": "markdown",
   "metadata": {},
   "source": [
    "### Выводы по обучению моделей"
   ]
  },
  {
   "cell_type": "markdown",
   "metadata": {},
   "source": [
    "* Обучили 3 модели - LinearRegression, RandomForestRegressor и LGBMRegressor - со сменой гиперпараметров.\n",
    "* Далее посмотрим результаты предсказаний каждой из моделей с лучшими гиперпараметрами на тестовой выборке, составим сравнительную таблицу с рейтингом и выберем наилучшую модель по финальному тестированию на независимых, скрытых изначально данных."
   ]
  },
  {
   "cell_type": "markdown",
   "metadata": {},
   "source": [
    "## Анализ моделей"
   ]
  },
  {
   "cell_type": "markdown",
   "metadata": {},
   "source": [
    "### LinearRegression"
   ]
  },
  {
   "cell_type": "code",
   "execution_count": 52,
   "metadata": {},
   "outputs": [
    {
     "name": "stdout",
     "output_type": "stream",
     "text": [
      "CPU times: total: 9.27 s\n",
      "Wall time: 4.1 s\n"
     ]
    },
    {
     "data": {
      "text/html": [
       "<style>#sk-container-id-2 {\n",
       "  /* Definition of color scheme common for light and dark mode */\n",
       "  --sklearn-color-text: black;\n",
       "  --sklearn-color-line: gray;\n",
       "  /* Definition of color scheme for unfitted estimators */\n",
       "  --sklearn-color-unfitted-level-0: #fff5e6;\n",
       "  --sklearn-color-unfitted-level-1: #f6e4d2;\n",
       "  --sklearn-color-unfitted-level-2: #ffe0b3;\n",
       "  --sklearn-color-unfitted-level-3: chocolate;\n",
       "  /* Definition of color scheme for fitted estimators */\n",
       "  --sklearn-color-fitted-level-0: #f0f8ff;\n",
       "  --sklearn-color-fitted-level-1: #d4ebff;\n",
       "  --sklearn-color-fitted-level-2: #b3dbfd;\n",
       "  --sklearn-color-fitted-level-3: cornflowerblue;\n",
       "\n",
       "  /* Specific color for light theme */\n",
       "  --sklearn-color-text-on-default-background: var(--sg-text-color, var(--theme-code-foreground, var(--jp-content-font-color1, black)));\n",
       "  --sklearn-color-background: var(--sg-background-color, var(--theme-background, var(--jp-layout-color0, white)));\n",
       "  --sklearn-color-border-box: var(--sg-text-color, var(--theme-code-foreground, var(--jp-content-font-color1, black)));\n",
       "  --sklearn-color-icon: #696969;\n",
       "\n",
       "  @media (prefers-color-scheme: dark) {\n",
       "    /* Redefinition of color scheme for dark theme */\n",
       "    --sklearn-color-text-on-default-background: var(--sg-text-color, var(--theme-code-foreground, var(--jp-content-font-color1, white)));\n",
       "    --sklearn-color-background: var(--sg-background-color, var(--theme-background, var(--jp-layout-color0, #111)));\n",
       "    --sklearn-color-border-box: var(--sg-text-color, var(--theme-code-foreground, var(--jp-content-font-color1, white)));\n",
       "    --sklearn-color-icon: #878787;\n",
       "  }\n",
       "}\n",
       "\n",
       "#sk-container-id-2 {\n",
       "  color: var(--sklearn-color-text);\n",
       "}\n",
       "\n",
       "#sk-container-id-2 pre {\n",
       "  padding: 0;\n",
       "}\n",
       "\n",
       "#sk-container-id-2 input.sk-hidden--visually {\n",
       "  border: 0;\n",
       "  clip: rect(1px 1px 1px 1px);\n",
       "  clip: rect(1px, 1px, 1px, 1px);\n",
       "  height: 1px;\n",
       "  margin: -1px;\n",
       "  overflow: hidden;\n",
       "  padding: 0;\n",
       "  position: absolute;\n",
       "  width: 1px;\n",
       "}\n",
       "\n",
       "#sk-container-id-2 div.sk-dashed-wrapped {\n",
       "  border: 1px dashed var(--sklearn-color-line);\n",
       "  margin: 0 0.4em 0.5em 0.4em;\n",
       "  box-sizing: border-box;\n",
       "  padding-bottom: 0.4em;\n",
       "  background-color: var(--sklearn-color-background);\n",
       "}\n",
       "\n",
       "#sk-container-id-2 div.sk-container {\n",
       "  /* jupyter's `normalize.less` sets `[hidden] { display: none; }`\n",
       "     but bootstrap.min.css set `[hidden] { display: none !important; }`\n",
       "     so we also need the `!important` here to be able to override the\n",
       "     default hidden behavior on the sphinx rendered scikit-learn.org.\n",
       "     See: https://github.com/scikit-learn/scikit-learn/issues/21755 */\n",
       "  display: inline-block !important;\n",
       "  position: relative;\n",
       "}\n",
       "\n",
       "#sk-container-id-2 div.sk-text-repr-fallback {\n",
       "  display: none;\n",
       "}\n",
       "\n",
       "div.sk-parallel-item,\n",
       "div.sk-serial,\n",
       "div.sk-item {\n",
       "  /* draw centered vertical line to link estimators */\n",
       "  background-image: linear-gradient(var(--sklearn-color-text-on-default-background), var(--sklearn-color-text-on-default-background));\n",
       "  background-size: 2px 100%;\n",
       "  background-repeat: no-repeat;\n",
       "  background-position: center center;\n",
       "}\n",
       "\n",
       "/* Parallel-specific style estimator block */\n",
       "\n",
       "#sk-container-id-2 div.sk-parallel-item::after {\n",
       "  content: \"\";\n",
       "  width: 100%;\n",
       "  border-bottom: 2px solid var(--sklearn-color-text-on-default-background);\n",
       "  flex-grow: 1;\n",
       "}\n",
       "\n",
       "#sk-container-id-2 div.sk-parallel {\n",
       "  display: flex;\n",
       "  align-items: stretch;\n",
       "  justify-content: center;\n",
       "  background-color: var(--sklearn-color-background);\n",
       "  position: relative;\n",
       "}\n",
       "\n",
       "#sk-container-id-2 div.sk-parallel-item {\n",
       "  display: flex;\n",
       "  flex-direction: column;\n",
       "}\n",
       "\n",
       "#sk-container-id-2 div.sk-parallel-item:first-child::after {\n",
       "  align-self: flex-end;\n",
       "  width: 50%;\n",
       "}\n",
       "\n",
       "#sk-container-id-2 div.sk-parallel-item:last-child::after {\n",
       "  align-self: flex-start;\n",
       "  width: 50%;\n",
       "}\n",
       "\n",
       "#sk-container-id-2 div.sk-parallel-item:only-child::after {\n",
       "  width: 0;\n",
       "}\n",
       "\n",
       "/* Serial-specific style estimator block */\n",
       "\n",
       "#sk-container-id-2 div.sk-serial {\n",
       "  display: flex;\n",
       "  flex-direction: column;\n",
       "  align-items: center;\n",
       "  background-color: var(--sklearn-color-background);\n",
       "  padding-right: 1em;\n",
       "  padding-left: 1em;\n",
       "}\n",
       "\n",
       "\n",
       "/* Toggleable style: style used for estimator/Pipeline/ColumnTransformer box that is\n",
       "clickable and can be expanded/collapsed.\n",
       "- Pipeline and ColumnTransformer use this feature and define the default style\n",
       "- Estimators will overwrite some part of the style using the `sk-estimator` class\n",
       "*/\n",
       "\n",
       "/* Pipeline and ColumnTransformer style (default) */\n",
       "\n",
       "#sk-container-id-2 div.sk-toggleable {\n",
       "  /* Default theme specific background. It is overwritten whether we have a\n",
       "  specific estimator or a Pipeline/ColumnTransformer */\n",
       "  background-color: var(--sklearn-color-background);\n",
       "}\n",
       "\n",
       "/* Toggleable label */\n",
       "#sk-container-id-2 label.sk-toggleable__label {\n",
       "  cursor: pointer;\n",
       "  display: block;\n",
       "  width: 100%;\n",
       "  margin-bottom: 0;\n",
       "  padding: 0.5em;\n",
       "  box-sizing: border-box;\n",
       "  text-align: center;\n",
       "}\n",
       "\n",
       "#sk-container-id-2 label.sk-toggleable__label-arrow:before {\n",
       "  /* Arrow on the left of the label */\n",
       "  content: \"▸\";\n",
       "  float: left;\n",
       "  margin-right: 0.25em;\n",
       "  color: var(--sklearn-color-icon);\n",
       "}\n",
       "\n",
       "#sk-container-id-2 label.sk-toggleable__label-arrow:hover:before {\n",
       "  color: var(--sklearn-color-text);\n",
       "}\n",
       "\n",
       "/* Toggleable content - dropdown */\n",
       "\n",
       "#sk-container-id-2 div.sk-toggleable__content {\n",
       "  max-height: 0;\n",
       "  max-width: 0;\n",
       "  overflow: hidden;\n",
       "  text-align: left;\n",
       "  /* unfitted */\n",
       "  background-color: var(--sklearn-color-unfitted-level-0);\n",
       "}\n",
       "\n",
       "#sk-container-id-2 div.sk-toggleable__content.fitted {\n",
       "  /* fitted */\n",
       "  background-color: var(--sklearn-color-fitted-level-0);\n",
       "}\n",
       "\n",
       "#sk-container-id-2 div.sk-toggleable__content pre {\n",
       "  margin: 0.2em;\n",
       "  border-radius: 0.25em;\n",
       "  color: var(--sklearn-color-text);\n",
       "  /* unfitted */\n",
       "  background-color: var(--sklearn-color-unfitted-level-0);\n",
       "}\n",
       "\n",
       "#sk-container-id-2 div.sk-toggleable__content.fitted pre {\n",
       "  /* unfitted */\n",
       "  background-color: var(--sklearn-color-fitted-level-0);\n",
       "}\n",
       "\n",
       "#sk-container-id-2 input.sk-toggleable__control:checked~div.sk-toggleable__content {\n",
       "  /* Expand drop-down */\n",
       "  max-height: 200px;\n",
       "  max-width: 100%;\n",
       "  overflow: auto;\n",
       "}\n",
       "\n",
       "#sk-container-id-2 input.sk-toggleable__control:checked~label.sk-toggleable__label-arrow:before {\n",
       "  content: \"▾\";\n",
       "}\n",
       "\n",
       "/* Pipeline/ColumnTransformer-specific style */\n",
       "\n",
       "#sk-container-id-2 div.sk-label input.sk-toggleable__control:checked~label.sk-toggleable__label {\n",
       "  color: var(--sklearn-color-text);\n",
       "  background-color: var(--sklearn-color-unfitted-level-2);\n",
       "}\n",
       "\n",
       "#sk-container-id-2 div.sk-label.fitted input.sk-toggleable__control:checked~label.sk-toggleable__label {\n",
       "  background-color: var(--sklearn-color-fitted-level-2);\n",
       "}\n",
       "\n",
       "/* Estimator-specific style */\n",
       "\n",
       "/* Colorize estimator box */\n",
       "#sk-container-id-2 div.sk-estimator input.sk-toggleable__control:checked~label.sk-toggleable__label {\n",
       "  /* unfitted */\n",
       "  background-color: var(--sklearn-color-unfitted-level-2);\n",
       "}\n",
       "\n",
       "#sk-container-id-2 div.sk-estimator.fitted input.sk-toggleable__control:checked~label.sk-toggleable__label {\n",
       "  /* fitted */\n",
       "  background-color: var(--sklearn-color-fitted-level-2);\n",
       "}\n",
       "\n",
       "#sk-container-id-2 div.sk-label label.sk-toggleable__label,\n",
       "#sk-container-id-2 div.sk-label label {\n",
       "  /* The background is the default theme color */\n",
       "  color: var(--sklearn-color-text-on-default-background);\n",
       "}\n",
       "\n",
       "/* On hover, darken the color of the background */\n",
       "#sk-container-id-2 div.sk-label:hover label.sk-toggleable__label {\n",
       "  color: var(--sklearn-color-text);\n",
       "  background-color: var(--sklearn-color-unfitted-level-2);\n",
       "}\n",
       "\n",
       "/* Label box, darken color on hover, fitted */\n",
       "#sk-container-id-2 div.sk-label.fitted:hover label.sk-toggleable__label.fitted {\n",
       "  color: var(--sklearn-color-text);\n",
       "  background-color: var(--sklearn-color-fitted-level-2);\n",
       "}\n",
       "\n",
       "/* Estimator label */\n",
       "\n",
       "#sk-container-id-2 div.sk-label label {\n",
       "  font-family: monospace;\n",
       "  font-weight: bold;\n",
       "  display: inline-block;\n",
       "  line-height: 1.2em;\n",
       "}\n",
       "\n",
       "#sk-container-id-2 div.sk-label-container {\n",
       "  text-align: center;\n",
       "}\n",
       "\n",
       "/* Estimator-specific */\n",
       "#sk-container-id-2 div.sk-estimator {\n",
       "  font-family: monospace;\n",
       "  border: 1px dotted var(--sklearn-color-border-box);\n",
       "  border-radius: 0.25em;\n",
       "  box-sizing: border-box;\n",
       "  margin-bottom: 0.5em;\n",
       "  /* unfitted */\n",
       "  background-color: var(--sklearn-color-unfitted-level-0);\n",
       "}\n",
       "\n",
       "#sk-container-id-2 div.sk-estimator.fitted {\n",
       "  /* fitted */\n",
       "  background-color: var(--sklearn-color-fitted-level-0);\n",
       "}\n",
       "\n",
       "/* on hover */\n",
       "#sk-container-id-2 div.sk-estimator:hover {\n",
       "  /* unfitted */\n",
       "  background-color: var(--sklearn-color-unfitted-level-2);\n",
       "}\n",
       "\n",
       "#sk-container-id-2 div.sk-estimator.fitted:hover {\n",
       "  /* fitted */\n",
       "  background-color: var(--sklearn-color-fitted-level-2);\n",
       "}\n",
       "\n",
       "/* Specification for estimator info (e.g. \"i\" and \"?\") */\n",
       "\n",
       "/* Common style for \"i\" and \"?\" */\n",
       "\n",
       ".sk-estimator-doc-link,\n",
       "a:link.sk-estimator-doc-link,\n",
       "a:visited.sk-estimator-doc-link {\n",
       "  float: right;\n",
       "  font-size: smaller;\n",
       "  line-height: 1em;\n",
       "  font-family: monospace;\n",
       "  background-color: var(--sklearn-color-background);\n",
       "  border-radius: 1em;\n",
       "  height: 1em;\n",
       "  width: 1em;\n",
       "  text-decoration: none !important;\n",
       "  margin-left: 1ex;\n",
       "  /* unfitted */\n",
       "  border: var(--sklearn-color-unfitted-level-1) 1pt solid;\n",
       "  color: var(--sklearn-color-unfitted-level-1);\n",
       "}\n",
       "\n",
       ".sk-estimator-doc-link.fitted,\n",
       "a:link.sk-estimator-doc-link.fitted,\n",
       "a:visited.sk-estimator-doc-link.fitted {\n",
       "  /* fitted */\n",
       "  border: var(--sklearn-color-fitted-level-1) 1pt solid;\n",
       "  color: var(--sklearn-color-fitted-level-1);\n",
       "}\n",
       "\n",
       "/* On hover */\n",
       "div.sk-estimator:hover .sk-estimator-doc-link:hover,\n",
       ".sk-estimator-doc-link:hover,\n",
       "div.sk-label-container:hover .sk-estimator-doc-link:hover,\n",
       ".sk-estimator-doc-link:hover {\n",
       "  /* unfitted */\n",
       "  background-color: var(--sklearn-color-unfitted-level-3);\n",
       "  color: var(--sklearn-color-background);\n",
       "  text-decoration: none;\n",
       "}\n",
       "\n",
       "div.sk-estimator.fitted:hover .sk-estimator-doc-link.fitted:hover,\n",
       ".sk-estimator-doc-link.fitted:hover,\n",
       "div.sk-label-container:hover .sk-estimator-doc-link.fitted:hover,\n",
       ".sk-estimator-doc-link.fitted:hover {\n",
       "  /* fitted */\n",
       "  background-color: var(--sklearn-color-fitted-level-3);\n",
       "  color: var(--sklearn-color-background);\n",
       "  text-decoration: none;\n",
       "}\n",
       "\n",
       "/* Span, style for the box shown on hovering the info icon */\n",
       ".sk-estimator-doc-link span {\n",
       "  display: none;\n",
       "  z-index: 9999;\n",
       "  position: relative;\n",
       "  font-weight: normal;\n",
       "  right: .2ex;\n",
       "  padding: .5ex;\n",
       "  margin: .5ex;\n",
       "  width: min-content;\n",
       "  min-width: 20ex;\n",
       "  max-width: 50ex;\n",
       "  color: var(--sklearn-color-text);\n",
       "  box-shadow: 2pt 2pt 4pt #999;\n",
       "  /* unfitted */\n",
       "  background: var(--sklearn-color-unfitted-level-0);\n",
       "  border: .5pt solid var(--sklearn-color-unfitted-level-3);\n",
       "}\n",
       "\n",
       ".sk-estimator-doc-link.fitted span {\n",
       "  /* fitted */\n",
       "  background: var(--sklearn-color-fitted-level-0);\n",
       "  border: var(--sklearn-color-fitted-level-3);\n",
       "}\n",
       "\n",
       ".sk-estimator-doc-link:hover span {\n",
       "  display: block;\n",
       "}\n",
       "\n",
       "/* \"?\"-specific style due to the `<a>` HTML tag */\n",
       "\n",
       "#sk-container-id-2 a.estimator_doc_link {\n",
       "  float: right;\n",
       "  font-size: 1rem;\n",
       "  line-height: 1em;\n",
       "  font-family: monospace;\n",
       "  background-color: var(--sklearn-color-background);\n",
       "  border-radius: 1rem;\n",
       "  height: 1rem;\n",
       "  width: 1rem;\n",
       "  text-decoration: none;\n",
       "  /* unfitted */\n",
       "  color: var(--sklearn-color-unfitted-level-1);\n",
       "  border: var(--sklearn-color-unfitted-level-1) 1pt solid;\n",
       "}\n",
       "\n",
       "#sk-container-id-2 a.estimator_doc_link.fitted {\n",
       "  /* fitted */\n",
       "  border: var(--sklearn-color-fitted-level-1) 1pt solid;\n",
       "  color: var(--sklearn-color-fitted-level-1);\n",
       "}\n",
       "\n",
       "/* On hover */\n",
       "#sk-container-id-2 a.estimator_doc_link:hover {\n",
       "  /* unfitted */\n",
       "  background-color: var(--sklearn-color-unfitted-level-3);\n",
       "  color: var(--sklearn-color-background);\n",
       "  text-decoration: none;\n",
       "}\n",
       "\n",
       "#sk-container-id-2 a.estimator_doc_link.fitted:hover {\n",
       "  /* fitted */\n",
       "  background-color: var(--sklearn-color-fitted-level-3);\n",
       "}\n",
       "</style><div id=\"sk-container-id-2\" class=\"sk-top-container\"><div class=\"sk-text-repr-fallback\"><pre>LinearRegression()</pre><b>In a Jupyter environment, please rerun this cell to show the HTML representation or trust the notebook. <br />On GitHub, the HTML representation is unable to render, please try loading this page with nbviewer.org.</b></div><div class=\"sk-container\" hidden><div class=\"sk-item\"><div class=\"sk-estimator fitted sk-toggleable\"><input class=\"sk-toggleable__control sk-hidden--visually\" id=\"sk-estimator-id-2\" type=\"checkbox\" checked><label for=\"sk-estimator-id-2\" class=\"sk-toggleable__label fitted sk-toggleable__label-arrow fitted\">&nbsp;&nbsp;LinearRegression<a class=\"sk-estimator-doc-link fitted\" rel=\"noreferrer\" target=\"_blank\" href=\"https://scikit-learn.org/1.4/modules/generated/sklearn.linear_model.LinearRegression.html\">?<span>Documentation for LinearRegression</span></a><span class=\"sk-estimator-doc-link fitted\">i<span>Fitted</span></span></label><div class=\"sk-toggleable__content fitted\"><pre>LinearRegression()</pre></div> </div></div></div></div>"
      ],
      "text/plain": [
       "LinearRegression()"
      ]
     },
     "execution_count": 52,
     "metadata": {},
     "output_type": "execute_result"
    }
   ],
   "source": [
    "%%time\n",
    "\n",
    "model_lr.fit(features_train_ohe, target_train)"
   ]
  },
  {
   "cell_type": "code",
   "execution_count": 53,
   "metadata": {},
   "outputs": [
    {
     "name": "stdout",
     "output_type": "stream",
     "text": [
      "CPU times: total: 344 ms\n",
      "Wall time: 373 ms\n"
     ]
    },
    {
     "data": {
      "text/plain": [
       "1934.3575633650917"
      ]
     },
     "execution_count": 53,
     "metadata": {},
     "output_type": "execute_result"
    }
   ],
   "source": [
    "%%time\n",
    "\n",
    "prediction_lr = model_lr.predict(features_test_ohe)\n",
    "final_RMSE_LR = mean_squared_error(target_test, prediction_lr) ** 0.5\n",
    "final_RMSE_LR"
   ]
  },
  {
   "cell_type": "markdown",
   "metadata": {},
   "source": [
    "### RandomForestRegressor"
   ]
  },
  {
   "cell_type": "code",
   "execution_count": 54,
   "metadata": {},
   "outputs": [
    {
     "name": "stdout",
     "output_type": "stream",
     "text": [
      "CPU times: total: 25.3 s\n",
      "Wall time: 26.6 s\n"
     ]
    },
    {
     "data": {
      "text/html": [
       "<style>#sk-container-id-3 {\n",
       "  /* Definition of color scheme common for light and dark mode */\n",
       "  --sklearn-color-text: black;\n",
       "  --sklearn-color-line: gray;\n",
       "  /* Definition of color scheme for unfitted estimators */\n",
       "  --sklearn-color-unfitted-level-0: #fff5e6;\n",
       "  --sklearn-color-unfitted-level-1: #f6e4d2;\n",
       "  --sklearn-color-unfitted-level-2: #ffe0b3;\n",
       "  --sklearn-color-unfitted-level-3: chocolate;\n",
       "  /* Definition of color scheme for fitted estimators */\n",
       "  --sklearn-color-fitted-level-0: #f0f8ff;\n",
       "  --sklearn-color-fitted-level-1: #d4ebff;\n",
       "  --sklearn-color-fitted-level-2: #b3dbfd;\n",
       "  --sklearn-color-fitted-level-3: cornflowerblue;\n",
       "\n",
       "  /* Specific color for light theme */\n",
       "  --sklearn-color-text-on-default-background: var(--sg-text-color, var(--theme-code-foreground, var(--jp-content-font-color1, black)));\n",
       "  --sklearn-color-background: var(--sg-background-color, var(--theme-background, var(--jp-layout-color0, white)));\n",
       "  --sklearn-color-border-box: var(--sg-text-color, var(--theme-code-foreground, var(--jp-content-font-color1, black)));\n",
       "  --sklearn-color-icon: #696969;\n",
       "\n",
       "  @media (prefers-color-scheme: dark) {\n",
       "    /* Redefinition of color scheme for dark theme */\n",
       "    --sklearn-color-text-on-default-background: var(--sg-text-color, var(--theme-code-foreground, var(--jp-content-font-color1, white)));\n",
       "    --sklearn-color-background: var(--sg-background-color, var(--theme-background, var(--jp-layout-color0, #111)));\n",
       "    --sklearn-color-border-box: var(--sg-text-color, var(--theme-code-foreground, var(--jp-content-font-color1, white)));\n",
       "    --sklearn-color-icon: #878787;\n",
       "  }\n",
       "}\n",
       "\n",
       "#sk-container-id-3 {\n",
       "  color: var(--sklearn-color-text);\n",
       "}\n",
       "\n",
       "#sk-container-id-3 pre {\n",
       "  padding: 0;\n",
       "}\n",
       "\n",
       "#sk-container-id-3 input.sk-hidden--visually {\n",
       "  border: 0;\n",
       "  clip: rect(1px 1px 1px 1px);\n",
       "  clip: rect(1px, 1px, 1px, 1px);\n",
       "  height: 1px;\n",
       "  margin: -1px;\n",
       "  overflow: hidden;\n",
       "  padding: 0;\n",
       "  position: absolute;\n",
       "  width: 1px;\n",
       "}\n",
       "\n",
       "#sk-container-id-3 div.sk-dashed-wrapped {\n",
       "  border: 1px dashed var(--sklearn-color-line);\n",
       "  margin: 0 0.4em 0.5em 0.4em;\n",
       "  box-sizing: border-box;\n",
       "  padding-bottom: 0.4em;\n",
       "  background-color: var(--sklearn-color-background);\n",
       "}\n",
       "\n",
       "#sk-container-id-3 div.sk-container {\n",
       "  /* jupyter's `normalize.less` sets `[hidden] { display: none; }`\n",
       "     but bootstrap.min.css set `[hidden] { display: none !important; }`\n",
       "     so we also need the `!important` here to be able to override the\n",
       "     default hidden behavior on the sphinx rendered scikit-learn.org.\n",
       "     See: https://github.com/scikit-learn/scikit-learn/issues/21755 */\n",
       "  display: inline-block !important;\n",
       "  position: relative;\n",
       "}\n",
       "\n",
       "#sk-container-id-3 div.sk-text-repr-fallback {\n",
       "  display: none;\n",
       "}\n",
       "\n",
       "div.sk-parallel-item,\n",
       "div.sk-serial,\n",
       "div.sk-item {\n",
       "  /* draw centered vertical line to link estimators */\n",
       "  background-image: linear-gradient(var(--sklearn-color-text-on-default-background), var(--sklearn-color-text-on-default-background));\n",
       "  background-size: 2px 100%;\n",
       "  background-repeat: no-repeat;\n",
       "  background-position: center center;\n",
       "}\n",
       "\n",
       "/* Parallel-specific style estimator block */\n",
       "\n",
       "#sk-container-id-3 div.sk-parallel-item::after {\n",
       "  content: \"\";\n",
       "  width: 100%;\n",
       "  border-bottom: 2px solid var(--sklearn-color-text-on-default-background);\n",
       "  flex-grow: 1;\n",
       "}\n",
       "\n",
       "#sk-container-id-3 div.sk-parallel {\n",
       "  display: flex;\n",
       "  align-items: stretch;\n",
       "  justify-content: center;\n",
       "  background-color: var(--sklearn-color-background);\n",
       "  position: relative;\n",
       "}\n",
       "\n",
       "#sk-container-id-3 div.sk-parallel-item {\n",
       "  display: flex;\n",
       "  flex-direction: column;\n",
       "}\n",
       "\n",
       "#sk-container-id-3 div.sk-parallel-item:first-child::after {\n",
       "  align-self: flex-end;\n",
       "  width: 50%;\n",
       "}\n",
       "\n",
       "#sk-container-id-3 div.sk-parallel-item:last-child::after {\n",
       "  align-self: flex-start;\n",
       "  width: 50%;\n",
       "}\n",
       "\n",
       "#sk-container-id-3 div.sk-parallel-item:only-child::after {\n",
       "  width: 0;\n",
       "}\n",
       "\n",
       "/* Serial-specific style estimator block */\n",
       "\n",
       "#sk-container-id-3 div.sk-serial {\n",
       "  display: flex;\n",
       "  flex-direction: column;\n",
       "  align-items: center;\n",
       "  background-color: var(--sklearn-color-background);\n",
       "  padding-right: 1em;\n",
       "  padding-left: 1em;\n",
       "}\n",
       "\n",
       "\n",
       "/* Toggleable style: style used for estimator/Pipeline/ColumnTransformer box that is\n",
       "clickable and can be expanded/collapsed.\n",
       "- Pipeline and ColumnTransformer use this feature and define the default style\n",
       "- Estimators will overwrite some part of the style using the `sk-estimator` class\n",
       "*/\n",
       "\n",
       "/* Pipeline and ColumnTransformer style (default) */\n",
       "\n",
       "#sk-container-id-3 div.sk-toggleable {\n",
       "  /* Default theme specific background. It is overwritten whether we have a\n",
       "  specific estimator or a Pipeline/ColumnTransformer */\n",
       "  background-color: var(--sklearn-color-background);\n",
       "}\n",
       "\n",
       "/* Toggleable label */\n",
       "#sk-container-id-3 label.sk-toggleable__label {\n",
       "  cursor: pointer;\n",
       "  display: block;\n",
       "  width: 100%;\n",
       "  margin-bottom: 0;\n",
       "  padding: 0.5em;\n",
       "  box-sizing: border-box;\n",
       "  text-align: center;\n",
       "}\n",
       "\n",
       "#sk-container-id-3 label.sk-toggleable__label-arrow:before {\n",
       "  /* Arrow on the left of the label */\n",
       "  content: \"▸\";\n",
       "  float: left;\n",
       "  margin-right: 0.25em;\n",
       "  color: var(--sklearn-color-icon);\n",
       "}\n",
       "\n",
       "#sk-container-id-3 label.sk-toggleable__label-arrow:hover:before {\n",
       "  color: var(--sklearn-color-text);\n",
       "}\n",
       "\n",
       "/* Toggleable content - dropdown */\n",
       "\n",
       "#sk-container-id-3 div.sk-toggleable__content {\n",
       "  max-height: 0;\n",
       "  max-width: 0;\n",
       "  overflow: hidden;\n",
       "  text-align: left;\n",
       "  /* unfitted */\n",
       "  background-color: var(--sklearn-color-unfitted-level-0);\n",
       "}\n",
       "\n",
       "#sk-container-id-3 div.sk-toggleable__content.fitted {\n",
       "  /* fitted */\n",
       "  background-color: var(--sklearn-color-fitted-level-0);\n",
       "}\n",
       "\n",
       "#sk-container-id-3 div.sk-toggleable__content pre {\n",
       "  margin: 0.2em;\n",
       "  border-radius: 0.25em;\n",
       "  color: var(--sklearn-color-text);\n",
       "  /* unfitted */\n",
       "  background-color: var(--sklearn-color-unfitted-level-0);\n",
       "}\n",
       "\n",
       "#sk-container-id-3 div.sk-toggleable__content.fitted pre {\n",
       "  /* unfitted */\n",
       "  background-color: var(--sklearn-color-fitted-level-0);\n",
       "}\n",
       "\n",
       "#sk-container-id-3 input.sk-toggleable__control:checked~div.sk-toggleable__content {\n",
       "  /* Expand drop-down */\n",
       "  max-height: 200px;\n",
       "  max-width: 100%;\n",
       "  overflow: auto;\n",
       "}\n",
       "\n",
       "#sk-container-id-3 input.sk-toggleable__control:checked~label.sk-toggleable__label-arrow:before {\n",
       "  content: \"▾\";\n",
       "}\n",
       "\n",
       "/* Pipeline/ColumnTransformer-specific style */\n",
       "\n",
       "#sk-container-id-3 div.sk-label input.sk-toggleable__control:checked~label.sk-toggleable__label {\n",
       "  color: var(--sklearn-color-text);\n",
       "  background-color: var(--sklearn-color-unfitted-level-2);\n",
       "}\n",
       "\n",
       "#sk-container-id-3 div.sk-label.fitted input.sk-toggleable__control:checked~label.sk-toggleable__label {\n",
       "  background-color: var(--sklearn-color-fitted-level-2);\n",
       "}\n",
       "\n",
       "/* Estimator-specific style */\n",
       "\n",
       "/* Colorize estimator box */\n",
       "#sk-container-id-3 div.sk-estimator input.sk-toggleable__control:checked~label.sk-toggleable__label {\n",
       "  /* unfitted */\n",
       "  background-color: var(--sklearn-color-unfitted-level-2);\n",
       "}\n",
       "\n",
       "#sk-container-id-3 div.sk-estimator.fitted input.sk-toggleable__control:checked~label.sk-toggleable__label {\n",
       "  /* fitted */\n",
       "  background-color: var(--sklearn-color-fitted-level-2);\n",
       "}\n",
       "\n",
       "#sk-container-id-3 div.sk-label label.sk-toggleable__label,\n",
       "#sk-container-id-3 div.sk-label label {\n",
       "  /* The background is the default theme color */\n",
       "  color: var(--sklearn-color-text-on-default-background);\n",
       "}\n",
       "\n",
       "/* On hover, darken the color of the background */\n",
       "#sk-container-id-3 div.sk-label:hover label.sk-toggleable__label {\n",
       "  color: var(--sklearn-color-text);\n",
       "  background-color: var(--sklearn-color-unfitted-level-2);\n",
       "}\n",
       "\n",
       "/* Label box, darken color on hover, fitted */\n",
       "#sk-container-id-3 div.sk-label.fitted:hover label.sk-toggleable__label.fitted {\n",
       "  color: var(--sklearn-color-text);\n",
       "  background-color: var(--sklearn-color-fitted-level-2);\n",
       "}\n",
       "\n",
       "/* Estimator label */\n",
       "\n",
       "#sk-container-id-3 div.sk-label label {\n",
       "  font-family: monospace;\n",
       "  font-weight: bold;\n",
       "  display: inline-block;\n",
       "  line-height: 1.2em;\n",
       "}\n",
       "\n",
       "#sk-container-id-3 div.sk-label-container {\n",
       "  text-align: center;\n",
       "}\n",
       "\n",
       "/* Estimator-specific */\n",
       "#sk-container-id-3 div.sk-estimator {\n",
       "  font-family: monospace;\n",
       "  border: 1px dotted var(--sklearn-color-border-box);\n",
       "  border-radius: 0.25em;\n",
       "  box-sizing: border-box;\n",
       "  margin-bottom: 0.5em;\n",
       "  /* unfitted */\n",
       "  background-color: var(--sklearn-color-unfitted-level-0);\n",
       "}\n",
       "\n",
       "#sk-container-id-3 div.sk-estimator.fitted {\n",
       "  /* fitted */\n",
       "  background-color: var(--sklearn-color-fitted-level-0);\n",
       "}\n",
       "\n",
       "/* on hover */\n",
       "#sk-container-id-3 div.sk-estimator:hover {\n",
       "  /* unfitted */\n",
       "  background-color: var(--sklearn-color-unfitted-level-2);\n",
       "}\n",
       "\n",
       "#sk-container-id-3 div.sk-estimator.fitted:hover {\n",
       "  /* fitted */\n",
       "  background-color: var(--sklearn-color-fitted-level-2);\n",
       "}\n",
       "\n",
       "/* Specification for estimator info (e.g. \"i\" and \"?\") */\n",
       "\n",
       "/* Common style for \"i\" and \"?\" */\n",
       "\n",
       ".sk-estimator-doc-link,\n",
       "a:link.sk-estimator-doc-link,\n",
       "a:visited.sk-estimator-doc-link {\n",
       "  float: right;\n",
       "  font-size: smaller;\n",
       "  line-height: 1em;\n",
       "  font-family: monospace;\n",
       "  background-color: var(--sklearn-color-background);\n",
       "  border-radius: 1em;\n",
       "  height: 1em;\n",
       "  width: 1em;\n",
       "  text-decoration: none !important;\n",
       "  margin-left: 1ex;\n",
       "  /* unfitted */\n",
       "  border: var(--sklearn-color-unfitted-level-1) 1pt solid;\n",
       "  color: var(--sklearn-color-unfitted-level-1);\n",
       "}\n",
       "\n",
       ".sk-estimator-doc-link.fitted,\n",
       "a:link.sk-estimator-doc-link.fitted,\n",
       "a:visited.sk-estimator-doc-link.fitted {\n",
       "  /* fitted */\n",
       "  border: var(--sklearn-color-fitted-level-1) 1pt solid;\n",
       "  color: var(--sklearn-color-fitted-level-1);\n",
       "}\n",
       "\n",
       "/* On hover */\n",
       "div.sk-estimator:hover .sk-estimator-doc-link:hover,\n",
       ".sk-estimator-doc-link:hover,\n",
       "div.sk-label-container:hover .sk-estimator-doc-link:hover,\n",
       ".sk-estimator-doc-link:hover {\n",
       "  /* unfitted */\n",
       "  background-color: var(--sklearn-color-unfitted-level-3);\n",
       "  color: var(--sklearn-color-background);\n",
       "  text-decoration: none;\n",
       "}\n",
       "\n",
       "div.sk-estimator.fitted:hover .sk-estimator-doc-link.fitted:hover,\n",
       ".sk-estimator-doc-link.fitted:hover,\n",
       "div.sk-label-container:hover .sk-estimator-doc-link.fitted:hover,\n",
       ".sk-estimator-doc-link.fitted:hover {\n",
       "  /* fitted */\n",
       "  background-color: var(--sklearn-color-fitted-level-3);\n",
       "  color: var(--sklearn-color-background);\n",
       "  text-decoration: none;\n",
       "}\n",
       "\n",
       "/* Span, style for the box shown on hovering the info icon */\n",
       ".sk-estimator-doc-link span {\n",
       "  display: none;\n",
       "  z-index: 9999;\n",
       "  position: relative;\n",
       "  font-weight: normal;\n",
       "  right: .2ex;\n",
       "  padding: .5ex;\n",
       "  margin: .5ex;\n",
       "  width: min-content;\n",
       "  min-width: 20ex;\n",
       "  max-width: 50ex;\n",
       "  color: var(--sklearn-color-text);\n",
       "  box-shadow: 2pt 2pt 4pt #999;\n",
       "  /* unfitted */\n",
       "  background: var(--sklearn-color-unfitted-level-0);\n",
       "  border: .5pt solid var(--sklearn-color-unfitted-level-3);\n",
       "}\n",
       "\n",
       ".sk-estimator-doc-link.fitted span {\n",
       "  /* fitted */\n",
       "  background: var(--sklearn-color-fitted-level-0);\n",
       "  border: var(--sklearn-color-fitted-level-3);\n",
       "}\n",
       "\n",
       ".sk-estimator-doc-link:hover span {\n",
       "  display: block;\n",
       "}\n",
       "\n",
       "/* \"?\"-specific style due to the `<a>` HTML tag */\n",
       "\n",
       "#sk-container-id-3 a.estimator_doc_link {\n",
       "  float: right;\n",
       "  font-size: 1rem;\n",
       "  line-height: 1em;\n",
       "  font-family: monospace;\n",
       "  background-color: var(--sklearn-color-background);\n",
       "  border-radius: 1rem;\n",
       "  height: 1rem;\n",
       "  width: 1rem;\n",
       "  text-decoration: none;\n",
       "  /* unfitted */\n",
       "  color: var(--sklearn-color-unfitted-level-1);\n",
       "  border: var(--sklearn-color-unfitted-level-1) 1pt solid;\n",
       "}\n",
       "\n",
       "#sk-container-id-3 a.estimator_doc_link.fitted {\n",
       "  /* fitted */\n",
       "  border: var(--sklearn-color-fitted-level-1) 1pt solid;\n",
       "  color: var(--sklearn-color-fitted-level-1);\n",
       "}\n",
       "\n",
       "/* On hover */\n",
       "#sk-container-id-3 a.estimator_doc_link:hover {\n",
       "  /* unfitted */\n",
       "  background-color: var(--sklearn-color-unfitted-level-3);\n",
       "  color: var(--sklearn-color-background);\n",
       "  text-decoration: none;\n",
       "}\n",
       "\n",
       "#sk-container-id-3 a.estimator_doc_link.fitted:hover {\n",
       "  /* fitted */\n",
       "  background-color: var(--sklearn-color-fitted-level-3);\n",
       "}\n",
       "</style><div id=\"sk-container-id-3\" class=\"sk-top-container\"><div class=\"sk-text-repr-fallback\"><pre>RandomForestRegressor(max_depth=15, n_estimators=40, random_state=123)</pre><b>In a Jupyter environment, please rerun this cell to show the HTML representation or trust the notebook. <br />On GitHub, the HTML representation is unable to render, please try loading this page with nbviewer.org.</b></div><div class=\"sk-container\" hidden><div class=\"sk-item\"><div class=\"sk-estimator fitted sk-toggleable\"><input class=\"sk-toggleable__control sk-hidden--visually\" id=\"sk-estimator-id-3\" type=\"checkbox\" checked><label for=\"sk-estimator-id-3\" class=\"sk-toggleable__label fitted sk-toggleable__label-arrow fitted\">&nbsp;&nbsp;RandomForestRegressor<a class=\"sk-estimator-doc-link fitted\" rel=\"noreferrer\" target=\"_blank\" href=\"https://scikit-learn.org/1.4/modules/generated/sklearn.ensemble.RandomForestRegressor.html\">?<span>Documentation for RandomForestRegressor</span></a><span class=\"sk-estimator-doc-link fitted\">i<span>Fitted</span></span></label><div class=\"sk-toggleable__content fitted\"><pre>RandomForestRegressor(max_depth=15, n_estimators=40, random_state=123)</pre></div> </div></div></div></div>"
      ],
      "text/plain": [
       "RandomForestRegressor(max_depth=15, n_estimators=40, random_state=123)"
      ]
     },
     "execution_count": 54,
     "metadata": {},
     "output_type": "execute_result"
    }
   ],
   "source": [
    "%%time\n",
    "\n",
    "model_rf.fit(features_train, target_train)"
   ]
  },
  {
   "cell_type": "code",
   "execution_count": 55,
   "metadata": {},
   "outputs": [
    {
     "name": "stdout",
     "output_type": "stream",
     "text": [
      "CPU times: total: 844 ms\n",
      "Wall time: 935 ms\n"
     ]
    },
    {
     "data": {
      "text/plain": [
       "1332.0633449780328"
      ]
     },
     "execution_count": 55,
     "metadata": {},
     "output_type": "execute_result"
    }
   ],
   "source": [
    "%%time\n",
    "\n",
    "prediction_rf = model_rf.predict(features_test)\n",
    "final_RMSE_RF = mean_squared_error(target_test, prediction_rf) ** 0.5\n",
    "final_RMSE_RF"
   ]
  },
  {
   "cell_type": "markdown",
   "metadata": {},
   "source": [
    "### LightGBMRegressor"
   ]
  },
  {
   "cell_type": "code",
   "execution_count": 56,
   "metadata": {},
   "outputs": [
    {
     "name": "stdout",
     "output_type": "stream",
     "text": [
      "[LightGBM] [Info] Auto-choosing row-wise multi-threading, the overhead of testing was 0.008555 seconds.\n",
      "You can set `force_row_wise=true` to remove the overhead.\n",
      "And if memory is not enough, you can set `force_col_wise=true`.\n",
      "[LightGBM] [Info] Total Bins 601\n",
      "[LightGBM] [Info] Number of data points in the train set: 158362, number of used features: 9\n",
      "[LightGBM] [Info] Start training from score 4272.233105\n",
      "CPU times: total: 3.44 s\n",
      "Wall time: 1.46 s\n"
     ]
    },
    {
     "data": {
      "text/html": [
       "<style>#sk-container-id-4 {\n",
       "  /* Definition of color scheme common for light and dark mode */\n",
       "  --sklearn-color-text: black;\n",
       "  --sklearn-color-line: gray;\n",
       "  /* Definition of color scheme for unfitted estimators */\n",
       "  --sklearn-color-unfitted-level-0: #fff5e6;\n",
       "  --sklearn-color-unfitted-level-1: #f6e4d2;\n",
       "  --sklearn-color-unfitted-level-2: #ffe0b3;\n",
       "  --sklearn-color-unfitted-level-3: chocolate;\n",
       "  /* Definition of color scheme for fitted estimators */\n",
       "  --sklearn-color-fitted-level-0: #f0f8ff;\n",
       "  --sklearn-color-fitted-level-1: #d4ebff;\n",
       "  --sklearn-color-fitted-level-2: #b3dbfd;\n",
       "  --sklearn-color-fitted-level-3: cornflowerblue;\n",
       "\n",
       "  /* Specific color for light theme */\n",
       "  --sklearn-color-text-on-default-background: var(--sg-text-color, var(--theme-code-foreground, var(--jp-content-font-color1, black)));\n",
       "  --sklearn-color-background: var(--sg-background-color, var(--theme-background, var(--jp-layout-color0, white)));\n",
       "  --sklearn-color-border-box: var(--sg-text-color, var(--theme-code-foreground, var(--jp-content-font-color1, black)));\n",
       "  --sklearn-color-icon: #696969;\n",
       "\n",
       "  @media (prefers-color-scheme: dark) {\n",
       "    /* Redefinition of color scheme for dark theme */\n",
       "    --sklearn-color-text-on-default-background: var(--sg-text-color, var(--theme-code-foreground, var(--jp-content-font-color1, white)));\n",
       "    --sklearn-color-background: var(--sg-background-color, var(--theme-background, var(--jp-layout-color0, #111)));\n",
       "    --sklearn-color-border-box: var(--sg-text-color, var(--theme-code-foreground, var(--jp-content-font-color1, white)));\n",
       "    --sklearn-color-icon: #878787;\n",
       "  }\n",
       "}\n",
       "\n",
       "#sk-container-id-4 {\n",
       "  color: var(--sklearn-color-text);\n",
       "}\n",
       "\n",
       "#sk-container-id-4 pre {\n",
       "  padding: 0;\n",
       "}\n",
       "\n",
       "#sk-container-id-4 input.sk-hidden--visually {\n",
       "  border: 0;\n",
       "  clip: rect(1px 1px 1px 1px);\n",
       "  clip: rect(1px, 1px, 1px, 1px);\n",
       "  height: 1px;\n",
       "  margin: -1px;\n",
       "  overflow: hidden;\n",
       "  padding: 0;\n",
       "  position: absolute;\n",
       "  width: 1px;\n",
       "}\n",
       "\n",
       "#sk-container-id-4 div.sk-dashed-wrapped {\n",
       "  border: 1px dashed var(--sklearn-color-line);\n",
       "  margin: 0 0.4em 0.5em 0.4em;\n",
       "  box-sizing: border-box;\n",
       "  padding-bottom: 0.4em;\n",
       "  background-color: var(--sklearn-color-background);\n",
       "}\n",
       "\n",
       "#sk-container-id-4 div.sk-container {\n",
       "  /* jupyter's `normalize.less` sets `[hidden] { display: none; }`\n",
       "     but bootstrap.min.css set `[hidden] { display: none !important; }`\n",
       "     so we also need the `!important` here to be able to override the\n",
       "     default hidden behavior on the sphinx rendered scikit-learn.org.\n",
       "     See: https://github.com/scikit-learn/scikit-learn/issues/21755 */\n",
       "  display: inline-block !important;\n",
       "  position: relative;\n",
       "}\n",
       "\n",
       "#sk-container-id-4 div.sk-text-repr-fallback {\n",
       "  display: none;\n",
       "}\n",
       "\n",
       "div.sk-parallel-item,\n",
       "div.sk-serial,\n",
       "div.sk-item {\n",
       "  /* draw centered vertical line to link estimators */\n",
       "  background-image: linear-gradient(var(--sklearn-color-text-on-default-background), var(--sklearn-color-text-on-default-background));\n",
       "  background-size: 2px 100%;\n",
       "  background-repeat: no-repeat;\n",
       "  background-position: center center;\n",
       "}\n",
       "\n",
       "/* Parallel-specific style estimator block */\n",
       "\n",
       "#sk-container-id-4 div.sk-parallel-item::after {\n",
       "  content: \"\";\n",
       "  width: 100%;\n",
       "  border-bottom: 2px solid var(--sklearn-color-text-on-default-background);\n",
       "  flex-grow: 1;\n",
       "}\n",
       "\n",
       "#sk-container-id-4 div.sk-parallel {\n",
       "  display: flex;\n",
       "  align-items: stretch;\n",
       "  justify-content: center;\n",
       "  background-color: var(--sklearn-color-background);\n",
       "  position: relative;\n",
       "}\n",
       "\n",
       "#sk-container-id-4 div.sk-parallel-item {\n",
       "  display: flex;\n",
       "  flex-direction: column;\n",
       "}\n",
       "\n",
       "#sk-container-id-4 div.sk-parallel-item:first-child::after {\n",
       "  align-self: flex-end;\n",
       "  width: 50%;\n",
       "}\n",
       "\n",
       "#sk-container-id-4 div.sk-parallel-item:last-child::after {\n",
       "  align-self: flex-start;\n",
       "  width: 50%;\n",
       "}\n",
       "\n",
       "#sk-container-id-4 div.sk-parallel-item:only-child::after {\n",
       "  width: 0;\n",
       "}\n",
       "\n",
       "/* Serial-specific style estimator block */\n",
       "\n",
       "#sk-container-id-4 div.sk-serial {\n",
       "  display: flex;\n",
       "  flex-direction: column;\n",
       "  align-items: center;\n",
       "  background-color: var(--sklearn-color-background);\n",
       "  padding-right: 1em;\n",
       "  padding-left: 1em;\n",
       "}\n",
       "\n",
       "\n",
       "/* Toggleable style: style used for estimator/Pipeline/ColumnTransformer box that is\n",
       "clickable and can be expanded/collapsed.\n",
       "- Pipeline and ColumnTransformer use this feature and define the default style\n",
       "- Estimators will overwrite some part of the style using the `sk-estimator` class\n",
       "*/\n",
       "\n",
       "/* Pipeline and ColumnTransformer style (default) */\n",
       "\n",
       "#sk-container-id-4 div.sk-toggleable {\n",
       "  /* Default theme specific background. It is overwritten whether we have a\n",
       "  specific estimator or a Pipeline/ColumnTransformer */\n",
       "  background-color: var(--sklearn-color-background);\n",
       "}\n",
       "\n",
       "/* Toggleable label */\n",
       "#sk-container-id-4 label.sk-toggleable__label {\n",
       "  cursor: pointer;\n",
       "  display: block;\n",
       "  width: 100%;\n",
       "  margin-bottom: 0;\n",
       "  padding: 0.5em;\n",
       "  box-sizing: border-box;\n",
       "  text-align: center;\n",
       "}\n",
       "\n",
       "#sk-container-id-4 label.sk-toggleable__label-arrow:before {\n",
       "  /* Arrow on the left of the label */\n",
       "  content: \"▸\";\n",
       "  float: left;\n",
       "  margin-right: 0.25em;\n",
       "  color: var(--sklearn-color-icon);\n",
       "}\n",
       "\n",
       "#sk-container-id-4 label.sk-toggleable__label-arrow:hover:before {\n",
       "  color: var(--sklearn-color-text);\n",
       "}\n",
       "\n",
       "/* Toggleable content - dropdown */\n",
       "\n",
       "#sk-container-id-4 div.sk-toggleable__content {\n",
       "  max-height: 0;\n",
       "  max-width: 0;\n",
       "  overflow: hidden;\n",
       "  text-align: left;\n",
       "  /* unfitted */\n",
       "  background-color: var(--sklearn-color-unfitted-level-0);\n",
       "}\n",
       "\n",
       "#sk-container-id-4 div.sk-toggleable__content.fitted {\n",
       "  /* fitted */\n",
       "  background-color: var(--sklearn-color-fitted-level-0);\n",
       "}\n",
       "\n",
       "#sk-container-id-4 div.sk-toggleable__content pre {\n",
       "  margin: 0.2em;\n",
       "  border-radius: 0.25em;\n",
       "  color: var(--sklearn-color-text);\n",
       "  /* unfitted */\n",
       "  background-color: var(--sklearn-color-unfitted-level-0);\n",
       "}\n",
       "\n",
       "#sk-container-id-4 div.sk-toggleable__content.fitted pre {\n",
       "  /* unfitted */\n",
       "  background-color: var(--sklearn-color-fitted-level-0);\n",
       "}\n",
       "\n",
       "#sk-container-id-4 input.sk-toggleable__control:checked~div.sk-toggleable__content {\n",
       "  /* Expand drop-down */\n",
       "  max-height: 200px;\n",
       "  max-width: 100%;\n",
       "  overflow: auto;\n",
       "}\n",
       "\n",
       "#sk-container-id-4 input.sk-toggleable__control:checked~label.sk-toggleable__label-arrow:before {\n",
       "  content: \"▾\";\n",
       "}\n",
       "\n",
       "/* Pipeline/ColumnTransformer-specific style */\n",
       "\n",
       "#sk-container-id-4 div.sk-label input.sk-toggleable__control:checked~label.sk-toggleable__label {\n",
       "  color: var(--sklearn-color-text);\n",
       "  background-color: var(--sklearn-color-unfitted-level-2);\n",
       "}\n",
       "\n",
       "#sk-container-id-4 div.sk-label.fitted input.sk-toggleable__control:checked~label.sk-toggleable__label {\n",
       "  background-color: var(--sklearn-color-fitted-level-2);\n",
       "}\n",
       "\n",
       "/* Estimator-specific style */\n",
       "\n",
       "/* Colorize estimator box */\n",
       "#sk-container-id-4 div.sk-estimator input.sk-toggleable__control:checked~label.sk-toggleable__label {\n",
       "  /* unfitted */\n",
       "  background-color: var(--sklearn-color-unfitted-level-2);\n",
       "}\n",
       "\n",
       "#sk-container-id-4 div.sk-estimator.fitted input.sk-toggleable__control:checked~label.sk-toggleable__label {\n",
       "  /* fitted */\n",
       "  background-color: var(--sklearn-color-fitted-level-2);\n",
       "}\n",
       "\n",
       "#sk-container-id-4 div.sk-label label.sk-toggleable__label,\n",
       "#sk-container-id-4 div.sk-label label {\n",
       "  /* The background is the default theme color */\n",
       "  color: var(--sklearn-color-text-on-default-background);\n",
       "}\n",
       "\n",
       "/* On hover, darken the color of the background */\n",
       "#sk-container-id-4 div.sk-label:hover label.sk-toggleable__label {\n",
       "  color: var(--sklearn-color-text);\n",
       "  background-color: var(--sklearn-color-unfitted-level-2);\n",
       "}\n",
       "\n",
       "/* Label box, darken color on hover, fitted */\n",
       "#sk-container-id-4 div.sk-label.fitted:hover label.sk-toggleable__label.fitted {\n",
       "  color: var(--sklearn-color-text);\n",
       "  background-color: var(--sklearn-color-fitted-level-2);\n",
       "}\n",
       "\n",
       "/* Estimator label */\n",
       "\n",
       "#sk-container-id-4 div.sk-label label {\n",
       "  font-family: monospace;\n",
       "  font-weight: bold;\n",
       "  display: inline-block;\n",
       "  line-height: 1.2em;\n",
       "}\n",
       "\n",
       "#sk-container-id-4 div.sk-label-container {\n",
       "  text-align: center;\n",
       "}\n",
       "\n",
       "/* Estimator-specific */\n",
       "#sk-container-id-4 div.sk-estimator {\n",
       "  font-family: monospace;\n",
       "  border: 1px dotted var(--sklearn-color-border-box);\n",
       "  border-radius: 0.25em;\n",
       "  box-sizing: border-box;\n",
       "  margin-bottom: 0.5em;\n",
       "  /* unfitted */\n",
       "  background-color: var(--sklearn-color-unfitted-level-0);\n",
       "}\n",
       "\n",
       "#sk-container-id-4 div.sk-estimator.fitted {\n",
       "  /* fitted */\n",
       "  background-color: var(--sklearn-color-fitted-level-0);\n",
       "}\n",
       "\n",
       "/* on hover */\n",
       "#sk-container-id-4 div.sk-estimator:hover {\n",
       "  /* unfitted */\n",
       "  background-color: var(--sklearn-color-unfitted-level-2);\n",
       "}\n",
       "\n",
       "#sk-container-id-4 div.sk-estimator.fitted:hover {\n",
       "  /* fitted */\n",
       "  background-color: var(--sklearn-color-fitted-level-2);\n",
       "}\n",
       "\n",
       "/* Specification for estimator info (e.g. \"i\" and \"?\") */\n",
       "\n",
       "/* Common style for \"i\" and \"?\" */\n",
       "\n",
       ".sk-estimator-doc-link,\n",
       "a:link.sk-estimator-doc-link,\n",
       "a:visited.sk-estimator-doc-link {\n",
       "  float: right;\n",
       "  font-size: smaller;\n",
       "  line-height: 1em;\n",
       "  font-family: monospace;\n",
       "  background-color: var(--sklearn-color-background);\n",
       "  border-radius: 1em;\n",
       "  height: 1em;\n",
       "  width: 1em;\n",
       "  text-decoration: none !important;\n",
       "  margin-left: 1ex;\n",
       "  /* unfitted */\n",
       "  border: var(--sklearn-color-unfitted-level-1) 1pt solid;\n",
       "  color: var(--sklearn-color-unfitted-level-1);\n",
       "}\n",
       "\n",
       ".sk-estimator-doc-link.fitted,\n",
       "a:link.sk-estimator-doc-link.fitted,\n",
       "a:visited.sk-estimator-doc-link.fitted {\n",
       "  /* fitted */\n",
       "  border: var(--sklearn-color-fitted-level-1) 1pt solid;\n",
       "  color: var(--sklearn-color-fitted-level-1);\n",
       "}\n",
       "\n",
       "/* On hover */\n",
       "div.sk-estimator:hover .sk-estimator-doc-link:hover,\n",
       ".sk-estimator-doc-link:hover,\n",
       "div.sk-label-container:hover .sk-estimator-doc-link:hover,\n",
       ".sk-estimator-doc-link:hover {\n",
       "  /* unfitted */\n",
       "  background-color: var(--sklearn-color-unfitted-level-3);\n",
       "  color: var(--sklearn-color-background);\n",
       "  text-decoration: none;\n",
       "}\n",
       "\n",
       "div.sk-estimator.fitted:hover .sk-estimator-doc-link.fitted:hover,\n",
       ".sk-estimator-doc-link.fitted:hover,\n",
       "div.sk-label-container:hover .sk-estimator-doc-link.fitted:hover,\n",
       ".sk-estimator-doc-link.fitted:hover {\n",
       "  /* fitted */\n",
       "  background-color: var(--sklearn-color-fitted-level-3);\n",
       "  color: var(--sklearn-color-background);\n",
       "  text-decoration: none;\n",
       "}\n",
       "\n",
       "/* Span, style for the box shown on hovering the info icon */\n",
       ".sk-estimator-doc-link span {\n",
       "  display: none;\n",
       "  z-index: 9999;\n",
       "  position: relative;\n",
       "  font-weight: normal;\n",
       "  right: .2ex;\n",
       "  padding: .5ex;\n",
       "  margin: .5ex;\n",
       "  width: min-content;\n",
       "  min-width: 20ex;\n",
       "  max-width: 50ex;\n",
       "  color: var(--sklearn-color-text);\n",
       "  box-shadow: 2pt 2pt 4pt #999;\n",
       "  /* unfitted */\n",
       "  background: var(--sklearn-color-unfitted-level-0);\n",
       "  border: .5pt solid var(--sklearn-color-unfitted-level-3);\n",
       "}\n",
       "\n",
       ".sk-estimator-doc-link.fitted span {\n",
       "  /* fitted */\n",
       "  background: var(--sklearn-color-fitted-level-0);\n",
       "  border: var(--sklearn-color-fitted-level-3);\n",
       "}\n",
       "\n",
       ".sk-estimator-doc-link:hover span {\n",
       "  display: block;\n",
       "}\n",
       "\n",
       "/* \"?\"-specific style due to the `<a>` HTML tag */\n",
       "\n",
       "#sk-container-id-4 a.estimator_doc_link {\n",
       "  float: right;\n",
       "  font-size: 1rem;\n",
       "  line-height: 1em;\n",
       "  font-family: monospace;\n",
       "  background-color: var(--sklearn-color-background);\n",
       "  border-radius: 1rem;\n",
       "  height: 1rem;\n",
       "  width: 1rem;\n",
       "  text-decoration: none;\n",
       "  /* unfitted */\n",
       "  color: var(--sklearn-color-unfitted-level-1);\n",
       "  border: var(--sklearn-color-unfitted-level-1) 1pt solid;\n",
       "}\n",
       "\n",
       "#sk-container-id-4 a.estimator_doc_link.fitted {\n",
       "  /* fitted */\n",
       "  border: var(--sklearn-color-fitted-level-1) 1pt solid;\n",
       "  color: var(--sklearn-color-fitted-level-1);\n",
       "}\n",
       "\n",
       "/* On hover */\n",
       "#sk-container-id-4 a.estimator_doc_link:hover {\n",
       "  /* unfitted */\n",
       "  background-color: var(--sklearn-color-unfitted-level-3);\n",
       "  color: var(--sklearn-color-background);\n",
       "  text-decoration: none;\n",
       "}\n",
       "\n",
       "#sk-container-id-4 a.estimator_doc_link.fitted:hover {\n",
       "  /* fitted */\n",
       "  background-color: var(--sklearn-color-fitted-level-3);\n",
       "}\n",
       "</style><div id=\"sk-container-id-4\" class=\"sk-top-container\"><div class=\"sk-text-repr-fallback\"><pre>LGBMRegressor(learning_rate=0.3, num_leaves=100, random_state=123)</pre><b>In a Jupyter environment, please rerun this cell to show the HTML representation or trust the notebook. <br />On GitHub, the HTML representation is unable to render, please try loading this page with nbviewer.org.</b></div><div class=\"sk-container\" hidden><div class=\"sk-item\"><div class=\"sk-estimator fitted sk-toggleable\"><input class=\"sk-toggleable__control sk-hidden--visually\" id=\"sk-estimator-id-4\" type=\"checkbox\" checked><label for=\"sk-estimator-id-4\" class=\"sk-toggleable__label fitted sk-toggleable__label-arrow fitted\">&nbsp;LGBMRegressor<span class=\"sk-estimator-doc-link fitted\">i<span>Fitted</span></span></label><div class=\"sk-toggleable__content fitted\"><pre>LGBMRegressor(learning_rate=0.3, num_leaves=100, random_state=123)</pre></div> </div></div></div></div>"
      ],
      "text/plain": [
       "LGBMRegressor(learning_rate=0.3, num_leaves=100, random_state=123)"
      ]
     },
     "execution_count": 56,
     "metadata": {},
     "output_type": "execute_result"
    }
   ],
   "source": [
    "%%time\n",
    "\n",
    "model_lgbmr = LGBMRegressor(learning_rate=.3, num_leaves=100, random_state=123)\n",
    "model_lgbmr.fit(features_train, target_train)"
   ]
  },
  {
   "cell_type": "code",
   "execution_count": 57,
   "metadata": {},
   "outputs": [
    {
     "name": "stdout",
     "output_type": "stream",
     "text": [
      "CPU times: total: 609 ms\n",
      "Wall time: 192 ms\n"
     ]
    },
    {
     "data": {
      "text/plain": [
       "1332.0633449780328"
      ]
     },
     "execution_count": 57,
     "metadata": {},
     "output_type": "execute_result"
    }
   ],
   "source": [
    "%%time\n",
    "\n",
    "prediction_lgbmr = model_lgbmr.predict(features_test)\n",
    "final_RMSE_LGBMR = mean_squared_error(target_test, prediction_rf) ** 0.5\n",
    "final_RMSE_LGBMR"
   ]
  },
  {
   "cell_type": "markdown",
   "metadata": {},
   "source": [
    "Соберем сводную таблицу с показателями всех моделей и сравним их между собой с помощью рейтинга - для этого каждый из показателей умножим на 1/3 (так как все 3 показателя - метрика RMSE, время обучения и предсказания - для нас в приоритете). Сложим вместе резульаты по каждой модели, чтобы получился коэффициент, по которому можно будет делать окончательные выводы."
   ]
  },
  {
   "cell_type": "code",
   "execution_count": 58,
   "metadata": {
    "scrolled": true
   },
   "outputs": [
    {
     "data": {
      "text/html": [
       "<div>\n",
       "<style scoped>\n",
       "    .dataframe tbody tr th:only-of-type {\n",
       "        vertical-align: middle;\n",
       "    }\n",
       "\n",
       "    .dataframe tbody tr th {\n",
       "        vertical-align: top;\n",
       "    }\n",
       "\n",
       "    .dataframe thead th {\n",
       "        text-align: right;\n",
       "    }\n",
       "</style>\n",
       "<table border=\"1\" class=\"dataframe\">\n",
       "  <thead>\n",
       "    <tr style=\"text-align: right;\">\n",
       "      <th></th>\n",
       "      <th>RMSE</th>\n",
       "      <th>Время обучения модели</th>\n",
       "      <th>Время предсказания модели</th>\n",
       "      <th>Рейтинг</th>\n",
       "    </tr>\n",
       "  </thead>\n",
       "  <tbody>\n",
       "    <tr>\n",
       "      <th>LGBMRegressor</th>\n",
       "      <td>1332.063345</td>\n",
       "      <td>1.17</td>\n",
       "      <td>0.2340</td>\n",
       "      <td>453.364857</td>\n",
       "    </tr>\n",
       "    <tr>\n",
       "      <th>RandomForestRegressor</th>\n",
       "      <td>1332.063345</td>\n",
       "      <td>14.50</td>\n",
       "      <td>0.3890</td>\n",
       "      <td>457.814907</td>\n",
       "    </tr>\n",
       "    <tr>\n",
       "      <th>LinearRegression</th>\n",
       "      <td>1934.357563</td>\n",
       "      <td>7.12</td>\n",
       "      <td>0.0781</td>\n",
       "      <td>660.056945</td>\n",
       "    </tr>\n",
       "  </tbody>\n",
       "</table>\n",
       "</div>"
      ],
      "text/plain": [
       "                              RMSE  Время обучения модели  \\\n",
       "LGBMRegressor          1332.063345                   1.17   \n",
       "RandomForestRegressor  1332.063345                  14.50   \n",
       "LinearRegression       1934.357563                   7.12   \n",
       "\n",
       "                       Время предсказания модели     Рейтинг  \n",
       "LGBMRegressor                             0.2340  453.364857  \n",
       "RandomForestRegressor                     0.3890  457.814907  \n",
       "LinearRegression                          0.0781  660.056945  "
      ]
     },
     "execution_count": 58,
     "metadata": {},
     "output_type": "execute_result"
    }
   ],
   "source": [
    "index = ['LinearRegression',\n",
    "         'RandomForestRegressor',\n",
    "         'LGBMRegressor'\n",
    "        ]\n",
    "\n",
    "data = {'RMSE':[final_RMSE_LR,\n",
    "                final_RMSE_RF,\n",
    "                final_RMSE_LGBMR],\n",
    "        \n",
    "        'Время обучения модели':[7.12,\n",
    "                                 14.5,\n",
    "                                 1.17],\n",
    "        \n",
    "        'Время предсказания модели':[0.0781,\n",
    "                                     0.389,\n",
    "                                     0.234]\n",
    "       }\n",
    "\n",
    "models = pd.DataFrame(data=data, index=index)\n",
    "\n",
    "#ввожу столбец Рейтинг с весами:\n",
    "models['Рейтинг'] = (models['RMSE'] * .34 \\\n",
    "                       + models['Время обучения модели'] * .33 \\\n",
    "                       + models['Время предсказания модели'] * .33)\n",
    "\n",
    "models.sort_values(by = 'Рейтинг', ascending=True)"
   ]
  },
  {
   "cell_type": "markdown",
   "metadata": {},
   "source": [
    "Лучшей моделью по всем трём параметрам является ***LGBMRegressorE***. Наихудший результат показала модель ***LinearRegression***."
   ]
  },
  {
   "cell_type": "markdown",
   "metadata": {},
   "source": [
    "## Общий вывод"
   ]
  },
  {
   "cell_type": "markdown",
   "metadata": {},
   "source": [
    "Данный проект мы выполнили в несколько этапов:\n",
    "* загрузили и провели обработку данных - почистили данные от выбросов и дубликатов, по возомжности максимально заполнили пропуски;\n",
    "* закодировали данные двумя методиками - OHE и OE, с помощью них проверили и сравнили 3 разные модели - LinearRegression, RandomForestRegressor и LGBMRegressor;\n",
    "* выбрали лучшую модель по 3 показателям - RMSE, время обучения и время предскзания.\n",
    "\n",
    "По итогам проделанной работы можем сделать следующие выводы:\n",
    "* моделью с самыми низким показателемя RMSE оказались ***LGBMRegressor*** и ***RandomForestRegressor***;\n",
    "* моделью с самым быстрым временем обучения вышла ***LGBMRegressor***, а моделью с самым быстрым временем предсказания является ***LinearRegression***;\n",
    "* лучшей моделью по всем трём параметрам, если считать их одинаково важными для принятия решения, является ***LGBMRegressor***, поэтому можем считать её наиболее подходящей для заказчика."
   ]
  }
 ],
 "metadata": {
  "ExecuteTimeLog": [
   {
    "duration": 2767,
    "start_time": "2024-05-04T03:34:15.114Z"
   },
   {
    "duration": 8007,
    "start_time": "2024-05-04T03:34:17.883Z"
   },
   {
    "duration": 1161,
    "start_time": "2024-05-04T03:34:25.892Z"
   },
   {
    "duration": 22,
    "start_time": "2024-05-04T03:34:27.055Z"
   },
   {
    "duration": 162,
    "start_time": "2024-05-04T03:34:27.079Z"
   },
   {
    "duration": 114,
    "start_time": "2024-05-04T03:34:27.243Z"
   },
   {
    "duration": 145,
    "start_time": "2024-05-04T03:34:27.359Z"
   },
   {
    "duration": 495,
    "start_time": "2024-05-04T03:34:27.506Z"
   },
   {
    "duration": 7,
    "start_time": "2024-05-04T03:34:28.003Z"
   },
   {
    "duration": 973,
    "start_time": "2024-05-04T03:34:28.012Z"
   },
   {
    "duration": 27,
    "start_time": "2024-05-04T03:34:28.987Z"
   },
   {
    "duration": 10,
    "start_time": "2024-05-04T03:34:29.015Z"
   },
   {
    "duration": 54,
    "start_time": "2024-05-04T03:34:29.027Z"
   },
   {
    "duration": 546,
    "start_time": "2024-05-04T03:34:29.084Z"
   },
   {
    "duration": 12,
    "start_time": "2024-05-04T03:34:29.632Z"
   },
   {
    "duration": 39,
    "start_time": "2024-05-04T03:34:29.646Z"
   },
   {
    "duration": 33,
    "start_time": "2024-05-04T03:34:29.686Z"
   },
   {
    "duration": 1822,
    "start_time": "2024-05-04T03:34:29.721Z"
   },
   {
    "duration": 899,
    "start_time": "2024-05-04T03:34:31.545Z"
   },
   {
    "duration": 23,
    "start_time": "2024-05-04T03:34:32.445Z"
   },
   {
    "duration": 491,
    "start_time": "2024-05-04T03:34:32.481Z"
   },
   {
    "duration": 25,
    "start_time": "2024-05-04T03:34:32.974Z"
   },
   {
    "duration": 45,
    "start_time": "2024-05-04T03:34:33.000Z"
   },
   {
    "duration": 47,
    "start_time": "2024-05-04T03:34:33.047Z"
   },
   {
    "duration": 244,
    "start_time": "2024-05-04T03:34:33.096Z"
   },
   {
    "duration": 16,
    "start_time": "2024-05-04T03:34:33.342Z"
   },
   {
    "duration": 59,
    "start_time": "2024-05-04T03:34:33.360Z"
   },
   {
    "duration": 22,
    "start_time": "2024-05-04T03:34:33.421Z"
   },
   {
    "duration": 7,
    "start_time": "2024-05-04T03:34:33.444Z"
   },
   {
    "duration": 36,
    "start_time": "2024-05-04T03:34:33.453Z"
   },
   {
    "duration": 43,
    "start_time": "2024-05-04T03:34:33.490Z"
   },
   {
    "duration": 27,
    "start_time": "2024-05-04T03:34:33.534Z"
   },
   {
    "duration": 25,
    "start_time": "2024-05-04T03:34:33.581Z"
   },
   {
    "duration": 49,
    "start_time": "2024-05-04T03:34:33.609Z"
   },
   {
    "duration": 58,
    "start_time": "2024-05-04T03:34:33.660Z"
   },
   {
    "duration": 80,
    "start_time": "2024-05-04T03:34:33.719Z"
   },
   {
    "duration": 96,
    "start_time": "2024-05-04T03:34:33.801Z"
   },
   {
    "duration": 10,
    "start_time": "2024-05-04T03:34:33.898Z"
   },
   {
    "duration": 44,
    "start_time": "2024-05-04T03:34:33.910Z"
   },
   {
    "duration": 776,
    "start_time": "2024-05-04T03:34:33.956Z"
   },
   {
    "duration": 405,
    "start_time": "2024-05-04T03:34:34.735Z"
   },
   {
    "duration": 6,
    "start_time": "2024-05-04T03:34:35.142Z"
   },
   {
    "duration": 17231,
    "start_time": "2024-05-04T03:34:35.149Z"
   },
   {
    "duration": 302,
    "start_time": "2024-05-04T03:34:52.382Z"
   },
   {
    "duration": 5,
    "start_time": "2024-05-04T03:34:52.779Z"
   },
   {
    "duration": 82,
    "start_time": "2024-05-04T03:34:52.786Z"
   },
   {
    "duration": 9,
    "start_time": "2024-05-04T03:34:52.879Z"
   },
   {
    "duration": 194,
    "start_time": "2024-05-04T03:34:52.890Z"
   },
   {
    "duration": 67700,
    "start_time": "2024-05-04T03:34:53.086Z"
   },
   {
    "duration": 43,
    "start_time": "2024-05-04T19:38:17.796Z"
   },
   {
    "duration": 2642,
    "start_time": "2024-05-04T19:38:23.286Z"
   },
   {
    "duration": 1405,
    "start_time": "2024-05-04T19:38:25.930Z"
   },
   {
    "duration": 205,
    "start_time": "2024-05-04T19:38:29.931Z"
   },
   {
    "duration": 69,
    "start_time": "2024-05-04T19:39:44.835Z"
   },
   {
    "duration": 2899,
    "start_time": "2024-05-04T19:42:37.485Z"
   },
   {
    "duration": 14,
    "start_time": "2024-05-04T19:42:42.333Z"
   },
   {
    "duration": 71,
    "start_time": "2024-05-04T19:42:43.666Z"
   },
   {
    "duration": 79,
    "start_time": "2024-05-04T19:43:14.272Z"
   },
   {
    "duration": 82,
    "start_time": "2024-05-04T19:43:15.706Z"
   },
   {
    "duration": 232,
    "start_time": "2024-05-04T19:43:18.705Z"
   },
   {
    "duration": 7,
    "start_time": "2024-05-04T19:43:25.538Z"
   },
   {
    "duration": 473,
    "start_time": "2024-05-04T19:44:38.765Z"
   },
   {
    "duration": 20,
    "start_time": "2024-05-04T19:44:41.458Z"
   },
   {
    "duration": 11,
    "start_time": "2024-05-04T19:45:09.896Z"
   },
   {
    "duration": 26,
    "start_time": "2024-05-04T19:45:11.286Z"
   },
   {
    "duration": 458,
    "start_time": "2024-05-04T19:45:12.177Z"
   },
   {
    "duration": 10,
    "start_time": "2024-05-04T19:45:20.410Z"
   },
   {
    "duration": 32,
    "start_time": "2024-05-04T19:45:21.288Z"
   },
   {
    "duration": 26,
    "start_time": "2024-05-04T19:45:22.436Z"
   },
   {
    "duration": 1380,
    "start_time": "2024-05-04T19:45:23.657Z"
   },
   {
    "duration": 731,
    "start_time": "2024-05-04T19:45:25.038Z"
   },
   {
    "duration": 20,
    "start_time": "2024-05-04T19:45:29.382Z"
   },
   {
    "duration": 374,
    "start_time": "2024-05-04T19:45:30.915Z"
   },
   {
    "duration": 19,
    "start_time": "2024-05-04T19:45:33.405Z"
   },
   {
    "duration": 37,
    "start_time": "2024-05-04T19:45:36.122Z"
   },
   {
    "duration": 23,
    "start_time": "2024-05-04T19:45:37.088Z"
   },
   {
    "duration": 2374,
    "start_time": "2024-05-04T19:58:51.934Z"
   },
   {
    "duration": 4,
    "start_time": "2024-05-04T19:58:54.310Z"
   },
   {
    "duration": 835,
    "start_time": "2024-05-04T19:58:54.315Z"
   },
   {
    "duration": 12,
    "start_time": "2024-05-04T19:58:55.152Z"
   },
   {
    "duration": 93,
    "start_time": "2024-05-04T19:58:55.166Z"
   },
   {
    "duration": 78,
    "start_time": "2024-05-04T19:58:55.260Z"
   },
   {
    "duration": 67,
    "start_time": "2024-05-04T19:58:55.339Z"
   },
   {
    "duration": 237,
    "start_time": "2024-05-04T19:58:55.407Z"
   },
   {
    "duration": 5,
    "start_time": "2024-05-04T19:58:55.645Z"
   },
   {
    "duration": 487,
    "start_time": "2024-05-04T19:58:55.653Z"
   },
   {
    "duration": 18,
    "start_time": "2024-05-04T19:58:56.141Z"
   },
   {
    "duration": 8,
    "start_time": "2024-05-04T19:58:56.160Z"
   },
   {
    "duration": 35,
    "start_time": "2024-05-04T19:58:56.169Z"
   },
   {
    "duration": 440,
    "start_time": "2024-05-04T19:58:56.206Z"
   },
   {
    "duration": 12,
    "start_time": "2024-05-04T19:58:56.648Z"
   },
   {
    "duration": 36,
    "start_time": "2024-05-04T19:58:56.661Z"
   },
   {
    "duration": 25,
    "start_time": "2024-05-04T19:58:56.699Z"
   },
   {
    "duration": 1427,
    "start_time": "2024-05-04T19:58:56.725Z"
   },
   {
    "duration": 711,
    "start_time": "2024-05-04T19:58:58.153Z"
   },
   {
    "duration": 20,
    "start_time": "2024-05-04T19:58:58.865Z"
   },
   {
    "duration": 374,
    "start_time": "2024-05-04T19:58:58.886Z"
   },
   {
    "duration": 19,
    "start_time": "2024-05-04T19:58:59.261Z"
   },
   {
    "duration": 35,
    "start_time": "2024-05-04T19:58:59.282Z"
   },
   {
    "duration": 22,
    "start_time": "2024-05-04T19:58:59.319Z"
   },
   {
    "duration": 181,
    "start_time": "2024-05-04T19:58:59.342Z"
   },
   {
    "duration": 11,
    "start_time": "2024-05-04T19:58:59.524Z"
   },
   {
    "duration": 44,
    "start_time": "2024-05-04T19:58:59.536Z"
   },
   {
    "duration": 22,
    "start_time": "2024-05-04T19:58:59.583Z"
   },
   {
    "duration": 6,
    "start_time": "2024-05-04T19:58:59.606Z"
   },
   {
    "duration": 14,
    "start_time": "2024-05-04T19:58:59.613Z"
   },
   {
    "duration": 32,
    "start_time": "2024-05-04T19:58:59.629Z"
   },
   {
    "duration": 18,
    "start_time": "2024-05-04T19:58:59.662Z"
   },
   {
    "duration": 15,
    "start_time": "2024-05-04T19:58:59.701Z"
   },
   {
    "duration": 45,
    "start_time": "2024-05-04T19:59:09.619Z"
   },
   {
    "duration": 29,
    "start_time": "2024-05-04T19:59:14.468Z"
   },
   {
    "duration": 43,
    "start_time": "2024-05-04T19:59:21.192Z"
   },
   {
    "duration": 39,
    "start_time": "2024-05-04T20:05:46.865Z"
   },
   {
    "duration": 12,
    "start_time": "2024-05-04T20:05:48.985Z"
   },
   {
    "duration": 77,
    "start_time": "2024-05-04T20:06:01.940Z"
   },
   {
    "duration": 13,
    "start_time": "2024-05-04T20:14:51.714Z"
   },
   {
    "duration": 32,
    "start_time": "2024-05-04T20:15:39.052Z"
   },
   {
    "duration": 124,
    "start_time": "2024-05-04T20:15:48.718Z"
   },
   {
    "duration": 51,
    "start_time": "2024-05-04T20:27:29.953Z"
   },
   {
    "duration": 48,
    "start_time": "2024-05-04T20:27:54.532Z"
   },
   {
    "duration": 9,
    "start_time": "2024-05-04T20:28:16.677Z"
   },
   {
    "duration": 32,
    "start_time": "2024-05-04T20:28:17.858Z"
   },
   {
    "duration": 715,
    "start_time": "2024-05-04T20:28:19.119Z"
   },
   {
    "duration": 336,
    "start_time": "2024-05-04T20:28:22.655Z"
   },
   {
    "duration": 5,
    "start_time": "2024-05-04T20:28:47.173Z"
   },
   {
    "duration": 58099,
    "start_time": "2024-05-04T20:29:52.306Z"
   },
   {
    "duration": 2373,
    "start_time": "2024-05-04T21:32:33.573Z"
   },
   {
    "duration": 5,
    "start_time": "2024-05-04T21:32:35.948Z"
   },
   {
    "duration": 897,
    "start_time": "2024-05-04T21:32:35.954Z"
   },
   {
    "duration": 13,
    "start_time": "2024-05-04T21:32:36.853Z"
   },
   {
    "duration": 74,
    "start_time": "2024-05-04T21:32:36.867Z"
   },
   {
    "duration": 79,
    "start_time": "2024-05-04T21:32:36.942Z"
   },
   {
    "duration": 70,
    "start_time": "2024-05-04T21:32:37.023Z"
   },
   {
    "duration": 215,
    "start_time": "2024-05-04T21:32:37.102Z"
   },
   {
    "duration": 5,
    "start_time": "2024-05-04T21:32:37.318Z"
   },
   {
    "duration": 515,
    "start_time": "2024-05-04T21:32:37.325Z"
   },
   {
    "duration": 24,
    "start_time": "2024-05-04T21:32:37.841Z"
   },
   {
    "duration": 10,
    "start_time": "2024-05-04T21:32:37.867Z"
   },
   {
    "duration": 32,
    "start_time": "2024-05-04T21:32:37.879Z"
   },
   {
    "duration": 552,
    "start_time": "2024-05-04T21:32:37.912Z"
   },
   {
    "duration": 10,
    "start_time": "2024-05-04T21:32:38.465Z"
   },
   {
    "duration": 35,
    "start_time": "2024-05-04T21:32:38.476Z"
   },
   {
    "duration": 24,
    "start_time": "2024-05-04T21:32:38.512Z"
   },
   {
    "duration": 1301,
    "start_time": "2024-05-04T21:32:38.538Z"
   },
   {
    "duration": 717,
    "start_time": "2024-05-04T21:32:39.841Z"
   },
   {
    "duration": 19,
    "start_time": "2024-05-04T21:32:40.559Z"
   },
   {
    "duration": 372,
    "start_time": "2024-05-04T21:32:40.580Z"
   },
   {
    "duration": 19,
    "start_time": "2024-05-04T21:32:40.953Z"
   },
   {
    "duration": 41,
    "start_time": "2024-05-04T21:32:40.973Z"
   },
   {
    "duration": 20,
    "start_time": "2024-05-04T21:32:41.015Z"
   },
   {
    "duration": 280,
    "start_time": "2024-05-04T21:32:41.036Z"
   },
   {
    "duration": 10,
    "start_time": "2024-05-04T21:32:41.318Z"
   },
   {
    "duration": 45,
    "start_time": "2024-05-04T21:32:41.329Z"
   },
   {
    "duration": 16,
    "start_time": "2024-05-04T21:32:41.377Z"
   },
   {
    "duration": 20,
    "start_time": "2024-05-04T21:32:41.394Z"
   },
   {
    "duration": 16,
    "start_time": "2024-05-04T21:32:41.415Z"
   },
   {
    "duration": 34,
    "start_time": "2024-05-04T21:32:41.433Z"
   },
   {
    "duration": 18,
    "start_time": "2024-05-04T21:32:41.469Z"
   },
   {
    "duration": 22,
    "start_time": "2024-05-04T21:32:41.488Z"
   },
   {
    "duration": 45,
    "start_time": "2024-05-04T21:32:41.511Z"
   },
   {
    "duration": 45,
    "start_time": "2024-05-04T21:32:41.557Z"
   },
   {
    "duration": 34,
    "start_time": "2024-05-04T21:32:41.603Z"
   },
   {
    "duration": 35,
    "start_time": "2024-05-04T21:32:41.638Z"
   },
   {
    "duration": 60,
    "start_time": "2024-05-04T21:32:41.675Z"
   },
   {
    "duration": 11,
    "start_time": "2024-05-04T21:32:41.736Z"
   },
   {
    "duration": 38,
    "start_time": "2024-05-04T21:32:41.748Z"
   },
   {
    "duration": 34,
    "start_time": "2024-05-04T21:32:44.688Z"
   },
   {
    "duration": 30,
    "start_time": "2024-05-04T21:32:45.525Z"
   },
   {
    "duration": 2834,
    "start_time": "2024-05-07T04:34:37.347Z"
   },
   {
    "duration": 3690,
    "start_time": "2024-05-07T04:34:40.184Z"
   },
   {
    "duration": 1444,
    "start_time": "2024-05-07T04:34:43.876Z"
   },
   {
    "duration": 18,
    "start_time": "2024-05-07T04:34:45.322Z"
   },
   {
    "duration": 135,
    "start_time": "2024-05-07T04:34:45.341Z"
   },
   {
    "duration": 105,
    "start_time": "2024-05-07T04:34:45.480Z"
   },
   {
    "duration": 103,
    "start_time": "2024-05-07T04:34:45.587Z"
   },
   {
    "duration": 313,
    "start_time": "2024-05-07T04:34:45.692Z"
   },
   {
    "duration": 6,
    "start_time": "2024-05-07T04:34:46.007Z"
   },
   {
    "duration": 657,
    "start_time": "2024-05-07T04:34:46.016Z"
   },
   {
    "duration": 21,
    "start_time": "2024-05-07T04:34:46.674Z"
   },
   {
    "duration": 12,
    "start_time": "2024-05-07T04:34:46.697Z"
   },
   {
    "duration": 42,
    "start_time": "2024-05-07T04:34:46.710Z"
   },
   {
    "duration": 680,
    "start_time": "2024-05-07T04:34:46.753Z"
   },
   {
    "duration": 10,
    "start_time": "2024-05-07T04:34:47.435Z"
   },
   {
    "duration": 45,
    "start_time": "2024-05-07T04:34:47.447Z"
   },
   {
    "duration": 32,
    "start_time": "2024-05-07T04:34:47.494Z"
   },
   {
    "duration": 1823,
    "start_time": "2024-05-07T04:34:47.527Z"
   },
   {
    "duration": 929,
    "start_time": "2024-05-07T04:34:49.351Z"
   },
   {
    "duration": 23,
    "start_time": "2024-05-07T04:34:50.282Z"
   },
   {
    "duration": 516,
    "start_time": "2024-05-07T04:34:50.306Z"
   },
   {
    "duration": 22,
    "start_time": "2024-05-07T04:34:50.824Z"
   },
   {
    "duration": 59,
    "start_time": "2024-05-07T04:34:50.848Z"
   },
   {
    "duration": 27,
    "start_time": "2024-05-07T04:34:50.909Z"
   },
   {
    "duration": 295,
    "start_time": "2024-05-07T04:34:50.937Z"
   },
   {
    "duration": 14,
    "start_time": "2024-05-07T04:34:51.234Z"
   },
   {
    "duration": 39,
    "start_time": "2024-05-07T04:34:51.250Z"
   },
   {
    "duration": 31,
    "start_time": "2024-05-07T04:34:51.292Z"
   },
   {
    "duration": 40,
    "start_time": "2024-05-07T04:34:51.325Z"
   },
   {
    "duration": 58,
    "start_time": "2024-05-07T04:34:51.367Z"
   },
   {
    "duration": 43,
    "start_time": "2024-05-07T04:34:51.427Z"
   },
   {
    "duration": 51,
    "start_time": "2024-05-07T04:34:51.472Z"
   },
   {
    "duration": 86,
    "start_time": "2024-05-07T04:34:51.524Z"
   },
   {
    "duration": 86,
    "start_time": "2024-05-07T04:34:51.611Z"
   },
   {
    "duration": 25,
    "start_time": "2024-05-07T04:34:51.699Z"
   },
   {
    "duration": 4,
    "start_time": "2024-05-07T04:34:51.726Z"
   },
   {
    "duration": 955,
    "start_time": "2024-05-07T04:34:51.731Z"
   },
   {
    "duration": 15,
    "start_time": "2024-05-07T04:36:26.873Z"
   },
   {
    "duration": 54,
    "start_time": "2024-05-07T04:36:27.494Z"
   },
   {
    "duration": 21,
    "start_time": "2024-05-07T04:36:28.118Z"
   },
   {
    "duration": 12,
    "start_time": "2024-05-07T04:36:28.150Z"
   },
   {
    "duration": 152,
    "start_time": "2024-05-07T04:36:31.087Z"
   },
   {
    "duration": 38,
    "start_time": "2024-05-07T04:36:43.888Z"
   },
   {
    "duration": 936,
    "start_time": "2024-05-07T04:37:01.032Z"
   },
   {
    "duration": 21158,
    "start_time": "2024-05-07T04:38:28.071Z"
   },
   {
    "duration": 18702,
    "start_time": "2024-05-07T04:38:49.231Z"
   },
   {
    "duration": 1589,
    "start_time": "2024-05-07T04:39:07.936Z"
   },
   {
    "duration": 1236,
    "start_time": "2024-05-07T04:39:09.527Z"
   },
   {
    "duration": 19,
    "start_time": "2024-05-07T04:39:10.765Z"
   },
   {
    "duration": 104,
    "start_time": "2024-05-07T04:39:10.786Z"
   },
   {
    "duration": 130,
    "start_time": "2024-05-07T04:39:10.891Z"
   },
   {
    "duration": 96,
    "start_time": "2024-05-07T04:39:11.023Z"
   },
   {
    "duration": 297,
    "start_time": "2024-05-07T04:39:11.121Z"
   },
   {
    "duration": 7,
    "start_time": "2024-05-07T04:39:11.420Z"
   },
   {
    "duration": 575,
    "start_time": "2024-05-07T04:39:11.430Z"
   },
   {
    "duration": 153,
    "start_time": "2024-05-07T04:39:12.007Z"
   },
   {
    "duration": 0,
    "start_time": "2024-05-07T04:39:12.161Z"
   },
   {
    "duration": 0,
    "start_time": "2024-05-07T04:39:12.163Z"
   },
   {
    "duration": 0,
    "start_time": "2024-05-07T04:39:12.164Z"
   },
   {
    "duration": 0,
    "start_time": "2024-05-07T04:39:12.164Z"
   },
   {
    "duration": 0,
    "start_time": "2024-05-07T04:39:12.166Z"
   },
   {
    "duration": 0,
    "start_time": "2024-05-07T04:39:12.179Z"
   },
   {
    "duration": 0,
    "start_time": "2024-05-07T04:39:12.181Z"
   },
   {
    "duration": 0,
    "start_time": "2024-05-07T04:39:12.182Z"
   },
   {
    "duration": 0,
    "start_time": "2024-05-07T04:39:12.183Z"
   },
   {
    "duration": 0,
    "start_time": "2024-05-07T04:39:12.184Z"
   },
   {
    "duration": 0,
    "start_time": "2024-05-07T04:39:12.185Z"
   },
   {
    "duration": 0,
    "start_time": "2024-05-07T04:39:12.186Z"
   },
   {
    "duration": 0,
    "start_time": "2024-05-07T04:39:12.187Z"
   },
   {
    "duration": 0,
    "start_time": "2024-05-07T04:39:12.188Z"
   },
   {
    "duration": 0,
    "start_time": "2024-05-07T04:39:12.189Z"
   },
   {
    "duration": 0,
    "start_time": "2024-05-07T04:39:12.190Z"
   },
   {
    "duration": 0,
    "start_time": "2024-05-07T04:39:12.191Z"
   },
   {
    "duration": 0,
    "start_time": "2024-05-07T04:39:12.192Z"
   },
   {
    "duration": 0,
    "start_time": "2024-05-07T04:39:12.193Z"
   },
   {
    "duration": 0,
    "start_time": "2024-05-07T04:39:12.194Z"
   },
   {
    "duration": 0,
    "start_time": "2024-05-07T04:39:12.195Z"
   },
   {
    "duration": 0,
    "start_time": "2024-05-07T04:39:12.197Z"
   },
   {
    "duration": 0,
    "start_time": "2024-05-07T04:39:12.198Z"
   },
   {
    "duration": 0,
    "start_time": "2024-05-07T04:39:12.199Z"
   },
   {
    "duration": 0,
    "start_time": "2024-05-07T04:39:12.200Z"
   },
   {
    "duration": 0,
    "start_time": "2024-05-07T04:39:12.201Z"
   },
   {
    "duration": 20,
    "start_time": "2024-05-07T04:39:14.432Z"
   },
   {
    "duration": 6377,
    "start_time": "2024-05-07T04:39:39.454Z"
   },
   {
    "duration": 2541,
    "start_time": "2024-05-07T04:39:45.833Z"
   },
   {
    "duration": 4,
    "start_time": "2024-05-07T04:39:48.377Z"
   },
   {
    "duration": 1185,
    "start_time": "2024-05-07T04:39:48.383Z"
   },
   {
    "duration": 16,
    "start_time": "2024-05-07T04:39:49.570Z"
   },
   {
    "duration": 112,
    "start_time": "2024-05-07T04:39:49.588Z"
   },
   {
    "duration": 129,
    "start_time": "2024-05-07T04:39:49.702Z"
   },
   {
    "duration": 101,
    "start_time": "2024-05-07T04:39:49.832Z"
   },
   {
    "duration": 273,
    "start_time": "2024-05-07T04:39:49.935Z"
   },
   {
    "duration": 6,
    "start_time": "2024-05-07T04:39:50.210Z"
   },
   {
    "duration": 553,
    "start_time": "2024-05-07T04:39:50.218Z"
   },
   {
    "duration": 26,
    "start_time": "2024-05-07T04:39:50.773Z"
   },
   {
    "duration": 18,
    "start_time": "2024-05-07T04:40:14.472Z"
   },
   {
    "duration": 6,
    "start_time": "2024-05-07T04:40:34.673Z"
   },
   {
    "duration": 5,
    "start_time": "2024-05-07T04:40:37.161Z"
   },
   {
    "duration": 5,
    "start_time": "2024-05-07T04:40:38.472Z"
   },
   {
    "duration": 1146,
    "start_time": "2024-05-07T04:40:48.873Z"
   },
   {
    "duration": 13,
    "start_time": "2024-05-07T04:40:50.021Z"
   },
   {
    "duration": 116,
    "start_time": "2024-05-07T04:40:50.035Z"
   },
   {
    "duration": 124,
    "start_time": "2024-05-07T04:40:50.266Z"
   },
   {
    "duration": 96,
    "start_time": "2024-05-07T04:40:50.952Z"
   },
   {
    "duration": 252,
    "start_time": "2024-05-07T04:40:51.312Z"
   },
   {
    "duration": 6,
    "start_time": "2024-05-07T04:40:57.240Z"
   },
   {
    "duration": 528,
    "start_time": "2024-05-07T04:41:01.017Z"
   },
   {
    "duration": 16,
    "start_time": "2024-05-07T04:41:02.457Z"
   },
   {
    "duration": 15,
    "start_time": "2024-05-07T04:41:03.530Z"
   },
   {
    "duration": 1064,
    "start_time": "2024-05-07T04:41:16.225Z"
   },
   {
    "duration": 14,
    "start_time": "2024-05-07T04:41:25.658Z"
   },
   {
    "duration": 14,
    "start_time": "2024-05-07T04:41:28.705Z"
   },
   {
    "duration": 5,
    "start_time": "2024-05-07T04:41:42.042Z"
   },
   {
    "duration": 2595,
    "start_time": "2024-05-07T04:42:02.321Z"
   },
   {
    "duration": 1497,
    "start_time": "2024-05-07T04:42:04.918Z"
   },
   {
    "duration": 1233,
    "start_time": "2024-05-07T04:42:06.417Z"
   },
   {
    "duration": 16,
    "start_time": "2024-05-07T04:42:07.652Z"
   },
   {
    "duration": 100,
    "start_time": "2024-05-07T04:42:07.801Z"
   },
   {
    "duration": 139,
    "start_time": "2024-05-07T04:42:08.497Z"
   },
   {
    "duration": 93,
    "start_time": "2024-05-07T04:42:09.274Z"
   },
   {
    "duration": 251,
    "start_time": "2024-05-07T04:42:09.817Z"
   },
   {
    "duration": 6,
    "start_time": "2024-05-07T04:42:13.625Z"
   },
   {
    "duration": 592,
    "start_time": "2024-05-07T04:42:21.778Z"
   },
   {
    "duration": 17,
    "start_time": "2024-05-07T04:42:23.193Z"
   },
   {
    "duration": 120,
    "start_time": "2024-05-07T04:42:31.721Z"
   },
   {
    "duration": 55,
    "start_time": "2024-05-07T04:42:32.673Z"
   },
   {
    "duration": 1121,
    "start_time": "2024-05-07T04:43:18.865Z"
   },
   {
    "duration": 13,
    "start_time": "2024-05-07T04:43:19.988Z"
   },
   {
    "duration": 114,
    "start_time": "2024-05-07T04:43:20.002Z"
   },
   {
    "duration": 124,
    "start_time": "2024-05-07T04:43:20.118Z"
   },
   {
    "duration": 97,
    "start_time": "2024-05-07T04:43:20.244Z"
   },
   {
    "duration": 277,
    "start_time": "2024-05-07T04:43:20.343Z"
   },
   {
    "duration": 3,
    "start_time": "2024-05-07T04:43:22.129Z"
   },
   {
    "duration": 10,
    "start_time": "2024-05-07T04:43:22.778Z"
   },
   {
    "duration": 32,
    "start_time": "2024-05-07T04:43:30.761Z"
   },
   {
    "duration": 20,
    "start_time": "2024-05-07T04:43:42.458Z"
   },
   {
    "duration": 567,
    "start_time": "2024-05-07T04:43:45.339Z"
   },
   {
    "duration": 22,
    "start_time": "2024-05-07T04:43:46.818Z"
   },
   {
    "duration": 22,
    "start_time": "2024-05-07T04:43:49.194Z"
   },
   {
    "duration": 8,
    "start_time": "2024-05-07T04:43:55.449Z"
   },
   {
    "duration": 31,
    "start_time": "2024-05-07T04:43:56.691Z"
   },
   {
    "duration": 668,
    "start_time": "2024-05-07T04:43:57.593Z"
   },
   {
    "duration": 11,
    "start_time": "2024-05-07T04:43:58.361Z"
   },
   {
    "duration": 37,
    "start_time": "2024-05-07T04:43:58.817Z"
   },
   {
    "duration": 29,
    "start_time": "2024-05-07T04:43:59.145Z"
   },
   {
    "duration": 1800,
    "start_time": "2024-05-07T04:43:59.458Z"
   },
   {
    "duration": 1031,
    "start_time": "2024-05-07T04:44:01.259Z"
   },
   {
    "duration": 27,
    "start_time": "2024-05-07T04:44:02.291Z"
   },
   {
    "duration": 649,
    "start_time": "2024-05-07T04:44:02.320Z"
   },
   {
    "duration": 29,
    "start_time": "2024-05-07T04:44:02.970Z"
   },
   {
    "duration": 67,
    "start_time": "2024-05-07T04:44:03.000Z"
   },
   {
    "duration": 23,
    "start_time": "2024-05-07T04:44:03.069Z"
   },
   {
    "duration": 317,
    "start_time": "2024-05-07T04:44:03.094Z"
   },
   {
    "duration": 15,
    "start_time": "2024-05-07T04:44:03.626Z"
   },
   {
    "duration": 24,
    "start_time": "2024-05-07T04:44:05.417Z"
   },
   {
    "duration": 32,
    "start_time": "2024-05-07T04:44:06.169Z"
   },
   {
    "duration": 23,
    "start_time": "2024-05-07T04:44:06.329Z"
   },
   {
    "duration": 61,
    "start_time": "2024-05-07T04:44:06.673Z"
   },
   {
    "duration": 38,
    "start_time": "2024-05-07T04:44:07.089Z"
   },
   {
    "duration": 38,
    "start_time": "2024-05-07T04:44:07.178Z"
   },
   {
    "duration": 75,
    "start_time": "2024-05-07T04:44:07.409Z"
   },
   {
    "duration": 18,
    "start_time": "2024-05-07T04:44:08.153Z"
   },
   {
    "duration": 37,
    "start_time": "2024-05-07T04:44:16.001Z"
   },
   {
    "duration": 5,
    "start_time": "2024-05-07T04:44:16.409Z"
   },
   {
    "duration": 971,
    "start_time": "2024-05-07T04:44:16.713Z"
   },
   {
    "duration": 15,
    "start_time": "2024-05-07T04:44:20.739Z"
   },
   {
    "duration": 59,
    "start_time": "2024-05-07T04:44:23.473Z"
   },
   {
    "duration": 26,
    "start_time": "2024-05-07T04:44:23.858Z"
   },
   {
    "duration": 10,
    "start_time": "2024-05-07T04:44:24.330Z"
   },
   {
    "duration": 44,
    "start_time": "2024-05-07T04:44:25.426Z"
   },
   {
    "duration": 2781,
    "start_time": "2024-05-07T04:47:01.376Z"
   },
   {
    "duration": 1589,
    "start_time": "2024-05-07T04:47:04.159Z"
   },
   {
    "duration": 1183,
    "start_time": "2024-05-07T04:47:05.750Z"
   },
   {
    "duration": 16,
    "start_time": "2024-05-07T04:47:06.934Z"
   },
   {
    "duration": 109,
    "start_time": "2024-05-07T04:47:06.952Z"
   },
   {
    "duration": 125,
    "start_time": "2024-05-07T04:47:07.063Z"
   },
   {
    "duration": 104,
    "start_time": "2024-05-07T04:47:07.190Z"
   },
   {
    "duration": 274,
    "start_time": "2024-05-07T04:47:07.296Z"
   },
   {
    "duration": 9,
    "start_time": "2024-05-07T04:47:07.571Z"
   },
   {
    "duration": 3,
    "start_time": "2024-05-07T04:47:07.582Z"
   },
   {
    "duration": 568,
    "start_time": "2024-05-07T04:47:07.587Z"
   },
   {
    "duration": 137,
    "start_time": "2024-05-07T04:47:08.157Z"
   },
   {
    "duration": 0,
    "start_time": "2024-05-07T04:47:08.297Z"
   },
   {
    "duration": 0,
    "start_time": "2024-05-07T04:47:08.298Z"
   },
   {
    "duration": 0,
    "start_time": "2024-05-07T04:47:08.298Z"
   },
   {
    "duration": 0,
    "start_time": "2024-05-07T04:47:08.300Z"
   },
   {
    "duration": 0,
    "start_time": "2024-05-07T04:47:08.300Z"
   },
   {
    "duration": 0,
    "start_time": "2024-05-07T04:47:08.301Z"
   },
   {
    "duration": 0,
    "start_time": "2024-05-07T04:47:08.302Z"
   },
   {
    "duration": 0,
    "start_time": "2024-05-07T04:47:08.303Z"
   },
   {
    "duration": 0,
    "start_time": "2024-05-07T04:47:08.305Z"
   },
   {
    "duration": 0,
    "start_time": "2024-05-07T04:47:08.305Z"
   },
   {
    "duration": 0,
    "start_time": "2024-05-07T04:47:08.306Z"
   },
   {
    "duration": 0,
    "start_time": "2024-05-07T04:47:08.307Z"
   },
   {
    "duration": 0,
    "start_time": "2024-05-07T04:47:08.308Z"
   },
   {
    "duration": 0,
    "start_time": "2024-05-07T04:47:08.310Z"
   },
   {
    "duration": 0,
    "start_time": "2024-05-07T04:47:08.311Z"
   },
   {
    "duration": 0,
    "start_time": "2024-05-07T04:47:08.311Z"
   },
   {
    "duration": 0,
    "start_time": "2024-05-07T04:47:08.312Z"
   },
   {
    "duration": 0,
    "start_time": "2024-05-07T04:47:08.313Z"
   },
   {
    "duration": 0,
    "start_time": "2024-05-07T04:47:08.314Z"
   },
   {
    "duration": 0,
    "start_time": "2024-05-07T04:47:08.315Z"
   },
   {
    "duration": 0,
    "start_time": "2024-05-07T04:47:08.316Z"
   },
   {
    "duration": 0,
    "start_time": "2024-05-07T04:47:08.318Z"
   },
   {
    "duration": 0,
    "start_time": "2024-05-07T04:47:08.319Z"
   },
   {
    "duration": 0,
    "start_time": "2024-05-07T04:47:08.319Z"
   },
   {
    "duration": 0,
    "start_time": "2024-05-07T04:47:08.320Z"
   },
   {
    "duration": 0,
    "start_time": "2024-05-07T04:47:08.321Z"
   },
   {
    "duration": 0,
    "start_time": "2024-05-07T04:47:08.323Z"
   },
   {
    "duration": 0,
    "start_time": "2024-05-07T04:47:08.324Z"
   },
   {
    "duration": 0,
    "start_time": "2024-05-07T04:47:08.325Z"
   },
   {
    "duration": 0,
    "start_time": "2024-05-07T04:47:08.326Z"
   },
   {
    "duration": 0,
    "start_time": "2024-05-07T04:47:08.327Z"
   },
   {
    "duration": 0,
    "start_time": "2024-05-07T04:47:08.328Z"
   },
   {
    "duration": 0,
    "start_time": "2024-05-07T04:47:08.380Z"
   },
   {
    "duration": 0,
    "start_time": "2024-05-07T04:47:08.382Z"
   },
   {
    "duration": 0,
    "start_time": "2024-05-07T04:47:08.382Z"
   },
   {
    "duration": 0,
    "start_time": "2024-05-07T04:47:08.384Z"
   },
   {
    "duration": 0,
    "start_time": "2024-05-07T04:47:08.385Z"
   },
   {
    "duration": 0,
    "start_time": "2024-05-07T04:47:08.386Z"
   },
   {
    "duration": 0,
    "start_time": "2024-05-07T04:47:08.387Z"
   },
   {
    "duration": 0,
    "start_time": "2024-05-07T04:47:08.388Z"
   },
   {
    "duration": 0,
    "start_time": "2024-05-07T04:47:08.389Z"
   },
   {
    "duration": 0,
    "start_time": "2024-05-07T04:47:08.390Z"
   },
   {
    "duration": 0,
    "start_time": "2024-05-07T04:47:08.391Z"
   },
   {
    "duration": 0,
    "start_time": "2024-05-07T04:47:08.393Z"
   },
   {
    "duration": 0,
    "start_time": "2024-05-07T04:47:08.394Z"
   },
   {
    "duration": 0,
    "start_time": "2024-05-07T04:47:08.396Z"
   },
   {
    "duration": 9268,
    "start_time": "2024-05-07T08:13:14.762Z"
   },
   {
    "duration": 1367,
    "start_time": "2024-05-07T08:13:24.032Z"
   },
   {
    "duration": 1221,
    "start_time": "2024-05-07T08:13:25.401Z"
   },
   {
    "duration": 15,
    "start_time": "2024-05-07T08:13:26.624Z"
   },
   {
    "duration": 88,
    "start_time": "2024-05-07T08:13:26.640Z"
   },
   {
    "duration": 89,
    "start_time": "2024-05-07T08:13:26.731Z"
   },
   {
    "duration": 80,
    "start_time": "2024-05-07T08:13:26.822Z"
   },
   {
    "duration": 260,
    "start_time": "2024-05-07T08:13:26.904Z"
   },
   {
    "duration": 6,
    "start_time": "2024-05-07T08:13:27.166Z"
   },
   {
    "duration": 13,
    "start_time": "2024-05-07T08:13:27.184Z"
   },
   {
    "duration": 518,
    "start_time": "2024-05-07T08:13:27.199Z"
   },
   {
    "duration": 29,
    "start_time": "2024-05-07T08:13:27.718Z"
   },
   {
    "duration": 10,
    "start_time": "2024-05-07T08:13:27.748Z"
   },
   {
    "duration": 40,
    "start_time": "2024-05-07T08:13:27.759Z"
   },
   {
    "duration": 454,
    "start_time": "2024-05-07T08:13:27.801Z"
   },
   {
    "duration": 9,
    "start_time": "2024-05-07T08:13:28.256Z"
   },
   {
    "duration": 40,
    "start_time": "2024-05-07T08:13:28.267Z"
   },
   {
    "duration": 25,
    "start_time": "2024-05-07T08:13:28.309Z"
   },
   {
    "duration": 1447,
    "start_time": "2024-05-07T08:13:28.336Z"
   },
   {
    "duration": 728,
    "start_time": "2024-05-07T08:13:29.785Z"
   },
   {
    "duration": 19,
    "start_time": "2024-05-07T08:13:30.514Z"
   },
   {
    "duration": 418,
    "start_time": "2024-05-07T08:13:30.534Z"
   },
   {
    "duration": 19,
    "start_time": "2024-05-07T08:13:30.954Z"
   },
   {
    "duration": 112,
    "start_time": "2024-05-07T08:13:30.974Z"
   },
   {
    "duration": 83,
    "start_time": "2024-05-07T08:13:31.087Z"
   },
   {
    "duration": 283,
    "start_time": "2024-05-07T08:13:31.171Z"
   },
   {
    "duration": 10,
    "start_time": "2024-05-07T08:13:31.456Z"
   },
   {
    "duration": 67,
    "start_time": "2024-05-07T08:13:31.469Z"
   },
   {
    "duration": 34,
    "start_time": "2024-05-07T08:13:31.537Z"
   },
   {
    "duration": 55,
    "start_time": "2024-05-07T08:13:31.573Z"
   },
   {
    "duration": 127,
    "start_time": "2024-05-07T08:13:31.629Z"
   },
   {
    "duration": 57,
    "start_time": "2024-05-07T08:13:31.757Z"
   },
   {
    "duration": 42,
    "start_time": "2024-05-07T08:13:31.816Z"
   },
   {
    "duration": 59,
    "start_time": "2024-05-07T08:13:31.859Z"
   },
   {
    "duration": 81,
    "start_time": "2024-05-07T08:13:31.919Z"
   },
   {
    "duration": 22,
    "start_time": "2024-05-07T08:13:32.001Z"
   },
   {
    "duration": 147,
    "start_time": "2024-05-07T08:13:32.024Z"
   },
   {
    "duration": 814,
    "start_time": "2024-05-07T08:13:32.173Z"
   },
   {
    "duration": 97,
    "start_time": "2024-05-07T08:13:32.988Z"
   },
   {
    "duration": 36,
    "start_time": "2024-05-07T08:13:33.089Z"
   },
   {
    "duration": 20,
    "start_time": "2024-05-07T08:13:33.126Z"
   },
   {
    "duration": 8,
    "start_time": "2024-05-07T08:13:33.147Z"
   },
   {
    "duration": 165,
    "start_time": "2024-05-07T08:13:33.157Z"
   },
   {
    "duration": 0,
    "start_time": "2024-05-07T08:13:33.323Z"
   },
   {
    "duration": 0,
    "start_time": "2024-05-07T08:13:33.325Z"
   },
   {
    "duration": 0,
    "start_time": "2024-05-07T08:13:33.326Z"
   },
   {
    "duration": 0,
    "start_time": "2024-05-07T08:13:33.327Z"
   },
   {
    "duration": 0,
    "start_time": "2024-05-07T08:13:33.328Z"
   },
   {
    "duration": 0,
    "start_time": "2024-05-07T08:13:33.330Z"
   },
   {
    "duration": 0,
    "start_time": "2024-05-07T08:13:33.331Z"
   },
   {
    "duration": 0,
    "start_time": "2024-05-07T08:13:33.332Z"
   },
   {
    "duration": 0,
    "start_time": "2024-05-07T08:13:33.333Z"
   },
   {
    "duration": 0,
    "start_time": "2024-05-07T08:13:33.334Z"
   },
   {
    "duration": 0,
    "start_time": "2024-05-07T08:13:33.336Z"
   },
   {
    "duration": 0,
    "start_time": "2024-05-07T08:13:33.337Z"
   },
   {
    "duration": 0,
    "start_time": "2024-05-07T08:13:33.338Z"
   },
   {
    "duration": 0,
    "start_time": "2024-05-07T08:13:33.339Z"
   },
   {
    "duration": 0,
    "start_time": "2024-05-07T08:13:33.340Z"
   },
   {
    "duration": 23312,
    "start_time": "2024-05-07T08:15:22.978Z"
   },
   {
    "duration": 111,
    "start_time": "2024-05-07T08:19:31.223Z"
   },
   {
    "duration": 4,
    "start_time": "2024-05-07T08:19:32.983Z"
   },
   {
    "duration": 5762,
    "start_time": "2024-05-07T08:21:45.709Z"
   },
   {
    "duration": 1289,
    "start_time": "2024-05-07T08:21:51.473Z"
   },
   {
    "duration": 907,
    "start_time": "2024-05-07T08:21:52.763Z"
   },
   {
    "duration": 18,
    "start_time": "2024-05-07T08:21:53.672Z"
   },
   {
    "duration": 88,
    "start_time": "2024-05-07T08:21:53.691Z"
   },
   {
    "duration": 83,
    "start_time": "2024-05-07T08:21:53.781Z"
   },
   {
    "duration": 76,
    "start_time": "2024-05-07T08:21:53.865Z"
   },
   {
    "duration": 256,
    "start_time": "2024-05-07T08:21:53.942Z"
   },
   {
    "duration": 4,
    "start_time": "2024-05-07T08:21:54.200Z"
   },
   {
    "duration": 42,
    "start_time": "2024-05-07T08:21:54.207Z"
   },
   {
    "duration": 573,
    "start_time": "2024-05-07T08:21:54.250Z"
   },
   {
    "duration": 21,
    "start_time": "2024-05-07T08:21:54.824Z"
   },
   {
    "duration": 8,
    "start_time": "2024-05-07T08:21:54.847Z"
   },
   {
    "duration": 54,
    "start_time": "2024-05-07T08:21:54.856Z"
   },
   {
    "duration": 511,
    "start_time": "2024-05-07T08:21:54.911Z"
   },
   {
    "duration": 11,
    "start_time": "2024-05-07T08:21:55.423Z"
   },
   {
    "duration": 36,
    "start_time": "2024-05-07T08:21:55.435Z"
   },
   {
    "duration": 37,
    "start_time": "2024-05-07T08:21:55.472Z"
   },
   {
    "duration": 1531,
    "start_time": "2024-05-07T08:21:55.511Z"
   },
   {
    "duration": 726,
    "start_time": "2024-05-07T08:21:57.045Z"
   },
   {
    "duration": 32,
    "start_time": "2024-05-07T08:21:57.772Z"
   },
   {
    "duration": 426,
    "start_time": "2024-05-07T08:21:57.806Z"
   },
   {
    "duration": 23,
    "start_time": "2024-05-07T08:21:58.234Z"
   },
   {
    "duration": 48,
    "start_time": "2024-05-07T08:21:58.258Z"
   },
   {
    "duration": 23,
    "start_time": "2024-05-07T08:21:58.307Z"
   },
   {
    "duration": 217,
    "start_time": "2024-05-07T08:21:58.331Z"
   },
   {
    "duration": 14,
    "start_time": "2024-05-07T08:21:58.550Z"
   },
   {
    "duration": 35,
    "start_time": "2024-05-07T08:21:58.568Z"
   },
   {
    "duration": 15,
    "start_time": "2024-05-07T08:21:58.604Z"
   },
   {
    "duration": 24,
    "start_time": "2024-05-07T08:21:58.620Z"
   },
   {
    "duration": 55,
    "start_time": "2024-05-07T08:21:58.646Z"
   },
   {
    "duration": 38,
    "start_time": "2024-05-07T08:21:58.703Z"
   },
   {
    "duration": 73,
    "start_time": "2024-05-07T08:21:58.743Z"
   },
   {
    "duration": 74,
    "start_time": "2024-05-07T08:21:58.817Z"
   },
   {
    "duration": 64,
    "start_time": "2024-05-07T08:21:58.892Z"
   },
   {
    "duration": 35,
    "start_time": "2024-05-07T08:21:58.958Z"
   },
   {
    "duration": 4,
    "start_time": "2024-05-07T08:21:58.994Z"
   },
   {
    "duration": 694,
    "start_time": "2024-05-07T08:21:58.999Z"
   },
   {
    "duration": 101,
    "start_time": "2024-05-07T08:21:59.784Z"
   },
   {
    "duration": 39,
    "start_time": "2024-05-07T08:21:59.886Z"
   },
   {
    "duration": 19,
    "start_time": "2024-05-07T08:21:59.926Z"
   },
   {
    "duration": 9,
    "start_time": "2024-05-07T08:21:59.946Z"
   },
   {
    "duration": 27692,
    "start_time": "2024-05-07T08:21:59.956Z"
   },
   {
    "duration": 113,
    "start_time": "2024-05-07T08:22:27.649Z"
   },
   {
    "duration": 4,
    "start_time": "2024-05-07T08:22:27.764Z"
   },
   {
    "duration": 54117,
    "start_time": "2024-05-07T08:22:27.769Z"
   },
   {
    "duration": 197130,
    "start_time": "2024-05-07T08:23:21.887Z"
   },
   {
    "duration": 237500,
    "start_time": "2024-05-07T08:26:39.018Z"
   },
   {
    "duration": 5325,
    "start_time": "2024-05-07T08:31:50.174Z"
   },
   {
    "duration": 1186,
    "start_time": "2024-05-07T08:31:55.502Z"
   },
   {
    "duration": 828,
    "start_time": "2024-05-07T08:31:56.690Z"
   },
   {
    "duration": 14,
    "start_time": "2024-05-07T08:31:57.519Z"
   },
   {
    "duration": 81,
    "start_time": "2024-05-07T08:31:57.535Z"
   },
   {
    "duration": 83,
    "start_time": "2024-05-07T08:31:57.617Z"
   },
   {
    "duration": 68,
    "start_time": "2024-05-07T08:31:57.702Z"
   },
   {
    "duration": 233,
    "start_time": "2024-05-07T08:31:57.771Z"
   },
   {
    "duration": 1,
    "start_time": "2024-05-07T08:31:58.006Z"
   },
   {
    "duration": 38,
    "start_time": "2024-05-07T08:31:58.009Z"
   },
   {
    "duration": 523,
    "start_time": "2024-05-07T08:31:58.049Z"
   },
   {
    "duration": 27,
    "start_time": "2024-05-07T08:31:58.573Z"
   },
   {
    "duration": 7,
    "start_time": "2024-05-07T08:31:58.601Z"
   },
   {
    "duration": 29,
    "start_time": "2024-05-07T08:31:58.610Z"
   },
   {
    "duration": 459,
    "start_time": "2024-05-07T08:31:58.641Z"
   },
   {
    "duration": 9,
    "start_time": "2024-05-07T08:31:59.102Z"
   },
   {
    "duration": 37,
    "start_time": "2024-05-07T08:31:59.112Z"
   },
   {
    "duration": 32,
    "start_time": "2024-05-07T08:31:59.151Z"
   },
   {
    "duration": 1394,
    "start_time": "2024-05-07T08:31:59.184Z"
   },
   {
    "duration": 718,
    "start_time": "2024-05-07T08:32:00.584Z"
   },
   {
    "duration": 20,
    "start_time": "2024-05-07T08:32:01.303Z"
   },
   {
    "duration": 517,
    "start_time": "2024-05-07T08:32:01.325Z"
   },
   {
    "duration": 19,
    "start_time": "2024-05-07T08:32:01.843Z"
   },
   {
    "duration": 60,
    "start_time": "2024-05-07T08:32:01.864Z"
   },
   {
    "duration": 25,
    "start_time": "2024-05-07T08:32:01.925Z"
   },
   {
    "duration": 233,
    "start_time": "2024-05-07T08:32:01.951Z"
   },
   {
    "duration": 10,
    "start_time": "2024-05-07T08:32:02.186Z"
   },
   {
    "duration": 72,
    "start_time": "2024-05-07T08:32:02.197Z"
   },
   {
    "duration": 88,
    "start_time": "2024-05-07T08:32:02.271Z"
   },
   {
    "duration": 82,
    "start_time": "2024-05-07T08:32:02.360Z"
   },
   {
    "duration": 62,
    "start_time": "2024-05-07T08:32:02.444Z"
   },
   {
    "duration": 40,
    "start_time": "2024-05-07T08:32:02.507Z"
   },
   {
    "duration": 46,
    "start_time": "2024-05-07T08:32:02.548Z"
   },
   {
    "duration": 51,
    "start_time": "2024-05-07T08:32:02.596Z"
   },
   {
    "duration": 94,
    "start_time": "2024-05-07T08:32:02.649Z"
   },
   {
    "duration": 23,
    "start_time": "2024-05-07T08:32:02.745Z"
   },
   {
    "duration": 15,
    "start_time": "2024-05-07T08:32:02.769Z"
   },
   {
    "duration": 702,
    "start_time": "2024-05-07T08:32:02.785Z"
   },
   {
    "duration": 100,
    "start_time": "2024-05-07T08:32:03.488Z"
   },
   {
    "duration": 55,
    "start_time": "2024-05-07T08:32:03.589Z"
   },
   {
    "duration": 17,
    "start_time": "2024-05-07T08:32:03.648Z"
   },
   {
    "duration": 23,
    "start_time": "2024-05-07T08:32:03.667Z"
   },
   {
    "duration": 23957,
    "start_time": "2024-05-07T08:32:03.691Z"
   },
   {
    "duration": 105,
    "start_time": "2024-05-07T08:32:27.649Z"
   },
   {
    "duration": 3,
    "start_time": "2024-05-07T08:32:27.755Z"
   },
   {
    "duration": 56532,
    "start_time": "2024-05-07T08:32:27.760Z"
   },
   {
    "duration": 185925,
    "start_time": "2024-05-07T08:33:24.294Z"
   },
   {
    "duration": 5364,
    "start_time": "2024-05-07T08:37:54.425Z"
   },
   {
    "duration": 1226,
    "start_time": "2024-05-07T08:37:59.791Z"
   },
   {
    "duration": 924,
    "start_time": "2024-05-07T08:38:01.018Z"
   },
   {
    "duration": 14,
    "start_time": "2024-05-07T08:38:01.944Z"
   },
   {
    "duration": 107,
    "start_time": "2024-05-07T08:38:01.959Z"
   },
   {
    "duration": 91,
    "start_time": "2024-05-07T08:38:02.067Z"
   },
   {
    "duration": 101,
    "start_time": "2024-05-07T08:38:02.159Z"
   },
   {
    "duration": 231,
    "start_time": "2024-05-07T08:38:02.261Z"
   },
   {
    "duration": 1,
    "start_time": "2024-05-07T08:38:02.494Z"
   },
   {
    "duration": 53,
    "start_time": "2024-05-07T08:38:02.497Z"
   },
   {
    "duration": 534,
    "start_time": "2024-05-07T08:38:02.551Z"
   },
   {
    "duration": 19,
    "start_time": "2024-05-07T08:38:03.086Z"
   },
   {
    "duration": 9,
    "start_time": "2024-05-07T08:38:03.106Z"
   },
   {
    "duration": 31,
    "start_time": "2024-05-07T08:38:03.117Z"
   },
   {
    "duration": 461,
    "start_time": "2024-05-07T08:38:03.149Z"
   },
   {
    "duration": 11,
    "start_time": "2024-05-07T08:38:03.611Z"
   },
   {
    "duration": 32,
    "start_time": "2024-05-07T08:38:03.624Z"
   },
   {
    "duration": 37,
    "start_time": "2024-05-07T08:38:03.657Z"
   },
   {
    "duration": 1397,
    "start_time": "2024-05-07T08:38:03.696Z"
   },
   {
    "duration": 702,
    "start_time": "2024-05-07T08:38:05.094Z"
   },
   {
    "duration": 20,
    "start_time": "2024-05-07T08:38:05.797Z"
   },
   {
    "duration": 368,
    "start_time": "2024-05-07T08:38:05.818Z"
   },
   {
    "duration": 19,
    "start_time": "2024-05-07T08:38:06.187Z"
   },
   {
    "duration": 30,
    "start_time": "2024-05-07T08:38:06.207Z"
   },
   {
    "duration": 20,
    "start_time": "2024-05-07T08:38:06.238Z"
   },
   {
    "duration": 199,
    "start_time": "2024-05-07T08:38:06.259Z"
   },
   {
    "duration": 11,
    "start_time": "2024-05-07T08:38:06.460Z"
   },
   {
    "duration": 20,
    "start_time": "2024-05-07T08:38:06.484Z"
   },
   {
    "duration": 12,
    "start_time": "2024-05-07T08:38:06.506Z"
   },
   {
    "duration": 40,
    "start_time": "2024-05-07T08:38:06.520Z"
   },
   {
    "duration": 51,
    "start_time": "2024-05-07T08:38:06.562Z"
   },
   {
    "duration": 30,
    "start_time": "2024-05-07T08:38:06.614Z"
   },
   {
    "duration": 48,
    "start_time": "2024-05-07T08:38:06.646Z"
   },
   {
    "duration": 56,
    "start_time": "2024-05-07T08:38:06.695Z"
   },
   {
    "duration": 71,
    "start_time": "2024-05-07T08:38:06.753Z"
   },
   {
    "duration": 21,
    "start_time": "2024-05-07T08:38:06.825Z"
   },
   {
    "duration": 4,
    "start_time": "2024-05-07T08:38:06.847Z"
   },
   {
    "duration": 643,
    "start_time": "2024-05-07T08:38:06.852Z"
   },
   {
    "duration": 101,
    "start_time": "2024-05-07T08:38:07.585Z"
   },
   {
    "duration": 35,
    "start_time": "2024-05-07T08:38:07.687Z"
   },
   {
    "duration": 15,
    "start_time": "2024-05-07T08:38:07.724Z"
   },
   {
    "duration": 9,
    "start_time": "2024-05-07T08:38:07.740Z"
   },
   {
    "duration": 23948,
    "start_time": "2024-05-07T08:38:07.751Z"
   },
   {
    "duration": 125,
    "start_time": "2024-05-07T08:38:31.700Z"
   },
   {
    "duration": 4,
    "start_time": "2024-05-07T08:38:31.826Z"
   },
   {
    "duration": 48260,
    "start_time": "2024-05-07T08:38:31.831Z"
   },
   {
    "duration": 180855,
    "start_time": "2024-05-07T08:39:20.093Z"
   }
  ],
  "kernelspec": {
   "display_name": "Python 3 (ipykernel)",
   "language": "python",
   "name": "python3"
  },
  "language_info": {
   "codemirror_mode": {
    "name": "ipython",
    "version": 3
   },
   "file_extension": ".py",
   "mimetype": "text/x-python",
   "name": "python",
   "nbconvert_exporter": "python",
   "pygments_lexer": "ipython3",
   "version": "3.11.7"
  },
  "toc": {
   "base_numbering": 1,
   "nav_menu": {},
   "number_sections": true,
   "sideBar": true,
   "skip_h1_title": true,
   "title_cell": "Table of Contents",
   "title_sidebar": "Contents",
   "toc_cell": false,
   "toc_position": {},
   "toc_section_display": true,
   "toc_window_display": false
  }
 },
 "nbformat": 4,
 "nbformat_minor": 4
}
