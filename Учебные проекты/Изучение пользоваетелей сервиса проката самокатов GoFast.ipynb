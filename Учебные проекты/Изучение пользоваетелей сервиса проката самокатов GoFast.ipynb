{
 "cells": [
  {
   "cell_type": "markdown",
   "id": "Yr_iTVQ0vynf",
   "metadata": {
    "id": "Yr_iTVQ0vynf"
   },
   "source": [
    "# Изучение пользоваетелей сервиса проката самокатов GoFast"
   ]
  },
  {
   "cell_type": "markdown",
   "id": "ojruHSn-UoqH",
   "metadata": {
    "id": "ojruHSn-UoqH"
   },
   "source": [
    "## Описание проекта\n",
    "\n",
    "Закзчик исследования популярный сервиса аренды самокатов GoFast. Нам передали данные о некоторых пользователях из нескольких городов, а также об их поездках. Проанализируем данные и проверим некоторые гипотезы, которые могут помочь бизнесу вырасти.\n",
    "Чтобы совершать поездки по городу, пользователи сервиса GoFast пользуются мобильным приложением. Сервисом можно пользоваться:\n",
    "* без подписки\n",
    "  * абонентская плата отсутствует;\n",
    "  * стоимость одной минуты поездки — 8 рублей;\n",
    "  * стоимость старта (начала поездки) — 50 рублей;\n",
    "* с подпиской Ultra\n",
    "  * абонентская плата — 199 рублей в месяц;\n",
    "  * стоимость одной минуты поездки — 6 рублей;\n",
    "  * стоимость старта — бесплатно.\n",
    "\n"
   ]
  },
  {
   "cell_type": "markdown",
   "id": "iqLXqcXlVvxt",
   "metadata": {
    "id": "iqLXqcXlVvxt"
   },
   "source": [
    "## Описание данных\n",
    "\n",
    "В основных данных есть информация о пользователях, их поездках и подписках.\n",
    "\n",
    "Пользователи — **users_go.csv**\n",
    "\n",
    "* ***user_id*** -\tуникальный идентификатор пользователя\n",
    "* ***name*** -\tимя пользователя\n",
    "* ***age*** -\tвозраст\n",
    "* ***city*** -\tгород\n",
    "* ***subscription_type*** -\tтип подписки (*free*, *ultra*)\n",
    "\n",
    "Поездки — **rides_go.csv**\n",
    "* ***user_id*** -\tуникальный идентификатор пользователя\n",
    "* ***distance*** -\tрасстояние, которое пользователь проехал в текущей сессии (в метрах)\n",
    "* ***duration*** -\tпродолжительность сессии (в минутах) — время с того момента, как пользователь нажал кнопку «Начать поездку» до момента, как он нажал кнопку «Завершить поездку»\n",
    "* ***date***\t- дата совершения поездки\n",
    "\n",
    "Подписки — **subscriptions_go.csv**\n",
    "* ***subscription_type*** -\tтип подписки\n",
    "* ***minute_price***\t- стоимость одной минуты поездки по данной подписке\n",
    "* ***start_ride_price*** -\tстоимость начала поездки\n",
    "* **subscription_fee**\t- стоимость ежемесячного платежа"
   ]
  },
  {
   "cell_type": "markdown",
   "id": "c42cbe00",
   "metadata": {
    "id": "c42cbe00"
   },
   "source": [
    "# Шаг 1. Загрузка данных"
   ]
  },
  {
   "cell_type": "markdown",
   "id": "ZEiPfhE-X7EA",
   "metadata": {
    "id": "ZEiPfhE-X7EA"
   },
   "source": [
    "Импортируем необходимые библиотеки:"
   ]
  },
  {
   "cell_type": "code",
   "execution_count": 103,
   "id": "72576667",
   "metadata": {
    "id": "72576667"
   },
   "outputs": [],
   "source": [
    "import pandas as pd\n",
    "import numpy as np\n",
    "import matplotlib.pyplot as plt\n",
    "import seaborn as sns\n",
    "import scipy.stats as st"
   ]
  },
  {
   "cell_type": "markdown",
   "id": "1FrVHu5FX0AI",
   "metadata": {
    "id": "1FrVHu5FX0AI"
   },
   "source": [
    "Считаем CSV-файлы с данными с помощью библиотеки pandas и сохраняем их в датафреймы:"
   ]
  },
  {
   "cell_type": "code",
   "execution_count": 104,
   "id": "eff9f206",
   "metadata": {
    "id": "eff9f206"
   },
   "outputs": [],
   "source": [
    "try:\n",
    "    users_go = pd.read_csv('users_go.csv')\n",
    "    rides_go = pd.read_csv('rides_go.csv')\n",
    "    subscriptions_go = pd.read_csv('subscriptions_go.csv')\n",
    "except:\n",
    "    users_go = pd.read_csv('/datasets/users_go.csv')\n",
    "    rides_go = pd.read_csv('/datasets/rides_go.csv')\n",
    "    subscriptions_go = pd.read_csv('/datasets/subscriptions_go.csv')"
   ]
  },
  {
   "cell_type": "markdown",
   "id": "81JzsCn2Y0pW",
   "metadata": {
    "id": "81JzsCn2Y0pW"
   },
   "source": [
    "Далее выводим общую информацию по всем трём датафреймам:"
   ]
  },
  {
   "cell_type": "code",
   "execution_count": 105,
   "id": "lPRsegvlYF5N",
   "metadata": {
    "colab": {
     "base_uri": "https://localhost:8080/"
    },
    "id": "lPRsegvlYF5N",
    "outputId": "df94669c-5833-48c9-d21f-76e7d28c6839"
   },
   "outputs": [
    {
     "name": "stdout",
     "output_type": "stream",
     "text": [
      "<class 'pandas.core.frame.DataFrame'>\n",
      "RangeIndex: 1565 entries, 0 to 1564\n",
      "Data columns (total 5 columns):\n",
      " #   Column             Non-Null Count  Dtype \n",
      "---  ------             --------------  ----- \n",
      " 0   user_id            1565 non-null   int64 \n",
      " 1   name               1565 non-null   object\n",
      " 2   age                1565 non-null   int64 \n",
      " 3   city               1565 non-null   object\n",
      " 4   subscription_type  1565 non-null   object\n",
      "dtypes: int64(2), object(3)\n",
      "memory usage: 61.3+ KB\n",
      "None\n",
      "<class 'pandas.core.frame.DataFrame'>\n",
      "RangeIndex: 18068 entries, 0 to 18067\n",
      "Data columns (total 4 columns):\n",
      " #   Column    Non-Null Count  Dtype  \n",
      "---  ------    --------------  -----  \n",
      " 0   user_id   18068 non-null  int64  \n",
      " 1   distance  18068 non-null  float64\n",
      " 2   duration  18068 non-null  float64\n",
      " 3   date      18068 non-null  object \n",
      "dtypes: float64(2), int64(1), object(1)\n",
      "memory usage: 564.8+ KB\n",
      "None\n",
      "<class 'pandas.core.frame.DataFrame'>\n",
      "RangeIndex: 2 entries, 0 to 1\n",
      "Data columns (total 4 columns):\n",
      " #   Column             Non-Null Count  Dtype \n",
      "---  ------             --------------  ----- \n",
      " 0   subscription_type  2 non-null      object\n",
      " 1   minute_price       2 non-null      int64 \n",
      " 2   start_ride_price   2 non-null      int64 \n",
      " 3   subscription_fee   2 non-null      int64 \n",
      "dtypes: int64(3), object(1)\n",
      "memory usage: 192.0+ bytes\n"
     ]
    }
   ],
   "source": [
    "print(users_go.info())\n",
    "print(rides_go.info())\n",
    "subscriptions_go.info()"
   ]
  },
  {
   "cell_type": "markdown",
   "id": "aS0cBcvqY-8A",
   "metadata": {
    "id": "aS0cBcvqY-8A"
   },
   "source": [
    "Также посмотрим на первые строки каждого из них:"
   ]
  },
  {
   "cell_type": "code",
   "execution_count": 106,
   "id": "wZJazsBNYdMs",
   "metadata": {
    "colab": {
     "base_uri": "https://localhost:8080/",
     "height": 206
    },
    "id": "wZJazsBNYdMs",
    "outputId": "e651978b-9458-4577-f150-5fa9e47b1488"
   },
   "outputs": [
    {
     "data": {
      "text/html": [
       "\n",
       "  <div id=\"df-8bb49f75-966c-46fa-989a-59f1803049ab\">\n",
       "    <div class=\"colab-df-container\">\n",
       "      <div>\n",
       "<style scoped>\n",
       "    .dataframe tbody tr th:only-of-type {\n",
       "        vertical-align: middle;\n",
       "    }\n",
       "\n",
       "    .dataframe tbody tr th {\n",
       "        vertical-align: top;\n",
       "    }\n",
       "\n",
       "    .dataframe thead th {\n",
       "        text-align: right;\n",
       "    }\n",
       "</style>\n",
       "<table border=\"1\" class=\"dataframe\">\n",
       "  <thead>\n",
       "    <tr style=\"text-align: right;\">\n",
       "      <th></th>\n",
       "      <th>user_id</th>\n",
       "      <th>name</th>\n",
       "      <th>age</th>\n",
       "      <th>city</th>\n",
       "      <th>subscription_type</th>\n",
       "    </tr>\n",
       "  </thead>\n",
       "  <tbody>\n",
       "    <tr>\n",
       "      <th>0</th>\n",
       "      <td>1</td>\n",
       "      <td>Кира</td>\n",
       "      <td>22</td>\n",
       "      <td>Тюмень</td>\n",
       "      <td>ultra</td>\n",
       "    </tr>\n",
       "    <tr>\n",
       "      <th>1</th>\n",
       "      <td>2</td>\n",
       "      <td>Станислав</td>\n",
       "      <td>31</td>\n",
       "      <td>Омск</td>\n",
       "      <td>ultra</td>\n",
       "    </tr>\n",
       "    <tr>\n",
       "      <th>2</th>\n",
       "      <td>3</td>\n",
       "      <td>Алексей</td>\n",
       "      <td>20</td>\n",
       "      <td>Москва</td>\n",
       "      <td>ultra</td>\n",
       "    </tr>\n",
       "    <tr>\n",
       "      <th>3</th>\n",
       "      <td>4</td>\n",
       "      <td>Константин</td>\n",
       "      <td>26</td>\n",
       "      <td>Ростов-на-Дону</td>\n",
       "      <td>ultra</td>\n",
       "    </tr>\n",
       "    <tr>\n",
       "      <th>4</th>\n",
       "      <td>5</td>\n",
       "      <td>Адель</td>\n",
       "      <td>28</td>\n",
       "      <td>Омск</td>\n",
       "      <td>ultra</td>\n",
       "    </tr>\n",
       "  </tbody>\n",
       "</table>\n",
       "</div>\n",
       "      <button class=\"colab-df-convert\" onclick=\"convertToInteractive('df-8bb49f75-966c-46fa-989a-59f1803049ab')\"\n",
       "              title=\"Convert this dataframe to an interactive table.\"\n",
       "              style=\"display:none;\">\n",
       "        \n",
       "  <svg xmlns=\"http://www.w3.org/2000/svg\" height=\"24px\"viewBox=\"0 0 24 24\"\n",
       "       width=\"24px\">\n",
       "    <path d=\"M0 0h24v24H0V0z\" fill=\"none\"/>\n",
       "    <path d=\"M18.56 5.44l.94 2.06.94-2.06 2.06-.94-2.06-.94-.94-2.06-.94 2.06-2.06.94zm-11 1L8.5 8.5l.94-2.06 2.06-.94-2.06-.94L8.5 2.5l-.94 2.06-2.06.94zm10 10l.94 2.06.94-2.06 2.06-.94-2.06-.94-.94-2.06-.94 2.06-2.06.94z\"/><path d=\"M17.41 7.96l-1.37-1.37c-.4-.4-.92-.59-1.43-.59-.52 0-1.04.2-1.43.59L10.3 9.45l-7.72 7.72c-.78.78-.78 2.05 0 2.83L4 21.41c.39.39.9.59 1.41.59.51 0 1.02-.2 1.41-.59l7.78-7.78 2.81-2.81c.8-.78.8-2.07 0-2.86zM5.41 20L4 18.59l7.72-7.72 1.47 1.35L5.41 20z\"/>\n",
       "  </svg>\n",
       "      </button>\n",
       "      \n",
       "  <style>\n",
       "    .colab-df-container {\n",
       "      display:flex;\n",
       "      flex-wrap:wrap;\n",
       "      gap: 12px;\n",
       "    }\n",
       "\n",
       "    .colab-df-convert {\n",
       "      background-color: #E8F0FE;\n",
       "      border: none;\n",
       "      border-radius: 50%;\n",
       "      cursor: pointer;\n",
       "      display: none;\n",
       "      fill: #1967D2;\n",
       "      height: 32px;\n",
       "      padding: 0 0 0 0;\n",
       "      width: 32px;\n",
       "    }\n",
       "\n",
       "    .colab-df-convert:hover {\n",
       "      background-color: #E2EBFA;\n",
       "      box-shadow: 0px 1px 2px rgba(60, 64, 67, 0.3), 0px 1px 3px 1px rgba(60, 64, 67, 0.15);\n",
       "      fill: #174EA6;\n",
       "    }\n",
       "\n",
       "    [theme=dark] .colab-df-convert {\n",
       "      background-color: #3B4455;\n",
       "      fill: #D2E3FC;\n",
       "    }\n",
       "\n",
       "    [theme=dark] .colab-df-convert:hover {\n",
       "      background-color: #434B5C;\n",
       "      box-shadow: 0px 1px 3px 1px rgba(0, 0, 0, 0.15);\n",
       "      filter: drop-shadow(0px 1px 2px rgba(0, 0, 0, 0.3));\n",
       "      fill: #FFFFFF;\n",
       "    }\n",
       "  </style>\n",
       "\n",
       "      <script>\n",
       "        const buttonEl =\n",
       "          document.querySelector('#df-8bb49f75-966c-46fa-989a-59f1803049ab button.colab-df-convert');\n",
       "        buttonEl.style.display =\n",
       "          google.colab.kernel.accessAllowed ? 'block' : 'none';\n",
       "\n",
       "        async function convertToInteractive(key) {\n",
       "          const element = document.querySelector('#df-8bb49f75-966c-46fa-989a-59f1803049ab');\n",
       "          const dataTable =\n",
       "            await google.colab.kernel.invokeFunction('convertToInteractive',\n",
       "                                                     [key], {});\n",
       "          if (!dataTable) return;\n",
       "\n",
       "          const docLinkHtml = 'Like what you see? Visit the ' +\n",
       "            '<a target=\"_blank\" href=https://colab.research.google.com/notebooks/data_table.ipynb>data table notebook</a>'\n",
       "            + ' to learn more about interactive tables.';\n",
       "          element.innerHTML = '';\n",
       "          dataTable['output_type'] = 'display_data';\n",
       "          await google.colab.output.renderOutput(dataTable, element);\n",
       "          const docLink = document.createElement('div');\n",
       "          docLink.innerHTML = docLinkHtml;\n",
       "          element.appendChild(docLink);\n",
       "        }\n",
       "      </script>\n",
       "    </div>\n",
       "  </div>\n",
       "  "
      ],
      "text/plain": [
       "   user_id        name  age            city subscription_type\n",
       "0        1        Кира   22          Тюмень             ultra\n",
       "1        2   Станислав   31            Омск             ultra\n",
       "2        3     Алексей   20          Москва             ultra\n",
       "3        4  Константин   26  Ростов-на-Дону             ultra\n",
       "4        5       Адель   28            Омск             ultra"
      ]
     },
     "execution_count": 106,
     "metadata": {},
     "output_type": "execute_result"
    }
   ],
   "source": [
    "users_go.head()"
   ]
  },
  {
   "cell_type": "code",
   "execution_count": 107,
   "id": "ctWO0F-wYhXa",
   "metadata": {
    "colab": {
     "base_uri": "https://localhost:8080/",
     "height": 206
    },
    "id": "ctWO0F-wYhXa",
    "outputId": "ff294fcf-0670-4105-9541-44fbd9167ce9"
   },
   "outputs": [
    {
     "data": {
      "text/html": [
       "\n",
       "  <div id=\"df-608ef05d-7c22-45ae-854d-e54e3ee4f166\">\n",
       "    <div class=\"colab-df-container\">\n",
       "      <div>\n",
       "<style scoped>\n",
       "    .dataframe tbody tr th:only-of-type {\n",
       "        vertical-align: middle;\n",
       "    }\n",
       "\n",
       "    .dataframe tbody tr th {\n",
       "        vertical-align: top;\n",
       "    }\n",
       "\n",
       "    .dataframe thead th {\n",
       "        text-align: right;\n",
       "    }\n",
       "</style>\n",
       "<table border=\"1\" class=\"dataframe\">\n",
       "  <thead>\n",
       "    <tr style=\"text-align: right;\">\n",
       "      <th></th>\n",
       "      <th>user_id</th>\n",
       "      <th>distance</th>\n",
       "      <th>duration</th>\n",
       "      <th>date</th>\n",
       "    </tr>\n",
       "  </thead>\n",
       "  <tbody>\n",
       "    <tr>\n",
       "      <th>0</th>\n",
       "      <td>1</td>\n",
       "      <td>4409.919140</td>\n",
       "      <td>25.599769</td>\n",
       "      <td>2021-01-01</td>\n",
       "    </tr>\n",
       "    <tr>\n",
       "      <th>1</th>\n",
       "      <td>1</td>\n",
       "      <td>2617.592153</td>\n",
       "      <td>15.816871</td>\n",
       "      <td>2021-01-18</td>\n",
       "    </tr>\n",
       "    <tr>\n",
       "      <th>2</th>\n",
       "      <td>1</td>\n",
       "      <td>754.159807</td>\n",
       "      <td>6.232113</td>\n",
       "      <td>2021-04-20</td>\n",
       "    </tr>\n",
       "    <tr>\n",
       "      <th>3</th>\n",
       "      <td>1</td>\n",
       "      <td>2694.783254</td>\n",
       "      <td>18.511000</td>\n",
       "      <td>2021-08-11</td>\n",
       "    </tr>\n",
       "    <tr>\n",
       "      <th>4</th>\n",
       "      <td>1</td>\n",
       "      <td>4028.687306</td>\n",
       "      <td>26.265803</td>\n",
       "      <td>2021-08-28</td>\n",
       "    </tr>\n",
       "  </tbody>\n",
       "</table>\n",
       "</div>\n",
       "      <button class=\"colab-df-convert\" onclick=\"convertToInteractive('df-608ef05d-7c22-45ae-854d-e54e3ee4f166')\"\n",
       "              title=\"Convert this dataframe to an interactive table.\"\n",
       "              style=\"display:none;\">\n",
       "        \n",
       "  <svg xmlns=\"http://www.w3.org/2000/svg\" height=\"24px\"viewBox=\"0 0 24 24\"\n",
       "       width=\"24px\">\n",
       "    <path d=\"M0 0h24v24H0V0z\" fill=\"none\"/>\n",
       "    <path d=\"M18.56 5.44l.94 2.06.94-2.06 2.06-.94-2.06-.94-.94-2.06-.94 2.06-2.06.94zm-11 1L8.5 8.5l.94-2.06 2.06-.94-2.06-.94L8.5 2.5l-.94 2.06-2.06.94zm10 10l.94 2.06.94-2.06 2.06-.94-2.06-.94-.94-2.06-.94 2.06-2.06.94z\"/><path d=\"M17.41 7.96l-1.37-1.37c-.4-.4-.92-.59-1.43-.59-.52 0-1.04.2-1.43.59L10.3 9.45l-7.72 7.72c-.78.78-.78 2.05 0 2.83L4 21.41c.39.39.9.59 1.41.59.51 0 1.02-.2 1.41-.59l7.78-7.78 2.81-2.81c.8-.78.8-2.07 0-2.86zM5.41 20L4 18.59l7.72-7.72 1.47 1.35L5.41 20z\"/>\n",
       "  </svg>\n",
       "      </button>\n",
       "      \n",
       "  <style>\n",
       "    .colab-df-container {\n",
       "      display:flex;\n",
       "      flex-wrap:wrap;\n",
       "      gap: 12px;\n",
       "    }\n",
       "\n",
       "    .colab-df-convert {\n",
       "      background-color: #E8F0FE;\n",
       "      border: none;\n",
       "      border-radius: 50%;\n",
       "      cursor: pointer;\n",
       "      display: none;\n",
       "      fill: #1967D2;\n",
       "      height: 32px;\n",
       "      padding: 0 0 0 0;\n",
       "      width: 32px;\n",
       "    }\n",
       "\n",
       "    .colab-df-convert:hover {\n",
       "      background-color: #E2EBFA;\n",
       "      box-shadow: 0px 1px 2px rgba(60, 64, 67, 0.3), 0px 1px 3px 1px rgba(60, 64, 67, 0.15);\n",
       "      fill: #174EA6;\n",
       "    }\n",
       "\n",
       "    [theme=dark] .colab-df-convert {\n",
       "      background-color: #3B4455;\n",
       "      fill: #D2E3FC;\n",
       "    }\n",
       "\n",
       "    [theme=dark] .colab-df-convert:hover {\n",
       "      background-color: #434B5C;\n",
       "      box-shadow: 0px 1px 3px 1px rgba(0, 0, 0, 0.15);\n",
       "      filter: drop-shadow(0px 1px 2px rgba(0, 0, 0, 0.3));\n",
       "      fill: #FFFFFF;\n",
       "    }\n",
       "  </style>\n",
       "\n",
       "      <script>\n",
       "        const buttonEl =\n",
       "          document.querySelector('#df-608ef05d-7c22-45ae-854d-e54e3ee4f166 button.colab-df-convert');\n",
       "        buttonEl.style.display =\n",
       "          google.colab.kernel.accessAllowed ? 'block' : 'none';\n",
       "\n",
       "        async function convertToInteractive(key) {\n",
       "          const element = document.querySelector('#df-608ef05d-7c22-45ae-854d-e54e3ee4f166');\n",
       "          const dataTable =\n",
       "            await google.colab.kernel.invokeFunction('convertToInteractive',\n",
       "                                                     [key], {});\n",
       "          if (!dataTable) return;\n",
       "\n",
       "          const docLinkHtml = 'Like what you see? Visit the ' +\n",
       "            '<a target=\"_blank\" href=https://colab.research.google.com/notebooks/data_table.ipynb>data table notebook</a>'\n",
       "            + ' to learn more about interactive tables.';\n",
       "          element.innerHTML = '';\n",
       "          dataTable['output_type'] = 'display_data';\n",
       "          await google.colab.output.renderOutput(dataTable, element);\n",
       "          const docLink = document.createElement('div');\n",
       "          docLink.innerHTML = docLinkHtml;\n",
       "          element.appendChild(docLink);\n",
       "        }\n",
       "      </script>\n",
       "    </div>\n",
       "  </div>\n",
       "  "
      ],
      "text/plain": [
       "   user_id     distance   duration        date\n",
       "0        1  4409.919140  25.599769  2021-01-01\n",
       "1        1  2617.592153  15.816871  2021-01-18\n",
       "2        1   754.159807   6.232113  2021-04-20\n",
       "3        1  2694.783254  18.511000  2021-08-11\n",
       "4        1  4028.687306  26.265803  2021-08-28"
      ]
     },
     "execution_count": 107,
     "metadata": {},
     "output_type": "execute_result"
    }
   ],
   "source": [
    "rides_go.head()"
   ]
  },
  {
   "cell_type": "code",
   "execution_count": 108,
   "id": "Nsjc-qNRYpjH",
   "metadata": {
    "colab": {
     "base_uri": "https://localhost:8080/",
     "height": 112
    },
    "id": "Nsjc-qNRYpjH",
    "outputId": "9ad6db86-aa8e-42ae-efc4-0c0dfe4c9e6e"
   },
   "outputs": [
    {
     "data": {
      "text/html": [
       "\n",
       "  <div id=\"df-f7797825-81b7-41a9-b84b-e73aaa77c8fa\">\n",
       "    <div class=\"colab-df-container\">\n",
       "      <div>\n",
       "<style scoped>\n",
       "    .dataframe tbody tr th:only-of-type {\n",
       "        vertical-align: middle;\n",
       "    }\n",
       "\n",
       "    .dataframe tbody tr th {\n",
       "        vertical-align: top;\n",
       "    }\n",
       "\n",
       "    .dataframe thead th {\n",
       "        text-align: right;\n",
       "    }\n",
       "</style>\n",
       "<table border=\"1\" class=\"dataframe\">\n",
       "  <thead>\n",
       "    <tr style=\"text-align: right;\">\n",
       "      <th></th>\n",
       "      <th>subscription_type</th>\n",
       "      <th>minute_price</th>\n",
       "      <th>start_ride_price</th>\n",
       "      <th>subscription_fee</th>\n",
       "    </tr>\n",
       "  </thead>\n",
       "  <tbody>\n",
       "    <tr>\n",
       "      <th>0</th>\n",
       "      <td>free</td>\n",
       "      <td>8</td>\n",
       "      <td>50</td>\n",
       "      <td>0</td>\n",
       "    </tr>\n",
       "    <tr>\n",
       "      <th>1</th>\n",
       "      <td>ultra</td>\n",
       "      <td>6</td>\n",
       "      <td>0</td>\n",
       "      <td>199</td>\n",
       "    </tr>\n",
       "  </tbody>\n",
       "</table>\n",
       "</div>\n",
       "      <button class=\"colab-df-convert\" onclick=\"convertToInteractive('df-f7797825-81b7-41a9-b84b-e73aaa77c8fa')\"\n",
       "              title=\"Convert this dataframe to an interactive table.\"\n",
       "              style=\"display:none;\">\n",
       "        \n",
       "  <svg xmlns=\"http://www.w3.org/2000/svg\" height=\"24px\"viewBox=\"0 0 24 24\"\n",
       "       width=\"24px\">\n",
       "    <path d=\"M0 0h24v24H0V0z\" fill=\"none\"/>\n",
       "    <path d=\"M18.56 5.44l.94 2.06.94-2.06 2.06-.94-2.06-.94-.94-2.06-.94 2.06-2.06.94zm-11 1L8.5 8.5l.94-2.06 2.06-.94-2.06-.94L8.5 2.5l-.94 2.06-2.06.94zm10 10l.94 2.06.94-2.06 2.06-.94-2.06-.94-.94-2.06-.94 2.06-2.06.94z\"/><path d=\"M17.41 7.96l-1.37-1.37c-.4-.4-.92-.59-1.43-.59-.52 0-1.04.2-1.43.59L10.3 9.45l-7.72 7.72c-.78.78-.78 2.05 0 2.83L4 21.41c.39.39.9.59 1.41.59.51 0 1.02-.2 1.41-.59l7.78-7.78 2.81-2.81c.8-.78.8-2.07 0-2.86zM5.41 20L4 18.59l7.72-7.72 1.47 1.35L5.41 20z\"/>\n",
       "  </svg>\n",
       "      </button>\n",
       "      \n",
       "  <style>\n",
       "    .colab-df-container {\n",
       "      display:flex;\n",
       "      flex-wrap:wrap;\n",
       "      gap: 12px;\n",
       "    }\n",
       "\n",
       "    .colab-df-convert {\n",
       "      background-color: #E8F0FE;\n",
       "      border: none;\n",
       "      border-radius: 50%;\n",
       "      cursor: pointer;\n",
       "      display: none;\n",
       "      fill: #1967D2;\n",
       "      height: 32px;\n",
       "      padding: 0 0 0 0;\n",
       "      width: 32px;\n",
       "    }\n",
       "\n",
       "    .colab-df-convert:hover {\n",
       "      background-color: #E2EBFA;\n",
       "      box-shadow: 0px 1px 2px rgba(60, 64, 67, 0.3), 0px 1px 3px 1px rgba(60, 64, 67, 0.15);\n",
       "      fill: #174EA6;\n",
       "    }\n",
       "\n",
       "    [theme=dark] .colab-df-convert {\n",
       "      background-color: #3B4455;\n",
       "      fill: #D2E3FC;\n",
       "    }\n",
       "\n",
       "    [theme=dark] .colab-df-convert:hover {\n",
       "      background-color: #434B5C;\n",
       "      box-shadow: 0px 1px 3px 1px rgba(0, 0, 0, 0.15);\n",
       "      filter: drop-shadow(0px 1px 2px rgba(0, 0, 0, 0.3));\n",
       "      fill: #FFFFFF;\n",
       "    }\n",
       "  </style>\n",
       "\n",
       "      <script>\n",
       "        const buttonEl =\n",
       "          document.querySelector('#df-f7797825-81b7-41a9-b84b-e73aaa77c8fa button.colab-df-convert');\n",
       "        buttonEl.style.display =\n",
       "          google.colab.kernel.accessAllowed ? 'block' : 'none';\n",
       "\n",
       "        async function convertToInteractive(key) {\n",
       "          const element = document.querySelector('#df-f7797825-81b7-41a9-b84b-e73aaa77c8fa');\n",
       "          const dataTable =\n",
       "            await google.colab.kernel.invokeFunction('convertToInteractive',\n",
       "                                                     [key], {});\n",
       "          if (!dataTable) return;\n",
       "\n",
       "          const docLinkHtml = 'Like what you see? Visit the ' +\n",
       "            '<a target=\"_blank\" href=https://colab.research.google.com/notebooks/data_table.ipynb>data table notebook</a>'\n",
       "            + ' to learn more about interactive tables.';\n",
       "          element.innerHTML = '';\n",
       "          dataTable['output_type'] = 'display_data';\n",
       "          await google.colab.output.renderOutput(dataTable, element);\n",
       "          const docLink = document.createElement('div');\n",
       "          docLink.innerHTML = docLinkHtml;\n",
       "          element.appendChild(docLink);\n",
       "        }\n",
       "      </script>\n",
       "    </div>\n",
       "  </div>\n",
       "  "
      ],
      "text/plain": [
       "  subscription_type  minute_price  start_ride_price  subscription_fee\n",
       "0              free             8                50                 0\n",
       "1             ultra             6                 0               199"
      ]
     },
     "execution_count": 108,
     "metadata": {},
     "output_type": "execute_result"
    }
   ],
   "source": [
    "subscriptions_go.head()"
   ]
  },
  {
   "cell_type": "markdown",
   "id": "qpOES2EcxOyr",
   "metadata": {
    "id": "qpOES2EcxOyr"
   },
   "source": [
    "Можем сделать первоначальный вывод по данным: видим, что наполненней всего датафрейм с данными о поездках, что вполне логично; также можно отметить, что в данных пока не заметно пропущенных значений, а также все типы данных для столбцов соответствующие."
   ]
  },
  {
   "cell_type": "markdown",
   "id": "e95ebca7",
   "metadata": {
    "id": "e95ebca7"
   },
   "source": [
    "# Шаг 2. Предобработка данных"
   ]
  },
  {
   "cell_type": "markdown",
   "id": "zXc2yKIWZIoy",
   "metadata": {
    "id": "zXc2yKIWZIoy"
   },
   "source": [
    "Первым делом приведём стобец ***data*** из датафрейма **rides_go** к корректному типу данных:"
   ]
  },
  {
   "cell_type": "code",
   "execution_count": 109,
   "id": "af6d202c",
   "metadata": {
    "colab": {
     "base_uri": "https://localhost:8080/"
    },
    "id": "af6d202c",
    "outputId": "4e9eb2ec-1c4a-4dad-dc46-ed67badba219"
   },
   "outputs": [
    {
     "name": "stdout",
     "output_type": "stream",
     "text": [
      "<class 'pandas.core.frame.DataFrame'>\n",
      "RangeIndex: 18068 entries, 0 to 18067\n",
      "Data columns (total 4 columns):\n",
      " #   Column    Non-Null Count  Dtype         \n",
      "---  ------    --------------  -----         \n",
      " 0   user_id   18068 non-null  int64         \n",
      " 1   distance  18068 non-null  float64       \n",
      " 2   duration  18068 non-null  float64       \n",
      " 3   date      18068 non-null  datetime64[ns]\n",
      "dtypes: datetime64[ns](1), float64(2), int64(1)\n",
      "memory usage: 564.8 KB\n"
     ]
    }
   ],
   "source": [
    "rides_go['date'] = pd.to_datetime(rides_go['date'], format='%Y.%m.%d')\n",
    "rides_go.info()"
   ]
  },
  {
   "cell_type": "markdown",
   "id": "ZyGAAZQ3dQnN",
   "metadata": {
    "id": "ZyGAAZQ3dQnN"
   },
   "source": [
    "Добавим в датафрейм отдельный столбец ***date_month*** с данными о месяце, когда была совершена поездка:"
   ]
  },
  {
   "cell_type": "code",
   "execution_count": 110,
   "id": "OT3upeszc3rX",
   "metadata": {
    "colab": {
     "base_uri": "https://localhost:8080/",
     "height": 206
    },
    "id": "OT3upeszc3rX",
    "outputId": "58784625-22cd-40e3-be36-110cd3709a01"
   },
   "outputs": [
    {
     "data": {
      "text/html": [
       "\n",
       "  <div id=\"df-49f4d00b-ab3c-407e-87a2-580aa8495fe0\">\n",
       "    <div class=\"colab-df-container\">\n",
       "      <div>\n",
       "<style scoped>\n",
       "    .dataframe tbody tr th:only-of-type {\n",
       "        vertical-align: middle;\n",
       "    }\n",
       "\n",
       "    .dataframe tbody tr th {\n",
       "        vertical-align: top;\n",
       "    }\n",
       "\n",
       "    .dataframe thead th {\n",
       "        text-align: right;\n",
       "    }\n",
       "</style>\n",
       "<table border=\"1\" class=\"dataframe\">\n",
       "  <thead>\n",
       "    <tr style=\"text-align: right;\">\n",
       "      <th></th>\n",
       "      <th>user_id</th>\n",
       "      <th>distance</th>\n",
       "      <th>duration</th>\n",
       "      <th>date</th>\n",
       "      <th>date_month</th>\n",
       "    </tr>\n",
       "  </thead>\n",
       "  <tbody>\n",
       "    <tr>\n",
       "      <th>0</th>\n",
       "      <td>1</td>\n",
       "      <td>4409.919140</td>\n",
       "      <td>25.599769</td>\n",
       "      <td>2021-01-01</td>\n",
       "      <td>1</td>\n",
       "    </tr>\n",
       "    <tr>\n",
       "      <th>1</th>\n",
       "      <td>1</td>\n",
       "      <td>2617.592153</td>\n",
       "      <td>15.816871</td>\n",
       "      <td>2021-01-18</td>\n",
       "      <td>1</td>\n",
       "    </tr>\n",
       "    <tr>\n",
       "      <th>2</th>\n",
       "      <td>1</td>\n",
       "      <td>754.159807</td>\n",
       "      <td>6.232113</td>\n",
       "      <td>2021-04-20</td>\n",
       "      <td>4</td>\n",
       "    </tr>\n",
       "    <tr>\n",
       "      <th>3</th>\n",
       "      <td>1</td>\n",
       "      <td>2694.783254</td>\n",
       "      <td>18.511000</td>\n",
       "      <td>2021-08-11</td>\n",
       "      <td>8</td>\n",
       "    </tr>\n",
       "    <tr>\n",
       "      <th>4</th>\n",
       "      <td>1</td>\n",
       "      <td>4028.687306</td>\n",
       "      <td>26.265803</td>\n",
       "      <td>2021-08-28</td>\n",
       "      <td>8</td>\n",
       "    </tr>\n",
       "  </tbody>\n",
       "</table>\n",
       "</div>\n",
       "      <button class=\"colab-df-convert\" onclick=\"convertToInteractive('df-49f4d00b-ab3c-407e-87a2-580aa8495fe0')\"\n",
       "              title=\"Convert this dataframe to an interactive table.\"\n",
       "              style=\"display:none;\">\n",
       "        \n",
       "  <svg xmlns=\"http://www.w3.org/2000/svg\" height=\"24px\"viewBox=\"0 0 24 24\"\n",
       "       width=\"24px\">\n",
       "    <path d=\"M0 0h24v24H0V0z\" fill=\"none\"/>\n",
       "    <path d=\"M18.56 5.44l.94 2.06.94-2.06 2.06-.94-2.06-.94-.94-2.06-.94 2.06-2.06.94zm-11 1L8.5 8.5l.94-2.06 2.06-.94-2.06-.94L8.5 2.5l-.94 2.06-2.06.94zm10 10l.94 2.06.94-2.06 2.06-.94-2.06-.94-.94-2.06-.94 2.06-2.06.94z\"/><path d=\"M17.41 7.96l-1.37-1.37c-.4-.4-.92-.59-1.43-.59-.52 0-1.04.2-1.43.59L10.3 9.45l-7.72 7.72c-.78.78-.78 2.05 0 2.83L4 21.41c.39.39.9.59 1.41.59.51 0 1.02-.2 1.41-.59l7.78-7.78 2.81-2.81c.8-.78.8-2.07 0-2.86zM5.41 20L4 18.59l7.72-7.72 1.47 1.35L5.41 20z\"/>\n",
       "  </svg>\n",
       "      </button>\n",
       "      \n",
       "  <style>\n",
       "    .colab-df-container {\n",
       "      display:flex;\n",
       "      flex-wrap:wrap;\n",
       "      gap: 12px;\n",
       "    }\n",
       "\n",
       "    .colab-df-convert {\n",
       "      background-color: #E8F0FE;\n",
       "      border: none;\n",
       "      border-radius: 50%;\n",
       "      cursor: pointer;\n",
       "      display: none;\n",
       "      fill: #1967D2;\n",
       "      height: 32px;\n",
       "      padding: 0 0 0 0;\n",
       "      width: 32px;\n",
       "    }\n",
       "\n",
       "    .colab-df-convert:hover {\n",
       "      background-color: #E2EBFA;\n",
       "      box-shadow: 0px 1px 2px rgba(60, 64, 67, 0.3), 0px 1px 3px 1px rgba(60, 64, 67, 0.15);\n",
       "      fill: #174EA6;\n",
       "    }\n",
       "\n",
       "    [theme=dark] .colab-df-convert {\n",
       "      background-color: #3B4455;\n",
       "      fill: #D2E3FC;\n",
       "    }\n",
       "\n",
       "    [theme=dark] .colab-df-convert:hover {\n",
       "      background-color: #434B5C;\n",
       "      box-shadow: 0px 1px 3px 1px rgba(0, 0, 0, 0.15);\n",
       "      filter: drop-shadow(0px 1px 2px rgba(0, 0, 0, 0.3));\n",
       "      fill: #FFFFFF;\n",
       "    }\n",
       "  </style>\n",
       "\n",
       "      <script>\n",
       "        const buttonEl =\n",
       "          document.querySelector('#df-49f4d00b-ab3c-407e-87a2-580aa8495fe0 button.colab-df-convert');\n",
       "        buttonEl.style.display =\n",
       "          google.colab.kernel.accessAllowed ? 'block' : 'none';\n",
       "\n",
       "        async function convertToInteractive(key) {\n",
       "          const element = document.querySelector('#df-49f4d00b-ab3c-407e-87a2-580aa8495fe0');\n",
       "          const dataTable =\n",
       "            await google.colab.kernel.invokeFunction('convertToInteractive',\n",
       "                                                     [key], {});\n",
       "          if (!dataTable) return;\n",
       "\n",
       "          const docLinkHtml = 'Like what you see? Visit the ' +\n",
       "            '<a target=\"_blank\" href=https://colab.research.google.com/notebooks/data_table.ipynb>data table notebook</a>'\n",
       "            + ' to learn more about interactive tables.';\n",
       "          element.innerHTML = '';\n",
       "          dataTable['output_type'] = 'display_data';\n",
       "          await google.colab.output.renderOutput(dataTable, element);\n",
       "          const docLink = document.createElement('div');\n",
       "          docLink.innerHTML = docLinkHtml;\n",
       "          element.appendChild(docLink);\n",
       "        }\n",
       "      </script>\n",
       "    </div>\n",
       "  </div>\n",
       "  "
      ],
      "text/plain": [
       "   user_id     distance   duration       date  date_month\n",
       "0        1  4409.919140  25.599769 2021-01-01           1\n",
       "1        1  2617.592153  15.816871 2021-01-18           1\n",
       "2        1   754.159807   6.232113 2021-04-20           4\n",
       "3        1  2694.783254  18.511000 2021-08-11           8\n",
       "4        1  4028.687306  26.265803 2021-08-28           8"
      ]
     },
     "execution_count": 110,
     "metadata": {},
     "output_type": "execute_result"
    }
   ],
   "source": [
    "rides_go['date_month'] = pd.DatetimeIndex(rides_go['date']).month\n",
    "rides_go.head()"
   ]
  },
  {
   "cell_type": "markdown",
   "id": "iYRARcE00je6",
   "metadata": {
    "id": "iYRARcE00je6"
   },
   "source": [
    "Построим линейный график, чтобы посмотреть, за какой именно период у нас предоставлены данные:"
   ]
  },
  {
   "cell_type": "code",
   "execution_count": 111,
   "id": "9IJabnRUyT8V",
   "metadata": {
    "colab": {
     "base_uri": "https://localhost:8080/",
     "height": 657
    },
    "id": "9IJabnRUyT8V",
    "outputId": "32396cdc-b0c1-4047-835e-27a9d5f672ab"
   },
   "outputs": [
    {
     "data": {
      "image/png": "[encoded data removed]",
      "text/plain": [
       "<Figure size 1200x700 with 1 Axes>"
      ]
     },
     "metadata": {},
     "output_type": "display_data"
    }
   ],
   "source": [
    "rides_go.pivot_table(index='date', values='user_id', aggfunc='count').plot(kind='line', figsize=(12,7))\n",
    "plt.title('Количество поездок по датам')\n",
    "plt.xlabel('Дата')\n",
    "plt.ylabel('Количество поездок')\n",
    "plt.show()"
   ]
  },
  {
   "cell_type": "markdown",
   "id": "6WoUD5FS0xWH",
   "metadata": {
    "id": "6WoUD5FS0xWH"
   },
   "source": [
    "Видим, что среди данных у нас только 2021 год с января по декабрь."
   ]
  },
  {
   "cell_type": "markdown",
   "id": "LDLiz5sweZE6",
   "metadata": {
    "id": "LDLiz5sweZE6"
   },
   "source": [
    " Теперь проверим данные на наличие пропусков и дубликатов. В первоначальной общей информации о датафреймах не было замечено пропусков, но проверим датафреймы ещё раз:"
   ]
  },
  {
   "cell_type": "code",
   "execution_count": 112,
   "id": "dwxBOfYbdovC",
   "metadata": {
    "colab": {
     "base_uri": "https://localhost:8080/"
    },
    "id": "dwxBOfYbdovC",
    "outputId": "ccfbaa45-e327-4530-9387-93fbc65e4636"
   },
   "outputs": [
    {
     "name": "stdout",
     "output_type": "stream",
     "text": [
      "user_id              0\n",
      "name                 0\n",
      "age                  0\n",
      "city                 0\n",
      "subscription_type    0\n",
      "dtype: int64\n",
      "user_id       0\n",
      "distance      0\n",
      "duration      0\n",
      "date          0\n",
      "date_month    0\n",
      "dtype: int64\n",
      "subscription_type    0\n",
      "minute_price         0\n",
      "start_ride_price     0\n",
      "subscription_fee     0\n",
      "dtype: int64\n"
     ]
    }
   ],
   "source": [
    "print(users_go.isna().sum())\n",
    "print(rides_go.isna().sum())\n",
    "print(subscriptions_go.isna().sum())"
   ]
  },
  {
   "cell_type": "markdown",
   "id": "no8LRhF2e2CO",
   "metadata": {
    "id": "no8LRhF2e2CO"
   },
   "source": [
    "Видим, что пропущенных значений нет ни в одном из датафреймов. Переходим к дубликатам."
   ]
  },
  {
   "cell_type": "markdown",
   "id": "V7TvFXts8D8q",
   "metadata": {
    "id": "V7TvFXts8D8q"
   },
   "source": [
    "Сначала проверим на дубликаты датафрейм **rides_go**:"
   ]
  },
  {
   "cell_type": "code",
   "execution_count": 113,
   "id": "E6NGvG7ggbM7",
   "metadata": {
    "colab": {
     "base_uri": "https://localhost:8080/"
    },
    "id": "E6NGvG7ggbM7",
    "outputId": "7d4c3838-7c71-4526-cf8e-519fb9cc1bed"
   },
   "outputs": [
    {
     "data": {
      "text/plain": [
       "0"
      ]
     },
     "execution_count": 113,
     "metadata": {},
     "output_type": "execute_result"
    }
   ],
   "source": [
    "rides_go.duplicated().sum()"
   ]
  },
  {
   "cell_type": "markdown",
   "id": "Ha7cE7iY8MWy",
   "metadata": {
    "id": "Ha7cE7iY8MWy"
   },
   "source": [
    "В этом датафрейме дубликаты не найдены. Теперь проверим их наличие в датафрейме **users_go**:"
   ]
  },
  {
   "cell_type": "code",
   "execution_count": 114,
   "id": "At_eBULdeWQd",
   "metadata": {
    "colab": {
     "base_uri": "https://localhost:8080/"
    },
    "id": "At_eBULdeWQd",
    "outputId": "786f210c-d87e-4e87-8d3b-101301226bd8"
   },
   "outputs": [
    {
     "data": {
      "text/plain": [
       "31"
      ]
     },
     "execution_count": 114,
     "metadata": {},
     "output_type": "execute_result"
    }
   ],
   "source": [
    "users_go.duplicated().sum()"
   ]
  },
  {
   "cell_type": "markdown",
   "id": "ZI68qJ3t8f5z",
   "metadata": {
    "id": "ZI68qJ3t8f5z"
   },
   "source": [
    "Удаляем явные дубликаты и проверяем:"
   ]
  },
  {
   "cell_type": "code",
   "execution_count": 115,
   "id": "Td47AFl0gFO-",
   "metadata": {
    "colab": {
     "base_uri": "https://localhost:8080/"
    },
    "id": "Td47AFl0gFO-",
    "outputId": "090424b5-52f2-40bf-e2b9-8af7abd2c812"
   },
   "outputs": [
    {
     "data": {
      "text/plain": [
       "0"
      ]
     },
     "execution_count": 115,
     "metadata": {},
     "output_type": "execute_result"
    }
   ],
   "source": [
    "users_go.drop_duplicates(inplace=True)\n",
    "users_go.duplicated().sum()"
   ]
  },
  {
   "cell_type": "markdown",
   "id": "bV838oaW2Suo",
   "metadata": {
    "id": "bV838oaW2Suo"
   },
   "source": [
    "Промежуточный вывод по предобработке: добавили новый столбец с данными месяцев поездок каждого пользователя для удобства дальнейший расчётов; выявили отсутствие пропусков в датафреймах; избавились от дубликатов в датафрейме **users_go**. Далее можем приступать к исследовательскому анализу данных."
   ]
  },
  {
   "cell_type": "markdown",
   "id": "212593c7",
   "metadata": {
    "id": "212593c7"
   },
   "source": [
    "# Шаг 3. Исследовательский анализ данных"
   ]
  },
  {
   "cell_type": "markdown",
   "id": "szIrQV53I_10",
   "metadata": {
    "id": "szIrQV53I_10"
   },
   "source": [
    "В начале посмотрим, на частоту встречаемости городов в наших данных:"
   ]
  },
  {
   "cell_type": "code",
   "execution_count": 116,
   "id": "RWHF7K5p32lP",
   "metadata": {
    "colab": {
     "base_uri": "https://localhost:8080/"
    },
    "id": "RWHF7K5p32lP",
    "outputId": "a426965b-5f45-48ea-aae2-58c48f8b8bd3"
   },
   "outputs": [
    {
     "data": {
      "text/plain": [
       "Пятигорск         219\n",
       "Екатеринбург      204\n",
       "Ростов-на-Дону    198\n",
       "Краснодар         193\n",
       "Сочи              189\n",
       "Омск              183\n",
       "Тюмень            180\n",
       "Москва            168\n",
       "Name: city, dtype: int64"
      ]
     },
     "execution_count": 116,
     "metadata": {},
     "output_type": "execute_result"
    }
   ],
   "source": [
    "users_go['city'].value_counts()"
   ]
  },
  {
   "cell_type": "code",
   "execution_count": 117,
   "id": "e3a4274c",
   "metadata": {
    "colab": {
     "base_uri": "https://localhost:8080/",
     "height": 472
    },
    "id": "e3a4274c",
    "outputId": "6005b657-7bec-4bf2-9075-6c1c3fc7f86a"
   },
   "outputs": [
    {
     "data": {
      "image/png": "[encoded data removed]",
      "text/plain": [
       "<Figure size 640x480 with 1 Axes>"
      ]
     },
     "metadata": {},
     "output_type": "display_data"
    }
   ],
   "source": [
    "users_go['city'].value_counts().plot(kind='barh')\n",
    "plt.title('Частота встречаемости городов')\n",
    "plt.xlabel('Города')\n",
    "plt.ylabel('Количество пользователей')\n",
    "plt.show()"
   ]
  },
  {
   "cell_type": "markdown",
   "id": "51wPXuYQJHJj",
   "metadata": {
    "id": "51wPXuYQJHJj"
   },
   "source": [
    "Можем видеть, что большая часть пользователей их нашей выборки находится в Пятигорске, Екатеринбурге и Ростове-на-Дону. Как ни странно, меньше всего пользоветелей из Москвы."
   ]
  },
  {
   "cell_type": "markdown",
   "id": "8Adm1h91JXWt",
   "metadata": {
    "id": "8Adm1h91JXWt"
   },
   "source": [
    "Далее рассмотрим процентное соотношение пользователей с подпиской и без подписки:"
   ]
  },
  {
   "cell_type": "code",
   "execution_count": 118,
   "id": "uyFN5J60-ua_",
   "metadata": {
    "colab": {
     "base_uri": "https://localhost:8080/",
     "height": 429
    },
    "id": "uyFN5J60-ua_",
    "outputId": "34003398-1722-4ff7-d397-8ef5b4c34457"
   },
   "outputs": [
    {
     "data": {
      "image/png": "[encoded data removed]",
      "text/plain": [
       "<Figure size 640x480 with 1 Axes>"
      ]
     },
     "metadata": {},
     "output_type": "display_data"
    }
   ],
   "source": [
    "subscription_type = users_go['subscription_type'].value_counts()\n",
    "plt.pie(subscription_type,\n",
    "        labels=subscription_type.index,\n",
    "        autopct='%1.1f%%',\n",
    "        labeldistance=1.15,\n",
    "        wedgeprops = { 'linewidth' : 3, 'edgecolor' : 'white' })\n",
    "plt.title('Процентное соотношение пользователей с подпиской и без подписки')\n",
    "plt.legend()\n",
    "plt.show()"
   ]
  },
  {
   "cell_type": "markdown",
   "id": "AQ2nQJEJJfdt",
   "metadata": {
    "id": "AQ2nQJEJJfdt"
   },
   "source": [
    "Категории пользователей поделились почти поровну, но без подписки их всё-таки больше (54.1%)."
   ]
  },
  {
   "cell_type": "markdown",
   "id": "8KrPfUOfJszX",
   "metadata": {
    "id": "8KrPfUOfJszX"
   },
   "source": [
    "Посмотрим на распрделение возраста пользователей в данных:"
   ]
  },
  {
   "cell_type": "code",
   "execution_count": 119,
   "id": "fDEvheUrDbRo",
   "metadata": {
    "colab": {
     "base_uri": "https://localhost:8080/",
     "height": 641
    },
    "id": "fDEvheUrDbRo",
    "outputId": "b5327301-9d31-49d1-93e7-8f2c627e01f5"
   },
   "outputs": [
    {
     "data": {
      "image/png": "[encoded data removed]",
      "text/plain": [
       "<Figure size 1200x700 with 1 Axes>"
      ]
     },
     "metadata": {},
     "output_type": "display_data"
    }
   ],
   "source": [
    "users_go['age'].hist(bins=30, figsize=(12,7))\n",
    "plt.title('Возраст пользователей')\n",
    "plt.xlabel('Возраст')\n",
    "plt.ylabel('Количество пользователей')\n",
    "plt.show()"
   ]
  },
  {
   "cell_type": "markdown",
   "id": "f54ts_1zJ1ZO",
   "metadata": {
    "id": "f54ts_1zJ1ZO"
   },
   "source": [
    "Данные имеют нормальное распределение с пиковым значением 25 лет, что говорит нам о том, что молодёжь (23 - 27 лет) пользуется нашим сервисом чаще, чем остальные возрастные категории."
   ]
  },
  {
   "cell_type": "markdown",
   "id": "Il6bnVLYKbVE",
   "metadata": {
    "id": "Il6bnVLYKbVE"
   },
   "source": [
    "Теперь посмотрим, сколько в срденем состовляет расстояние одной поездки:"
   ]
  },
  {
   "cell_type": "code",
   "execution_count": 120,
   "id": "-fnQ2xaTG2sE",
   "metadata": {
    "colab": {
     "base_uri": "https://localhost:8080/",
     "height": 641
    },
    "id": "-fnQ2xaTG2sE",
    "outputId": "0105dd19-2914-421e-e27d-1bbf150407d8"
   },
   "outputs": [
    {
     "data": {
      "image/png": "[encoded data removed]",
      "text/plain": [
       "<Figure size 1200x700 with 1 Axes>"
      ]
     },
     "metadata": {},
     "output_type": "display_data"
    }
   ],
   "source": [
    "rides_go['distance'].hist(bins=100, figsize=(12,7))\n",
    "plt.title('Расстояние, которое пользователь преодолел за одну поездку')\n",
    "plt.xlabel('Расстояние')\n",
    "plt.ylabel('Количество поездок')\n",
    "plt.show()"
   ]
  },
  {
   "cell_type": "markdown",
   "id": "Zq_7lCa8KnWp",
   "metadata": {
    "id": "Zq_7lCa8KnWp"
   },
   "source": [
    "На основе данных у нас образовалось нормальное распределение с двумя пиковыми значениями: первое - 600-800 метров за одну поездку, второе - 2700-3200 метров. Второй пик значительно выше, из чего можно сделать вывод, что наши самокаты используют чаще для бОльшего расстояния."
   ]
  },
  {
   "cell_type": "markdown",
   "id": "VVPQBlzWLRLp",
   "metadata": {
    "id": "VVPQBlzWLRLp"
   },
   "source": [
    "Далее взглянем на продолжительность поездок:"
   ]
  },
  {
   "cell_type": "code",
   "execution_count": 121,
   "id": "-gKGUkTpIW60",
   "metadata": {
    "colab": {
     "base_uri": "https://localhost:8080/",
     "height": 641
    },
    "id": "-gKGUkTpIW60",
    "outputId": "850e2782-fc48-4662-a186-08fc069c1262"
   },
   "outputs": [
    {
     "data": {
      "image/png": "[encoded data removed]",
      "text/plain": [
       "<Figure size 1200x700 with 1 Axes>"
      ]
     },
     "metadata": {},
     "output_type": "display_data"
    }
   ],
   "source": [
    "rides_go['duration'].hist(bins=35, figsize=(12,7))\n",
    "plt.title('Продолжительность поездок')\n",
    "plt.xlabel('Продолжительность одной поездки')\n",
    "plt.ylabel('Количество поездок')\n",
    "plt.show()"
   ]
  },
  {
   "cell_type": "markdown",
   "id": "dQiRViQhLW7v",
   "metadata": {
    "id": "dQiRViQhLW7v"
   },
   "source": [
    "Здесь также наблюдаем нормальное распределение с пиковым значение 15 - 20 минут."
   ]
  },
  {
   "cell_type": "markdown",
   "id": "4ef51331",
   "metadata": {
    "id": "4ef51331"
   },
   "source": [
    "# Шаг 4. Объединение данных"
   ]
  },
  {
   "cell_type": "markdown",
   "id": "8ZbNts2qN75N",
   "metadata": {
    "id": "8ZbNts2qN75N"
   },
   "source": [
    "Объединим все наши датафреймы в один с помощью метода *merge*:"
   ]
  },
  {
   "cell_type": "code",
   "execution_count": 122,
   "id": "6bf288b5",
   "metadata": {
    "colab": {
     "base_uri": "https://localhost:8080/"
    },
    "id": "6bf288b5",
    "outputId": "3b3a1c08-78a4-4894-a09d-58766cf53980"
   },
   "outputs": [
    {
     "name": "stdout",
     "output_type": "stream",
     "text": [
      "<class 'pandas.core.frame.DataFrame'>\n",
      "Int64Index: 18068 entries, 0 to 18067\n",
      "Data columns (total 12 columns):\n",
      " #   Column             Non-Null Count  Dtype         \n",
      "---  ------             --------------  -----         \n",
      " 0   user_id            18068 non-null  int64         \n",
      " 1   distance           18068 non-null  float64       \n",
      " 2   duration           18068 non-null  float64       \n",
      " 3   date               18068 non-null  datetime64[ns]\n",
      " 4   date_month         18068 non-null  int64         \n",
      " 5   name               18068 non-null  object        \n",
      " 6   age                18068 non-null  int64         \n",
      " 7   city               18068 non-null  object        \n",
      " 8   subscription_type  18068 non-null  object        \n",
      " 9   minute_price       18068 non-null  int64         \n",
      " 10  start_ride_price   18068 non-null  int64         \n",
      " 11  subscription_fee   18068 non-null  int64         \n",
      "dtypes: datetime64[ns](1), float64(2), int64(6), object(3)\n",
      "memory usage: 1.8+ MB\n"
     ]
    }
   ],
   "source": [
    "users_and_rides_go = rides_go.merge(users_go, on='user_id', how='inner')\n",
    "data = users_and_rides_go.merge(subscriptions_go, on='subscription_type', how='inner')\n",
    "data.info()"
   ]
  },
  {
   "cell_type": "markdown",
   "id": "hU-K5PZsOH_n",
   "metadata": {
    "id": "hU-K5PZsOH_n"
   },
   "source": [
    "Посмотрим на первые строки общего датафрейма и оценим результат объединения:"
   ]
  },
  {
   "cell_type": "code",
   "execution_count": 123,
   "id": "1vLG5QRhNIVT",
   "metadata": {
    "colab": {
     "base_uri": "https://localhost:8080/",
     "height": 357
    },
    "id": "1vLG5QRhNIVT",
    "outputId": "bfaa7eff-d05d-4d84-be09-a5e4267dc2f5"
   },
   "outputs": [
    {
     "data": {
      "text/html": [
       "\n",
       "  <div id=\"df-92f167fe-e9da-4b27-b4a4-0f9440b2a4a1\">\n",
       "    <div class=\"colab-df-container\">\n",
       "      <div>\n",
       "<style scoped>\n",
       "    .dataframe tbody tr th:only-of-type {\n",
       "        vertical-align: middle;\n",
       "    }\n",
       "\n",
       "    .dataframe tbody tr th {\n",
       "        vertical-align: top;\n",
       "    }\n",
       "\n",
       "    .dataframe thead th {\n",
       "        text-align: right;\n",
       "    }\n",
       "</style>\n",
       "<table border=\"1\" class=\"dataframe\">\n",
       "  <thead>\n",
       "    <tr style=\"text-align: right;\">\n",
       "      <th></th>\n",
       "      <th>user_id</th>\n",
       "      <th>distance</th>\n",
       "      <th>duration</th>\n",
       "      <th>date</th>\n",
       "      <th>date_month</th>\n",
       "      <th>name</th>\n",
       "      <th>age</th>\n",
       "      <th>city</th>\n",
       "      <th>subscription_type</th>\n",
       "      <th>minute_price</th>\n",
       "      <th>start_ride_price</th>\n",
       "      <th>subscription_fee</th>\n",
       "    </tr>\n",
       "  </thead>\n",
       "  <tbody>\n",
       "    <tr>\n",
       "      <th>0</th>\n",
       "      <td>1</td>\n",
       "      <td>4409.919140</td>\n",
       "      <td>25.599769</td>\n",
       "      <td>2021-01-01</td>\n",
       "      <td>1</td>\n",
       "      <td>Кира</td>\n",
       "      <td>22</td>\n",
       "      <td>Тюмень</td>\n",
       "      <td>ultra</td>\n",
       "      <td>6</td>\n",
       "      <td>0</td>\n",
       "      <td>199</td>\n",
       "    </tr>\n",
       "    <tr>\n",
       "      <th>1</th>\n",
       "      <td>1</td>\n",
       "      <td>2617.592153</td>\n",
       "      <td>15.816871</td>\n",
       "      <td>2021-01-18</td>\n",
       "      <td>1</td>\n",
       "      <td>Кира</td>\n",
       "      <td>22</td>\n",
       "      <td>Тюмень</td>\n",
       "      <td>ultra</td>\n",
       "      <td>6</td>\n",
       "      <td>0</td>\n",
       "      <td>199</td>\n",
       "    </tr>\n",
       "    <tr>\n",
       "      <th>2</th>\n",
       "      <td>1</td>\n",
       "      <td>754.159807</td>\n",
       "      <td>6.232113</td>\n",
       "      <td>2021-04-20</td>\n",
       "      <td>4</td>\n",
       "      <td>Кира</td>\n",
       "      <td>22</td>\n",
       "      <td>Тюмень</td>\n",
       "      <td>ultra</td>\n",
       "      <td>6</td>\n",
       "      <td>0</td>\n",
       "      <td>199</td>\n",
       "    </tr>\n",
       "    <tr>\n",
       "      <th>3</th>\n",
       "      <td>1</td>\n",
       "      <td>2694.783254</td>\n",
       "      <td>18.511000</td>\n",
       "      <td>2021-08-11</td>\n",
       "      <td>8</td>\n",
       "      <td>Кира</td>\n",
       "      <td>22</td>\n",
       "      <td>Тюмень</td>\n",
       "      <td>ultra</td>\n",
       "      <td>6</td>\n",
       "      <td>0</td>\n",
       "      <td>199</td>\n",
       "    </tr>\n",
       "    <tr>\n",
       "      <th>4</th>\n",
       "      <td>1</td>\n",
       "      <td>4028.687306</td>\n",
       "      <td>26.265803</td>\n",
       "      <td>2021-08-28</td>\n",
       "      <td>8</td>\n",
       "      <td>Кира</td>\n",
       "      <td>22</td>\n",
       "      <td>Тюмень</td>\n",
       "      <td>ultra</td>\n",
       "      <td>6</td>\n",
       "      <td>0</td>\n",
       "      <td>199</td>\n",
       "    </tr>\n",
       "  </tbody>\n",
       "</table>\n",
       "</div>\n",
       "      <button class=\"colab-df-convert\" onclick=\"convertToInteractive('df-92f167fe-e9da-4b27-b4a4-0f9440b2a4a1')\"\n",
       "              title=\"Convert this dataframe to an interactive table.\"\n",
       "              style=\"display:none;\">\n",
       "        \n",
       "  <svg xmlns=\"http://www.w3.org/2000/svg\" height=\"24px\"viewBox=\"0 0 24 24\"\n",
       "       width=\"24px\">\n",
       "    <path d=\"M0 0h24v24H0V0z\" fill=\"none\"/>\n",
       "    <path d=\"M18.56 5.44l.94 2.06.94-2.06 2.06-.94-2.06-.94-.94-2.06-.94 2.06-2.06.94zm-11 1L8.5 8.5l.94-2.06 2.06-.94-2.06-.94L8.5 2.5l-.94 2.06-2.06.94zm10 10l.94 2.06.94-2.06 2.06-.94-2.06-.94-.94-2.06-.94 2.06-2.06.94z\"/><path d=\"M17.41 7.96l-1.37-1.37c-.4-.4-.92-.59-1.43-.59-.52 0-1.04.2-1.43.59L10.3 9.45l-7.72 7.72c-.78.78-.78 2.05 0 2.83L4 21.41c.39.39.9.59 1.41.59.51 0 1.02-.2 1.41-.59l7.78-7.78 2.81-2.81c.8-.78.8-2.07 0-2.86zM5.41 20L4 18.59l7.72-7.72 1.47 1.35L5.41 20z\"/>\n",
       "  </svg>\n",
       "      </button>\n",
       "      \n",
       "  <style>\n",
       "    .colab-df-container {\n",
       "      display:flex;\n",
       "      flex-wrap:wrap;\n",
       "      gap: 12px;\n",
       "    }\n",
       "\n",
       "    .colab-df-convert {\n",
       "      background-color: #E8F0FE;\n",
       "      border: none;\n",
       "      border-radius: 50%;\n",
       "      cursor: pointer;\n",
       "      display: none;\n",
       "      fill: #1967D2;\n",
       "      height: 32px;\n",
       "      padding: 0 0 0 0;\n",
       "      width: 32px;\n",
       "    }\n",
       "\n",
       "    .colab-df-convert:hover {\n",
       "      background-color: #E2EBFA;\n",
       "      box-shadow: 0px 1px 2px rgba(60, 64, 67, 0.3), 0px 1px 3px 1px rgba(60, 64, 67, 0.15);\n",
       "      fill: #174EA6;\n",
       "    }\n",
       "\n",
       "    [theme=dark] .colab-df-convert {\n",
       "      background-color: #3B4455;\n",
       "      fill: #D2E3FC;\n",
       "    }\n",
       "\n",
       "    [theme=dark] .colab-df-convert:hover {\n",
       "      background-color: #434B5C;\n",
       "      box-shadow: 0px 1px 3px 1px rgba(0, 0, 0, 0.15);\n",
       "      filter: drop-shadow(0px 1px 2px rgba(0, 0, 0, 0.3));\n",
       "      fill: #FFFFFF;\n",
       "    }\n",
       "  </style>\n",
       "\n",
       "      <script>\n",
       "        const buttonEl =\n",
       "          document.querySelector('#df-92f167fe-e9da-4b27-b4a4-0f9440b2a4a1 button.colab-df-convert');\n",
       "        buttonEl.style.display =\n",
       "          google.colab.kernel.accessAllowed ? 'block' : 'none';\n",
       "\n",
       "        async function convertToInteractive(key) {\n",
       "          const element = document.querySelector('#df-92f167fe-e9da-4b27-b4a4-0f9440b2a4a1');\n",
       "          const dataTable =\n",
       "            await google.colab.kernel.invokeFunction('convertToInteractive',\n",
       "                                                     [key], {});\n",
       "          if (!dataTable) return;\n",
       "\n",
       "          const docLinkHtml = 'Like what you see? Visit the ' +\n",
       "            '<a target=\"_blank\" href=https://colab.research.google.com/notebooks/data_table.ipynb>data table notebook</a>'\n",
       "            + ' to learn more about interactive tables.';\n",
       "          element.innerHTML = '';\n",
       "          dataTable['output_type'] = 'display_data';\n",
       "          await google.colab.output.renderOutput(dataTable, element);\n",
       "          const docLink = document.createElement('div');\n",
       "          docLink.innerHTML = docLinkHtml;\n",
       "          element.appendChild(docLink);\n",
       "        }\n",
       "      </script>\n",
       "    </div>\n",
       "  </div>\n",
       "  "
      ],
      "text/plain": [
       "   user_id     distance   duration       date  date_month  name  age    city  \\\n",
       "0        1  4409.919140  25.599769 2021-01-01           1  Кира   22  Тюмень   \n",
       "1        1  2617.592153  15.816871 2021-01-18           1  Кира   22  Тюмень   \n",
       "2        1   754.159807   6.232113 2021-04-20           4  Кира   22  Тюмень   \n",
       "3        1  2694.783254  18.511000 2021-08-11           8  Кира   22  Тюмень   \n",
       "4        1  4028.687306  26.265803 2021-08-28           8  Кира   22  Тюмень   \n",
       "\n",
       "  subscription_type  minute_price  start_ride_price  subscription_fee  \n",
       "0             ultra             6                 0               199  \n",
       "1             ultra             6                 0               199  \n",
       "2             ultra             6                 0               199  \n",
       "3             ultra             6                 0               199  \n",
       "4             ultra             6                 0               199  "
      ]
     },
     "execution_count": 123,
     "metadata": {},
     "output_type": "execute_result"
    }
   ],
   "source": [
    "data.head()"
   ]
  },
  {
   "cell_type": "markdown",
   "id": "Mvdn6vYjPoCz",
   "metadata": {
    "id": "Mvdn6vYjPoCz"
   },
   "source": [
    "Теперь разделим общий датафрейм на два - пользователи с подпиской и без подписки:"
   ]
  },
  {
   "cell_type": "code",
   "execution_count": 124,
   "id": "g395xuQJOx6f",
   "metadata": {
    "id": "g395xuQJOx6f"
   },
   "outputs": [],
   "source": [
    "free = data[data['subscription_type'] == 'free']\n",
    "ultra = data[data['subscription_type'] == 'ultra']"
   ]
  },
  {
   "cell_type": "code",
   "execution_count": 125,
   "id": "97nZeDw-PAKf",
   "metadata": {
    "colab": {
     "base_uri": "https://localhost:8080/"
    },
    "id": "97nZeDw-PAKf",
    "outputId": "bf76bd92-ee9f-4fea-fbb5-4dcbcd5afaa7"
   },
   "outputs": [
    {
     "name": "stdout",
     "output_type": "stream",
     "text": [
      "<class 'pandas.core.frame.DataFrame'>\n",
      "Int64Index: 11568 entries, 6500 to 18067\n",
      "Data columns (total 12 columns):\n",
      " #   Column             Non-Null Count  Dtype         \n",
      "---  ------             --------------  -----         \n",
      " 0   user_id            11568 non-null  int64         \n",
      " 1   distance           11568 non-null  float64       \n",
      " 2   duration           11568 non-null  float64       \n",
      " 3   date               11568 non-null  datetime64[ns]\n",
      " 4   date_month         11568 non-null  int64         \n",
      " 5   name               11568 non-null  object        \n",
      " 6   age                11568 non-null  int64         \n",
      " 7   city               11568 non-null  object        \n",
      " 8   subscription_type  11568 non-null  object        \n",
      " 9   minute_price       11568 non-null  int64         \n",
      " 10  start_ride_price   11568 non-null  int64         \n",
      " 11  subscription_fee   11568 non-null  int64         \n",
      "dtypes: datetime64[ns](1), float64(2), int64(6), object(3)\n",
      "memory usage: 1.1+ MB\n",
      "None\n",
      "<class 'pandas.core.frame.DataFrame'>\n",
      "Int64Index: 6500 entries, 0 to 6499\n",
      "Data columns (total 12 columns):\n",
      " #   Column             Non-Null Count  Dtype         \n",
      "---  ------             --------------  -----         \n",
      " 0   user_id            6500 non-null   int64         \n",
      " 1   distance           6500 non-null   float64       \n",
      " 2   duration           6500 non-null   float64       \n",
      " 3   date               6500 non-null   datetime64[ns]\n",
      " 4   date_month         6500 non-null   int64         \n",
      " 5   name               6500 non-null   object        \n",
      " 6   age                6500 non-null   int64         \n",
      " 7   city               6500 non-null   object        \n",
      " 8   subscription_type  6500 non-null   object        \n",
      " 9   minute_price       6500 non-null   int64         \n",
      " 10  start_ride_price   6500 non-null   int64         \n",
      " 11  subscription_fee   6500 non-null   int64         \n",
      "dtypes: datetime64[ns](1), float64(2), int64(6), object(3)\n",
      "memory usage: 660.2+ KB\n",
      "None\n"
     ]
    }
   ],
   "source": [
    "print(free.info())\n",
    "print(ultra.info())"
   ]
  },
  {
   "cell_type": "markdown",
   "id": "w87_G-2jUAdx",
   "metadata": {
    "id": "w87_G-2jUAdx"
   },
   "source": [
    "Сравним показатели двух категорий (пользователей с подпиской и без) по расстоянию и затраченному времени для одной поездки:"
   ]
  },
  {
   "cell_type": "code",
   "execution_count": 126,
   "id": "EO06_BVnRwGi",
   "metadata": {
    "colab": {
     "base_uri": "https://localhost:8080/",
     "height": 641
    },
    "id": "EO06_BVnRwGi",
    "outputId": "bbff5150-ceaa-4677-9f8d-748e37c6a00c"
   },
   "outputs": [
    {
     "data": {
      "image/png": "[encoded data removed]",
      "text/plain": [
       "<Figure size 1200x700 with 1 Axes>"
      ]
     },
     "metadata": {},
     "output_type": "display_data"
    }
   ],
   "source": [
    "free['distance'].hist(bins=70, alpha=0.45, color='red', figsize=(12,7))\n",
    "ultra['distance'].hist(bins=70, alpha=0.45, color='blue', figsize=(12,7))\n",
    "\n",
    "plt.title('Расстояние, которое пользователь преодолел за одну поездку')\n",
    "plt.xlabel('Расстояние')\n",
    "plt.ylabel('Количество поездок')\n",
    "plt.legend(['Пользователи без подписки', 'Пользователи с подпиской'])\n",
    "plt.show()"
   ]
  },
  {
   "cell_type": "code",
   "execution_count": 127,
   "id": "cuUkC6_TTU3A",
   "metadata": {
    "colab": {
     "base_uri": "https://localhost:8080/",
     "height": 641
    },
    "id": "cuUkC6_TTU3A",
    "outputId": "3ad894f7-7846-4485-8c6c-72aaecf2e946"
   },
   "outputs": [
    {
     "data": {
      "image/png": "[encoded data removed]",
      "text/plain": [
       "<Figure size 1200x700 with 1 Axes>"
      ]
     },
     "metadata": {},
     "output_type": "display_data"
    }
   ],
   "source": [
    "free['duration'].hist(bins=35, alpha=0.45, color='red', figsize=(12,7))\n",
    "ultra['duration'].hist(bins=35, alpha=0.45, color='blue', figsize=(12,7))\n",
    "\n",
    "plt.title('Продолжительность одной поездки')\n",
    "plt.xlabel('Время')\n",
    "plt.ylabel('Количество поездок')\n",
    "plt.legend(['Пользователи без подписки', 'Пользователи с подпиской'])\n",
    "plt.show()"
   ]
  },
  {
   "cell_type": "markdown",
   "id": "ORv94WhiUU0g",
   "metadata": {
    "id": "ORv94WhiUU0g"
   },
   "source": [
    "Как бы не было странно, но именно пользователи без подписки чаще пользуются сервисом, чем пользователи с подпиской. Об этом нам говорят графики выше. Само распределение данных у обоих датафреймов практически одинаково, но количество поездок у пользователей без подписки значительно превышает количество поездок у пользователей с подпиской (это можно заметить и по расстоянию, и по времени)."
   ]
  },
  {
   "cell_type": "markdown",
   "id": "402d620f",
   "metadata": {
    "id": "402d620f"
   },
   "source": [
    "# Шаг 5. Подсчёт выручки"
   ]
  },
  {
   "cell_type": "markdown",
   "id": "eXKli37-vHGz",
   "metadata": {
    "id": "eXKli37-vHGz"
   },
   "source": [
    "Первоначально округлим время каждой поездки в каждой строке исходного датафрейма для подсчёта стоимости до следующего целого числа:"
   ]
  },
  {
   "cell_type": "code",
   "execution_count": 128,
   "id": "5njawvGFu723",
   "metadata": {
    "id": "5njawvGFu723"
   },
   "outputs": [],
   "source": [
    "data['duration'] = np.ceil(data['duration'])"
   ]
  },
  {
   "cell_type": "markdown",
   "id": "7S7GYoJNrUOS",
   "metadata": {
    "id": "7S7GYoJNrUOS"
   },
   "source": [
    "Создаём датафрейм с агрегированными данными о поездках на основе датафрейма с объединёнными данными из шага 4: находим суммарное расстояние, количество поездок и суммарное время для каждого пользователя за каждый месяц. Для этого используем сводную таблицу. Также сразу переименуем столбцы и перезапишем индексы, чтобы не было проблем с обращением к данным через двойные индексы:"
   ]
  },
  {
   "cell_type": "code",
   "execution_count": 129,
   "id": "xoJhriIuW6Lo",
   "metadata": {
    "colab": {
     "base_uri": "https://localhost:8080/",
     "height": 676
    },
    "id": "xoJhriIuW6Lo",
    "outputId": "ef5688d0-8625-4054-d3b3-d64ec066b2c3"
   },
   "outputs": [
    {
     "data": {
      "text/html": [
       "\n",
       "  <div id=\"df-950a14fc-16e6-4bab-bd7f-95539859d7ed\">\n",
       "    <div class=\"colab-df-container\">\n",
       "      <div>\n",
       "<style scoped>\n",
       "    .dataframe tbody tr th:only-of-type {\n",
       "        vertical-align: middle;\n",
       "    }\n",
       "\n",
       "    .dataframe tbody tr th {\n",
       "        vertical-align: top;\n",
       "    }\n",
       "\n",
       "    .dataframe thead th {\n",
       "        text-align: right;\n",
       "    }\n",
       "</style>\n",
       "<table border=\"1\" class=\"dataframe\">\n",
       "  <thead>\n",
       "    <tr style=\"text-align: right;\">\n",
       "      <th></th>\n",
       "      <th>user_id</th>\n",
       "      <th>date_month</th>\n",
       "      <th>total_distance</th>\n",
       "      <th>total_duration</th>\n",
       "      <th>count_rides</th>\n",
       "      <th>subscription_type</th>\n",
       "    </tr>\n",
       "  </thead>\n",
       "  <tbody>\n",
       "    <tr>\n",
       "      <th>0</th>\n",
       "      <td>1</td>\n",
       "      <td>1</td>\n",
       "      <td>7027.511294</td>\n",
       "      <td>42.0</td>\n",
       "      <td>2</td>\n",
       "      <td>ultra</td>\n",
       "    </tr>\n",
       "    <tr>\n",
       "      <th>1</th>\n",
       "      <td>1</td>\n",
       "      <td>4</td>\n",
       "      <td>754.159807</td>\n",
       "      <td>7.0</td>\n",
       "      <td>1</td>\n",
       "      <td>ultra</td>\n",
       "    </tr>\n",
       "    <tr>\n",
       "      <th>2</th>\n",
       "      <td>1</td>\n",
       "      <td>8</td>\n",
       "      <td>6723.470560</td>\n",
       "      <td>46.0</td>\n",
       "      <td>2</td>\n",
       "      <td>ultra</td>\n",
       "    </tr>\n",
       "    <tr>\n",
       "      <th>3</th>\n",
       "      <td>1</td>\n",
       "      <td>10</td>\n",
       "      <td>5809.911100</td>\n",
       "      <td>32.0</td>\n",
       "      <td>2</td>\n",
       "      <td>ultra</td>\n",
       "    </tr>\n",
       "    <tr>\n",
       "      <th>4</th>\n",
       "      <td>1</td>\n",
       "      <td>11</td>\n",
       "      <td>7003.499363</td>\n",
       "      <td>56.0</td>\n",
       "      <td>3</td>\n",
       "      <td>ultra</td>\n",
       "    </tr>\n",
       "    <tr>\n",
       "      <th>5</th>\n",
       "      <td>1</td>\n",
       "      <td>12</td>\n",
       "      <td>6751.629942</td>\n",
       "      <td>28.0</td>\n",
       "      <td>2</td>\n",
       "      <td>ultra</td>\n",
       "    </tr>\n",
       "    <tr>\n",
       "      <th>6</th>\n",
       "      <td>2</td>\n",
       "      <td>3</td>\n",
       "      <td>10187.723006</td>\n",
       "      <td>63.0</td>\n",
       "      <td>3</td>\n",
       "      <td>ultra</td>\n",
       "    </tr>\n",
       "    <tr>\n",
       "      <th>7</th>\n",
       "      <td>2</td>\n",
       "      <td>4</td>\n",
       "      <td>6164.381824</td>\n",
       "      <td>40.0</td>\n",
       "      <td>2</td>\n",
       "      <td>ultra</td>\n",
       "    </tr>\n",
       "    <tr>\n",
       "      <th>8</th>\n",
       "      <td>2</td>\n",
       "      <td>6</td>\n",
       "      <td>3255.338202</td>\n",
       "      <td>14.0</td>\n",
       "      <td>1</td>\n",
       "      <td>ultra</td>\n",
       "    </tr>\n",
       "    <tr>\n",
       "      <th>9</th>\n",
       "      <td>2</td>\n",
       "      <td>7</td>\n",
       "      <td>6780.722964</td>\n",
       "      <td>48.0</td>\n",
       "      <td>2</td>\n",
       "      <td>ultra</td>\n",
       "    </tr>\n",
       "    <tr>\n",
       "      <th>10</th>\n",
       "      <td>2</td>\n",
       "      <td>8</td>\n",
       "      <td>923.007439</td>\n",
       "      <td>7.0</td>\n",
       "      <td>1</td>\n",
       "      <td>ultra</td>\n",
       "    </tr>\n",
       "    <tr>\n",
       "      <th>11</th>\n",
       "      <td>2</td>\n",
       "      <td>10</td>\n",
       "      <td>2824.636598</td>\n",
       "      <td>19.0</td>\n",
       "      <td>1</td>\n",
       "      <td>ultra</td>\n",
       "    </tr>\n",
       "    <tr>\n",
       "      <th>12</th>\n",
       "      <td>2</td>\n",
       "      <td>12</td>\n",
       "      <td>3828.248580</td>\n",
       "      <td>12.0</td>\n",
       "      <td>1</td>\n",
       "      <td>ultra</td>\n",
       "    </tr>\n",
       "    <tr>\n",
       "      <th>13</th>\n",
       "      <td>3</td>\n",
       "      <td>1</td>\n",
       "      <td>3061.777147</td>\n",
       "      <td>13.0</td>\n",
       "      <td>1</td>\n",
       "      <td>ultra</td>\n",
       "    </tr>\n",
       "    <tr>\n",
       "      <th>14</th>\n",
       "      <td>3</td>\n",
       "      <td>2</td>\n",
       "      <td>5421.152016</td>\n",
       "      <td>39.0</td>\n",
       "      <td>2</td>\n",
       "      <td>ultra</td>\n",
       "    </tr>\n",
       "    <tr>\n",
       "      <th>15</th>\n",
       "      <td>3</td>\n",
       "      <td>4</td>\n",
       "      <td>2956.651632</td>\n",
       "      <td>21.0</td>\n",
       "      <td>1</td>\n",
       "      <td>ultra</td>\n",
       "    </tr>\n",
       "    <tr>\n",
       "      <th>16</th>\n",
       "      <td>3</td>\n",
       "      <td>5</td>\n",
       "      <td>9064.026918</td>\n",
       "      <td>63.0</td>\n",
       "      <td>3</td>\n",
       "      <td>ultra</td>\n",
       "    </tr>\n",
       "    <tr>\n",
       "      <th>17</th>\n",
       "      <td>3</td>\n",
       "      <td>7</td>\n",
       "      <td>10919.595403</td>\n",
       "      <td>67.0</td>\n",
       "      <td>3</td>\n",
       "      <td>ultra</td>\n",
       "    </tr>\n",
       "    <tr>\n",
       "      <th>18</th>\n",
       "      <td>3</td>\n",
       "      <td>9</td>\n",
       "      <td>2891.012822</td>\n",
       "      <td>23.0</td>\n",
       "      <td>1</td>\n",
       "      <td>ultra</td>\n",
       "    </tr>\n",
       "    <tr>\n",
       "      <th>19</th>\n",
       "      <td>3</td>\n",
       "      <td>12</td>\n",
       "      <td>2593.381928</td>\n",
       "      <td>13.0</td>\n",
       "      <td>1</td>\n",
       "      <td>ultra</td>\n",
       "    </tr>\n",
       "  </tbody>\n",
       "</table>\n",
       "</div>\n",
       "      <button class=\"colab-df-convert\" onclick=\"convertToInteractive('df-950a14fc-16e6-4bab-bd7f-95539859d7ed')\"\n",
       "              title=\"Convert this dataframe to an interactive table.\"\n",
       "              style=\"display:none;\">\n",
       "        \n",
       "  <svg xmlns=\"http://www.w3.org/2000/svg\" height=\"24px\"viewBox=\"0 0 24 24\"\n",
       "       width=\"24px\">\n",
       "    <path d=\"M0 0h24v24H0V0z\" fill=\"none\"/>\n",
       "    <path d=\"M18.56 5.44l.94 2.06.94-2.06 2.06-.94-2.06-.94-.94-2.06-.94 2.06-2.06.94zm-11 1L8.5 8.5l.94-2.06 2.06-.94-2.06-.94L8.5 2.5l-.94 2.06-2.06.94zm10 10l.94 2.06.94-2.06 2.06-.94-2.06-.94-.94-2.06-.94 2.06-2.06.94z\"/><path d=\"M17.41 7.96l-1.37-1.37c-.4-.4-.92-.59-1.43-.59-.52 0-1.04.2-1.43.59L10.3 9.45l-7.72 7.72c-.78.78-.78 2.05 0 2.83L4 21.41c.39.39.9.59 1.41.59.51 0 1.02-.2 1.41-.59l7.78-7.78 2.81-2.81c.8-.78.8-2.07 0-2.86zM5.41 20L4 18.59l7.72-7.72 1.47 1.35L5.41 20z\"/>\n",
       "  </svg>\n",
       "      </button>\n",
       "      \n",
       "  <style>\n",
       "    .colab-df-container {\n",
       "      display:flex;\n",
       "      flex-wrap:wrap;\n",
       "      gap: 12px;\n",
       "    }\n",
       "\n",
       "    .colab-df-convert {\n",
       "      background-color: #E8F0FE;\n",
       "      border: none;\n",
       "      border-radius: 50%;\n",
       "      cursor: pointer;\n",
       "      display: none;\n",
       "      fill: #1967D2;\n",
       "      height: 32px;\n",
       "      padding: 0 0 0 0;\n",
       "      width: 32px;\n",
       "    }\n",
       "\n",
       "    .colab-df-convert:hover {\n",
       "      background-color: #E2EBFA;\n",
       "      box-shadow: 0px 1px 2px rgba(60, 64, 67, 0.3), 0px 1px 3px 1px rgba(60, 64, 67, 0.15);\n",
       "      fill: #174EA6;\n",
       "    }\n",
       "\n",
       "    [theme=dark] .colab-df-convert {\n",
       "      background-color: #3B4455;\n",
       "      fill: #D2E3FC;\n",
       "    }\n",
       "\n",
       "    [theme=dark] .colab-df-convert:hover {\n",
       "      background-color: #434B5C;\n",
       "      box-shadow: 0px 1px 3px 1px rgba(0, 0, 0, 0.15);\n",
       "      filter: drop-shadow(0px 1px 2px rgba(0, 0, 0, 0.3));\n",
       "      fill: #FFFFFF;\n",
       "    }\n",
       "  </style>\n",
       "\n",
       "      <script>\n",
       "        const buttonEl =\n",
       "          document.querySelector('#df-950a14fc-16e6-4bab-bd7f-95539859d7ed button.colab-df-convert');\n",
       "        buttonEl.style.display =\n",
       "          google.colab.kernel.accessAllowed ? 'block' : 'none';\n",
       "\n",
       "        async function convertToInteractive(key) {\n",
       "          const element = document.querySelector('#df-950a14fc-16e6-4bab-bd7f-95539859d7ed');\n",
       "          const dataTable =\n",
       "            await google.colab.kernel.invokeFunction('convertToInteractive',\n",
       "                                                     [key], {});\n",
       "          if (!dataTable) return;\n",
       "\n",
       "          const docLinkHtml = 'Like what you see? Visit the ' +\n",
       "            '<a target=\"_blank\" href=https://colab.research.google.com/notebooks/data_table.ipynb>data table notebook</a>'\n",
       "            + ' to learn more about interactive tables.';\n",
       "          element.innerHTML = '';\n",
       "          dataTable['output_type'] = 'display_data';\n",
       "          await google.colab.output.renderOutput(dataTable, element);\n",
       "          const docLink = document.createElement('div');\n",
       "          docLink.innerHTML = docLinkHtml;\n",
       "          element.appendChild(docLink);\n",
       "        }\n",
       "      </script>\n",
       "    </div>\n",
       "  </div>\n",
       "  "
      ],
      "text/plain": [
       "    user_id  date_month  total_distance  total_duration  count_rides  \\\n",
       "0         1           1     7027.511294            42.0            2   \n",
       "1         1           4      754.159807             7.0            1   \n",
       "2         1           8     6723.470560            46.0            2   \n",
       "3         1          10     5809.911100            32.0            2   \n",
       "4         1          11     7003.499363            56.0            3   \n",
       "5         1          12     6751.629942            28.0            2   \n",
       "6         2           3    10187.723006            63.0            3   \n",
       "7         2           4     6164.381824            40.0            2   \n",
       "8         2           6     3255.338202            14.0            1   \n",
       "9         2           7     6780.722964            48.0            2   \n",
       "10        2           8      923.007439             7.0            1   \n",
       "11        2          10     2824.636598            19.0            1   \n",
       "12        2          12     3828.248580            12.0            1   \n",
       "13        3           1     3061.777147            13.0            1   \n",
       "14        3           2     5421.152016            39.0            2   \n",
       "15        3           4     2956.651632            21.0            1   \n",
       "16        3           5     9064.026918            63.0            3   \n",
       "17        3           7    10919.595403            67.0            3   \n",
       "18        3           9     2891.012822            23.0            1   \n",
       "19        3          12     2593.381928            13.0            1   \n",
       "\n",
       "   subscription_type  \n",
       "0              ultra  \n",
       "1              ultra  \n",
       "2              ultra  \n",
       "3              ultra  \n",
       "4              ultra  \n",
       "5              ultra  \n",
       "6              ultra  \n",
       "7              ultra  \n",
       "8              ultra  \n",
       "9              ultra  \n",
       "10             ultra  \n",
       "11             ultra  \n",
       "12             ultra  \n",
       "13             ultra  \n",
       "14             ultra  \n",
       "15             ultra  \n",
       "16             ultra  \n",
       "17             ultra  \n",
       "18             ultra  \n",
       "19             ultra  "
      ]
     },
     "execution_count": 129,
     "metadata": {},
     "output_type": "execute_result"
    }
   ],
   "source": [
    "users = data.pivot_table(index=['user_id', 'date_month'],\n",
    "                         values=['distance', 'duration', 'name', 'subscription_type'],\n",
    "                         aggfunc={'distance':'sum', 'duration':'sum', 'name':'count', 'subscription_type':'min'})\n",
    "users.columns = ['total_distance', 'total_duration', 'count_rides', 'subscription_type']\n",
    "users = users.reset_index()\n",
    "users.head(20)"
   ]
  },
  {
   "cell_type": "markdown",
   "id": "fDhDkJH9sCBI",
   "metadata": {
    "id": "fDhDkJH9sCBI"
   },
   "source": [
    "В этот же датафрейм добавляем столбец ***income*** с помесячной выручкой, которую принёс каждый пользователь. Для этого обращаемся к информации об условиях оплаты для подписчиков и тех, у кого нет подписки. Создаём функцию и применяем к датафрейму по всем строкам."
   ]
  },
  {
   "cell_type": "code",
   "execution_count": 130,
   "id": "C4urtv-BOLun",
   "metadata": {
    "colab": {
     "base_uri": "https://localhost:8080/",
     "height": 676
    },
    "id": "C4urtv-BOLun",
    "outputId": "b845f5f9-ebeb-407a-f342-6c789d49088b"
   },
   "outputs": [
    {
     "data": {
      "text/html": [
       "\n",
       "  <div id=\"df-00d1c007-6aa7-41e7-b46b-a37c4f99bb50\">\n",
       "    <div class=\"colab-df-container\">\n",
       "      <div>\n",
       "<style scoped>\n",
       "    .dataframe tbody tr th:only-of-type {\n",
       "        vertical-align: middle;\n",
       "    }\n",
       "\n",
       "    .dataframe tbody tr th {\n",
       "        vertical-align: top;\n",
       "    }\n",
       "\n",
       "    .dataframe thead th {\n",
       "        text-align: right;\n",
       "    }\n",
       "</style>\n",
       "<table border=\"1\" class=\"dataframe\">\n",
       "  <thead>\n",
       "    <tr style=\"text-align: right;\">\n",
       "      <th></th>\n",
       "      <th>user_id</th>\n",
       "      <th>date_month</th>\n",
       "      <th>total_distance</th>\n",
       "      <th>total_duration</th>\n",
       "      <th>count_rides</th>\n",
       "      <th>subscription_type</th>\n",
       "      <th>income</th>\n",
       "    </tr>\n",
       "  </thead>\n",
       "  <tbody>\n",
       "    <tr>\n",
       "      <th>0</th>\n",
       "      <td>1</td>\n",
       "      <td>1</td>\n",
       "      <td>7027.511294</td>\n",
       "      <td>42.0</td>\n",
       "      <td>2</td>\n",
       "      <td>ultra</td>\n",
       "      <td>451.0</td>\n",
       "    </tr>\n",
       "    <tr>\n",
       "      <th>1</th>\n",
       "      <td>1</td>\n",
       "      <td>4</td>\n",
       "      <td>754.159807</td>\n",
       "      <td>7.0</td>\n",
       "      <td>1</td>\n",
       "      <td>ultra</td>\n",
       "      <td>241.0</td>\n",
       "    </tr>\n",
       "    <tr>\n",
       "      <th>2</th>\n",
       "      <td>1</td>\n",
       "      <td>8</td>\n",
       "      <td>6723.470560</td>\n",
       "      <td>46.0</td>\n",
       "      <td>2</td>\n",
       "      <td>ultra</td>\n",
       "      <td>475.0</td>\n",
       "    </tr>\n",
       "    <tr>\n",
       "      <th>3</th>\n",
       "      <td>1</td>\n",
       "      <td>10</td>\n",
       "      <td>5809.911100</td>\n",
       "      <td>32.0</td>\n",
       "      <td>2</td>\n",
       "      <td>ultra</td>\n",
       "      <td>391.0</td>\n",
       "    </tr>\n",
       "    <tr>\n",
       "      <th>4</th>\n",
       "      <td>1</td>\n",
       "      <td>11</td>\n",
       "      <td>7003.499363</td>\n",
       "      <td>56.0</td>\n",
       "      <td>3</td>\n",
       "      <td>ultra</td>\n",
       "      <td>535.0</td>\n",
       "    </tr>\n",
       "    <tr>\n",
       "      <th>5</th>\n",
       "      <td>1</td>\n",
       "      <td>12</td>\n",
       "      <td>6751.629942</td>\n",
       "      <td>28.0</td>\n",
       "      <td>2</td>\n",
       "      <td>ultra</td>\n",
       "      <td>367.0</td>\n",
       "    </tr>\n",
       "    <tr>\n",
       "      <th>6</th>\n",
       "      <td>2</td>\n",
       "      <td>3</td>\n",
       "      <td>10187.723006</td>\n",
       "      <td>63.0</td>\n",
       "      <td>3</td>\n",
       "      <td>ultra</td>\n",
       "      <td>577.0</td>\n",
       "    </tr>\n",
       "    <tr>\n",
       "      <th>7</th>\n",
       "      <td>2</td>\n",
       "      <td>4</td>\n",
       "      <td>6164.381824</td>\n",
       "      <td>40.0</td>\n",
       "      <td>2</td>\n",
       "      <td>ultra</td>\n",
       "      <td>439.0</td>\n",
       "    </tr>\n",
       "    <tr>\n",
       "      <th>8</th>\n",
       "      <td>2</td>\n",
       "      <td>6</td>\n",
       "      <td>3255.338202</td>\n",
       "      <td>14.0</td>\n",
       "      <td>1</td>\n",
       "      <td>ultra</td>\n",
       "      <td>283.0</td>\n",
       "    </tr>\n",
       "    <tr>\n",
       "      <th>9</th>\n",
       "      <td>2</td>\n",
       "      <td>7</td>\n",
       "      <td>6780.722964</td>\n",
       "      <td>48.0</td>\n",
       "      <td>2</td>\n",
       "      <td>ultra</td>\n",
       "      <td>487.0</td>\n",
       "    </tr>\n",
       "    <tr>\n",
       "      <th>10</th>\n",
       "      <td>2</td>\n",
       "      <td>8</td>\n",
       "      <td>923.007439</td>\n",
       "      <td>7.0</td>\n",
       "      <td>1</td>\n",
       "      <td>ultra</td>\n",
       "      <td>241.0</td>\n",
       "    </tr>\n",
       "    <tr>\n",
       "      <th>11</th>\n",
       "      <td>2</td>\n",
       "      <td>10</td>\n",
       "      <td>2824.636598</td>\n",
       "      <td>19.0</td>\n",
       "      <td>1</td>\n",
       "      <td>ultra</td>\n",
       "      <td>313.0</td>\n",
       "    </tr>\n",
       "    <tr>\n",
       "      <th>12</th>\n",
       "      <td>2</td>\n",
       "      <td>12</td>\n",
       "      <td>3828.248580</td>\n",
       "      <td>12.0</td>\n",
       "      <td>1</td>\n",
       "      <td>ultra</td>\n",
       "      <td>271.0</td>\n",
       "    </tr>\n",
       "    <tr>\n",
       "      <th>13</th>\n",
       "      <td>3</td>\n",
       "      <td>1</td>\n",
       "      <td>3061.777147</td>\n",
       "      <td>13.0</td>\n",
       "      <td>1</td>\n",
       "      <td>ultra</td>\n",
       "      <td>277.0</td>\n",
       "    </tr>\n",
       "    <tr>\n",
       "      <th>14</th>\n",
       "      <td>3</td>\n",
       "      <td>2</td>\n",
       "      <td>5421.152016</td>\n",
       "      <td>39.0</td>\n",
       "      <td>2</td>\n",
       "      <td>ultra</td>\n",
       "      <td>433.0</td>\n",
       "    </tr>\n",
       "    <tr>\n",
       "      <th>15</th>\n",
       "      <td>3</td>\n",
       "      <td>4</td>\n",
       "      <td>2956.651632</td>\n",
       "      <td>21.0</td>\n",
       "      <td>1</td>\n",
       "      <td>ultra</td>\n",
       "      <td>325.0</td>\n",
       "    </tr>\n",
       "    <tr>\n",
       "      <th>16</th>\n",
       "      <td>3</td>\n",
       "      <td>5</td>\n",
       "      <td>9064.026918</td>\n",
       "      <td>63.0</td>\n",
       "      <td>3</td>\n",
       "      <td>ultra</td>\n",
       "      <td>577.0</td>\n",
       "    </tr>\n",
       "    <tr>\n",
       "      <th>17</th>\n",
       "      <td>3</td>\n",
       "      <td>7</td>\n",
       "      <td>10919.595403</td>\n",
       "      <td>67.0</td>\n",
       "      <td>3</td>\n",
       "      <td>ultra</td>\n",
       "      <td>601.0</td>\n",
       "    </tr>\n",
       "    <tr>\n",
       "      <th>18</th>\n",
       "      <td>3</td>\n",
       "      <td>9</td>\n",
       "      <td>2891.012822</td>\n",
       "      <td>23.0</td>\n",
       "      <td>1</td>\n",
       "      <td>ultra</td>\n",
       "      <td>337.0</td>\n",
       "    </tr>\n",
       "    <tr>\n",
       "      <th>19</th>\n",
       "      <td>3</td>\n",
       "      <td>12</td>\n",
       "      <td>2593.381928</td>\n",
       "      <td>13.0</td>\n",
       "      <td>1</td>\n",
       "      <td>ultra</td>\n",
       "      <td>277.0</td>\n",
       "    </tr>\n",
       "  </tbody>\n",
       "</table>\n",
       "</div>\n",
       "      <button class=\"colab-df-convert\" onclick=\"convertToInteractive('df-00d1c007-6aa7-41e7-b46b-a37c4f99bb50')\"\n",
       "              title=\"Convert this dataframe to an interactive table.\"\n",
       "              style=\"display:none;\">\n",
       "        \n",
       "  <svg xmlns=\"http://www.w3.org/2000/svg\" height=\"24px\"viewBox=\"0 0 24 24\"\n",
       "       width=\"24px\">\n",
       "    <path d=\"M0 0h24v24H0V0z\" fill=\"none\"/>\n",
       "    <path d=\"M18.56 5.44l.94 2.06.94-2.06 2.06-.94-2.06-.94-.94-2.06-.94 2.06-2.06.94zm-11 1L8.5 8.5l.94-2.06 2.06-.94-2.06-.94L8.5 2.5l-.94 2.06-2.06.94zm10 10l.94 2.06.94-2.06 2.06-.94-2.06-.94-.94-2.06-.94 2.06-2.06.94z\"/><path d=\"M17.41 7.96l-1.37-1.37c-.4-.4-.92-.59-1.43-.59-.52 0-1.04.2-1.43.59L10.3 9.45l-7.72 7.72c-.78.78-.78 2.05 0 2.83L4 21.41c.39.39.9.59 1.41.59.51 0 1.02-.2 1.41-.59l7.78-7.78 2.81-2.81c.8-.78.8-2.07 0-2.86zM5.41 20L4 18.59l7.72-7.72 1.47 1.35L5.41 20z\"/>\n",
       "  </svg>\n",
       "      </button>\n",
       "      \n",
       "  <style>\n",
       "    .colab-df-container {\n",
       "      display:flex;\n",
       "      flex-wrap:wrap;\n",
       "      gap: 12px;\n",
       "    }\n",
       "\n",
       "    .colab-df-convert {\n",
       "      background-color: #E8F0FE;\n",
       "      border: none;\n",
       "      border-radius: 50%;\n",
       "      cursor: pointer;\n",
       "      display: none;\n",
       "      fill: #1967D2;\n",
       "      height: 32px;\n",
       "      padding: 0 0 0 0;\n",
       "      width: 32px;\n",
       "    }\n",
       "\n",
       "    .colab-df-convert:hover {\n",
       "      background-color: #E2EBFA;\n",
       "      box-shadow: 0px 1px 2px rgba(60, 64, 67, 0.3), 0px 1px 3px 1px rgba(60, 64, 67, 0.15);\n",
       "      fill: #174EA6;\n",
       "    }\n",
       "\n",
       "    [theme=dark] .colab-df-convert {\n",
       "      background-color: #3B4455;\n",
       "      fill: #D2E3FC;\n",
       "    }\n",
       "\n",
       "    [theme=dark] .colab-df-convert:hover {\n",
       "      background-color: #434B5C;\n",
       "      box-shadow: 0px 1px 3px 1px rgba(0, 0, 0, 0.15);\n",
       "      filter: drop-shadow(0px 1px 2px rgba(0, 0, 0, 0.3));\n",
       "      fill: #FFFFFF;\n",
       "    }\n",
       "  </style>\n",
       "\n",
       "      <script>\n",
       "        const buttonEl =\n",
       "          document.querySelector('#df-00d1c007-6aa7-41e7-b46b-a37c4f99bb50 button.colab-df-convert');\n",
       "        buttonEl.style.display =\n",
       "          google.colab.kernel.accessAllowed ? 'block' : 'none';\n",
       "\n",
       "        async function convertToInteractive(key) {\n",
       "          const element = document.querySelector('#df-00d1c007-6aa7-41e7-b46b-a37c4f99bb50');\n",
       "          const dataTable =\n",
       "            await google.colab.kernel.invokeFunction('convertToInteractive',\n",
       "                                                     [key], {});\n",
       "          if (!dataTable) return;\n",
       "\n",
       "          const docLinkHtml = 'Like what you see? Visit the ' +\n",
       "            '<a target=\"_blank\" href=https://colab.research.google.com/notebooks/data_table.ipynb>data table notebook</a>'\n",
       "            + ' to learn more about interactive tables.';\n",
       "          element.innerHTML = '';\n",
       "          dataTable['output_type'] = 'display_data';\n",
       "          await google.colab.output.renderOutput(dataTable, element);\n",
       "          const docLink = document.createElement('div');\n",
       "          docLink.innerHTML = docLinkHtml;\n",
       "          element.appendChild(docLink);\n",
       "        }\n",
       "      </script>\n",
       "    </div>\n",
       "  </div>\n",
       "  "
      ],
      "text/plain": [
       "    user_id  date_month  total_distance  total_duration  count_rides  \\\n",
       "0         1           1     7027.511294            42.0            2   \n",
       "1         1           4      754.159807             7.0            1   \n",
       "2         1           8     6723.470560            46.0            2   \n",
       "3         1          10     5809.911100            32.0            2   \n",
       "4         1          11     7003.499363            56.0            3   \n",
       "5         1          12     6751.629942            28.0            2   \n",
       "6         2           3    10187.723006            63.0            3   \n",
       "7         2           4     6164.381824            40.0            2   \n",
       "8         2           6     3255.338202            14.0            1   \n",
       "9         2           7     6780.722964            48.0            2   \n",
       "10        2           8      923.007439             7.0            1   \n",
       "11        2          10     2824.636598            19.0            1   \n",
       "12        2          12     3828.248580            12.0            1   \n",
       "13        3           1     3061.777147            13.0            1   \n",
       "14        3           2     5421.152016            39.0            2   \n",
       "15        3           4     2956.651632            21.0            1   \n",
       "16        3           5     9064.026918            63.0            3   \n",
       "17        3           7    10919.595403            67.0            3   \n",
       "18        3           9     2891.012822            23.0            1   \n",
       "19        3          12     2593.381928            13.0            1   \n",
       "\n",
       "   subscription_type  income  \n",
       "0              ultra   451.0  \n",
       "1              ultra   241.0  \n",
       "2              ultra   475.0  \n",
       "3              ultra   391.0  \n",
       "4              ultra   535.0  \n",
       "5              ultra   367.0  \n",
       "6              ultra   577.0  \n",
       "7              ultra   439.0  \n",
       "8              ultra   283.0  \n",
       "9              ultra   487.0  \n",
       "10             ultra   241.0  \n",
       "11             ultra   313.0  \n",
       "12             ultra   271.0  \n",
       "13             ultra   277.0  \n",
       "14             ultra   433.0  \n",
       "15             ultra   325.0  \n",
       "16             ultra   577.0  \n",
       "17             ultra   601.0  \n",
       "18             ultra   337.0  \n",
       "19             ultra   277.0  "
      ]
     },
     "execution_count": 130,
     "metadata": {},
     "output_type": "execute_result"
    }
   ],
   "source": [
    "def income (row):\n",
    "    if row['subscription_type'] == 'ultra':\n",
    "        return (row['total_duration'] * 6 + 199)\n",
    "    else:\n",
    "        return (row['count_rides'] * 50 + row['total_duration'] * 8)\n",
    "\n",
    "users['income'] = users.apply(income, axis=1)\n",
    "users.head(20)"
   ]
  },
  {
   "cell_type": "code",
   "execution_count": 131,
   "id": "938f60c7",
   "metadata": {
    "colab": {
     "base_uri": "https://localhost:8080/"
    },
    "id": "938f60c7",
    "outputId": "43e6fce1-289b-455d-ad04-0f744505d99e"
   },
   "outputs": [
    {
     "data": {
      "text/plain": [
       "subscription_type\n",
       "free     328.641365\n",
       "ultra    362.792191\n",
       "Name: income, dtype: float64"
      ]
     },
     "execution_count": 131,
     "metadata": {},
     "output_type": "execute_result"
    }
   ],
   "source": [
    "# Код ревьюера\n",
    "users.groupby('subscription_type')['income'].mean()"
   ]
  },
  {
   "cell_type": "markdown",
   "id": "41545ac0",
   "metadata": {
    "id": "41545ac0"
   },
   "source": [
    "# Шаг 6. Проверка гипотез"
   ]
  },
  {
   "cell_type": "markdown",
   "id": "-p5hJtuAyged",
   "metadata": {
    "id": "-p5hJtuAyged"
   },
   "source": [
    "Продакт-менеджеры сервиса хотят увеличить количество пользователей с подпиской. Для этого они будут проводить различные акции, но сначала нужно выяснить несколько важных моментов."
   ]
  },
  {
   "cell_type": "markdown",
   "id": "YwTGyOCF6_X3",
   "metadata": {
    "id": "YwTGyOCF6_X3"
   },
   "source": [
    "## Гипотеза №1"
   ]
  },
  {
   "cell_type": "markdown",
   "id": "ovZUakBJuPW2",
   "metadata": {
    "id": "ovZUakBJuPW2"
   },
   "source": [
    "Важно понять, тратят ли пользователи с подпиской больше времени на поездки? Если да, то пользователи с подпиской могут быть «выгоднее» для компании.\n",
    "\n",
    "***Нулевая гипотеза:*** среднее время поездок пользователей из обеих категорий равны.\n",
    "\n",
    "***Альтернативная гипотеза:*** среднее время поездок пользователей с подпиской больше, чем пользователей без подписки.\n",
    "\n",
    "Также, в параметре *equal_var* для метода *st.ttest_ind* установим значение *False*, так как у нас разные по размерам выборки (6500 поездок у пользователей с подпиской и более 11500 поездок у пользователей без подписки)."
   ]
  },
  {
   "cell_type": "code",
   "execution_count": 132,
   "id": "23ea867b",
   "metadata": {
    "colab": {
     "base_uri": "https://localhost:8080/"
    },
    "id": "23ea867b",
    "outputId": "fd3eaf0f-a24f-47f8-c73d-4844e47972b2"
   },
   "outputs": [
    {
     "name": "stdout",
     "output_type": "stream",
     "text": [
      "p-value: 1.1814679253701353e-36\n",
      "Отвергаем нулевую гипотезу\n"
     ]
    }
   ],
   "source": [
    "alpha = 0.05 # уровень статистической значимости\n",
    "\n",
    "duration_ultra = data[data.subscription_type == 'ultra']['duration']\n",
    "duration_free = data[data.subscription_type == 'free']['duration']\n",
    "\n",
    "results = st.ttest_ind(duration_ultra, duration_free, equal_var=False, alternative='greater')\n",
    "\n",
    "print(f'p-value: {results.pvalue}')\n",
    "\n",
    "# проверяем p-value\n",
    "if results.pvalue < alpha:\n",
    "    print('Отвергаем нулевую гипотезу')\n",
    "else:\n",
    "    print('Нет оснований отвергнуть нулевую гипотезу')"
   ]
  },
  {
   "cell_type": "markdown",
   "id": "WiQQ0zrV1cOD",
   "metadata": {
    "id": "WiQQ0zrV1cOD"
   },
   "source": [
    "По результатам проверки делаем вывод: мы можем склоняться к утверждению, что время поездок пользователей с подпиской больше, чем пользователей без подписки."
   ]
  },
  {
   "cell_type": "markdown",
   "id": "UbuFdZGp7D7B",
   "metadata": {
    "id": "UbuFdZGp7D7B"
   },
   "source": [
    "## Гипотеза №2"
   ]
  },
  {
   "cell_type": "markdown",
   "id": "3ccWddnbuYDt",
   "metadata": {
    "id": "3ccWddnbuYDt"
   },
   "source": [
    "Расстояние одной поездки в 3130 метров — оптимальное с точки зрения износа самоката. Можно ли сказать, что расстояние, которое проезжают пользователи с подпиской за одну поездку, не превышает 3130 метров?\n",
    "\n",
    "***Нулевая гипотеза***: расстояние, которое проезжают пользователи с подпиской за одну поездку, равно 3130 метров.\n",
    "\n",
    "***Альтернативная гипотеза***: расстояние, которое проезжают пользователи с подпиской за одну поездку, больше 3130 метров."
   ]
  },
  {
   "cell_type": "code",
   "execution_count": 133,
   "id": "5jW6biUb2Qjt",
   "metadata": {
    "colab": {
     "base_uri": "https://localhost:8080/"
    },
    "id": "5jW6biUb2Qjt",
    "outputId": "3ae151a7-8d03-4dda-d427-4bc3f8c1d506"
   },
   "outputs": [
    {
     "name": "stdout",
     "output_type": "stream",
     "text": [
      "p-значение: 0.9195368847849785\n",
      "Не отвергаем нулевую гипотезу\n"
     ]
    }
   ],
   "source": [
    "distance_ultra = data[data.subscription_type == 'ultra']['distance']\n",
    "\n",
    "distance_of_one_trip = 3130\n",
    "alpha = 0.05 # уровень статистической значимости\n",
    "\n",
    "\n",
    "results = st.ttest_1samp(distance_ultra, distance_of_one_trip, alternative='greater')\n",
    "\n",
    "print('p-значение:', results.pvalue)\n",
    "\n",
    "# проверяем p-value\n",
    "if (results.pvalue < alpha):\n",
    "    print('Отвергаем нулевую гипотезу')\n",
    "else:\n",
    "    print('Не отвергаем нулевую гипотезу')\n"
   ]
  },
  {
   "cell_type": "markdown",
   "id": "T-tUe0LB8PRX",
   "metadata": {
    "id": "T-tUe0LB8PRX"
   },
   "source": [
    "Вывод из проверки гипотезы: можем утверждать, что расстояние, которое проезжают пользователи с подпиской за одну поездку, равно или меньше оптимального с точки зрения износа самоката, что говорит нам о бережном использовании и более продолжительном времени безопасной эксплуатации самоката до момента износа."
   ]
  },
  {
   "cell_type": "markdown",
   "id": "A6DbMJzD7MlS",
   "metadata": {
    "id": "A6DbMJzD7MlS"
   },
   "source": [
    "## Гипотеза №3"
   ]
  },
  {
   "cell_type": "markdown",
   "id": "1SrewKFKufYk",
   "metadata": {
    "id": "1SrewKFKufYk"
   },
   "source": [
    "Проверим гипотезу о том, будет ли помесячная выручка от пользователей с подпиской по месяцам выше, чем выручка от пользователей без подписки.\n",
    "\n",
    "***Нулевая гипотеза***: помесячная выручка от пользователей из обеих категорий равна.\n",
    "\n",
    "***Альтернативная гипотеза***: помесячная выручка от пользователей с подпиской по месяцам выше, чем выручка от пользователей без подписки.\n",
    "\n",
    "Также, в параметре *equal_var* для метода *st.ttest_ind* установим значение *False*, так как у нас разные по размерам выборки (больше 4500 строк данных о помесячной выручке у пользователей с подпиской и чуть меньше 6800 строк данных у пользователей без подписки)."
   ]
  },
  {
   "cell_type": "code",
   "execution_count": 134,
   "id": "JJDCEYzZBJFo",
   "metadata": {
    "colab": {
     "base_uri": "https://localhost:8080/"
    },
    "id": "JJDCEYzZBJFo",
    "outputId": "3ea8311a-8e8b-47d2-f314-13b30baea17b"
   },
   "outputs": [
    {
     "name": "stdout",
     "output_type": "stream",
     "text": [
      "p-value: 8.874140893976874e-40\n",
      "Отвергаем нулевую гипотезу\n"
     ]
    }
   ],
   "source": [
    "alpha = 0.05 # уровень статистической значимости\n",
    "\n",
    "income_ultra = users[users.subscription_type == 'ultra']['income']\n",
    "income_free = users[users.subscription_type == 'free']['income']\n",
    "\n",
    "results = st.ttest_ind(income_ultra, income_free, equal_var=False, alternative='greater')\n",
    "\n",
    "print(f'p-value: {results.pvalue}')\n",
    "\n",
    "# проверяем p-value\n",
    "if results.pvalue < alpha:\n",
    "    print('Отвергаем нулевую гипотезу')\n",
    "else:\n",
    "    print('Нет оснований отвергнуть нулевую гипотезу')"
   ]
  },
  {
   "cell_type": "markdown",
   "id": "m2ulDt1L8gTK",
   "metadata": {
    "id": "m2ulDt1L8gTK"
   },
   "source": [
    "По результатам проверки гипотезы можем склоняться к тому, что больше выручки приносят пользователи с подпиской, чем без неё."
   ]
  },
  {
   "cell_type": "markdown",
   "id": "SkHY8SHJ7P1r",
   "metadata": {
    "id": "SkHY8SHJ7P1r"
   },
   "source": [
    "## Теоретический кейс"
   ]
  },
  {
   "cell_type": "markdown",
   "id": "DIeTw7Kcuiri",
   "metadata": {
    "id": "DIeTw7Kcuiri"
   },
   "source": [
    "Представьте такую ситуацию: техническая команда сервиса обновила сервера, с которыми взаимодействует мобильное приложение. Она надеется, что из-за этого количество обращений в техподдержку значимо снизилось. Некоторый файл содержит для каждого пользователя данные о количестве обращений до обновления и после него. Какой тест вам понадобился бы для проверки этой гипотезы?"
   ]
  },
  {
   "cell_type": "markdown",
   "id": "wOtsoURBDFh6",
   "metadata": {
    "id": "wOtsoURBDFh6"
   },
   "source": [
    "***Ответ***: в этом случае нам понадобился бы тест для проверки гипотезы о равенстве средних для зависимых (парных) выборок. Наши выборки в данном случае были бы парными, так как используются данные одних и тех же пользователей до и после какого-либо изменения.\n",
    "\n",
    "В *Python* мы бы применили метод *scipy.stats.ttest_rel()* с двумя параметрами: наборы данных до и после изменения."
   ]
  },
  {
   "cell_type": "markdown",
   "id": "61213c5e",
   "metadata": {
    "id": "61213c5e"
   },
   "source": [
    "# Шаг 7. Распределения"
   ]
  },
  {
   "cell_type": "markdown",
   "id": "Bujl9i4yF-bT",
   "metadata": {
    "id": "Bujl9i4yF-bT"
   },
   "source": [
    "## Задача №1"
   ]
  },
  {
   "cell_type": "markdown",
   "id": "c5-_chnVET5R",
   "metadata": {
    "id": "c5-_chnVET5R"
   },
   "source": [
    "Отделу маркетинга GoFast поставили задачу: нужно провести акцию с раздачей промокодов на один бесплатный месяц подписки, в рамках которой как минимум 100 существующих клиентов должны продлить эту подписку. То есть по завершении периода действия подписки пользователь может либо отказаться от неё, либо продлить, совершив соответствующий платёж.\n",
    "\n",
    "Эта акция уже проводилась ранее и по итогу выяснилось, что после бесплатного пробного периода подписку продлевают 10 % пользователей. Выясните, какое минимальное количество промокодов нужно разослать, чтобы вероятность не выполнить план была примерно 5 %. Подберите параметры распределения, описывающего эту ситуацию, постройте график распределения и сформулируйте ответ на вопрос о количестве промокодов."
   ]
  },
  {
   "cell_type": "markdown",
   "id": "IiDA5JmOMQBr",
   "metadata": {
    "id": "IiDA5JmOMQBr"
   },
   "source": [
    "Импортируем необходимые библиотеки:"
   ]
  },
  {
   "cell_type": "code",
   "execution_count": 135,
   "id": "95cd1d51",
   "metadata": {
    "id": "95cd1d51"
   },
   "outputs": [],
   "source": [
    "from matplotlib import pyplot as plt\n",
    "from math import factorial\n",
    "from math import sqrt\n",
    "from scipy import stats as st\n",
    "from scipy.stats import binom"
   ]
  },
  {
   "cell_type": "markdown",
   "id": "CFSFa6coMWbJ",
   "metadata": {
    "id": "CFSFa6coMWbJ"
   },
   "source": [
    "Для решения данной задачи будем использовать аппроксимацию биномиального распределения нормальным, чтобы применить метод *cdf()*.\n",
    "Далее с помощью этого метода меняем значение параметра N, чтобы получить необходимую вероятность выполнения плана (95%):"
   ]
  },
  {
   "cell_type": "code",
   "execution_count": 136,
   "id": "dpGA93vZFRr5",
   "metadata": {
    "colab": {
     "base_uri": "https://localhost:8080/"
    },
    "id": "dpGA93vZFRr5",
    "outputId": "e2ffdc7a-54d5-4c3d-e41e-6a443c202e11"
   },
   "outputs": [
    {
     "name": "stdout",
     "output_type": "stream",
     "text": [
      "0.9502851068730583\n"
     ]
    }
   ],
   "source": [
    "p = 0.1 # вероятность продления подписки клиентом\n",
    "n = 1169 # минимальное количество промокодов\n",
    "\n",
    "mu = n * p # рассчитываем параметры\n",
    "sigma = sqrt(mu * (1 - p)) # нормального распределения\n",
    "\n",
    "distr_norm = st.norm(mu, sigma) # задаем нормальное распределение\n",
    "\n",
    "result = 1 - distr_norm.cdf(100) # находим вероятность\n",
    "print(result)"
   ]
  },
  {
   "cell_type": "markdown",
   "id": "gV37qIfFO8qX",
   "metadata": {
    "id": "gV37qIfFO8qX"
   },
   "source": [
    "График нашего биномиального распределения:"
   ]
  },
  {
   "cell_type": "code",
   "execution_count": 137,
   "id": "fwoKbcnAS5Qi",
   "metadata": {
    "colab": {
     "base_uri": "https://localhost:8080/",
     "height": 430
    },
    "id": "fwoKbcnAS5Qi",
    "outputId": "5ded2266-1c3a-43fc-d281-4d3040093ad8"
   },
   "outputs": [
    {
     "data": {
      "image/png": "[encoded data removed]",
      "text/plain": [
       "<Figure size 640x480 with 1 Axes>"
      ]
     },
     "metadata": {},
     "output_type": "display_data"
    }
   ],
   "source": [
    "# границы промежутка, в котором будем строить график\n",
    "left = int(n * p - 4 * sqrt(n * p * (1 - p)))\n",
    "right = int(n * p + 4 * sqrt(n * p * (1 - p)))\n",
    "\n",
    "# зададим набор значений биномиальной величины на выбранном промежутке:\n",
    "# все неотрицательные целые числа от left до right\n",
    "x = list(range(max(0, left), right))\n",
    "# рисуем график биномиального распределения\n",
    "ax = plt.subplot()\n",
    "# используем красную линию ширины 3 и прозрачности 0.3\n",
    "ax.plot(x, binom.pmf(x, n, p), 'r-', lw=3, alpha=0.3,\n",
    "\t      label='вероятности биномиального распределения')\n",
    "\n",
    "# выводим график\n",
    "plt.show()"
   ]
  },
  {
   "cell_type": "markdown",
   "id": "DmqDMW08KDmM",
   "metadata": {
    "id": "DmqDMW08KDmM"
   },
   "source": [
    "Таким образом, получаем необходимое количество клиентов, которым нужно отправить промокоды, чтобы как минимум 100 клиентов продлило подписку после бесплатного месяца с вероятностью в 95%."
   ]
  },
  {
   "cell_type": "markdown",
   "id": "toCFRibSGBfv",
   "metadata": {
    "id": "toCFRibSGBfv"
   },
   "source": [
    "## Задача №2"
   ]
  },
  {
   "cell_type": "markdown",
   "id": "ES71-EwtFvN7",
   "metadata": {
    "id": "ES71-EwtFvN7"
   },
   "source": [
    "Отдел маркетинга рассылает клиентам push-уведомления в мобильном приложении. Клиенты могут открыть его или не открывать. Известно, что уведомления открывают около 40 % получивших клиентов. Отдел планирует разослать 1 млн уведомлений. С помощью аппроксимации постройте примерный график распределения и оцените вероятность того, что уведомление откроют не более 399,5 тыс. пользователей."
   ]
  },
  {
   "cell_type": "markdown",
   "id": "yzn2H3FPSkeD",
   "metadata": {
    "id": "yzn2H3FPSkeD"
   },
   "source": [
    "В данном случае также воспользуемся аппроксимацией биномиального распределения нормальным и посчитаем нужную вероятность:"
   ]
  },
  {
   "cell_type": "code",
   "execution_count": 138,
   "id": "oXgZj6-dF1eG",
   "metadata": {
    "colab": {
     "base_uri": "https://localhost:8080/"
    },
    "id": "oXgZj6-dF1eG",
    "outputId": "83acbe20-268f-4013-8196-1d814cf1c842"
   },
   "outputs": [
    {
     "name": "stdout",
     "output_type": "stream",
     "text": [
      "0.15371708296369768\n"
     ]
    }
   ],
   "source": [
    "p = 0.4 # вероятность, что клиент откроет уведомление\n",
    "n = 1000000 # количество планируемой рассылки уведомлений\n",
    "\n",
    "mu = n * p # рассчитываем параметры\n",
    "sigma = sqrt(mu * (1 - p)) # нормального распределения\n",
    "\n",
    "distr_norm = st.norm(mu, sigma) # задаем нормальное распределение\n",
    "\n",
    "result = distr_norm.cdf(399500) # находим вероятность\n",
    "print(result)"
   ]
  },
  {
   "cell_type": "markdown",
   "id": "nPLcTJ5yVE4m",
   "metadata": {
    "id": "nPLcTJ5yVE4m"
   },
   "source": [
    "График биномиального распределения:"
   ]
  },
  {
   "cell_type": "code",
   "execution_count": 139,
   "id": "bLA-Fx_zUicz",
   "metadata": {
    "colab": {
     "base_uri": "https://localhost:8080/",
     "height": 430
    },
    "id": "bLA-Fx_zUicz",
    "outputId": "f65dd55e-29ef-405e-e80a-563303fe5bc2"
   },
   "outputs": [
    {
     "data": {
      "image/png": "[encoded data removed]",
      "text/plain": [
       "<Figure size 640x480 with 1 Axes>"
      ]
     },
     "metadata": {},
     "output_type": "display_data"
    }
   ],
   "source": [
    "# границы промежутка, в котором будем строить график\n",
    "left = int(n * p - 4 * sqrt(n * p * (1 - p)))\n",
    "right = int(n * p + 4 * sqrt(n * p * (1 - p)))\n",
    "\n",
    "# зададим набор значений биномиальной величины на выбранном промежутке:\n",
    "# все неотрицательные целые числа от left до right\n",
    "x = list(range(max(0, left), right))\n",
    "# рисуем график биномиального распределения\n",
    "ax = plt.subplot()\n",
    "# используем красную линию ширины 3 и прозрачности 0.3\n",
    "ax.plot(x, binom.pmf(x, n, p), 'r-', lw=3, alpha=0.3,\n",
    "\t      label='вероятности биномиального распределения')\n",
    "\n",
    "# выводим график\n",
    "plt.show()"
   ]
  },
  {
   "cell_type": "markdown",
   "id": "71RIt7qVSAX9",
   "metadata": {
    "id": "71RIt7qVSAX9"
   },
   "source": [
    "Из расчётов получаем, что вероятность того, что уведомление откроют не более 399,5 тыс. пользователей составляет примерно 15,37%."
   ]
  },
  {
   "cell_type": "markdown",
   "id": "PlJTyGBd7uks",
   "metadata": {
    "id": "PlJTyGBd7uks"
   },
   "source": [
    "# Общий вывод"
   ]
  },
  {
   "cell_type": "markdown",
   "id": "hv9HJCti71JK",
   "metadata": {
    "id": "hv9HJCti71JK"
   },
   "source": [
    "Данную работу мы выполнили в ***несколько этапов***:\n",
    "* выгрузили в датафреймы необходимые нам данные;\n",
    "* провели качественную предобработку (поправили типы данных и избавились от дубликатов в данных);\n",
    "* провели первоначальный исследовательский анализ:\n",
    "  * выявили города, в которых находится большинство наших пользователей - *Пятигорск, Екатеринбург и Ростов-на-Дону*;\n",
    "  * выявили соотношение пользователей с подпиской (*54,4%*) и без неё - (*45,6%*);\n",
    "  * выяснили ключевой возраст нашей целевой аудитории (*25 лет*);\n",
    "  * увидели среднюю продолжительность поездок по времени (*15-20 минут*) и расстоянию (*2700 - 3200 метров*).\n",
    "* объединили данные в один датафрейм и выяснили, что именно пользователи без подписки чаще пользуются нашим приложением;\n",
    "* провели подсчёт выручки и проверили несколько важных гипотез.\n",
    "\n",
    "Проделав большую работу, можем сделать несколько ***ключевых итогов*** из проекта:\n",
    "\n",
    "* время поездок пользователей с подпиской больше, чем пользователей без подписки;\n",
    "* пользователи с подпиской за одну поездку, равно или не более 3130 метров (оптимальное расстояние, с точки зрения износа самоката);\n",
    "* больше выручки приносят пользователи с подпиской, чем без неё.\n",
    "\n",
    "Опираясь на вышеизложенные аргументы, мы можем сделать главный вывод - пользователи с подпиской важны и более выгодны для компании, чем пользователи без неё, поэтому стоит довериться продакт-менеджерам компании и провести несколько акции для увелечения числа пользователей с подпиской."
   ]
  }
 ],
 "metadata": {
  "ExecuteTimeLog": [
   {
    "duration": 1235,
    "start_time": "2023-07-07T05:21:04.579Z"
   },
   {
    "duration": 260,
    "start_time": "2023-07-07T05:21:05.816Z"
   },
   {
    "duration": 88,
    "start_time": "2023-07-07T05:21:06.077Z"
   },
   {
    "duration": 0,
    "start_time": "2023-07-07T05:21:06.167Z"
   },
   {
    "duration": 0,
    "start_time": "2023-07-07T05:21:06.168Z"
   },
   {
    "duration": 0,
    "start_time": "2023-07-07T05:21:06.169Z"
   },
   {
    "duration": 0,
    "start_time": "2023-07-07T05:21:06.171Z"
   },
   {
    "duration": 0,
    "start_time": "2023-07-07T05:21:06.172Z"
   },
   {
    "duration": 0,
    "start_time": "2023-07-07T05:21:06.174Z"
   },
   {
    "duration": 0,
    "start_time": "2023-07-07T05:21:06.175Z"
   },
   {
    "duration": 0,
    "start_time": "2023-07-07T05:21:06.177Z"
   },
   {
    "duration": 0,
    "start_time": "2023-07-07T05:21:06.178Z"
   },
   {
    "duration": 0,
    "start_time": "2023-07-07T05:21:06.179Z"
   },
   {
    "duration": 0,
    "start_time": "2023-07-07T05:21:06.181Z"
   },
   {
    "duration": 0,
    "start_time": "2023-07-07T05:21:06.182Z"
   },
   {
    "duration": 0,
    "start_time": "2023-07-07T05:21:06.184Z"
   },
   {
    "duration": 0,
    "start_time": "2023-07-07T05:21:06.185Z"
   },
   {
    "duration": 0,
    "start_time": "2023-07-07T05:21:06.186Z"
   },
   {
    "duration": 0,
    "start_time": "2023-07-07T05:21:06.188Z"
   },
   {
    "duration": 0,
    "start_time": "2023-07-07T05:21:06.189Z"
   },
   {
    "duration": 1,
    "start_time": "2023-07-07T05:21:06.190Z"
   },
   {
    "duration": 0,
    "start_time": "2023-07-07T05:21:06.231Z"
   },
   {
    "duration": 0,
    "start_time": "2023-07-07T05:21:06.233Z"
   },
   {
    "duration": 0,
    "start_time": "2023-07-07T05:21:06.234Z"
   },
   {
    "duration": 0,
    "start_time": "2023-07-07T05:21:06.235Z"
   },
   {
    "duration": 0,
    "start_time": "2023-07-07T05:21:06.237Z"
   },
   {
    "duration": 0,
    "start_time": "2023-07-07T05:21:06.238Z"
   },
   {
    "duration": 0,
    "start_time": "2023-07-07T05:21:06.239Z"
   },
   {
    "duration": 0,
    "start_time": "2023-07-07T05:21:06.241Z"
   },
   {
    "duration": 0,
    "start_time": "2023-07-07T05:21:06.242Z"
   },
   {
    "duration": 0,
    "start_time": "2023-07-07T05:21:06.244Z"
   },
   {
    "duration": 0,
    "start_time": "2023-07-07T05:21:06.245Z"
   },
   {
    "duration": 0,
    "start_time": "2023-07-07T05:21:06.247Z"
   },
   {
    "duration": 0,
    "start_time": "2023-07-07T05:21:06.248Z"
   },
   {
    "duration": 1069,
    "start_time": "2023-07-07T05:24:13.691Z"
   },
   {
    "duration": 131,
    "start_time": "2023-07-07T05:24:14.762Z"
   },
   {
    "duration": 23,
    "start_time": "2023-07-07T05:24:14.894Z"
   },
   {
    "duration": 12,
    "start_time": "2023-07-07T05:24:14.919Z"
   },
   {
    "duration": 10,
    "start_time": "2023-07-07T05:24:14.932Z"
   },
   {
    "duration": 12,
    "start_time": "2023-07-07T05:24:14.944Z"
   },
   {
    "duration": 16,
    "start_time": "2023-07-07T05:24:14.957Z"
   },
   {
    "duration": 8,
    "start_time": "2023-07-07T05:24:14.975Z"
   },
   {
    "duration": 7,
    "start_time": "2023-07-07T05:24:14.985Z"
   },
   {
    "duration": 10,
    "start_time": "2023-07-07T05:24:14.994Z"
   },
   {
    "duration": 37,
    "start_time": "2023-07-07T05:24:15.005Z"
   },
   {
    "duration": 29,
    "start_time": "2023-07-07T05:24:15.044Z"
   },
   {
    "duration": 145,
    "start_time": "2023-07-07T05:24:15.074Z"
   },
   {
    "duration": 127,
    "start_time": "2023-07-07T05:24:15.220Z"
   },
   {
    "duration": 182,
    "start_time": "2023-07-07T05:24:15.348Z"
   },
   {
    "duration": 264,
    "start_time": "2023-07-07T05:24:15.531Z"
   },
   {
    "duration": 197,
    "start_time": "2023-07-07T05:24:15.796Z"
   },
   {
    "duration": 25,
    "start_time": "2023-07-07T05:24:15.995Z"
   },
   {
    "duration": 10,
    "start_time": "2023-07-07T05:24:16.032Z"
   },
   {
    "duration": 19,
    "start_time": "2023-07-07T05:24:16.044Z"
   },
   {
    "duration": 18,
    "start_time": "2023-07-07T05:24:16.065Z"
   },
   {
    "duration": 428,
    "start_time": "2023-07-07T05:24:16.084Z"
   },
   {
    "duration": 265,
    "start_time": "2023-07-07T05:24:16.513Z"
   },
   {
    "duration": 3,
    "start_time": "2023-07-07T05:24:16.779Z"
   },
   {
    "duration": 832,
    "start_time": "2023-07-07T05:24:16.784Z"
   },
   {
    "duration": 131,
    "start_time": "2023-07-07T05:24:17.618Z"
   },
   {
    "duration": 10,
    "start_time": "2023-07-07T05:24:17.750Z"
   },
   {
    "duration": 26,
    "start_time": "2023-07-07T05:24:17.763Z"
   },
   {
    "duration": 18,
    "start_time": "2023-07-07T05:24:17.790Z"
   },
   {
    "duration": 5,
    "start_time": "2023-07-07T05:24:17.810Z"
   },
   {
    "duration": 120,
    "start_time": "2023-07-07T05:24:17.817Z"
   },
   {
    "duration": 0,
    "start_time": "2023-07-07T05:24:17.938Z"
   },
   {
    "duration": 0,
    "start_time": "2023-07-07T05:24:17.939Z"
   },
   {
    "duration": 0,
    "start_time": "2023-07-07T05:24:17.940Z"
   },
   {
    "duration": 137,
    "start_time": "2023-07-07T05:29:50.562Z"
   },
   {
    "duration": 6,
    "start_time": "2023-07-07T05:34:54.044Z"
   },
   {
    "duration": 9,
    "start_time": "2023-07-07T05:38:45.912Z"
   },
   {
    "duration": 9,
    "start_time": "2023-07-07T05:38:50.719Z"
   },
   {
    "duration": 10,
    "start_time": "2023-07-07T05:38:52.901Z"
   },
   {
    "duration": 1173,
    "start_time": "2023-07-09T12:36:38.260Z"
   },
   {
    "duration": 116,
    "start_time": "2023-07-09T12:36:39.435Z"
   },
   {
    "duration": 35,
    "start_time": "2023-07-09T12:36:39.554Z"
   },
   {
    "duration": 14,
    "start_time": "2023-07-09T12:36:39.591Z"
   },
   {
    "duration": 7,
    "start_time": "2023-07-09T12:36:39.608Z"
   },
   {
    "duration": 15,
    "start_time": "2023-07-09T12:36:39.617Z"
   },
   {
    "duration": 31,
    "start_time": "2023-07-09T12:36:39.633Z"
   },
   {
    "duration": 10,
    "start_time": "2023-07-09T12:36:39.665Z"
   },
   {
    "duration": 355,
    "start_time": "2023-07-09T12:36:39.677Z"
   },
   {
    "duration": 9,
    "start_time": "2023-07-09T12:36:40.033Z"
   },
   {
    "duration": 28,
    "start_time": "2023-07-09T12:36:40.043Z"
   },
   {
    "duration": 9,
    "start_time": "2023-07-09T12:36:40.072Z"
   },
   {
    "duration": 11,
    "start_time": "2023-07-09T12:36:40.083Z"
   },
   {
    "duration": 5,
    "start_time": "2023-07-09T12:36:40.097Z"
   },
   {
    "duration": 138,
    "start_time": "2023-07-09T12:36:40.104Z"
   },
   {
    "duration": 138,
    "start_time": "2023-07-09T12:36:40.244Z"
   },
   {
    "duration": 185,
    "start_time": "2023-07-09T12:36:40.383Z"
   },
   {
    "duration": 268,
    "start_time": "2023-07-09T12:36:40.569Z"
   },
   {
    "duration": 201,
    "start_time": "2023-07-09T12:36:40.838Z"
   },
   {
    "duration": 34,
    "start_time": "2023-07-09T12:36:41.040Z"
   },
   {
    "duration": 13,
    "start_time": "2023-07-09T12:36:41.076Z"
   },
   {
    "duration": 10,
    "start_time": "2023-07-09T12:36:41.091Z"
   },
   {
    "duration": 110,
    "start_time": "2023-07-09T12:36:41.103Z"
   },
   {
    "duration": 366,
    "start_time": "2023-07-09T12:36:41.215Z"
   },
   {
    "duration": 295,
    "start_time": "2023-07-09T12:36:41.583Z"
   },
   {
    "duration": 775,
    "start_time": "2023-07-09T12:36:41.880Z"
   },
   {
    "duration": 3,
    "start_time": "2023-07-09T12:36:42.657Z"
   },
   {
    "duration": 130,
    "start_time": "2023-07-09T12:36:42.661Z"
   },
   {
    "duration": 6,
    "start_time": "2023-07-09T12:36:42.792Z"
   },
   {
    "duration": 19,
    "start_time": "2023-07-09T12:36:42.799Z"
   },
   {
    "duration": 7,
    "start_time": "2023-07-09T12:36:42.820Z"
   },
   {
    "duration": 8,
    "start_time": "2023-07-09T12:36:42.828Z"
   },
   {
    "duration": 2,
    "start_time": "2023-07-09T12:36:42.838Z"
   },
   {
    "duration": 30,
    "start_time": "2023-07-09T12:36:42.841Z"
   },
   {
    "duration": 147,
    "start_time": "2023-07-09T12:36:42.873Z"
   },
   {
    "duration": 5,
    "start_time": "2023-07-09T12:36:43.021Z"
   },
   {
    "duration": 149,
    "start_time": "2023-07-09T12:36:43.027Z"
   }
  ],
  "colab": {
   "provenance": [],
   "toc_visible": true
  },
  "kernelspec": {
   "display_name": "Python 3 (ipykernel)",
   "language": "python",
   "name": "python3"
  },
  "language_info": {
   "codemirror_mode": {
    "name": "ipython",
    "version": 3
   },
   "file_extension": ".py",
   "mimetype": "text/x-python",
   "name": "python",
   "nbconvert_exporter": "python",
   "pygments_lexer": "ipython3",
   "version": "3.11.7"
  },
  "toc": {
   "base_numbering": 1,
   "nav_menu": {},
   "number_sections": true,
   "sideBar": true,
   "skip_h1_title": true,
   "title_cell": "Table of Contents",
   "title_sidebar": "Contents",
   "toc_cell": false,
   "toc_position": {},
   "toc_section_display": true,
   "toc_window_display": true
  }
 },
 "nbformat": 4,
 "nbformat_minor": 5
}
