{
 "cells": [
  {
   "cell_type": "markdown",
   "metadata": {
    "id": "Gee13kaR-VwW",
    "toc": true
   },
   "source": [
    "<h1>Содержание<span class=\"tocSkip\"></span></h1>\n",
    "<div class=\"toc\"><ul class=\"toc-item\"><li><span><a href=\"#Подготовка-данных\" data-toc-modified-id=\"Подготовка-данных-1\"><span class=\"toc-item-num\">1&nbsp;&nbsp;</span>Подготовка данных</a></span><ul class=\"toc-item\"><li><span><a href=\"#Загрузка-и-изучение-данных\" data-toc-modified-id=\"Загрузка-и-изучение-данных-1.1\"><span class=\"toc-item-num\">1.1&nbsp;&nbsp;</span>Загрузка и изучение данных</a></span></li><li><span><a href=\"#Предобработка-данных\" data-toc-modified-id=\"Предобработка-данных-1.2\"><span class=\"toc-item-num\">1.2&nbsp;&nbsp;</span>Предобработка данных</a></span></li><li><span><a href=\"#Прямое-кодирование-и-масштабирование-признаков\" data-toc-modified-id=\"Прямое-кодирование-и-масштабирование-признаков-1.3\"><span class=\"toc-item-num\">1.3&nbsp;&nbsp;</span>Прямое кодирование и масштабирование признаков</a></span></li></ul></li><li><span><a href=\"#Исследование-задачи\" data-toc-modified-id=\"Исследование-задачи-2\"><span class=\"toc-item-num\">2&nbsp;&nbsp;</span>Исследование задачи</a></span><ul class=\"toc-item\"><li><span><a href=\"#Исследование-баланса-классов\" data-toc-modified-id=\"Исследование-баланса-классов-2.1\"><span class=\"toc-item-num\">2.1&nbsp;&nbsp;</span>Исследование баланса классов</a></span></li><li><span><a href=\"#Изучение-моделей-без-учёта-дисбаланса\" data-toc-modified-id=\"Изучение-моделей-без-учёта-дисбаланса-2.2\"><span class=\"toc-item-num\">2.2&nbsp;&nbsp;</span>Изучение моделей без учёта дисбаланса</a></span></li></ul></li><li><span><a href=\"#Борьба-с-дисбалансом\" data-toc-modified-id=\"Борьба-с-дисбалансом-3\"><span class=\"toc-item-num\">3&nbsp;&nbsp;</span>Борьба с дисбалансом</a></span><ul class=\"toc-item\"><li><span><a href=\"#Взвешивание-классов\" data-toc-modified-id=\"Взвешивание-классов-3.1\"><span class=\"toc-item-num\">3.1&nbsp;&nbsp;</span>Взвешивание классов</a></span></li><li><span><a href=\"#Увеличение-выборки\" data-toc-modified-id=\"Увеличение-выборки-3.2\"><span class=\"toc-item-num\">3.2&nbsp;&nbsp;</span>Увеличение выборки</a></span></li><li><span><a href=\"#Уменьшение-выборки\" data-toc-modified-id=\"Уменьшение-выборки-3.3\"><span class=\"toc-item-num\">3.3&nbsp;&nbsp;</span>Уменьшение выборки</a></span></li><li><span><a href=\"#Выводы\" data-toc-modified-id=\"Выводы-3.4\"><span class=\"toc-item-num\">3.4&nbsp;&nbsp;</span>Выводы</a></span></li></ul></li><li><span><a href=\"#Тестирование-модели\" data-toc-modified-id=\"Тестирование-модели-4\"><span class=\"toc-item-num\">4&nbsp;&nbsp;</span>Тестирование модели</a></span></li><li><span><a href=\"#Общий-вывод\" data-toc-modified-id=\"Общий-вывод-5\"><span class=\"toc-item-num\">5&nbsp;&nbsp;</span>Общий вывод</a></span></li><li><span><a href=\"#Чек-лист-готовности-проекта\" data-toc-modified-id=\"Чек-лист-готовности-проекта-6\"><span class=\"toc-item-num\">6&nbsp;&nbsp;</span>Чек-лист готовности проекта</a></span></li></ul></div>"
   ]
  },
  {
   "cell_type": "markdown",
   "metadata": {
    "id": "QbGGEEaQ-Vwb"
   },
   "source": [
    "# Отток клиентов"
   ]
  },
  {
   "cell_type": "markdown",
   "metadata": {
    "id": "9POgVS79-Vwc"
   },
   "source": [
    "Из «Бета-Банка» стали уходить клиенты. Каждый месяц. Немного, но заметно. Банковские маркетологи посчитали: сохранять текущих клиентов дешевле, чем привлекать новых.\n",
    "\n",
    "Нужно спрогнозировать, уйдёт клиент из банка в ближайшее время или нет. Нам предоставлены исторические данные о поведении клиентов и расторжении договоров с банком.\n",
    "\n",
    "Построим модель с предельно большим значением *F1*-меры. Нужно довести метрику до 0.59.\n",
    "\n",
    "Дополнительно измерим *AUC-ROC*, сравним её значение с *F1*-мерой.\n",
    "\n",
    "Источник данных: [https://www.kaggle.com/barelydedicated/bank-customer-churn-modeling](https://www.kaggle.com/barelydedicated/bank-customer-churn-modeling)"
   ]
  },
  {
   "cell_type": "markdown",
   "metadata": {
    "id": "M77Eucky-kki"
   },
   "source": [
    "## Описание данных"
   ]
  },
  {
   "cell_type": "markdown",
   "metadata": {
    "id": "BqEu_euI-rDI"
   },
   "source": [
    "**Признаки**:\n",
    "* *RowNumber* — индекс строки в данных\n",
    "* *CustomerId* — уникальный идентификатор клиента\n",
    "* *Surname* — фамилия\n",
    "* *CreditScore* — кредитный рейтинг\n",
    "* *Geography* — страна проживания\n",
    "* *Gender* — пол\n",
    "* *Age* — возраст\n",
    "* *Tenure* — сколько лет человек является клиентом банка\n",
    "* *Balance* — баланс на счёте\n",
    "* *NumOfProducts* — количество продуктов банка, используемых клиентом\n",
    "* *HasCrCard* — наличие кредитной карты\n",
    "* *IsActiveMember* — активность клиента\n",
    "* *EstimatedSalary* — предполагаемая зарплата\n",
    "\n",
    "**Целевой признак**:\n",
    "* Exited — факт ухода клиента"
   ]
  },
  {
   "cell_type": "markdown",
   "metadata": {
    "id": "A991dYfO-Vwc"
   },
   "source": [
    "## Подготовка данных"
   ]
  },
  {
   "cell_type": "markdown",
   "metadata": {
    "id": "lnLS7hyVGjId"
   },
   "source": [
    "### Загрузка и изучение данных"
   ]
  },
  {
   "cell_type": "markdown",
   "metadata": {
    "id": "4fu9tJUTIoTk"
   },
   "source": [
    "Для начала подгрузим необходимые нам библиотеки для расчётов:"
   ]
  },
  {
   "cell_type": "code",
   "execution_count": 371,
   "metadata": {
    "id": "zzGt5Y5e_jhI"
   },
   "outputs": [],
   "source": [
    "import pandas as pd\n",
    "import seaborn as sns\n",
    "import matplotlib.pyplot as plt\n",
    "import numpy as np\n",
    "from sklearn.model_selection import train_test_split\n",
    "from sklearn.preprocessing import StandardScaler\n",
    "from sklearn.tree import DecisionTreeClassifier\n",
    "from sklearn.ensemble import RandomForestClassifier\n",
    "from sklearn.linear_model import LogisticRegression\n",
    "from sklearn.utils import shuffle\n",
    "from sklearn.dummy import DummyClassifier\n",
    "from sklearn.metrics import (\n",
    "    accuracy_score,\n",
    "    f1_score,\n",
    "    recall_score,\n",
    "    precision_score,\n",
    "    confusion_matrix,\n",
    "    roc_auc_score,\n",
    "    roc_curve\n",
    ")"
   ]
  },
  {
   "cell_type": "markdown",
   "metadata": {
    "id": "46jinE9ZIvvN"
   },
   "source": [
    "Загружаем данные:"
   ]
  },
  {
   "cell_type": "code",
   "execution_count": 372,
   "metadata": {
    "id": "CbLS02H7-Vwd"
   },
   "outputs": [],
   "source": [
    "try:\n",
    "    churn = pd.read_csv('Churn.csv')\n",
    "except:\n",
    "    churn = pd.read_csv('/datasets/Churn.csv')"
   ]
  },
  {
   "cell_type": "code",
   "execution_count": 373,
   "metadata": {
    "colab": {
     "base_uri": "https://localhost:8080/",
     "height": 226
    },
    "id": "UHkNWwqBAstr",
    "outputId": "8b13467b-3e1c-4350-c966-8f5073e7b810"
   },
   "outputs": [
    {
     "data": {
      "text/html": [
       "\n",
       "  <div id=\"df-dd5fee67-31fe-4967-ad82-bdf2cee688fd\" class=\"colab-df-container\">\n",
       "    <div>\n",
       "<style scoped>\n",
       "    .dataframe tbody tr th:only-of-type {\n",
       "        vertical-align: middle;\n",
       "    }\n",
       "\n",
       "    .dataframe tbody tr th {\n",
       "        vertical-align: top;\n",
       "    }\n",
       "\n",
       "    .dataframe thead th {\n",
       "        text-align: right;\n",
       "    }\n",
       "</style>\n",
       "<table border=\"1\" class=\"dataframe\">\n",
       "  <thead>\n",
       "    <tr style=\"text-align: right;\">\n",
       "      <th></th>\n",
       "      <th>RowNumber</th>\n",
       "      <th>CustomerId</th>\n",
       "      <th>Surname</th>\n",
       "      <th>CreditScore</th>\n",
       "      <th>Geography</th>\n",
       "      <th>Gender</th>\n",
       "      <th>Age</th>\n",
       "      <th>Tenure</th>\n",
       "      <th>Balance</th>\n",
       "      <th>NumOfProducts</th>\n",
       "      <th>HasCrCard</th>\n",
       "      <th>IsActiveMember</th>\n",
       "      <th>EstimatedSalary</th>\n",
       "      <th>Exited</th>\n",
       "    </tr>\n",
       "  </thead>\n",
       "  <tbody>\n",
       "    <tr>\n",
       "      <th>0</th>\n",
       "      <td>1</td>\n",
       "      <td>15634602</td>\n",
       "      <td>Hargrave</td>\n",
       "      <td>619</td>\n",
       "      <td>France</td>\n",
       "      <td>Female</td>\n",
       "      <td>42</td>\n",
       "      <td>2.00</td>\n",
       "      <td>0.00</td>\n",
       "      <td>1</td>\n",
       "      <td>1</td>\n",
       "      <td>1</td>\n",
       "      <td>101,348.88</td>\n",
       "      <td>1</td>\n",
       "    </tr>\n",
       "    <tr>\n",
       "      <th>1</th>\n",
       "      <td>2</td>\n",
       "      <td>15647311</td>\n",
       "      <td>Hill</td>\n",
       "      <td>608</td>\n",
       "      <td>Spain</td>\n",
       "      <td>Female</td>\n",
       "      <td>41</td>\n",
       "      <td>1.00</td>\n",
       "      <td>83,807.86</td>\n",
       "      <td>1</td>\n",
       "      <td>0</td>\n",
       "      <td>1</td>\n",
       "      <td>112,542.58</td>\n",
       "      <td>0</td>\n",
       "    </tr>\n",
       "    <tr>\n",
       "      <th>2</th>\n",
       "      <td>3</td>\n",
       "      <td>15619304</td>\n",
       "      <td>Onio</td>\n",
       "      <td>502</td>\n",
       "      <td>France</td>\n",
       "      <td>Female</td>\n",
       "      <td>42</td>\n",
       "      <td>8.00</td>\n",
       "      <td>159,660.80</td>\n",
       "      <td>3</td>\n",
       "      <td>1</td>\n",
       "      <td>0</td>\n",
       "      <td>113,931.57</td>\n",
       "      <td>1</td>\n",
       "    </tr>\n",
       "    <tr>\n",
       "      <th>3</th>\n",
       "      <td>4</td>\n",
       "      <td>15701354</td>\n",
       "      <td>Boni</td>\n",
       "      <td>699</td>\n",
       "      <td>France</td>\n",
       "      <td>Female</td>\n",
       "      <td>39</td>\n",
       "      <td>1.00</td>\n",
       "      <td>0.00</td>\n",
       "      <td>2</td>\n",
       "      <td>0</td>\n",
       "      <td>0</td>\n",
       "      <td>93,826.63</td>\n",
       "      <td>0</td>\n",
       "    </tr>\n",
       "    <tr>\n",
       "      <th>4</th>\n",
       "      <td>5</td>\n",
       "      <td>15737888</td>\n",
       "      <td>Mitchell</td>\n",
       "      <td>850</td>\n",
       "      <td>Spain</td>\n",
       "      <td>Female</td>\n",
       "      <td>43</td>\n",
       "      <td>2.00</td>\n",
       "      <td>125,510.82</td>\n",
       "      <td>1</td>\n",
       "      <td>1</td>\n",
       "      <td>1</td>\n",
       "      <td>79,084.10</td>\n",
       "      <td>0</td>\n",
       "    </tr>\n",
       "  </tbody>\n",
       "</table>\n",
       "</div>\n",
       "    <div class=\"colab-df-buttons\">\n",
       "\n",
       "  <div class=\"colab-df-container\">\n",
       "    <button class=\"colab-df-convert\" onclick=\"convertToInteractive('df-dd5fee67-31fe-4967-ad82-bdf2cee688fd')\"\n",
       "            title=\"Convert this dataframe to an interactive table.\"\n",
       "            style=\"display:none;\">\n",
       "\n",
       "  <svg xmlns=\"http://www.w3.org/2000/svg\" height=\"24px\" viewBox=\"0 -960 960 960\">\n",
       "    <path d=\"M120-120v-720h720v720H120Zm60-500h600v-160H180v160Zm220 220h160v-160H400v160Zm0 220h160v-160H400v160ZM180-400h160v-160H180v160Zm440 0h160v-160H620v160ZM180-180h160v-160H180v160Zm440 0h160v-160H620v160Z\"/>\n",
       "  </svg>\n",
       "    </button>\n",
       "\n",
       "  <style>\n",
       "    .colab-df-container {\n",
       "      display:flex;\n",
       "      gap: 12px;\n",
       "    }\n",
       "\n",
       "    .colab-df-convert {\n",
       "      background-color: #E8F0FE;\n",
       "      border: none;\n",
       "      border-radius: 50%;\n",
       "      cursor: pointer;\n",
       "      display: none;\n",
       "      fill: #1967D2;\n",
       "      height: 32px;\n",
       "      padding: 0 0 0 0;\n",
       "      width: 32px;\n",
       "    }\n",
       "\n",
       "    .colab-df-convert:hover {\n",
       "      background-color: #E2EBFA;\n",
       "      box-shadow: 0px 1px 2px rgba(60, 64, 67, 0.3), 0px 1px 3px 1px rgba(60, 64, 67, 0.15);\n",
       "      fill: #174EA6;\n",
       "    }\n",
       "\n",
       "    .colab-df-buttons div {\n",
       "      margin-bottom: 4px;\n",
       "    }\n",
       "\n",
       "    [theme=dark] .colab-df-convert {\n",
       "      background-color: #3B4455;\n",
       "      fill: #D2E3FC;\n",
       "    }\n",
       "\n",
       "    [theme=dark] .colab-df-convert:hover {\n",
       "      background-color: #434B5C;\n",
       "      box-shadow: 0px 1px 3px 1px rgba(0, 0, 0, 0.15);\n",
       "      filter: drop-shadow(0px 1px 2px rgba(0, 0, 0, 0.3));\n",
       "      fill: #FFFFFF;\n",
       "    }\n",
       "  </style>\n",
       "\n",
       "    <script>\n",
       "      const buttonEl =\n",
       "        document.querySelector('#df-dd5fee67-31fe-4967-ad82-bdf2cee688fd button.colab-df-convert');\n",
       "      buttonEl.style.display =\n",
       "        google.colab.kernel.accessAllowed ? 'block' : 'none';\n",
       "\n",
       "      async function convertToInteractive(key) {\n",
       "        const element = document.querySelector('#df-dd5fee67-31fe-4967-ad82-bdf2cee688fd');\n",
       "        const dataTable =\n",
       "          await google.colab.kernel.invokeFunction('convertToInteractive',\n",
       "                                                    [key], {});\n",
       "        if (!dataTable) return;\n",
       "\n",
       "        const docLinkHtml = 'Like what you see? Visit the ' +\n",
       "          '<a target=\"_blank\" href=https://colab.research.google.com/notebooks/data_table.ipynb>data table notebook</a>'\n",
       "          + ' to learn more about interactive tables.';\n",
       "        element.innerHTML = '';\n",
       "        dataTable['output_type'] = 'display_data';\n",
       "        await google.colab.output.renderOutput(dataTable, element);\n",
       "        const docLink = document.createElement('div');\n",
       "        docLink.innerHTML = docLinkHtml;\n",
       "        element.appendChild(docLink);\n",
       "      }\n",
       "    </script>\n",
       "  </div>\n",
       "\n",
       "\n",
       "<div id=\"df-5df909c1-a5ce-4abe-b0b4-0f1cbdb853b6\">\n",
       "  <button class=\"colab-df-quickchart\" onclick=\"quickchart('df-5df909c1-a5ce-4abe-b0b4-0f1cbdb853b6')\"\n",
       "            title=\"Suggest charts.\"\n",
       "            style=\"display:none;\">\n",
       "\n",
       "<svg xmlns=\"http://www.w3.org/2000/svg\" height=\"24px\"viewBox=\"0 0 24 24\"\n",
       "     width=\"24px\">\n",
       "    <g>\n",
       "        <path d=\"M19 3H5c-1.1 0-2 .9-2 2v14c0 1.1.9 2 2 2h14c1.1 0 2-.9 2-2V5c0-1.1-.9-2-2-2zM9 17H7v-7h2v7zm4 0h-2V7h2v10zm4 0h-2v-4h2v4z\"/>\n",
       "    </g>\n",
       "</svg>\n",
       "  </button>\n",
       "\n",
       "<style>\n",
       "  .colab-df-quickchart {\n",
       "    background-color: #E8F0FE;\n",
       "    border: none;\n",
       "    border-radius: 50%;\n",
       "    cursor: pointer;\n",
       "    display: none;\n",
       "    fill: #1967D2;\n",
       "    height: 32px;\n",
       "    padding: 0 0 0 0;\n",
       "    width: 32px;\n",
       "  }\n",
       "\n",
       "  .colab-df-quickchart:hover {\n",
       "    background-color: #E2EBFA;\n",
       "    box-shadow: 0px 1px 2px rgba(60, 64, 67, 0.3), 0px 1px 3px 1px rgba(60, 64, 67, 0.15);\n",
       "    fill: #174EA6;\n",
       "  }\n",
       "\n",
       "  [theme=dark] .colab-df-quickchart {\n",
       "    background-color: #3B4455;\n",
       "    fill: #D2E3FC;\n",
       "  }\n",
       "\n",
       "  [theme=dark] .colab-df-quickchart:hover {\n",
       "    background-color: #434B5C;\n",
       "    box-shadow: 0px 1px 3px 1px rgba(0, 0, 0, 0.15);\n",
       "    filter: drop-shadow(0px 1px 2px rgba(0, 0, 0, 0.3));\n",
       "    fill: #FFFFFF;\n",
       "  }\n",
       "</style>\n",
       "\n",
       "  <script>\n",
       "    async function quickchart(key) {\n",
       "      const charts = await google.colab.kernel.invokeFunction(\n",
       "          'suggestCharts', [key], {});\n",
       "    }\n",
       "    (() => {\n",
       "      let quickchartButtonEl =\n",
       "        document.querySelector('#df-5df909c1-a5ce-4abe-b0b4-0f1cbdb853b6 button');\n",
       "      quickchartButtonEl.style.display =\n",
       "        google.colab.kernel.accessAllowed ? 'block' : 'none';\n",
       "    })();\n",
       "  </script>\n",
       "</div>\n",
       "    </div>\n",
       "  </div>\n"
      ],
      "text/plain": [
       "   RowNumber  CustomerId   Surname  CreditScore Geography  Gender  Age  \\\n",
       "0          1    15634602  Hargrave          619    France  Female   42   \n",
       "1          2    15647311      Hill          608     Spain  Female   41   \n",
       "2          3    15619304      Onio          502    France  Female   42   \n",
       "3          4    15701354      Boni          699    France  Female   39   \n",
       "4          5    15737888  Mitchell          850     Spain  Female   43   \n",
       "\n",
       "   Tenure    Balance  NumOfProducts  HasCrCard  IsActiveMember  \\\n",
       "0    2.00       0.00              1          1               1   \n",
       "1    1.00  83,807.86              1          0               1   \n",
       "2    8.00 159,660.80              3          1               0   \n",
       "3    1.00       0.00              2          0               0   \n",
       "4    2.00 125,510.82              1          1               1   \n",
       "\n",
       "   EstimatedSalary  Exited  \n",
       "0       101,348.88       1  \n",
       "1       112,542.58       0  \n",
       "2       113,931.57       1  \n",
       "3        93,826.63       0  \n",
       "4        79,084.10       0  "
      ]
     },
     "execution_count": 373,
     "metadata": {},
     "output_type": "execute_result"
    }
   ],
   "source": [
    "churn.head()"
   ]
  },
  {
   "cell_type": "markdown",
   "metadata": {
    "id": "Y7HwzGm1I0Nl"
   },
   "source": [
    "Посмотрим главную первичную информацию о датафрейме:"
   ]
  },
  {
   "cell_type": "code",
   "execution_count": 374,
   "metadata": {
    "colab": {
     "base_uri": "https://localhost:8080/"
    },
    "id": "QPFZDRgkBtoT",
    "outputId": "e50d54b8-fa95-4c28-e04c-88cee6ba799e"
   },
   "outputs": [
    {
     "name": "stdout",
     "output_type": "stream",
     "text": [
      "<class 'pandas.core.frame.DataFrame'>\n",
      "RangeIndex: 10000 entries, 0 to 9999\n",
      "Data columns (total 14 columns):\n",
      " #   Column           Non-Null Count  Dtype  \n",
      "---  ------           --------------  -----  \n",
      " 0   RowNumber        10000 non-null  int64  \n",
      " 1   CustomerId       10000 non-null  int64  \n",
      " 2   Surname          10000 non-null  object \n",
      " 3   CreditScore      10000 non-null  int64  \n",
      " 4   Geography        10000 non-null  object \n",
      " 5   Gender           10000 non-null  object \n",
      " 6   Age              10000 non-null  int64  \n",
      " 7   Tenure           9091 non-null   float64\n",
      " 8   Balance          10000 non-null  float64\n",
      " 9   NumOfProducts    10000 non-null  int64  \n",
      " 10  HasCrCard        10000 non-null  int64  \n",
      " 11  IsActiveMember   10000 non-null  int64  \n",
      " 12  EstimatedSalary  10000 non-null  float64\n",
      " 13  Exited           10000 non-null  int64  \n",
      "dtypes: float64(3), int64(8), object(3)\n",
      "memory usage: 1.1+ MB\n"
     ]
    }
   ],
   "source": [
    "churn.info()"
   ]
  },
  {
   "cell_type": "markdown",
   "metadata": {
    "id": "ff15vQDdI6iq"
   },
   "source": [
    "Видим, что только в одном столбце присутствуют пропущенные значения, который говорит нам о количестве лет, в течение которых человек является клиентом нашего банка."
   ]
  },
  {
   "cell_type": "markdown",
   "metadata": {
    "id": "ZgEHPINsJiOm"
   },
   "source": [
    "Посмотрим описательную характеристику по численным данным:"
   ]
  },
  {
   "cell_type": "code",
   "execution_count": 375,
   "metadata": {
    "colab": {
     "base_uri": "https://localhost:8080/",
     "height": 320
    },
    "id": "pO-eo14NFBiy",
    "outputId": "419396f1-0e11-400f-e284-aa641a140f8a"
   },
   "outputs": [
    {
     "data": {
      "text/html": [
       "\n",
       "  <div id=\"df-c889cb48-1538-45d9-978c-2a5e99b85aab\" class=\"colab-df-container\">\n",
       "    <div>\n",
       "<style scoped>\n",
       "    .dataframe tbody tr th:only-of-type {\n",
       "        vertical-align: middle;\n",
       "    }\n",
       "\n",
       "    .dataframe tbody tr th {\n",
       "        vertical-align: top;\n",
       "    }\n",
       "\n",
       "    .dataframe thead th {\n",
       "        text-align: right;\n",
       "    }\n",
       "</style>\n",
       "<table border=\"1\" class=\"dataframe\">\n",
       "  <thead>\n",
       "    <tr style=\"text-align: right;\">\n",
       "      <th></th>\n",
       "      <th>RowNumber</th>\n",
       "      <th>CustomerId</th>\n",
       "      <th>CreditScore</th>\n",
       "      <th>Age</th>\n",
       "      <th>Tenure</th>\n",
       "      <th>Balance</th>\n",
       "      <th>NumOfProducts</th>\n",
       "      <th>HasCrCard</th>\n",
       "      <th>IsActiveMember</th>\n",
       "      <th>EstimatedSalary</th>\n",
       "      <th>Exited</th>\n",
       "    </tr>\n",
       "  </thead>\n",
       "  <tbody>\n",
       "    <tr>\n",
       "      <th>count</th>\n",
       "      <td>10,000.00</td>\n",
       "      <td>10,000.00</td>\n",
       "      <td>10,000.00</td>\n",
       "      <td>10,000.00</td>\n",
       "      <td>9,091.00</td>\n",
       "      <td>10,000.00</td>\n",
       "      <td>10,000.00</td>\n",
       "      <td>10,000.00</td>\n",
       "      <td>10,000.00</td>\n",
       "      <td>10,000.00</td>\n",
       "      <td>10,000.00</td>\n",
       "    </tr>\n",
       "    <tr>\n",
       "      <th>mean</th>\n",
       "      <td>5,000.50</td>\n",
       "      <td>15,690,940.57</td>\n",
       "      <td>650.53</td>\n",
       "      <td>38.92</td>\n",
       "      <td>5.00</td>\n",
       "      <td>76,485.89</td>\n",
       "      <td>1.53</td>\n",
       "      <td>0.71</td>\n",
       "      <td>0.52</td>\n",
       "      <td>100,090.24</td>\n",
       "      <td>0.20</td>\n",
       "    </tr>\n",
       "    <tr>\n",
       "      <th>std</th>\n",
       "      <td>2,886.90</td>\n",
       "      <td>71,936.19</td>\n",
       "      <td>96.65</td>\n",
       "      <td>10.49</td>\n",
       "      <td>2.89</td>\n",
       "      <td>62,397.41</td>\n",
       "      <td>0.58</td>\n",
       "      <td>0.46</td>\n",
       "      <td>0.50</td>\n",
       "      <td>57,510.49</td>\n",
       "      <td>0.40</td>\n",
       "    </tr>\n",
       "    <tr>\n",
       "      <th>min</th>\n",
       "      <td>1.00</td>\n",
       "      <td>15,565,701.00</td>\n",
       "      <td>350.00</td>\n",
       "      <td>18.00</td>\n",
       "      <td>0.00</td>\n",
       "      <td>0.00</td>\n",
       "      <td>1.00</td>\n",
       "      <td>0.00</td>\n",
       "      <td>0.00</td>\n",
       "      <td>11.58</td>\n",
       "      <td>0.00</td>\n",
       "    </tr>\n",
       "    <tr>\n",
       "      <th>25%</th>\n",
       "      <td>2,500.75</td>\n",
       "      <td>15,628,528.25</td>\n",
       "      <td>584.00</td>\n",
       "      <td>32.00</td>\n",
       "      <td>2.00</td>\n",
       "      <td>0.00</td>\n",
       "      <td>1.00</td>\n",
       "      <td>0.00</td>\n",
       "      <td>0.00</td>\n",
       "      <td>51,002.11</td>\n",
       "      <td>0.00</td>\n",
       "    </tr>\n",
       "    <tr>\n",
       "      <th>50%</th>\n",
       "      <td>5,000.50</td>\n",
       "      <td>15,690,738.00</td>\n",
       "      <td>652.00</td>\n",
       "      <td>37.00</td>\n",
       "      <td>5.00</td>\n",
       "      <td>97,198.54</td>\n",
       "      <td>1.00</td>\n",
       "      <td>1.00</td>\n",
       "      <td>1.00</td>\n",
       "      <td>100,193.91</td>\n",
       "      <td>0.00</td>\n",
       "    </tr>\n",
       "    <tr>\n",
       "      <th>75%</th>\n",
       "      <td>7,500.25</td>\n",
       "      <td>15,753,233.75</td>\n",
       "      <td>718.00</td>\n",
       "      <td>44.00</td>\n",
       "      <td>7.00</td>\n",
       "      <td>127,644.24</td>\n",
       "      <td>2.00</td>\n",
       "      <td>1.00</td>\n",
       "      <td>1.00</td>\n",
       "      <td>149,388.25</td>\n",
       "      <td>0.00</td>\n",
       "    </tr>\n",
       "    <tr>\n",
       "      <th>max</th>\n",
       "      <td>10,000.00</td>\n",
       "      <td>15,815,690.00</td>\n",
       "      <td>850.00</td>\n",
       "      <td>92.00</td>\n",
       "      <td>10.00</td>\n",
       "      <td>250,898.09</td>\n",
       "      <td>4.00</td>\n",
       "      <td>1.00</td>\n",
       "      <td>1.00</td>\n",
       "      <td>199,992.48</td>\n",
       "      <td>1.00</td>\n",
       "    </tr>\n",
       "  </tbody>\n",
       "</table>\n",
       "</div>\n",
       "    <div class=\"colab-df-buttons\">\n",
       "\n",
       "  <div class=\"colab-df-container\">\n",
       "    <button class=\"colab-df-convert\" onclick=\"convertToInteractive('df-c889cb48-1538-45d9-978c-2a5e99b85aab')\"\n",
       "            title=\"Convert this dataframe to an interactive table.\"\n",
       "            style=\"display:none;\">\n",
       "\n",
       "  <svg xmlns=\"http://www.w3.org/2000/svg\" height=\"24px\" viewBox=\"0 -960 960 960\">\n",
       "    <path d=\"M120-120v-720h720v720H120Zm60-500h600v-160H180v160Zm220 220h160v-160H400v160Zm0 220h160v-160H400v160ZM180-400h160v-160H180v160Zm440 0h160v-160H620v160ZM180-180h160v-160H180v160Zm440 0h160v-160H620v160Z\"/>\n",
       "  </svg>\n",
       "    </button>\n",
       "\n",
       "  <style>\n",
       "    .colab-df-container {\n",
       "      display:flex;\n",
       "      gap: 12px;\n",
       "    }\n",
       "\n",
       "    .colab-df-convert {\n",
       "      background-color: #E8F0FE;\n",
       "      border: none;\n",
       "      border-radius: 50%;\n",
       "      cursor: pointer;\n",
       "      display: none;\n",
       "      fill: #1967D2;\n",
       "      height: 32px;\n",
       "      padding: 0 0 0 0;\n",
       "      width: 32px;\n",
       "    }\n",
       "\n",
       "    .colab-df-convert:hover {\n",
       "      background-color: #E2EBFA;\n",
       "      box-shadow: 0px 1px 2px rgba(60, 64, 67, 0.3), 0px 1px 3px 1px rgba(60, 64, 67, 0.15);\n",
       "      fill: #174EA6;\n",
       "    }\n",
       "\n",
       "    .colab-df-buttons div {\n",
       "      margin-bottom: 4px;\n",
       "    }\n",
       "\n",
       "    [theme=dark] .colab-df-convert {\n",
       "      background-color: #3B4455;\n",
       "      fill: #D2E3FC;\n",
       "    }\n",
       "\n",
       "    [theme=dark] .colab-df-convert:hover {\n",
       "      background-color: #434B5C;\n",
       "      box-shadow: 0px 1px 3px 1px rgba(0, 0, 0, 0.15);\n",
       "      filter: drop-shadow(0px 1px 2px rgba(0, 0, 0, 0.3));\n",
       "      fill: #FFFFFF;\n",
       "    }\n",
       "  </style>\n",
       "\n",
       "    <script>\n",
       "      const buttonEl =\n",
       "        document.querySelector('#df-c889cb48-1538-45d9-978c-2a5e99b85aab button.colab-df-convert');\n",
       "      buttonEl.style.display =\n",
       "        google.colab.kernel.accessAllowed ? 'block' : 'none';\n",
       "\n",
       "      async function convertToInteractive(key) {\n",
       "        const element = document.querySelector('#df-c889cb48-1538-45d9-978c-2a5e99b85aab');\n",
       "        const dataTable =\n",
       "          await google.colab.kernel.invokeFunction('convertToInteractive',\n",
       "                                                    [key], {});\n",
       "        if (!dataTable) return;\n",
       "\n",
       "        const docLinkHtml = 'Like what you see? Visit the ' +\n",
       "          '<a target=\"_blank\" href=https://colab.research.google.com/notebooks/data_table.ipynb>data table notebook</a>'\n",
       "          + ' to learn more about interactive tables.';\n",
       "        element.innerHTML = '';\n",
       "        dataTable['output_type'] = 'display_data';\n",
       "        await google.colab.output.renderOutput(dataTable, element);\n",
       "        const docLink = document.createElement('div');\n",
       "        docLink.innerHTML = docLinkHtml;\n",
       "        element.appendChild(docLink);\n",
       "      }\n",
       "    </script>\n",
       "  </div>\n",
       "\n",
       "\n",
       "<div id=\"df-7f05eae6-d21a-4af7-9f08-3e4f363223df\">\n",
       "  <button class=\"colab-df-quickchart\" onclick=\"quickchart('df-7f05eae6-d21a-4af7-9f08-3e4f363223df')\"\n",
       "            title=\"Suggest charts.\"\n",
       "            style=\"display:none;\">\n",
       "\n",
       "<svg xmlns=\"http://www.w3.org/2000/svg\" height=\"24px\"viewBox=\"0 0 24 24\"\n",
       "     width=\"24px\">\n",
       "    <g>\n",
       "        <path d=\"M19 3H5c-1.1 0-2 .9-2 2v14c0 1.1.9 2 2 2h14c1.1 0 2-.9 2-2V5c0-1.1-.9-2-2-2zM9 17H7v-7h2v7zm4 0h-2V7h2v10zm4 0h-2v-4h2v4z\"/>\n",
       "    </g>\n",
       "</svg>\n",
       "  </button>\n",
       "\n",
       "<style>\n",
       "  .colab-df-quickchart {\n",
       "    background-color: #E8F0FE;\n",
       "    border: none;\n",
       "    border-radius: 50%;\n",
       "    cursor: pointer;\n",
       "    display: none;\n",
       "    fill: #1967D2;\n",
       "    height: 32px;\n",
       "    padding: 0 0 0 0;\n",
       "    width: 32px;\n",
       "  }\n",
       "\n",
       "  .colab-df-quickchart:hover {\n",
       "    background-color: #E2EBFA;\n",
       "    box-shadow: 0px 1px 2px rgba(60, 64, 67, 0.3), 0px 1px 3px 1px rgba(60, 64, 67, 0.15);\n",
       "    fill: #174EA6;\n",
       "  }\n",
       "\n",
       "  [theme=dark] .colab-df-quickchart {\n",
       "    background-color: #3B4455;\n",
       "    fill: #D2E3FC;\n",
       "  }\n",
       "\n",
       "  [theme=dark] .colab-df-quickchart:hover {\n",
       "    background-color: #434B5C;\n",
       "    box-shadow: 0px 1px 3px 1px rgba(0, 0, 0, 0.15);\n",
       "    filter: drop-shadow(0px 1px 2px rgba(0, 0, 0, 0.3));\n",
       "    fill: #FFFFFF;\n",
       "  }\n",
       "</style>\n",
       "\n",
       "  <script>\n",
       "    async function quickchart(key) {\n",
       "      const charts = await google.colab.kernel.invokeFunction(\n",
       "          'suggestCharts', [key], {});\n",
       "    }\n",
       "    (() => {\n",
       "      let quickchartButtonEl =\n",
       "        document.querySelector('#df-7f05eae6-d21a-4af7-9f08-3e4f363223df button');\n",
       "      quickchartButtonEl.style.display =\n",
       "        google.colab.kernel.accessAllowed ? 'block' : 'none';\n",
       "    })();\n",
       "  </script>\n",
       "</div>\n",
       "    </div>\n",
       "  </div>\n"
      ],
      "text/plain": [
       "       RowNumber    CustomerId  CreditScore       Age   Tenure    Balance  \\\n",
       "count  10,000.00     10,000.00    10,000.00 10,000.00 9,091.00  10,000.00   \n",
       "mean    5,000.50 15,690,940.57       650.53     38.92     5.00  76,485.89   \n",
       "std     2,886.90     71,936.19        96.65     10.49     2.89  62,397.41   \n",
       "min         1.00 15,565,701.00       350.00     18.00     0.00       0.00   \n",
       "25%     2,500.75 15,628,528.25       584.00     32.00     2.00       0.00   \n",
       "50%     5,000.50 15,690,738.00       652.00     37.00     5.00  97,198.54   \n",
       "75%     7,500.25 15,753,233.75       718.00     44.00     7.00 127,644.24   \n",
       "max    10,000.00 15,815,690.00       850.00     92.00    10.00 250,898.09   \n",
       "\n",
       "       NumOfProducts  HasCrCard  IsActiveMember  EstimatedSalary    Exited  \n",
       "count      10,000.00  10,000.00       10,000.00        10,000.00 10,000.00  \n",
       "mean            1.53       0.71            0.52       100,090.24      0.20  \n",
       "std             0.58       0.46            0.50        57,510.49      0.40  \n",
       "min             1.00       0.00            0.00            11.58      0.00  \n",
       "25%             1.00       0.00            0.00        51,002.11      0.00  \n",
       "50%             1.00       1.00            1.00       100,193.91      0.00  \n",
       "75%             2.00       1.00            1.00       149,388.25      0.00  \n",
       "max             4.00       1.00            1.00       199,992.48      1.00  "
      ]
     },
     "execution_count": 375,
     "metadata": {},
     "output_type": "execute_result"
    }
   ],
   "source": [
    "churn.describe()"
   ]
  },
  {
   "cell_type": "markdown",
   "metadata": {
    "id": "V2UhWkDwJu7g"
   },
   "source": [
    "Построим гистограммы, чтобы оценить примерное распределение данных:"
   ]
  },
  {
   "cell_type": "code",
   "execution_count": 376,
   "metadata": {
    "colab": {
     "base_uri": "https://localhost:8080/",
     "height": 925
    },
    "id": "8rzaueNiGEF4",
    "outputId": "372c2e4f-3c1f-4002-99ab-9bc840e3d279"
   },
   "outputs": [
    {
     "data": {
      "image/png": "[encoded data removed]",
      "text/plain": [
       "<Figure size 1400x1200 with 12 Axes>"
      ]
     },
     "metadata": {},
     "output_type": "display_data"
    }
   ],
   "source": [
    "churn.hist(figsize=(14, 12))\n",
    "plt.show()"
   ]
  },
  {
   "cell_type": "markdown",
   "metadata": {
    "id": "vmiObam-J1kF"
   },
   "source": [
    "По первичному анализу видим, что более частыми клиентами нашими банка становятся люди возрастом 30-40 лет. Баланс клиентов имеет вид нормального распределения, но более 3,5 тыс. клиентов имеют нулевой баланс. Около 70% клиентов пользуются кредитной картой нашего банка. Распределение по примерной заработной плате клиентом говорит нам о том, что среди клиентов примерно равное количество людей с различным уровнем заработка. Также около 20% от общего числа клиентов отказались от услуг нашего банка."
   ]
  },
  {
   "cell_type": "markdown",
   "metadata": {
    "id": "bwq3u88OL602"
   },
   "source": [
    "### Предобработка данных"
   ]
  },
  {
   "cell_type": "markdown",
   "metadata": {
    "id": "cOFcIIsCZLMU"
   },
   "source": [
    "Посмотрим на количество пропусков в данных:"
   ]
  },
  {
   "cell_type": "code",
   "execution_count": 377,
   "metadata": {
    "colab": {
     "base_uri": "https://localhost:8080/"
    },
    "id": "LYlaMNSjMBwd",
    "outputId": "0ccdda89-2fee-45f4-97fa-ba46ea9d393f"
   },
   "outputs": [
    {
     "data": {
      "text/plain": [
       "RowNumber            0\n",
       "CustomerId           0\n",
       "Surname              0\n",
       "CreditScore          0\n",
       "Geography            0\n",
       "Gender               0\n",
       "Age                  0\n",
       "Tenure             909\n",
       "Balance              0\n",
       "NumOfProducts        0\n",
       "HasCrCard            0\n",
       "IsActiveMember       0\n",
       "EstimatedSalary      0\n",
       "Exited               0\n",
       "dtype: int64"
      ]
     },
     "execution_count": 377,
     "metadata": {},
     "output_type": "execute_result"
    }
   ],
   "source": [
    "churn.isnull().sum()"
   ]
  },
  {
   "cell_type": "markdown",
   "metadata": {
    "id": "O2aI8_l2ZSL1"
   },
   "source": [
    "Видим, что действительно пропуски только в одном столбце. Заполним пропуски медианнымы значениями и проверим результат:"
   ]
  },
  {
   "cell_type": "code",
   "execution_count": 378,
   "metadata": {
    "id": "bP8zbbW5RCUZ"
   },
   "outputs": [],
   "source": [
    "churn['Tenure'] = churn['Tenure'].fillna(churn['Tenure'].median())"
   ]
  },
  {
   "cell_type": "code",
   "execution_count": 379,
   "metadata": {
    "colab": {
     "base_uri": "https://localhost:8080/"
    },
    "id": "zNJu2u6MY6tC",
    "outputId": "83208755-79c7-4153-a71f-8289da4f206c"
   },
   "outputs": [
    {
     "data": {
      "text/plain": [
       "RowNumber          0\n",
       "CustomerId         0\n",
       "Surname            0\n",
       "CreditScore        0\n",
       "Geography          0\n",
       "Gender             0\n",
       "Age                0\n",
       "Tenure             0\n",
       "Balance            0\n",
       "NumOfProducts      0\n",
       "HasCrCard          0\n",
       "IsActiveMember     0\n",
       "EstimatedSalary    0\n",
       "Exited             0\n",
       "dtype: int64"
      ]
     },
     "execution_count": 379,
     "metadata": {},
     "output_type": "execute_result"
    }
   ],
   "source": [
    "churn.isnull().sum()"
   ]
  },
  {
   "cell_type": "markdown",
   "metadata": {
    "id": "CBOJldMwZsBu"
   },
   "source": [
    "Также проверим данные на наличие дубликатов:"
   ]
  },
  {
   "cell_type": "code",
   "execution_count": 380,
   "metadata": {
    "colab": {
     "base_uri": "https://localhost:8080/"
    },
    "id": "6BEILESjZGVj",
    "outputId": "edf74ce3-2b60-4814-de34-8e2665dad327"
   },
   "outputs": [
    {
     "data": {
      "text/plain": [
       "0"
      ]
     },
     "execution_count": 380,
     "metadata": {},
     "output_type": "execute_result"
    }
   ],
   "source": [
    "churn.duplicated().sum()"
   ]
  },
  {
   "cell_type": "markdown",
   "metadata": {
    "id": "y8Jt2-ynZxXQ"
   },
   "source": [
    "Предобработка данных завершена успешно."
   ]
  },
  {
   "cell_type": "markdown",
   "metadata": {
    "id": "ixMYmUAdawkv"
   },
   "source": [
    "### Прямое кодирование и масштабирование признаков"
   ]
  },
  {
   "cell_type": "markdown",
   "metadata": {
    "id": "l2-AIdvvqjJe"
   },
   "source": [
    "Можем применить метод OHE к двум категориальным столбцам в нашем датафрейме - *Geography* и *Gender*. Посмотрим, какие уникальные значения в каждом из них, чтобы оценить целесообразность применения данного метода."
   ]
  },
  {
   "cell_type": "code",
   "execution_count": 381,
   "metadata": {
    "colab": {
     "base_uri": "https://localhost:8080/"
    },
    "id": "yjeZWePtcZf1",
    "outputId": "5be901ee-a786-4711-e10c-dca08d59398c"
   },
   "outputs": [
    {
     "data": {
      "text/plain": [
       "array(['France', 'Spain', 'Germany'], dtype=object)"
      ]
     },
     "execution_count": 381,
     "metadata": {},
     "output_type": "execute_result"
    }
   ],
   "source": [
    "churn['Geography'].unique()"
   ]
  },
  {
   "cell_type": "code",
   "execution_count": 382,
   "metadata": {
    "colab": {
     "base_uri": "https://localhost:8080/"
    },
    "id": "N0OA9F-qci43",
    "outputId": "f20018c5-8ba7-434c-a48e-954e8c0a528c"
   },
   "outputs": [
    {
     "data": {
      "text/plain": [
       "array(['Female', 'Male'], dtype=object)"
      ]
     },
     "execution_count": 382,
     "metadata": {},
     "output_type": "execute_result"
    }
   ],
   "source": [
    "churn['Gender'].unique()"
   ]
  },
  {
   "cell_type": "markdown",
   "metadata": {
    "id": "YU91I2NXrBEc"
   },
   "source": [
    "Можем с уверенностью воспользоваться прямым кодированием, чтобы преобразовать категориальные данные в количественные для упрощения обучения. Удалим первый столбец в каждом случае, чтобы не попасть в дамми-ловушку."
   ]
  },
  {
   "cell_type": "code",
   "execution_count": 383,
   "metadata": {
    "colab": {
     "base_uri": "https://localhost:8080/",
     "height": 383
    },
    "id": "m3yVQgwycAqA",
    "outputId": "ae74d3ba-d16a-431a-adc3-f1084f51d29d"
   },
   "outputs": [
    {
     "data": {
      "text/html": [
       "\n",
       "  <div id=\"df-5f60274c-0da9-4957-9fa8-430396d14d69\" class=\"colab-df-container\">\n",
       "    <div>\n",
       "<style scoped>\n",
       "    .dataframe tbody tr th:only-of-type {\n",
       "        vertical-align: middle;\n",
       "    }\n",
       "\n",
       "    .dataframe tbody tr th {\n",
       "        vertical-align: top;\n",
       "    }\n",
       "\n",
       "    .dataframe thead th {\n",
       "        text-align: right;\n",
       "    }\n",
       "</style>\n",
       "<table border=\"1\" class=\"dataframe\">\n",
       "  <thead>\n",
       "    <tr style=\"text-align: right;\">\n",
       "      <th></th>\n",
       "      <th>RowNumber</th>\n",
       "      <th>CustomerId</th>\n",
       "      <th>Surname</th>\n",
       "      <th>CreditScore</th>\n",
       "      <th>Age</th>\n",
       "      <th>Tenure</th>\n",
       "      <th>Balance</th>\n",
       "      <th>NumOfProducts</th>\n",
       "      <th>HasCrCard</th>\n",
       "      <th>IsActiveMember</th>\n",
       "      <th>EstimatedSalary</th>\n",
       "      <th>Exited</th>\n",
       "      <th>Geography_Germany</th>\n",
       "      <th>Geography_Spain</th>\n",
       "      <th>Gender_Male</th>\n",
       "    </tr>\n",
       "  </thead>\n",
       "  <tbody>\n",
       "    <tr>\n",
       "      <th>0</th>\n",
       "      <td>1</td>\n",
       "      <td>15634602</td>\n",
       "      <td>Hargrave</td>\n",
       "      <td>619</td>\n",
       "      <td>42</td>\n",
       "      <td>2.00</td>\n",
       "      <td>0.00</td>\n",
       "      <td>1</td>\n",
       "      <td>1</td>\n",
       "      <td>1</td>\n",
       "      <td>101,348.88</td>\n",
       "      <td>1</td>\n",
       "      <td>0</td>\n",
       "      <td>0</td>\n",
       "      <td>0</td>\n",
       "    </tr>\n",
       "    <tr>\n",
       "      <th>1</th>\n",
       "      <td>2</td>\n",
       "      <td>15647311</td>\n",
       "      <td>Hill</td>\n",
       "      <td>608</td>\n",
       "      <td>41</td>\n",
       "      <td>1.00</td>\n",
       "      <td>83,807.86</td>\n",
       "      <td>1</td>\n",
       "      <td>0</td>\n",
       "      <td>1</td>\n",
       "      <td>112,542.58</td>\n",
       "      <td>0</td>\n",
       "      <td>0</td>\n",
       "      <td>1</td>\n",
       "      <td>0</td>\n",
       "    </tr>\n",
       "    <tr>\n",
       "      <th>2</th>\n",
       "      <td>3</td>\n",
       "      <td>15619304</td>\n",
       "      <td>Onio</td>\n",
       "      <td>502</td>\n",
       "      <td>42</td>\n",
       "      <td>8.00</td>\n",
       "      <td>159,660.80</td>\n",
       "      <td>3</td>\n",
       "      <td>1</td>\n",
       "      <td>0</td>\n",
       "      <td>113,931.57</td>\n",
       "      <td>1</td>\n",
       "      <td>0</td>\n",
       "      <td>0</td>\n",
       "      <td>0</td>\n",
       "    </tr>\n",
       "    <tr>\n",
       "      <th>3</th>\n",
       "      <td>4</td>\n",
       "      <td>15701354</td>\n",
       "      <td>Boni</td>\n",
       "      <td>699</td>\n",
       "      <td>39</td>\n",
       "      <td>1.00</td>\n",
       "      <td>0.00</td>\n",
       "      <td>2</td>\n",
       "      <td>0</td>\n",
       "      <td>0</td>\n",
       "      <td>93,826.63</td>\n",
       "      <td>0</td>\n",
       "      <td>0</td>\n",
       "      <td>0</td>\n",
       "      <td>0</td>\n",
       "    </tr>\n",
       "    <tr>\n",
       "      <th>4</th>\n",
       "      <td>5</td>\n",
       "      <td>15737888</td>\n",
       "      <td>Mitchell</td>\n",
       "      <td>850</td>\n",
       "      <td>43</td>\n",
       "      <td>2.00</td>\n",
       "      <td>125,510.82</td>\n",
       "      <td>1</td>\n",
       "      <td>1</td>\n",
       "      <td>1</td>\n",
       "      <td>79,084.10</td>\n",
       "      <td>0</td>\n",
       "      <td>0</td>\n",
       "      <td>1</td>\n",
       "      <td>0</td>\n",
       "    </tr>\n",
       "    <tr>\n",
       "      <th>5</th>\n",
       "      <td>6</td>\n",
       "      <td>15574012</td>\n",
       "      <td>Chu</td>\n",
       "      <td>645</td>\n",
       "      <td>44</td>\n",
       "      <td>8.00</td>\n",
       "      <td>113,755.78</td>\n",
       "      <td>2</td>\n",
       "      <td>1</td>\n",
       "      <td>0</td>\n",
       "      <td>149,756.71</td>\n",
       "      <td>1</td>\n",
       "      <td>0</td>\n",
       "      <td>1</td>\n",
       "      <td>1</td>\n",
       "    </tr>\n",
       "    <tr>\n",
       "      <th>6</th>\n",
       "      <td>7</td>\n",
       "      <td>15592531</td>\n",
       "      <td>Bartlett</td>\n",
       "      <td>822</td>\n",
       "      <td>50</td>\n",
       "      <td>7.00</td>\n",
       "      <td>0.00</td>\n",
       "      <td>2</td>\n",
       "      <td>1</td>\n",
       "      <td>1</td>\n",
       "      <td>10,062.80</td>\n",
       "      <td>0</td>\n",
       "      <td>0</td>\n",
       "      <td>0</td>\n",
       "      <td>1</td>\n",
       "    </tr>\n",
       "    <tr>\n",
       "      <th>7</th>\n",
       "      <td>8</td>\n",
       "      <td>15656148</td>\n",
       "      <td>Obinna</td>\n",
       "      <td>376</td>\n",
       "      <td>29</td>\n",
       "      <td>4.00</td>\n",
       "      <td>115,046.74</td>\n",
       "      <td>4</td>\n",
       "      <td>1</td>\n",
       "      <td>0</td>\n",
       "      <td>119,346.88</td>\n",
       "      <td>1</td>\n",
       "      <td>1</td>\n",
       "      <td>0</td>\n",
       "      <td>0</td>\n",
       "    </tr>\n",
       "    <tr>\n",
       "      <th>8</th>\n",
       "      <td>9</td>\n",
       "      <td>15792365</td>\n",
       "      <td>He</td>\n",
       "      <td>501</td>\n",
       "      <td>44</td>\n",
       "      <td>4.00</td>\n",
       "      <td>142,051.07</td>\n",
       "      <td>2</td>\n",
       "      <td>0</td>\n",
       "      <td>1</td>\n",
       "      <td>74,940.50</td>\n",
       "      <td>0</td>\n",
       "      <td>0</td>\n",
       "      <td>0</td>\n",
       "      <td>1</td>\n",
       "    </tr>\n",
       "    <tr>\n",
       "      <th>9</th>\n",
       "      <td>10</td>\n",
       "      <td>15592389</td>\n",
       "      <td>H?</td>\n",
       "      <td>684</td>\n",
       "      <td>27</td>\n",
       "      <td>2.00</td>\n",
       "      <td>134,603.88</td>\n",
       "      <td>1</td>\n",
       "      <td>1</td>\n",
       "      <td>1</td>\n",
       "      <td>71,725.73</td>\n",
       "      <td>0</td>\n",
       "      <td>0</td>\n",
       "      <td>0</td>\n",
       "      <td>1</td>\n",
       "    </tr>\n",
       "  </tbody>\n",
       "</table>\n",
       "</div>\n",
       "    <div class=\"colab-df-buttons\">\n",
       "\n",
       "  <div class=\"colab-df-container\">\n",
       "    <button class=\"colab-df-convert\" onclick=\"convertToInteractive('df-5f60274c-0da9-4957-9fa8-430396d14d69')\"\n",
       "            title=\"Convert this dataframe to an interactive table.\"\n",
       "            style=\"display:none;\">\n",
       "\n",
       "  <svg xmlns=\"http://www.w3.org/2000/svg\" height=\"24px\" viewBox=\"0 -960 960 960\">\n",
       "    <path d=\"M120-120v-720h720v720H120Zm60-500h600v-160H180v160Zm220 220h160v-160H400v160Zm0 220h160v-160H400v160ZM180-400h160v-160H180v160Zm440 0h160v-160H620v160ZM180-180h160v-160H180v160Zm440 0h160v-160H620v160Z\"/>\n",
       "  </svg>\n",
       "    </button>\n",
       "\n",
       "  <style>\n",
       "    .colab-df-container {\n",
       "      display:flex;\n",
       "      gap: 12px;\n",
       "    }\n",
       "\n",
       "    .colab-df-convert {\n",
       "      background-color: #E8F0FE;\n",
       "      border: none;\n",
       "      border-radius: 50%;\n",
       "      cursor: pointer;\n",
       "      display: none;\n",
       "      fill: #1967D2;\n",
       "      height: 32px;\n",
       "      padding: 0 0 0 0;\n",
       "      width: 32px;\n",
       "    }\n",
       "\n",
       "    .colab-df-convert:hover {\n",
       "      background-color: #E2EBFA;\n",
       "      box-shadow: 0px 1px 2px rgba(60, 64, 67, 0.3), 0px 1px 3px 1px rgba(60, 64, 67, 0.15);\n",
       "      fill: #174EA6;\n",
       "    }\n",
       "\n",
       "    .colab-df-buttons div {\n",
       "      margin-bottom: 4px;\n",
       "    }\n",
       "\n",
       "    [theme=dark] .colab-df-convert {\n",
       "      background-color: #3B4455;\n",
       "      fill: #D2E3FC;\n",
       "    }\n",
       "\n",
       "    [theme=dark] .colab-df-convert:hover {\n",
       "      background-color: #434B5C;\n",
       "      box-shadow: 0px 1px 3px 1px rgba(0, 0, 0, 0.15);\n",
       "      filter: drop-shadow(0px 1px 2px rgba(0, 0, 0, 0.3));\n",
       "      fill: #FFFFFF;\n",
       "    }\n",
       "  </style>\n",
       "\n",
       "    <script>\n",
       "      const buttonEl =\n",
       "        document.querySelector('#df-5f60274c-0da9-4957-9fa8-430396d14d69 button.colab-df-convert');\n",
       "      buttonEl.style.display =\n",
       "        google.colab.kernel.accessAllowed ? 'block' : 'none';\n",
       "\n",
       "      async function convertToInteractive(key) {\n",
       "        const element = document.querySelector('#df-5f60274c-0da9-4957-9fa8-430396d14d69');\n",
       "        const dataTable =\n",
       "          await google.colab.kernel.invokeFunction('convertToInteractive',\n",
       "                                                    [key], {});\n",
       "        if (!dataTable) return;\n",
       "\n",
       "        const docLinkHtml = 'Like what you see? Visit the ' +\n",
       "          '<a target=\"_blank\" href=https://colab.research.google.com/notebooks/data_table.ipynb>data table notebook</a>'\n",
       "          + ' to learn more about interactive tables.';\n",
       "        element.innerHTML = '';\n",
       "        dataTable['output_type'] = 'display_data';\n",
       "        await google.colab.output.renderOutput(dataTable, element);\n",
       "        const docLink = document.createElement('div');\n",
       "        docLink.innerHTML = docLinkHtml;\n",
       "        element.appendChild(docLink);\n",
       "      }\n",
       "    </script>\n",
       "  </div>\n",
       "\n",
       "\n",
       "<div id=\"df-1fb69057-5ee1-44a7-bed9-2abb1a2b8d1c\">\n",
       "  <button class=\"colab-df-quickchart\" onclick=\"quickchart('df-1fb69057-5ee1-44a7-bed9-2abb1a2b8d1c')\"\n",
       "            title=\"Suggest charts.\"\n",
       "            style=\"display:none;\">\n",
       "\n",
       "<svg xmlns=\"http://www.w3.org/2000/svg\" height=\"24px\"viewBox=\"0 0 24 24\"\n",
       "     width=\"24px\">\n",
       "    <g>\n",
       "        <path d=\"M19 3H5c-1.1 0-2 .9-2 2v14c0 1.1.9 2 2 2h14c1.1 0 2-.9 2-2V5c0-1.1-.9-2-2-2zM9 17H7v-7h2v7zm4 0h-2V7h2v10zm4 0h-2v-4h2v4z\"/>\n",
       "    </g>\n",
       "</svg>\n",
       "  </button>\n",
       "\n",
       "<style>\n",
       "  .colab-df-quickchart {\n",
       "    background-color: #E8F0FE;\n",
       "    border: none;\n",
       "    border-radius: 50%;\n",
       "    cursor: pointer;\n",
       "    display: none;\n",
       "    fill: #1967D2;\n",
       "    height: 32px;\n",
       "    padding: 0 0 0 0;\n",
       "    width: 32px;\n",
       "  }\n",
       "\n",
       "  .colab-df-quickchart:hover {\n",
       "    background-color: #E2EBFA;\n",
       "    box-shadow: 0px 1px 2px rgba(60, 64, 67, 0.3), 0px 1px 3px 1px rgba(60, 64, 67, 0.15);\n",
       "    fill: #174EA6;\n",
       "  }\n",
       "\n",
       "  [theme=dark] .colab-df-quickchart {\n",
       "    background-color: #3B4455;\n",
       "    fill: #D2E3FC;\n",
       "  }\n",
       "\n",
       "  [theme=dark] .colab-df-quickchart:hover {\n",
       "    background-color: #434B5C;\n",
       "    box-shadow: 0px 1px 3px 1px rgba(0, 0, 0, 0.15);\n",
       "    filter: drop-shadow(0px 1px 2px rgba(0, 0, 0, 0.3));\n",
       "    fill: #FFFFFF;\n",
       "  }\n",
       "</style>\n",
       "\n",
       "  <script>\n",
       "    async function quickchart(key) {\n",
       "      const charts = await google.colab.kernel.invokeFunction(\n",
       "          'suggestCharts', [key], {});\n",
       "    }\n",
       "    (() => {\n",
       "      let quickchartButtonEl =\n",
       "        document.querySelector('#df-1fb69057-5ee1-44a7-bed9-2abb1a2b8d1c button');\n",
       "      quickchartButtonEl.style.display =\n",
       "        google.colab.kernel.accessAllowed ? 'block' : 'none';\n",
       "    })();\n",
       "  </script>\n",
       "</div>\n",
       "    </div>\n",
       "  </div>\n"
      ],
      "text/plain": [
       "   RowNumber  CustomerId   Surname  CreditScore  Age  Tenure    Balance  \\\n",
       "0          1    15634602  Hargrave          619   42    2.00       0.00   \n",
       "1          2    15647311      Hill          608   41    1.00  83,807.86   \n",
       "2          3    15619304      Onio          502   42    8.00 159,660.80   \n",
       "3          4    15701354      Boni          699   39    1.00       0.00   \n",
       "4          5    15737888  Mitchell          850   43    2.00 125,510.82   \n",
       "5          6    15574012       Chu          645   44    8.00 113,755.78   \n",
       "6          7    15592531  Bartlett          822   50    7.00       0.00   \n",
       "7          8    15656148    Obinna          376   29    4.00 115,046.74   \n",
       "8          9    15792365        He          501   44    4.00 142,051.07   \n",
       "9         10    15592389        H?          684   27    2.00 134,603.88   \n",
       "\n",
       "   NumOfProducts  HasCrCard  IsActiveMember  EstimatedSalary  Exited  \\\n",
       "0              1          1               1       101,348.88       1   \n",
       "1              1          0               1       112,542.58       0   \n",
       "2              3          1               0       113,931.57       1   \n",
       "3              2          0               0        93,826.63       0   \n",
       "4              1          1               1        79,084.10       0   \n",
       "5              2          1               0       149,756.71       1   \n",
       "6              2          1               1        10,062.80       0   \n",
       "7              4          1               0       119,346.88       1   \n",
       "8              2          0               1        74,940.50       0   \n",
       "9              1          1               1        71,725.73       0   \n",
       "\n",
       "   Geography_Germany  Geography_Spain  Gender_Male  \n",
       "0                  0                0            0  \n",
       "1                  0                1            0  \n",
       "2                  0                0            0  \n",
       "3                  0                0            0  \n",
       "4                  0                1            0  \n",
       "5                  0                1            1  \n",
       "6                  0                0            1  \n",
       "7                  1                0            0  \n",
       "8                  0                0            1  \n",
       "9                  0                0            1  "
      ]
     },
     "execution_count": 383,
     "metadata": {},
     "output_type": "execute_result"
    }
   ],
   "source": [
    "churn = pd.get_dummies(churn, drop_first=True, columns=['Geography', 'Gender'])\n",
    "churn.head(10)"
   ]
  },
  {
   "cell_type": "markdown",
   "metadata": {
    "id": "GdihGIHyrVtD"
   },
   "source": [
    "Теперь приступим к масштабированию данных с помощью стандартизации. Но перед этим поделим наши данные на обучающую, валидационную и тестовую выборки. Выделим целевой признак - *Exited* - и признаки, влияющие на определение классификации - удалим целевой признак, а также столбцы *RowNumber*, *CustomerId* и *Surname*, так как они не помогут в определении классификации, а могут создать лишь дополнительное препятствие в обучении для нашей будущей модели."
   ]
  },
  {
   "cell_type": "code",
   "execution_count": 384,
   "metadata": {
    "id": "h8pv5bhOdsGL"
   },
   "outputs": [],
   "source": [
    "target = churn['Exited']\n",
    "features = churn.drop(['Exited', 'RowNumber', 'CustomerId', 'Surname'], axis=1)"
   ]
  },
  {
   "cell_type": "markdown",
   "metadata": {
    "id": "br8VVbp7sijG"
   },
   "source": [
    "Далее делим данные на выборки в соотношении 60/20/20 на обучающую, валидационную и тестовую соответственною"
   ]
  },
  {
   "cell_type": "code",
   "execution_count": 385,
   "metadata": {
    "id": "Gzul8ggTeKh7"
   },
   "outputs": [],
   "source": [
    "features_train, features_test, target_train, target_test = train_test_split(features, target,\n",
    "                                                                            test_size=0.2, random_state=123)\n",
    "\n",
    "features_train, features_valid, target_train, target_valid = train_test_split(features_train, target_train,\n",
    "                                                                              test_size=0.25, random_state=123)"
   ]
  },
  {
   "cell_type": "markdown",
   "metadata": {
    "id": "43kGu0PNsu7g"
   },
   "source": [
    "Проверим размерность каждой из выборок:"
   ]
  },
  {
   "cell_type": "code",
   "execution_count": 386,
   "metadata": {
    "colab": {
     "base_uri": "https://localhost:8080/"
    },
    "id": "xYrWvgZ5igZM",
    "outputId": "804716e9-a1ef-4762-c5f4-40231d8fee73"
   },
   "outputs": [
    {
     "name": "stdout",
     "output_type": "stream",
     "text": [
      "(6000,) (2000,) (2000,)\n"
     ]
    }
   ],
   "source": [
    "print(target_train.shape, target_valid.shape, target_test.shape)"
   ]
  },
  {
   "cell_type": "markdown",
   "metadata": {
    "id": "g__tETT3s0Jy"
   },
   "source": [
    "Деление прошло корректно. Далее в отдельную переменную вынесем признаки, к которым планируем применить масштабирование:"
   ]
  },
  {
   "cell_type": "code",
   "execution_count": 387,
   "metadata": {
    "id": "9_cvcEmLfR8m"
   },
   "outputs": [],
   "source": [
    "numeric = ['CreditScore', 'Age', 'Tenure', 'Balance', 'EstimatedSalary']"
   ]
  },
  {
   "cell_type": "markdown",
   "metadata": {
    "id": "OfV6B0uftFfM"
   },
   "source": [
    "Масштабируем признаки с помощью стандартизации:"
   ]
  },
  {
   "cell_type": "code",
   "execution_count": 388,
   "metadata": {
    "id": "gQ_rmx-Ie6oE"
   },
   "outputs": [],
   "source": [
    "scaler = StandardScaler()\n",
    "scaler.fit(features_train[numeric])\n",
    "\n",
    "features_train[numeric] = scaler.transform(features_train[numeric])\n",
    "features_valid[numeric] = scaler.transform(features_valid[numeric])\n",
    "features_test[numeric] = scaler.transform(features_test[numeric])"
   ]
  },
  {
   "cell_type": "markdown",
   "metadata": {
    "id": "YXQl6hx3tLin"
   },
   "source": [
    "Теперь выведем описательную характеристику к нужным столбцам во всех трёх выборках, чтобы проверить результаты преобразования. Перед этим применим команду для корректного и удобного отображения числовых данных."
   ]
  },
  {
   "cell_type": "code",
   "execution_count": 389,
   "metadata": {
    "id": "kPkndJ4Ch9zq"
   },
   "outputs": [],
   "source": [
    "pd.set_option('display.float_format', '{:,.2f}'.format)"
   ]
  },
  {
   "cell_type": "code",
   "execution_count": 390,
   "metadata": {
    "colab": {
     "base_uri": "https://localhost:8080/",
     "height": 300
    },
    "id": "Wq28yySQhx0j",
    "outputId": "22d0f1c8-cdc8-4a98-f77b-4e61620eb99d"
   },
   "outputs": [
    {
     "data": {
      "text/html": [
       "\n",
       "  <div id=\"df-ad22b093-47ef-42b3-9cda-ed412029bd7d\" class=\"colab-df-container\">\n",
       "    <div>\n",
       "<style scoped>\n",
       "    .dataframe tbody tr th:only-of-type {\n",
       "        vertical-align: middle;\n",
       "    }\n",
       "\n",
       "    .dataframe tbody tr th {\n",
       "        vertical-align: top;\n",
       "    }\n",
       "\n",
       "    .dataframe thead th {\n",
       "        text-align: right;\n",
       "    }\n",
       "</style>\n",
       "<table border=\"1\" class=\"dataframe\">\n",
       "  <thead>\n",
       "    <tr style=\"text-align: right;\">\n",
       "      <th></th>\n",
       "      <th>CreditScore</th>\n",
       "      <th>Age</th>\n",
       "      <th>Tenure</th>\n",
       "      <th>Balance</th>\n",
       "      <th>EstimatedSalary</th>\n",
       "    </tr>\n",
       "  </thead>\n",
       "  <tbody>\n",
       "    <tr>\n",
       "      <th>count</th>\n",
       "      <td>6,000.00</td>\n",
       "      <td>6,000.00</td>\n",
       "      <td>6,000.00</td>\n",
       "      <td>6,000.00</td>\n",
       "      <td>6,000.00</td>\n",
       "    </tr>\n",
       "    <tr>\n",
       "      <th>mean</th>\n",
       "      <td>-0.00</td>\n",
       "      <td>-0.00</td>\n",
       "      <td>0.00</td>\n",
       "      <td>0.00</td>\n",
       "      <td>-0.00</td>\n",
       "    </tr>\n",
       "    <tr>\n",
       "      <th>std</th>\n",
       "      <td>1.00</td>\n",
       "      <td>1.00</td>\n",
       "      <td>1.00</td>\n",
       "      <td>1.00</td>\n",
       "      <td>1.00</td>\n",
       "    </tr>\n",
       "    <tr>\n",
       "      <th>min</th>\n",
       "      <td>-3.11</td>\n",
       "      <td>-1.98</td>\n",
       "      <td>-1.81</td>\n",
       "      <td>-1.21</td>\n",
       "      <td>-1.73</td>\n",
       "    </tr>\n",
       "    <tr>\n",
       "      <th>25%</th>\n",
       "      <td>-0.70</td>\n",
       "      <td>-0.66</td>\n",
       "      <td>-0.72</td>\n",
       "      <td>-1.21</td>\n",
       "      <td>-0.86</td>\n",
       "    </tr>\n",
       "    <tr>\n",
       "      <th>50%</th>\n",
       "      <td>0.01</td>\n",
       "      <td>-0.19</td>\n",
       "      <td>0.01</td>\n",
       "      <td>0.33</td>\n",
       "      <td>-0.02</td>\n",
       "    </tr>\n",
       "    <tr>\n",
       "      <th>75%</th>\n",
       "      <td>0.69</td>\n",
       "      <td>0.48</td>\n",
       "      <td>0.73</td>\n",
       "      <td>0.82</td>\n",
       "      <td>0.86</td>\n",
       "    </tr>\n",
       "    <tr>\n",
       "      <th>max</th>\n",
       "      <td>2.04</td>\n",
       "      <td>5.01</td>\n",
       "      <td>1.82</td>\n",
       "      <td>2.59</td>\n",
       "      <td>1.75</td>\n",
       "    </tr>\n",
       "  </tbody>\n",
       "</table>\n",
       "</div>\n",
       "    <div class=\"colab-df-buttons\">\n",
       "\n",
       "  <div class=\"colab-df-container\">\n",
       "    <button class=\"colab-df-convert\" onclick=\"convertToInteractive('df-ad22b093-47ef-42b3-9cda-ed412029bd7d')\"\n",
       "            title=\"Convert this dataframe to an interactive table.\"\n",
       "            style=\"display:none;\">\n",
       "\n",
       "  <svg xmlns=\"http://www.w3.org/2000/svg\" height=\"24px\" viewBox=\"0 -960 960 960\">\n",
       "    <path d=\"M120-120v-720h720v720H120Zm60-500h600v-160H180v160Zm220 220h160v-160H400v160Zm0 220h160v-160H400v160ZM180-400h160v-160H180v160Zm440 0h160v-160H620v160ZM180-180h160v-160H180v160Zm440 0h160v-160H620v160Z\"/>\n",
       "  </svg>\n",
       "    </button>\n",
       "\n",
       "  <style>\n",
       "    .colab-df-container {\n",
       "      display:flex;\n",
       "      gap: 12px;\n",
       "    }\n",
       "\n",
       "    .colab-df-convert {\n",
       "      background-color: #E8F0FE;\n",
       "      border: none;\n",
       "      border-radius: 50%;\n",
       "      cursor: pointer;\n",
       "      display: none;\n",
       "      fill: #1967D2;\n",
       "      height: 32px;\n",
       "      padding: 0 0 0 0;\n",
       "      width: 32px;\n",
       "    }\n",
       "\n",
       "    .colab-df-convert:hover {\n",
       "      background-color: #E2EBFA;\n",
       "      box-shadow: 0px 1px 2px rgba(60, 64, 67, 0.3), 0px 1px 3px 1px rgba(60, 64, 67, 0.15);\n",
       "      fill: #174EA6;\n",
       "    }\n",
       "\n",
       "    .colab-df-buttons div {\n",
       "      margin-bottom: 4px;\n",
       "    }\n",
       "\n",
       "    [theme=dark] .colab-df-convert {\n",
       "      background-color: #3B4455;\n",
       "      fill: #D2E3FC;\n",
       "    }\n",
       "\n",
       "    [theme=dark] .colab-df-convert:hover {\n",
       "      background-color: #434B5C;\n",
       "      box-shadow: 0px 1px 3px 1px rgba(0, 0, 0, 0.15);\n",
       "      filter: drop-shadow(0px 1px 2px rgba(0, 0, 0, 0.3));\n",
       "      fill: #FFFFFF;\n",
       "    }\n",
       "  </style>\n",
       "\n",
       "    <script>\n",
       "      const buttonEl =\n",
       "        document.querySelector('#df-ad22b093-47ef-42b3-9cda-ed412029bd7d button.colab-df-convert');\n",
       "      buttonEl.style.display =\n",
       "        google.colab.kernel.accessAllowed ? 'block' : 'none';\n",
       "\n",
       "      async function convertToInteractive(key) {\n",
       "        const element = document.querySelector('#df-ad22b093-47ef-42b3-9cda-ed412029bd7d');\n",
       "        const dataTable =\n",
       "          await google.colab.kernel.invokeFunction('convertToInteractive',\n",
       "                                                    [key], {});\n",
       "        if (!dataTable) return;\n",
       "\n",
       "        const docLinkHtml = 'Like what you see? Visit the ' +\n",
       "          '<a target=\"_blank\" href=https://colab.research.google.com/notebooks/data_table.ipynb>data table notebook</a>'\n",
       "          + ' to learn more about interactive tables.';\n",
       "        element.innerHTML = '';\n",
       "        dataTable['output_type'] = 'display_data';\n",
       "        await google.colab.output.renderOutput(dataTable, element);\n",
       "        const docLink = document.createElement('div');\n",
       "        docLink.innerHTML = docLinkHtml;\n",
       "        element.appendChild(docLink);\n",
       "      }\n",
       "    </script>\n",
       "  </div>\n",
       "\n",
       "\n",
       "<div id=\"df-e9552192-643f-4e53-bf99-fe2dd14cc184\">\n",
       "  <button class=\"colab-df-quickchart\" onclick=\"quickchart('df-e9552192-643f-4e53-bf99-fe2dd14cc184')\"\n",
       "            title=\"Suggest charts.\"\n",
       "            style=\"display:none;\">\n",
       "\n",
       "<svg xmlns=\"http://www.w3.org/2000/svg\" height=\"24px\"viewBox=\"0 0 24 24\"\n",
       "     width=\"24px\">\n",
       "    <g>\n",
       "        <path d=\"M19 3H5c-1.1 0-2 .9-2 2v14c0 1.1.9 2 2 2h14c1.1 0 2-.9 2-2V5c0-1.1-.9-2-2-2zM9 17H7v-7h2v7zm4 0h-2V7h2v10zm4 0h-2v-4h2v4z\"/>\n",
       "    </g>\n",
       "</svg>\n",
       "  </button>\n",
       "\n",
       "<style>\n",
       "  .colab-df-quickchart {\n",
       "    background-color: #E8F0FE;\n",
       "    border: none;\n",
       "    border-radius: 50%;\n",
       "    cursor: pointer;\n",
       "    display: none;\n",
       "    fill: #1967D2;\n",
       "    height: 32px;\n",
       "    padding: 0 0 0 0;\n",
       "    width: 32px;\n",
       "  }\n",
       "\n",
       "  .colab-df-quickchart:hover {\n",
       "    background-color: #E2EBFA;\n",
       "    box-shadow: 0px 1px 2px rgba(60, 64, 67, 0.3), 0px 1px 3px 1px rgba(60, 64, 67, 0.15);\n",
       "    fill: #174EA6;\n",
       "  }\n",
       "\n",
       "  [theme=dark] .colab-df-quickchart {\n",
       "    background-color: #3B4455;\n",
       "    fill: #D2E3FC;\n",
       "  }\n",
       "\n",
       "  [theme=dark] .colab-df-quickchart:hover {\n",
       "    background-color: #434B5C;\n",
       "    box-shadow: 0px 1px 3px 1px rgba(0, 0, 0, 0.15);\n",
       "    filter: drop-shadow(0px 1px 2px rgba(0, 0, 0, 0.3));\n",
       "    fill: #FFFFFF;\n",
       "  }\n",
       "</style>\n",
       "\n",
       "  <script>\n",
       "    async function quickchart(key) {\n",
       "      const charts = await google.colab.kernel.invokeFunction(\n",
       "          'suggestCharts', [key], {});\n",
       "    }\n",
       "    (() => {\n",
       "      let quickchartButtonEl =\n",
       "        document.querySelector('#df-e9552192-643f-4e53-bf99-fe2dd14cc184 button');\n",
       "      quickchartButtonEl.style.display =\n",
       "        google.colab.kernel.accessAllowed ? 'block' : 'none';\n",
       "    })();\n",
       "  </script>\n",
       "</div>\n",
       "    </div>\n",
       "  </div>\n"
      ],
      "text/plain": [
       "       CreditScore      Age   Tenure  Balance  EstimatedSalary\n",
       "count     6,000.00 6,000.00 6,000.00 6,000.00         6,000.00\n",
       "mean         -0.00    -0.00     0.00     0.00            -0.00\n",
       "std           1.00     1.00     1.00     1.00             1.00\n",
       "min          -3.11    -1.98    -1.81    -1.21            -1.73\n",
       "25%          -0.70    -0.66    -0.72    -1.21            -0.86\n",
       "50%           0.01    -0.19     0.01     0.33            -0.02\n",
       "75%           0.69     0.48     0.73     0.82             0.86\n",
       "max           2.04     5.01     1.82     2.59             1.75"
      ]
     },
     "execution_count": 390,
     "metadata": {},
     "output_type": "execute_result"
    }
   ],
   "source": [
    "features_train[numeric].describe()"
   ]
  },
  {
   "cell_type": "code",
   "execution_count": 391,
   "metadata": {
    "colab": {
     "base_uri": "https://localhost:8080/",
     "height": 300
    },
    "id": "mkSbBh7BGqrP",
    "outputId": "e96edb17-ee64-4cef-98f9-8e632b1a9bb8"
   },
   "outputs": [
    {
     "data": {
      "text/html": [
       "\n",
       "  <div id=\"df-d353c7bd-b7a8-49c7-a4f6-9d5d6d1bf5b1\" class=\"colab-df-container\">\n",
       "    <div>\n",
       "<style scoped>\n",
       "    .dataframe tbody tr th:only-of-type {\n",
       "        vertical-align: middle;\n",
       "    }\n",
       "\n",
       "    .dataframe tbody tr th {\n",
       "        vertical-align: top;\n",
       "    }\n",
       "\n",
       "    .dataframe thead th {\n",
       "        text-align: right;\n",
       "    }\n",
       "</style>\n",
       "<table border=\"1\" class=\"dataframe\">\n",
       "  <thead>\n",
       "    <tr style=\"text-align: right;\">\n",
       "      <th></th>\n",
       "      <th>CreditScore</th>\n",
       "      <th>Age</th>\n",
       "      <th>Tenure</th>\n",
       "      <th>Balance</th>\n",
       "      <th>EstimatedSalary</th>\n",
       "    </tr>\n",
       "  </thead>\n",
       "  <tbody>\n",
       "    <tr>\n",
       "      <th>count</th>\n",
       "      <td>2,000.00</td>\n",
       "      <td>2,000.00</td>\n",
       "      <td>2,000.00</td>\n",
       "      <td>2,000.00</td>\n",
       "      <td>2,000.00</td>\n",
       "    </tr>\n",
       "    <tr>\n",
       "      <th>mean</th>\n",
       "      <td>-0.07</td>\n",
       "      <td>-0.04</td>\n",
       "      <td>0.01</td>\n",
       "      <td>0.03</td>\n",
       "      <td>0.03</td>\n",
       "    </tr>\n",
       "    <tr>\n",
       "      <th>std</th>\n",
       "      <td>0.98</td>\n",
       "      <td>0.98</td>\n",
       "      <td>1.01</td>\n",
       "      <td>1.00</td>\n",
       "      <td>1.00</td>\n",
       "    </tr>\n",
       "    <tr>\n",
       "      <th>min</th>\n",
       "      <td>-3.11</td>\n",
       "      <td>-1.98</td>\n",
       "      <td>-1.81</td>\n",
       "      <td>-1.21</td>\n",
       "      <td>-1.73</td>\n",
       "    </tr>\n",
       "    <tr>\n",
       "      <th>25%</th>\n",
       "      <td>-0.74</td>\n",
       "      <td>-0.66</td>\n",
       "      <td>-0.72</td>\n",
       "      <td>-1.21</td>\n",
       "      <td>-0.83</td>\n",
       "    </tr>\n",
       "    <tr>\n",
       "      <th>50%</th>\n",
       "      <td>-0.06</td>\n",
       "      <td>-0.19</td>\n",
       "      <td>0.01</td>\n",
       "      <td>0.36</td>\n",
       "      <td>0.05</td>\n",
       "    </tr>\n",
       "    <tr>\n",
       "      <th>75%</th>\n",
       "      <td>0.60</td>\n",
       "      <td>0.48</td>\n",
       "      <td>0.73</td>\n",
       "      <td>0.86</td>\n",
       "      <td>0.88</td>\n",
       "    </tr>\n",
       "    <tr>\n",
       "      <th>max</th>\n",
       "      <td>2.04</td>\n",
       "      <td>4.26</td>\n",
       "      <td>1.82</td>\n",
       "      <td>2.79</td>\n",
       "      <td>1.75</td>\n",
       "    </tr>\n",
       "  </tbody>\n",
       "</table>\n",
       "</div>\n",
       "    <div class=\"colab-df-buttons\">\n",
       "\n",
       "  <div class=\"colab-df-container\">\n",
       "    <button class=\"colab-df-convert\" onclick=\"convertToInteractive('df-d353c7bd-b7a8-49c7-a4f6-9d5d6d1bf5b1')\"\n",
       "            title=\"Convert this dataframe to an interactive table.\"\n",
       "            style=\"display:none;\">\n",
       "\n",
       "  <svg xmlns=\"http://www.w3.org/2000/svg\" height=\"24px\" viewBox=\"0 -960 960 960\">\n",
       "    <path d=\"M120-120v-720h720v720H120Zm60-500h600v-160H180v160Zm220 220h160v-160H400v160Zm0 220h160v-160H400v160ZM180-400h160v-160H180v160Zm440 0h160v-160H620v160ZM180-180h160v-160H180v160Zm440 0h160v-160H620v160Z\"/>\n",
       "  </svg>\n",
       "    </button>\n",
       "\n",
       "  <style>\n",
       "    .colab-df-container {\n",
       "      display:flex;\n",
       "      gap: 12px;\n",
       "    }\n",
       "\n",
       "    .colab-df-convert {\n",
       "      background-color: #E8F0FE;\n",
       "      border: none;\n",
       "      border-radius: 50%;\n",
       "      cursor: pointer;\n",
       "      display: none;\n",
       "      fill: #1967D2;\n",
       "      height: 32px;\n",
       "      padding: 0 0 0 0;\n",
       "      width: 32px;\n",
       "    }\n",
       "\n",
       "    .colab-df-convert:hover {\n",
       "      background-color: #E2EBFA;\n",
       "      box-shadow: 0px 1px 2px rgba(60, 64, 67, 0.3), 0px 1px 3px 1px rgba(60, 64, 67, 0.15);\n",
       "      fill: #174EA6;\n",
       "    }\n",
       "\n",
       "    .colab-df-buttons div {\n",
       "      margin-bottom: 4px;\n",
       "    }\n",
       "\n",
       "    [theme=dark] .colab-df-convert {\n",
       "      background-color: #3B4455;\n",
       "      fill: #D2E3FC;\n",
       "    }\n",
       "\n",
       "    [theme=dark] .colab-df-convert:hover {\n",
       "      background-color: #434B5C;\n",
       "      box-shadow: 0px 1px 3px 1px rgba(0, 0, 0, 0.15);\n",
       "      filter: drop-shadow(0px 1px 2px rgba(0, 0, 0, 0.3));\n",
       "      fill: #FFFFFF;\n",
       "    }\n",
       "  </style>\n",
       "\n",
       "    <script>\n",
       "      const buttonEl =\n",
       "        document.querySelector('#df-d353c7bd-b7a8-49c7-a4f6-9d5d6d1bf5b1 button.colab-df-convert');\n",
       "      buttonEl.style.display =\n",
       "        google.colab.kernel.accessAllowed ? 'block' : 'none';\n",
       "\n",
       "      async function convertToInteractive(key) {\n",
       "        const element = document.querySelector('#df-d353c7bd-b7a8-49c7-a4f6-9d5d6d1bf5b1');\n",
       "        const dataTable =\n",
       "          await google.colab.kernel.invokeFunction('convertToInteractive',\n",
       "                                                    [key], {});\n",
       "        if (!dataTable) return;\n",
       "\n",
       "        const docLinkHtml = 'Like what you see? Visit the ' +\n",
       "          '<a target=\"_blank\" href=https://colab.research.google.com/notebooks/data_table.ipynb>data table notebook</a>'\n",
       "          + ' to learn more about interactive tables.';\n",
       "        element.innerHTML = '';\n",
       "        dataTable['output_type'] = 'display_data';\n",
       "        await google.colab.output.renderOutput(dataTable, element);\n",
       "        const docLink = document.createElement('div');\n",
       "        docLink.innerHTML = docLinkHtml;\n",
       "        element.appendChild(docLink);\n",
       "      }\n",
       "    </script>\n",
       "  </div>\n",
       "\n",
       "\n",
       "<div id=\"df-db81b9a6-50e6-442d-a2ce-aae7380f1232\">\n",
       "  <button class=\"colab-df-quickchart\" onclick=\"quickchart('df-db81b9a6-50e6-442d-a2ce-aae7380f1232')\"\n",
       "            title=\"Suggest charts.\"\n",
       "            style=\"display:none;\">\n",
       "\n",
       "<svg xmlns=\"http://www.w3.org/2000/svg\" height=\"24px\"viewBox=\"0 0 24 24\"\n",
       "     width=\"24px\">\n",
       "    <g>\n",
       "        <path d=\"M19 3H5c-1.1 0-2 .9-2 2v14c0 1.1.9 2 2 2h14c1.1 0 2-.9 2-2V5c0-1.1-.9-2-2-2zM9 17H7v-7h2v7zm4 0h-2V7h2v10zm4 0h-2v-4h2v4z\"/>\n",
       "    </g>\n",
       "</svg>\n",
       "  </button>\n",
       "\n",
       "<style>\n",
       "  .colab-df-quickchart {\n",
       "    background-color: #E8F0FE;\n",
       "    border: none;\n",
       "    border-radius: 50%;\n",
       "    cursor: pointer;\n",
       "    display: none;\n",
       "    fill: #1967D2;\n",
       "    height: 32px;\n",
       "    padding: 0 0 0 0;\n",
       "    width: 32px;\n",
       "  }\n",
       "\n",
       "  .colab-df-quickchart:hover {\n",
       "    background-color: #E2EBFA;\n",
       "    box-shadow: 0px 1px 2px rgba(60, 64, 67, 0.3), 0px 1px 3px 1px rgba(60, 64, 67, 0.15);\n",
       "    fill: #174EA6;\n",
       "  }\n",
       "\n",
       "  [theme=dark] .colab-df-quickchart {\n",
       "    background-color: #3B4455;\n",
       "    fill: #D2E3FC;\n",
       "  }\n",
       "\n",
       "  [theme=dark] .colab-df-quickchart:hover {\n",
       "    background-color: #434B5C;\n",
       "    box-shadow: 0px 1px 3px 1px rgba(0, 0, 0, 0.15);\n",
       "    filter: drop-shadow(0px 1px 2px rgba(0, 0, 0, 0.3));\n",
       "    fill: #FFFFFF;\n",
       "  }\n",
       "</style>\n",
       "\n",
       "  <script>\n",
       "    async function quickchart(key) {\n",
       "      const charts = await google.colab.kernel.invokeFunction(\n",
       "          'suggestCharts', [key], {});\n",
       "    }\n",
       "    (() => {\n",
       "      let quickchartButtonEl =\n",
       "        document.querySelector('#df-db81b9a6-50e6-442d-a2ce-aae7380f1232 button');\n",
       "      quickchartButtonEl.style.display =\n",
       "        google.colab.kernel.accessAllowed ? 'block' : 'none';\n",
       "    })();\n",
       "  </script>\n",
       "</div>\n",
       "    </div>\n",
       "  </div>\n"
      ],
      "text/plain": [
       "       CreditScore      Age   Tenure  Balance  EstimatedSalary\n",
       "count     2,000.00 2,000.00 2,000.00 2,000.00         2,000.00\n",
       "mean         -0.07    -0.04     0.01     0.03             0.03\n",
       "std           0.98     0.98     1.01     1.00             1.00\n",
       "min          -3.11    -1.98    -1.81    -1.21            -1.73\n",
       "25%          -0.74    -0.66    -0.72    -1.21            -0.83\n",
       "50%          -0.06    -0.19     0.01     0.36             0.05\n",
       "75%           0.60     0.48     0.73     0.86             0.88\n",
       "max           2.04     4.26     1.82     2.79             1.75"
      ]
     },
     "execution_count": 391,
     "metadata": {},
     "output_type": "execute_result"
    }
   ],
   "source": [
    "features_valid[numeric].describe()"
   ]
  },
  {
   "cell_type": "code",
   "execution_count": 392,
   "metadata": {
    "colab": {
     "base_uri": "https://localhost:8080/",
     "height": 300
    },
    "id": "Hg5lAsmPGrkY",
    "outputId": "b486641f-5dd1-4967-eaa3-c6409f10b6b4"
   },
   "outputs": [
    {
     "data": {
      "text/html": [
       "\n",
       "  <div id=\"df-604fafc1-a4af-425a-8487-e40e28273292\" class=\"colab-df-container\">\n",
       "    <div>\n",
       "<style scoped>\n",
       "    .dataframe tbody tr th:only-of-type {\n",
       "        vertical-align: middle;\n",
       "    }\n",
       "\n",
       "    .dataframe tbody tr th {\n",
       "        vertical-align: top;\n",
       "    }\n",
       "\n",
       "    .dataframe thead th {\n",
       "        text-align: right;\n",
       "    }\n",
       "</style>\n",
       "<table border=\"1\" class=\"dataframe\">\n",
       "  <thead>\n",
       "    <tr style=\"text-align: right;\">\n",
       "      <th></th>\n",
       "      <th>CreditScore</th>\n",
       "      <th>Age</th>\n",
       "      <th>Tenure</th>\n",
       "      <th>Balance</th>\n",
       "      <th>EstimatedSalary</th>\n",
       "    </tr>\n",
       "  </thead>\n",
       "  <tbody>\n",
       "    <tr>\n",
       "      <th>count</th>\n",
       "      <td>2,000.00</td>\n",
       "      <td>2,000.00</td>\n",
       "      <td>2,000.00</td>\n",
       "      <td>2,000.00</td>\n",
       "      <td>2,000.00</td>\n",
       "    </tr>\n",
       "    <tr>\n",
       "      <th>mean</th>\n",
       "      <td>0.01</td>\n",
       "      <td>0.01</td>\n",
       "      <td>0.01</td>\n",
       "      <td>0.01</td>\n",
       "      <td>0.02</td>\n",
       "    </tr>\n",
       "    <tr>\n",
       "      <th>std</th>\n",
       "      <td>1.00</td>\n",
       "      <td>0.97</td>\n",
       "      <td>1.01</td>\n",
       "      <td>0.98</td>\n",
       "      <td>0.99</td>\n",
       "    </tr>\n",
       "    <tr>\n",
       "      <th>min</th>\n",
       "      <td>-3.11</td>\n",
       "      <td>-1.98</td>\n",
       "      <td>-1.81</td>\n",
       "      <td>-1.21</td>\n",
       "      <td>-1.73</td>\n",
       "    </tr>\n",
       "    <tr>\n",
       "      <th>25%</th>\n",
       "      <td>-0.69</td>\n",
       "      <td>-0.66</td>\n",
       "      <td>-0.72</td>\n",
       "      <td>-1.21</td>\n",
       "      <td>-0.80</td>\n",
       "    </tr>\n",
       "    <tr>\n",
       "      <th>50%</th>\n",
       "      <td>0.02</td>\n",
       "      <td>-0.09</td>\n",
       "      <td>0.01</td>\n",
       "      <td>0.34</td>\n",
       "      <td>0.04</td>\n",
       "    </tr>\n",
       "    <tr>\n",
       "      <th>75%</th>\n",
       "      <td>0.69</td>\n",
       "      <td>0.48</td>\n",
       "      <td>0.73</td>\n",
       "      <td>0.81</td>\n",
       "      <td>0.86</td>\n",
       "    </tr>\n",
       "    <tr>\n",
       "      <th>max</th>\n",
       "      <td>2.04</td>\n",
       "      <td>4.07</td>\n",
       "      <td>1.82</td>\n",
       "      <td>2.34</td>\n",
       "      <td>1.74</td>\n",
       "    </tr>\n",
       "  </tbody>\n",
       "</table>\n",
       "</div>\n",
       "    <div class=\"colab-df-buttons\">\n",
       "\n",
       "  <div class=\"colab-df-container\">\n",
       "    <button class=\"colab-df-convert\" onclick=\"convertToInteractive('df-604fafc1-a4af-425a-8487-e40e28273292')\"\n",
       "            title=\"Convert this dataframe to an interactive table.\"\n",
       "            style=\"display:none;\">\n",
       "\n",
       "  <svg xmlns=\"http://www.w3.org/2000/svg\" height=\"24px\" viewBox=\"0 -960 960 960\">\n",
       "    <path d=\"M120-120v-720h720v720H120Zm60-500h600v-160H180v160Zm220 220h160v-160H400v160Zm0 220h160v-160H400v160ZM180-400h160v-160H180v160Zm440 0h160v-160H620v160ZM180-180h160v-160H180v160Zm440 0h160v-160H620v160Z\"/>\n",
       "  </svg>\n",
       "    </button>\n",
       "\n",
       "  <style>\n",
       "    .colab-df-container {\n",
       "      display:flex;\n",
       "      gap: 12px;\n",
       "    }\n",
       "\n",
       "    .colab-df-convert {\n",
       "      background-color: #E8F0FE;\n",
       "      border: none;\n",
       "      border-radius: 50%;\n",
       "      cursor: pointer;\n",
       "      display: none;\n",
       "      fill: #1967D2;\n",
       "      height: 32px;\n",
       "      padding: 0 0 0 0;\n",
       "      width: 32px;\n",
       "    }\n",
       "\n",
       "    .colab-df-convert:hover {\n",
       "      background-color: #E2EBFA;\n",
       "      box-shadow: 0px 1px 2px rgba(60, 64, 67, 0.3), 0px 1px 3px 1px rgba(60, 64, 67, 0.15);\n",
       "      fill: #174EA6;\n",
       "    }\n",
       "\n",
       "    .colab-df-buttons div {\n",
       "      margin-bottom: 4px;\n",
       "    }\n",
       "\n",
       "    [theme=dark] .colab-df-convert {\n",
       "      background-color: #3B4455;\n",
       "      fill: #D2E3FC;\n",
       "    }\n",
       "\n",
       "    [theme=dark] .colab-df-convert:hover {\n",
       "      background-color: #434B5C;\n",
       "      box-shadow: 0px 1px 3px 1px rgba(0, 0, 0, 0.15);\n",
       "      filter: drop-shadow(0px 1px 2px rgba(0, 0, 0, 0.3));\n",
       "      fill: #FFFFFF;\n",
       "    }\n",
       "  </style>\n",
       "\n",
       "    <script>\n",
       "      const buttonEl =\n",
       "        document.querySelector('#df-604fafc1-a4af-425a-8487-e40e28273292 button.colab-df-convert');\n",
       "      buttonEl.style.display =\n",
       "        google.colab.kernel.accessAllowed ? 'block' : 'none';\n",
       "\n",
       "      async function convertToInteractive(key) {\n",
       "        const element = document.querySelector('#df-604fafc1-a4af-425a-8487-e40e28273292');\n",
       "        const dataTable =\n",
       "          await google.colab.kernel.invokeFunction('convertToInteractive',\n",
       "                                                    [key], {});\n",
       "        if (!dataTable) return;\n",
       "\n",
       "        const docLinkHtml = 'Like what you see? Visit the ' +\n",
       "          '<a target=\"_blank\" href=https://colab.research.google.com/notebooks/data_table.ipynb>data table notebook</a>'\n",
       "          + ' to learn more about interactive tables.';\n",
       "        element.innerHTML = '';\n",
       "        dataTable['output_type'] = 'display_data';\n",
       "        await google.colab.output.renderOutput(dataTable, element);\n",
       "        const docLink = document.createElement('div');\n",
       "        docLink.innerHTML = docLinkHtml;\n",
       "        element.appendChild(docLink);\n",
       "      }\n",
       "    </script>\n",
       "  </div>\n",
       "\n",
       "\n",
       "<div id=\"df-0c02fc41-2271-4f20-bc7b-b7ece404df62\">\n",
       "  <button class=\"colab-df-quickchart\" onclick=\"quickchart('df-0c02fc41-2271-4f20-bc7b-b7ece404df62')\"\n",
       "            title=\"Suggest charts.\"\n",
       "            style=\"display:none;\">\n",
       "\n",
       "<svg xmlns=\"http://www.w3.org/2000/svg\" height=\"24px\"viewBox=\"0 0 24 24\"\n",
       "     width=\"24px\">\n",
       "    <g>\n",
       "        <path d=\"M19 3H5c-1.1 0-2 .9-2 2v14c0 1.1.9 2 2 2h14c1.1 0 2-.9 2-2V5c0-1.1-.9-2-2-2zM9 17H7v-7h2v7zm4 0h-2V7h2v10zm4 0h-2v-4h2v4z\"/>\n",
       "    </g>\n",
       "</svg>\n",
       "  </button>\n",
       "\n",
       "<style>\n",
       "  .colab-df-quickchart {\n",
       "    background-color: #E8F0FE;\n",
       "    border: none;\n",
       "    border-radius: 50%;\n",
       "    cursor: pointer;\n",
       "    display: none;\n",
       "    fill: #1967D2;\n",
       "    height: 32px;\n",
       "    padding: 0 0 0 0;\n",
       "    width: 32px;\n",
       "  }\n",
       "\n",
       "  .colab-df-quickchart:hover {\n",
       "    background-color: #E2EBFA;\n",
       "    box-shadow: 0px 1px 2px rgba(60, 64, 67, 0.3), 0px 1px 3px 1px rgba(60, 64, 67, 0.15);\n",
       "    fill: #174EA6;\n",
       "  }\n",
       "\n",
       "  [theme=dark] .colab-df-quickchart {\n",
       "    background-color: #3B4455;\n",
       "    fill: #D2E3FC;\n",
       "  }\n",
       "\n",
       "  [theme=dark] .colab-df-quickchart:hover {\n",
       "    background-color: #434B5C;\n",
       "    box-shadow: 0px 1px 3px 1px rgba(0, 0, 0, 0.15);\n",
       "    filter: drop-shadow(0px 1px 2px rgba(0, 0, 0, 0.3));\n",
       "    fill: #FFFFFF;\n",
       "  }\n",
       "</style>\n",
       "\n",
       "  <script>\n",
       "    async function quickchart(key) {\n",
       "      const charts = await google.colab.kernel.invokeFunction(\n",
       "          'suggestCharts', [key], {});\n",
       "    }\n",
       "    (() => {\n",
       "      let quickchartButtonEl =\n",
       "        document.querySelector('#df-0c02fc41-2271-4f20-bc7b-b7ece404df62 button');\n",
       "      quickchartButtonEl.style.display =\n",
       "        google.colab.kernel.accessAllowed ? 'block' : 'none';\n",
       "    })();\n",
       "  </script>\n",
       "</div>\n",
       "    </div>\n",
       "  </div>\n"
      ],
      "text/plain": [
       "       CreditScore      Age   Tenure  Balance  EstimatedSalary\n",
       "count     2,000.00 2,000.00 2,000.00 2,000.00         2,000.00\n",
       "mean          0.01     0.01     0.01     0.01             0.02\n",
       "std           1.00     0.97     1.01     0.98             0.99\n",
       "min          -3.11    -1.98    -1.81    -1.21            -1.73\n",
       "25%          -0.69    -0.66    -0.72    -1.21            -0.80\n",
       "50%           0.02    -0.09     0.01     0.34             0.04\n",
       "75%           0.69     0.48     0.73     0.81             0.86\n",
       "max           2.04     4.07     1.82     2.34             1.74"
      ]
     },
     "execution_count": 392,
     "metadata": {},
     "output_type": "execute_result"
    }
   ],
   "source": [
    "features_test[numeric].describe()"
   ]
  },
  {
   "cell_type": "markdown",
   "metadata": {
    "id": "pAoJSdr4tiJd"
   },
   "source": [
    "Видим, что масштабирование дало нам желанный результат: среднее у всех данных в обучающей выборке равно 0, а стандартное отклонение - 1. В валидационной и тестовой эти характеристики близки к желаемым значениям.\n",
    "Выведем первые строки обучающей выборки, чтобы увидеть получившиеся преобразованные данные."
   ]
  },
  {
   "cell_type": "code",
   "execution_count": 393,
   "metadata": {
    "colab": {
     "base_uri": "https://localhost:8080/",
     "height": 226
    },
    "id": "n1WAZVxjfuJd",
    "outputId": "6801f5e9-3809-49ef-859d-7611ed659a58"
   },
   "outputs": [
    {
     "data": {
      "text/html": [
       "\n",
       "  <div id=\"df-05d6c3ce-d760-4380-9e93-69f72ca524ec\" class=\"colab-df-container\">\n",
       "    <div>\n",
       "<style scoped>\n",
       "    .dataframe tbody tr th:only-of-type {\n",
       "        vertical-align: middle;\n",
       "    }\n",
       "\n",
       "    .dataframe tbody tr th {\n",
       "        vertical-align: top;\n",
       "    }\n",
       "\n",
       "    .dataframe thead th {\n",
       "        text-align: right;\n",
       "    }\n",
       "</style>\n",
       "<table border=\"1\" class=\"dataframe\">\n",
       "  <thead>\n",
       "    <tr style=\"text-align: right;\">\n",
       "      <th></th>\n",
       "      <th>CreditScore</th>\n",
       "      <th>Age</th>\n",
       "      <th>Tenure</th>\n",
       "      <th>Balance</th>\n",
       "      <th>NumOfProducts</th>\n",
       "      <th>HasCrCard</th>\n",
       "      <th>IsActiveMember</th>\n",
       "      <th>EstimatedSalary</th>\n",
       "      <th>Geography_Germany</th>\n",
       "      <th>Geography_Spain</th>\n",
       "      <th>Gender_Male</th>\n",
       "    </tr>\n",
       "  </thead>\n",
       "  <tbody>\n",
       "    <tr>\n",
       "      <th>8189</th>\n",
       "      <td>0.65</td>\n",
       "      <td>-1.70</td>\n",
       "      <td>1.10</td>\n",
       "      <td>-1.21</td>\n",
       "      <td>2</td>\n",
       "      <td>1</td>\n",
       "      <td>0</td>\n",
       "      <td>-0.54</td>\n",
       "      <td>0</td>\n",
       "      <td>0</td>\n",
       "      <td>1</td>\n",
       "    </tr>\n",
       "    <tr>\n",
       "      <th>8845</th>\n",
       "      <td>0.80</td>\n",
       "      <td>0.00</td>\n",
       "      <td>-1.45</td>\n",
       "      <td>0.89</td>\n",
       "      <td>1</td>\n",
       "      <td>1</td>\n",
       "      <td>1</td>\n",
       "      <td>1.64</td>\n",
       "      <td>1</td>\n",
       "      <td>0</td>\n",
       "      <td>0</td>\n",
       "    </tr>\n",
       "    <tr>\n",
       "      <th>1165</th>\n",
       "      <td>0.62</td>\n",
       "      <td>0.95</td>\n",
       "      <td>0.01</td>\n",
       "      <td>1.26</td>\n",
       "      <td>2</td>\n",
       "      <td>0</td>\n",
       "      <td>0</td>\n",
       "      <td>1.68</td>\n",
       "      <td>1</td>\n",
       "      <td>0</td>\n",
       "      <td>0</td>\n",
       "    </tr>\n",
       "    <tr>\n",
       "      <th>1742</th>\n",
       "      <td>-0.70</td>\n",
       "      <td>1.42</td>\n",
       "      <td>-1.45</td>\n",
       "      <td>0.02</td>\n",
       "      <td>1</td>\n",
       "      <td>0</td>\n",
       "      <td>0</td>\n",
       "      <td>0.67</td>\n",
       "      <td>1</td>\n",
       "      <td>0</td>\n",
       "      <td>0</td>\n",
       "    </tr>\n",
       "    <tr>\n",
       "      <th>1139</th>\n",
       "      <td>0.78</td>\n",
       "      <td>1.70</td>\n",
       "      <td>-1.45</td>\n",
       "      <td>0.54</td>\n",
       "      <td>1</td>\n",
       "      <td>0</td>\n",
       "      <td>1</td>\n",
       "      <td>-1.72</td>\n",
       "      <td>0</td>\n",
       "      <td>1</td>\n",
       "      <td>0</td>\n",
       "    </tr>\n",
       "  </tbody>\n",
       "</table>\n",
       "</div>\n",
       "    <div class=\"colab-df-buttons\">\n",
       "\n",
       "  <div class=\"colab-df-container\">\n",
       "    <button class=\"colab-df-convert\" onclick=\"convertToInteractive('df-05d6c3ce-d760-4380-9e93-69f72ca524ec')\"\n",
       "            title=\"Convert this dataframe to an interactive table.\"\n",
       "            style=\"display:none;\">\n",
       "\n",
       "  <svg xmlns=\"http://www.w3.org/2000/svg\" height=\"24px\" viewBox=\"0 -960 960 960\">\n",
       "    <path d=\"M120-120v-720h720v720H120Zm60-500h600v-160H180v160Zm220 220h160v-160H400v160Zm0 220h160v-160H400v160ZM180-400h160v-160H180v160Zm440 0h160v-160H620v160ZM180-180h160v-160H180v160Zm440 0h160v-160H620v160Z\"/>\n",
       "  </svg>\n",
       "    </button>\n",
       "\n",
       "  <style>\n",
       "    .colab-df-container {\n",
       "      display:flex;\n",
       "      gap: 12px;\n",
       "    }\n",
       "\n",
       "    .colab-df-convert {\n",
       "      background-color: #E8F0FE;\n",
       "      border: none;\n",
       "      border-radius: 50%;\n",
       "      cursor: pointer;\n",
       "      display: none;\n",
       "      fill: #1967D2;\n",
       "      height: 32px;\n",
       "      padding: 0 0 0 0;\n",
       "      width: 32px;\n",
       "    }\n",
       "\n",
       "    .colab-df-convert:hover {\n",
       "      background-color: #E2EBFA;\n",
       "      box-shadow: 0px 1px 2px rgba(60, 64, 67, 0.3), 0px 1px 3px 1px rgba(60, 64, 67, 0.15);\n",
       "      fill: #174EA6;\n",
       "    }\n",
       "\n",
       "    .colab-df-buttons div {\n",
       "      margin-bottom: 4px;\n",
       "    }\n",
       "\n",
       "    [theme=dark] .colab-df-convert {\n",
       "      background-color: #3B4455;\n",
       "      fill: #D2E3FC;\n",
       "    }\n",
       "\n",
       "    [theme=dark] .colab-df-convert:hover {\n",
       "      background-color: #434B5C;\n",
       "      box-shadow: 0px 1px 3px 1px rgba(0, 0, 0, 0.15);\n",
       "      filter: drop-shadow(0px 1px 2px rgba(0, 0, 0, 0.3));\n",
       "      fill: #FFFFFF;\n",
       "    }\n",
       "  </style>\n",
       "\n",
       "    <script>\n",
       "      const buttonEl =\n",
       "        document.querySelector('#df-05d6c3ce-d760-4380-9e93-69f72ca524ec button.colab-df-convert');\n",
       "      buttonEl.style.display =\n",
       "        google.colab.kernel.accessAllowed ? 'block' : 'none';\n",
       "\n",
       "      async function convertToInteractive(key) {\n",
       "        const element = document.querySelector('#df-05d6c3ce-d760-4380-9e93-69f72ca524ec');\n",
       "        const dataTable =\n",
       "          await google.colab.kernel.invokeFunction('convertToInteractive',\n",
       "                                                    [key], {});\n",
       "        if (!dataTable) return;\n",
       "\n",
       "        const docLinkHtml = 'Like what you see? Visit the ' +\n",
       "          '<a target=\"_blank\" href=https://colab.research.google.com/notebooks/data_table.ipynb>data table notebook</a>'\n",
       "          + ' to learn more about interactive tables.';\n",
       "        element.innerHTML = '';\n",
       "        dataTable['output_type'] = 'display_data';\n",
       "        await google.colab.output.renderOutput(dataTable, element);\n",
       "        const docLink = document.createElement('div');\n",
       "        docLink.innerHTML = docLinkHtml;\n",
       "        element.appendChild(docLink);\n",
       "      }\n",
       "    </script>\n",
       "  </div>\n",
       "\n",
       "\n",
       "<div id=\"df-8754dad5-8e14-41d1-a9c6-bff8ec9f982b\">\n",
       "  <button class=\"colab-df-quickchart\" onclick=\"quickchart('df-8754dad5-8e14-41d1-a9c6-bff8ec9f982b')\"\n",
       "            title=\"Suggest charts.\"\n",
       "            style=\"display:none;\">\n",
       "\n",
       "<svg xmlns=\"http://www.w3.org/2000/svg\" height=\"24px\"viewBox=\"0 0 24 24\"\n",
       "     width=\"24px\">\n",
       "    <g>\n",
       "        <path d=\"M19 3H5c-1.1 0-2 .9-2 2v14c0 1.1.9 2 2 2h14c1.1 0 2-.9 2-2V5c0-1.1-.9-2-2-2zM9 17H7v-7h2v7zm4 0h-2V7h2v10zm4 0h-2v-4h2v4z\"/>\n",
       "    </g>\n",
       "</svg>\n",
       "  </button>\n",
       "\n",
       "<style>\n",
       "  .colab-df-quickchart {\n",
       "    background-color: #E8F0FE;\n",
       "    border: none;\n",
       "    border-radius: 50%;\n",
       "    cursor: pointer;\n",
       "    display: none;\n",
       "    fill: #1967D2;\n",
       "    height: 32px;\n",
       "    padding: 0 0 0 0;\n",
       "    width: 32px;\n",
       "  }\n",
       "\n",
       "  .colab-df-quickchart:hover {\n",
       "    background-color: #E2EBFA;\n",
       "    box-shadow: 0px 1px 2px rgba(60, 64, 67, 0.3), 0px 1px 3px 1px rgba(60, 64, 67, 0.15);\n",
       "    fill: #174EA6;\n",
       "  }\n",
       "\n",
       "  [theme=dark] .colab-df-quickchart {\n",
       "    background-color: #3B4455;\n",
       "    fill: #D2E3FC;\n",
       "  }\n",
       "\n",
       "  [theme=dark] .colab-df-quickchart:hover {\n",
       "    background-color: #434B5C;\n",
       "    box-shadow: 0px 1px 3px 1px rgba(0, 0, 0, 0.15);\n",
       "    filter: drop-shadow(0px 1px 2px rgba(0, 0, 0, 0.3));\n",
       "    fill: #FFFFFF;\n",
       "  }\n",
       "</style>\n",
       "\n",
       "  <script>\n",
       "    async function quickchart(key) {\n",
       "      const charts = await google.colab.kernel.invokeFunction(\n",
       "          'suggestCharts', [key], {});\n",
       "    }\n",
       "    (() => {\n",
       "      let quickchartButtonEl =\n",
       "        document.querySelector('#df-8754dad5-8e14-41d1-a9c6-bff8ec9f982b button');\n",
       "      quickchartButtonEl.style.display =\n",
       "        google.colab.kernel.accessAllowed ? 'block' : 'none';\n",
       "    })();\n",
       "  </script>\n",
       "</div>\n",
       "    </div>\n",
       "  </div>\n"
      ],
      "text/plain": [
       "      CreditScore   Age  Tenure  Balance  NumOfProducts  HasCrCard  \\\n",
       "8189         0.65 -1.70    1.10    -1.21              2          1   \n",
       "8845         0.80  0.00   -1.45     0.89              1          1   \n",
       "1165         0.62  0.95    0.01     1.26              2          0   \n",
       "1742        -0.70  1.42   -1.45     0.02              1          0   \n",
       "1139         0.78  1.70   -1.45     0.54              1          0   \n",
       "\n",
       "      IsActiveMember  EstimatedSalary  Geography_Germany  Geography_Spain  \\\n",
       "8189               0            -0.54                  0                0   \n",
       "8845               1             1.64                  1                0   \n",
       "1165               0             1.68                  1                0   \n",
       "1742               0             0.67                  1                0   \n",
       "1139               1            -1.72                  0                1   \n",
       "\n",
       "      Gender_Male  \n",
       "8189            1  \n",
       "8845            0  \n",
       "1165            0  \n",
       "1742            0  \n",
       "1139            0  "
      ]
     },
     "execution_count": 393,
     "metadata": {},
     "output_type": "execute_result"
    }
   ],
   "source": [
    "features_train.head()"
   ]
  },
  {
   "cell_type": "markdown",
   "metadata": {
    "id": "t04VvA7A-Vwd"
   },
   "source": [
    "## Исследование задачи"
   ]
  },
  {
   "cell_type": "markdown",
   "metadata": {
    "id": "yewmJaowaMPx"
   },
   "source": [
    "### Исследование баланса классов"
   ]
  },
  {
   "cell_type": "markdown",
   "metadata": {
    "id": "csbk0_-EP8VM"
   },
   "source": [
    "В первую очередь посмотрим, существует ли в нашем целевом признаке дисбаланс классов. Для этого отсортируем значения столбца *Exited* в процентном соотношении и построим столбчатую диаграмму."
   ]
  },
  {
   "cell_type": "code",
   "execution_count": 394,
   "metadata": {
    "colab": {
     "base_uri": "https://localhost:8080/"
    },
    "id": "CHUz2t_B-Vwd",
    "outputId": "f2c8e317-0cd6-44a5-cc21-f357cfe8f6d6"
   },
   "outputs": [
    {
     "data": {
      "text/plain": [
       "0   0.80\n",
       "1   0.20\n",
       "Name: Exited, dtype: float64"
      ]
     },
     "execution_count": 394,
     "metadata": {},
     "output_type": "execute_result"
    }
   ],
   "source": [
    "exited = churn['Exited'].value_counts(normalize=1)\n",
    "exited"
   ]
  },
  {
   "cell_type": "code",
   "execution_count": 395,
   "metadata": {
    "colab": {
     "base_uri": "https://localhost:8080/",
     "height": 447
    },
    "id": "s1LUjZ05RKt5",
    "outputId": "99488063-9288-4069-fa2a-f879cb01359a"
   },
   "outputs": [
    {
     "data": {
      "image/png": "[encoded data removed]",
      "text/plain": [
       "<Figure size 640x480 with 1 Axes>"
      ]
     },
     "metadata": {},
     "output_type": "display_data"
    }
   ],
   "source": [
    "exited.plot(kind='bar')\n",
    "plt.title('Дисбаланс классов')\n",
    "plt.show()"
   ]
  },
  {
   "cell_type": "markdown",
   "metadata": {
    "id": "YIGWyhwNZV9N"
   },
   "source": [
    "Наблюдаем серьёзный дисбаланс классов: только 20% случаев результат положительный. Делаем вывод, что в данном случае методика accuracy нам не подойдёт, ведь константная модель, которая всегда будет предсказывать 0, будет иметь значение accuracy около 80%. Проверим на практике:"
   ]
  },
  {
   "cell_type": "code",
   "execution_count": 396,
   "metadata": {
    "colab": {
     "base_uri": "https://localhost:8080/"
    },
    "id": "zJVVMuH6UwDu",
    "outputId": "b5297d65-b824-4b07-9ae4-3249c38e8d1c"
   },
   "outputs": [
    {
     "data": {
      "text/plain": [
       "0.7963"
      ]
     },
     "execution_count": 396,
     "metadata": {},
     "output_type": "execute_result"
    }
   ],
   "source": [
    "model_negative = pd.Series([0]*len(target))\n",
    "accuracy_score(target, model_negative)"
   ]
  },
  {
   "cell_type": "markdown",
   "metadata": {
    "id": "PfhzcMgUaDa8"
   },
   "source": [
    "Чтобы в дальнейшем проверить модель на адекватность будем пользоваться полнотой, точностью и метрикой F1, так как в данном случае они будет более объективными."
   ]
  },
  {
   "cell_type": "markdown",
   "metadata": {
    "id": "fs_X_AUHaxLE"
   },
   "source": [
    "### Изучение моделей без учёта дисбаланса"
   ]
  },
  {
   "cell_type": "markdown",
   "metadata": {
    "id": "jhbWxiZ1_ZZE"
   },
   "source": [
    "Проверим значение метрик без учёта дисбаланса класса на трёх видах моделей: дерева решений, случайного леса и логистической регрессии. Для моделей решающего дерева и случайного леса подберём оптимальный гиперпараметры при помощи цикла и обучим лучшие модели. Далее для всех трёх моделей измерим ключевые метрики (полнота, точность и F1-метрика) и построим матрицу ошибок, а после сравним результаты."
   ]
  },
  {
   "cell_type": "markdown",
   "metadata": {
    "id": "un53By18O4wP"
   },
   "source": [
    "####Дерево решений"
   ]
  },
  {
   "cell_type": "code",
   "execution_count": 397,
   "metadata": {
    "colab": {
     "base_uri": "https://localhost:8080/"
    },
    "id": "r4aciLQ4cGTt",
    "outputId": "6087b7c7-b0c6-4a6e-b1ec-f761c2a8611d"
   },
   "outputs": [
    {
     "name": "stdout",
     "output_type": "stream",
     "text": [
      "Лучшее значение F1-метрики 0.5677233429394812 при глубине дерева 5\n"
     ]
    }
   ],
   "source": [
    "best_f1 = 0\n",
    "\n",
    "for depth in range(1, 16):\n",
    "    model_tree = DecisionTreeClassifier(random_state=123, max_depth=depth)\n",
    "    model_tree.fit(features_train, target_train)\n",
    "    predictions_valid_tree = model_tree.predict(features_valid)\n",
    "    f1_tree = f1_score(target_valid, predictions_valid_tree)\n",
    "    if f1_tree > best_f1:\n",
    "        best_tree = model_tree\n",
    "        best_depth = depth\n",
    "        best_f1 = f1_tree\n",
    "\n",
    "print('Лучшее значение F1-метрики', best_f1, 'при глубине дерева', best_depth)"
   ]
  },
  {
   "cell_type": "code",
   "execution_count": 398,
   "metadata": {
    "colab": {
     "base_uri": "https://localhost:8080/"
    },
    "id": "czwskewLI-jh",
    "outputId": "3aad8ea0-5cd4-4775-d5dd-184ba5188c8b"
   },
   "outputs": [
    {
     "name": "stdout",
     "output_type": "stream",
     "text": [
      "Полнота дерева решений: 0.46904761904761905\n",
      "Точность дерева решений: 0.718978102189781\n",
      "F1-метрика: 0.5677233429394812\n",
      "ROC-AUC: 0.8194529837251355\n"
     ]
    }
   ],
   "source": [
    "predictions_valid_tree = best_tree.predict(features_valid)\n",
    "probabilities_valid_tree = best_tree.predict_proba(features_valid)\n",
    "probabilities_one_valid_tree = probabilities_valid_tree[:, 1]\n",
    "\n",
    "print('Полнота дерева решений:', recall_score(target_valid, predictions_valid_tree))\n",
    "print('Точность дерева решений:', precision_score(target_valid, predictions_valid_tree))\n",
    "print('F1-метрика:', f1_score(target_valid, predictions_valid_tree))\n",
    "print('ROC-AUC:', roc_auc_score(target_valid, probabilities_one_valid_tree))"
   ]
  },
  {
   "cell_type": "code",
   "execution_count": 399,
   "metadata": {
    "colab": {
     "base_uri": "https://localhost:8080/",
     "height": 472
    },
    "id": "bfO8iydpeN6b",
    "outputId": "6e8cf684-1aa7-4590-eea3-e00f2e1cafd0"
   },
   "outputs": [
    {
     "data": {
      "image/png": "[encoded data removed]",
      "text/plain": [
       "<Figure size 640x480 with 2 Axes>"
      ]
     },
     "metadata": {},
     "output_type": "display_data"
    }
   ],
   "source": [
    "cf_matrix = confusion_matrix(target_valid, predictions_valid_tree)\n",
    "\n",
    "matrix = sns.heatmap(cf_matrix/np.sum(cf_matrix), annot=True, cmap='Blues',  fmt='.2%')\n",
    "\n",
    "matrix.set_title('Матрица ошибок дерева решений');\n",
    "matrix.set_xlabel('Предсказания')\n",
    "matrix.set_ylabel('Ответы');\n",
    "\n",
    "plt.show()"
   ]
  },
  {
   "cell_type": "markdown",
   "metadata": {
    "id": "8gLsGlHFO-Qw"
   },
   "source": [
    "####Случайный лес"
   ]
  },
  {
   "cell_type": "code",
   "execution_count": 400,
   "metadata": {
    "colab": {
     "base_uri": "https://localhost:8080/"
    },
    "id": "aftg1s_wHRf0",
    "outputId": "b9109d57-cef3-414d-ddaf-23082485d3fe"
   },
   "outputs": [
    {
     "name": "stdout",
     "output_type": "stream",
     "text": [
      "Лучшее значение F1-метрики 0.5808383233532933 при глубине деревьев 15 и численности леса 20\n"
     ]
    }
   ],
   "source": [
    "best_f1 = 0\n",
    "\n",
    "for depth in range(1, 16):\n",
    "    for est in range(5, 51, 5):\n",
    "        model_forest = RandomForestClassifier(random_state=123, max_depth=depth, n_estimators=est)\n",
    "        model_forest.fit(features_train, target_train)\n",
    "        predictions_valid_forest = model_forest.predict(features_valid)\n",
    "        f1_forest = f1_score(target_valid, predictions_valid_forest)\n",
    "        if f1_forest > best_f1:\n",
    "            best_forest = model_forest\n",
    "            best_depth = depth\n",
    "            best_est = est\n",
    "            best_f1 = f1_forest\n",
    "\n",
    "print('Лучшее значение F1-метрики', best_f1, 'при глубине деревьев', best_depth, 'и численности леса', best_est)"
   ]
  },
  {
   "cell_type": "code",
   "execution_count": 401,
   "metadata": {
    "colab": {
     "base_uri": "https://localhost:8080/"
    },
    "id": "z8aOXvkHJToi",
    "outputId": "bdc92b58-8cf4-490b-a5cc-82407811152b"
   },
   "outputs": [
    {
     "name": "stdout",
     "output_type": "stream",
     "text": [
      "Полнота случайного леса: 0.46190476190476193\n",
      "Точность случайного леса: 0.782258064516129\n",
      "F1-метрика: 0.5808383233532933\n",
      "ROC-AUC: 0.8275557564798071\n"
     ]
    }
   ],
   "source": [
    "predictions_valid_forest = best_forest.predict(features_valid)\n",
    "probabilities_valid_forest = best_forest.predict_proba(features_valid)\n",
    "probabilities_one_valid_forest = probabilities_valid_forest[:, 1]\n",
    "\n",
    "print('Полнота случайного леса:', recall_score(target_valid, predictions_valid_forest))\n",
    "print('Точность случайного леса:', precision_score(target_valid, predictions_valid_forest))\n",
    "print('F1-метрика:', f1_score(target_valid, predictions_valid_forest))\n",
    "print('ROC-AUC:', roc_auc_score(target_valid, probabilities_one_valid_forest))"
   ]
  },
  {
   "cell_type": "code",
   "execution_count": 402,
   "metadata": {
    "colab": {
     "base_uri": "https://localhost:8080/",
     "height": 472
    },
    "id": "hL64X3WqlRUz",
    "outputId": "b8c38c22-3b3a-4caa-bfe6-7ba4c3642a91"
   },
   "outputs": [
    {
     "data": {
      "image/png": "[encoded data removed]",
      "text/plain": [
       "<Figure size 640x480 with 2 Axes>"
      ]
     },
     "metadata": {},
     "output_type": "display_data"
    }
   ],
   "source": [
    "cf_matrix = confusion_matrix(target_valid, predictions_valid_forest)\n",
    "matrix = sns.heatmap(cf_matrix/np.sum(cf_matrix), annot=True, cmap='Blues',  fmt='.2%')\n",
    "\n",
    "matrix.set_title('Матрица ошибок случайного леса');\n",
    "matrix.set_xlabel('Предсказания')\n",
    "matrix.set_ylabel('Ответы');\n",
    "\n",
    "plt.show()"
   ]
  },
  {
   "cell_type": "markdown",
   "metadata": {
    "id": "daecuTnNPDR0"
   },
   "source": [
    "####Логистическая регрессия"
   ]
  },
  {
   "cell_type": "code",
   "execution_count": 403,
   "metadata": {
    "colab": {
     "base_uri": "https://localhost:8080/"
    },
    "id": "MIb83BE4laos",
    "outputId": "8a08f007-d840-45a2-cd22-812598702b52"
   },
   "outputs": [
    {
     "name": "stdout",
     "output_type": "stream",
     "text": [
      "Полнота логистической регрессии: 0.18095238095238095\n",
      "Точность логистической регрессии: 0.6031746031746031\n",
      "F1-метрика: 0.2783882783882784\n",
      "ROC-AUC: 0.760703737191079\n"
     ]
    }
   ],
   "source": [
    "model_logistic = LogisticRegression(random_state=123, solver='liblinear')\n",
    "model_logistic.fit(features_train, target_train)\n",
    "predictions_valid_logistic = model_logistic.predict(features_valid)\n",
    "probabilities_valid_logistic = model_logistic.predict_proba(features_valid)\n",
    "probabilities_one_valid_logistic = probabilities_valid_logistic[:, 1]\n",
    "\n",
    "print('Полнота логистической регрессии:', recall_score(target_valid, predictions_valid_logistic))\n",
    "print('Точность логистической регрессии:', precision_score(target_valid, predictions_valid_logistic))\n",
    "print('F1-метрика:', f1_score(target_valid, predictions_valid_logistic))\n",
    "print('ROC-AUC:', roc_auc_score(target_valid, probabilities_one_valid_logistic))"
   ]
  },
  {
   "cell_type": "code",
   "execution_count": 404,
   "metadata": {
    "colab": {
     "base_uri": "https://localhost:8080/",
     "height": 472
    },
    "id": "46nFg8zqmiLb",
    "outputId": "e2807552-1dad-4b1f-9796-9cd47b1343ab"
   },
   "outputs": [
    {
     "data": {
      "image/png": "[encoded data removed]",
      "text/plain": [
       "<Figure size 640x480 with 2 Axes>"
      ]
     },
     "metadata": {},
     "output_type": "display_data"
    }
   ],
   "source": [
    "cf_matrix = confusion_matrix(target_valid, predictions_valid_logistic)\n",
    "matrix = sns.heatmap(cf_matrix/np.sum(cf_matrix), annot=True, cmap='Blues',  fmt='.2%')\n",
    "\n",
    "matrix.set_title('Матрица ошибок логистической регрессии');\n",
    "matrix.set_xlabel('Предсказания')\n",
    "matrix.set_ylabel('Ответы');\n",
    "\n",
    "plt.show()"
   ]
  },
  {
   "cell_type": "markdown",
   "metadata": {
    "id": "O0tP-G3jPsM8"
   },
   "source": [
    "####*Выводы*"
   ]
  },
  {
   "cell_type": "markdown",
   "metadata": {
    "id": "RkFT2W_zBTnD"
   },
   "source": [
    "Показания F1-метрики у модели:\n",
    "* дерева решений - 0.568\n",
    "* случайного леса - 0.581\n",
    "* логистической регрессии - 0.278\n",
    "\n",
    "По результатам видим, что хуже всего и с огромным отрывом справилась модель логистической регрессии. Модель случайного леса показала наилучшие результаты.\n",
    "\n",
    "Смотря на матрицы ошибок, можно сказать, что показатели чуть лучше у модели дерева решений: самый низкий показатель ложнонегативных предсказаний (11.15%), чем у моделей случайного леса (11.30%) и логистической регрессии (17.20%), и также самый высокий показатель истинноположительных предсказаний (9.85%), чем у моделей случайного леса (9.70%) и логистической регрессии (3.80%). Но матрицы ошибок хорошо и наглядно отражают явный дисбаланс классов, что непосредственно влияет на предсказания.\n",
    "\n",
    "К сожалению, данные показатели не дотягивают до заявленного приемлемого минимума метрики F1 - 0.59. Поэтому далее прибегнем к минимизации влияния дисбаланса классов."
   ]
  },
  {
   "cell_type": "markdown",
   "metadata": {
    "id": "3CijMoNe-Vwe"
   },
   "source": [
    "## Борьба с дисбалансом"
   ]
  },
  {
   "cell_type": "markdown",
   "metadata": {
    "id": "lTuuqmMGNOHX"
   },
   "source": [
    "Мы будем использовать три метода борьбы с дисбалансом классов:\n",
    "взвешивание классов, увеличение выборки и уменьшение выборки. После посмотрим, какой из методов будет наиболее действенный и на какой модели после преобразования будут наилучшие показатели.\n"
   ]
  },
  {
   "cell_type": "markdown",
   "metadata": {
    "id": "bDD84Ox0N1R0"
   },
   "source": [
    "### Взвешивание классов"
   ]
  },
  {
   "cell_type": "markdown",
   "metadata": {
    "id": "diL5RSmGQFuB"
   },
   "source": [
    "Для использования этого метода добавим в параметры каждой из моделей аргумент *class_weight* со значением **\"balanced\"**. Таким образом у наименьшего положительного класса появится больший вес."
   ]
  },
  {
   "cell_type": "markdown",
   "metadata": {
    "id": "cWAPQDkyP2EG"
   },
   "source": [
    "#### Дерево решений"
   ]
  },
  {
   "cell_type": "code",
   "execution_count": 405,
   "metadata": {
    "colab": {
     "base_uri": "https://localhost:8080/"
    },
    "id": "bBuULw0BQ3l6",
    "outputId": "a994bc6c-830a-4df9-f8df-52c7b6440b1e"
   },
   "outputs": [
    {
     "name": "stdout",
     "output_type": "stream",
     "text": [
      "Лучшее значение F1-метрики 0.5506072874493927 при глубине дерева 8\n"
     ]
    }
   ],
   "source": [
    "best_f1 = 0\n",
    "\n",
    "for depth in range(1, 16):\n",
    "    model_tree = DecisionTreeClassifier(random_state=123, max_depth=depth, class_weight='balanced')\n",
    "    model_tree.fit(features_train, target_train)\n",
    "    predictions_valid_tree = model_tree.predict(features_valid)\n",
    "    f1_tree = f1_score(target_valid, predictions_valid_tree)\n",
    "    if f1_tree > best_f1:\n",
    "        best_tree = model_tree\n",
    "        best_depth = depth\n",
    "        best_f1 = f1_tree\n",
    "\n",
    "print('Лучшее значение F1-метрики', best_f1, 'при глубине дерева', best_depth)"
   ]
  },
  {
   "cell_type": "code",
   "execution_count": 406,
   "metadata": {
    "colab": {
     "base_uri": "https://localhost:8080/"
    },
    "id": "yEBnmRV-RD0o",
    "outputId": "60bed16a-69fc-491b-b54d-af4f96d6f282"
   },
   "outputs": [
    {
     "name": "stdout",
     "output_type": "stream",
     "text": [
      "Полнота дерева решений: 0.6476190476190476\n",
      "Точность дерева решений: 0.4788732394366197\n",
      "F1-метрика: 0.5506072874493927\n",
      "ROC-AUC: 0.7980417420132611\n"
     ]
    }
   ],
   "source": [
    "predictions_valid_tree = best_tree.predict(features_valid)\n",
    "probabilities_valid_tree = best_tree.predict_proba(features_valid)\n",
    "probabilities_one_valid_tree = probabilities_valid_tree[:, 1]\n",
    "\n",
    "print('Полнота дерева решений:', recall_score(target_valid, predictions_valid_tree))\n",
    "print('Точность дерева решений:', precision_score(target_valid, predictions_valid_tree))\n",
    "print('F1-метрика:', f1_score(target_valid, predictions_valid_tree))\n",
    "print('ROC-AUC:', roc_auc_score(target_valid, probabilities_one_valid_tree))"
   ]
  },
  {
   "cell_type": "markdown",
   "metadata": {
    "id": "R0XtHwqLSrUi"
   },
   "source": [
    "#### Случайный лес"
   ]
  },
  {
   "cell_type": "code",
   "execution_count": 407,
   "metadata": {
    "colab": {
     "base_uri": "https://localhost:8080/"
    },
    "id": "S58_jRAySx2c",
    "outputId": "7588654b-562f-4189-e336-45e629102ef6"
   },
   "outputs": [
    {
     "name": "stdout",
     "output_type": "stream",
     "text": [
      "Лучшее значение F1-метрики 0.6121437422552665 при глубине деревьев 10 и численности леса 45\n"
     ]
    }
   ],
   "source": [
    "best_f1 = 0\n",
    "\n",
    "for depth in range(1, 16):\n",
    "    for est in range(5, 51, 5):\n",
    "        model_forest = RandomForestClassifier(random_state=123, max_depth=depth, n_estimators=est, class_weight='balanced')\n",
    "        model_forest.fit(features_train, target_train)\n",
    "        predictions_valid_forest = model_forest.predict(features_valid)\n",
    "        f1_forest = f1_score(target_valid, predictions_valid_forest)\n",
    "        if f1_forest > best_f1:\n",
    "            best_forest = model_forest\n",
    "            best_depth = depth\n",
    "            best_est = est\n",
    "            best_f1 = f1_forest\n",
    "\n",
    "print('Лучшее значение F1-метрики', best_f1, 'при глубине деревьев', best_depth, 'и численности леса', best_est)"
   ]
  },
  {
   "cell_type": "code",
   "execution_count": 408,
   "metadata": {
    "colab": {
     "base_uri": "https://localhost:8080/"
    },
    "id": "kjULV4TiV354",
    "outputId": "873a92a1-31a4-496b-f6a5-15de23bc2dbd"
   },
   "outputs": [
    {
     "name": "stdout",
     "output_type": "stream",
     "text": [
      "Полнота случайного леса: 0.5880952380952381\n",
      "Точность случайного леса: 0.6382428940568475\n",
      "F1-метрика: 0.6121437422552665\n",
      "ROC-AUC: 0.8390611814345992\n"
     ]
    }
   ],
   "source": [
    "predictions_valid_forest = best_forest.predict(features_valid)\n",
    "probabilities_valid_forest = best_forest.predict_proba(features_valid)\n",
    "probabilities_one_valid_forest = probabilities_valid_forest[:, 1]\n",
    "\n",
    "print('Полнота случайного леса:', recall_score(target_valid, predictions_valid_forest))\n",
    "print('Точность случайного леса:', precision_score(target_valid, predictions_valid_forest))\n",
    "print('F1-метрика:', f1_score(target_valid, predictions_valid_forest))\n",
    "print('ROC-AUC:', roc_auc_score(target_valid, probabilities_one_valid_forest))"
   ]
  },
  {
   "cell_type": "markdown",
   "metadata": {
    "id": "0_dq2HKIWQMh"
   },
   "source": [
    "#### Логистическая регрессия"
   ]
  },
  {
   "cell_type": "code",
   "execution_count": 409,
   "metadata": {
    "colab": {
     "base_uri": "https://localhost:8080/"
    },
    "id": "qHRD5cQeWYcp",
    "outputId": "41ed92b5-8d38-4a72-d555-5b4da18a20bc"
   },
   "outputs": [
    {
     "name": "stdout",
     "output_type": "stream",
     "text": [
      "Полнота логистической регрессии: 0.6952380952380952\n",
      "Точность логистической регрессии: 0.38675496688741723\n",
      "F1-метрика: 0.4970212765957447\n",
      "ROC-AUC: 0.7637025316455696\n"
     ]
    }
   ],
   "source": [
    "model_logistic = LogisticRegression(random_state=123, solver='liblinear', class_weight='balanced')\n",
    "model_logistic.fit(features_train, target_train)\n",
    "predictions_valid_logistic = model_logistic.predict(features_valid)\n",
    "probabilities_valid_logistic = model_logistic.predict_proba(features_valid)\n",
    "probabilities_one_valid_logistic = probabilities_valid_logistic[:, 1]\n",
    "\n",
    "print('Полнота логистической регрессии:', recall_score(target_valid, predictions_valid_logistic))\n",
    "print('Точность логистической регрессии:', precision_score(target_valid, predictions_valid_logistic))\n",
    "print('F1-метрика:', f1_score(target_valid, predictions_valid_logistic))\n",
    "print('ROC-AUC:', roc_auc_score(target_valid, probabilities_one_valid_logistic))"
   ]
  },
  {
   "cell_type": "markdown",
   "metadata": {
    "id": "EpyX6sIgWsb8"
   },
   "source": [
    "#### *Выводы*"
   ]
  },
  {
   "cell_type": "markdown",
   "metadata": {
    "id": "Y_nbazpLYK6a"
   },
   "source": [
    "Оценим изменения, которые произошли от изначельного значения метрики F1:\n",
    "\n",
    "* дерево решений - 0.568 -> 0.55\n",
    "* случайный лес - 0.581 -> 0.612\n",
    "* логистическая регрессия - 0.278 -> 0.497\n",
    "\n",
    "Сильнее всего улучшилось качество метрики модели линецной регрессии, но показатель по прежнему показывает минимальное значение. Наилучший показатель по прежнему у модели случайного леса. Модель дерева решений наоборот показала меньшее значение метрики F1, чем в первом случае."
   ]
  },
  {
   "cell_type": "markdown",
   "metadata": {
    "id": "_vzNDSoUZYoP"
   },
   "source": [
    "### Увеличение выборки"
   ]
  },
  {
   "cell_type": "markdown",
   "metadata": {
    "id": "VmOtptyLazER"
   },
   "source": [
    "Для того, чтобы преобразовать выборку и увеличить объекты наименьшего класса, напишем функцию, в которой аргументами будут являтся признаки, целевой признак и количество повторений выборки. Увеличивать выборку будем в 4 раза, так как изначально в наших данных отрицательный класс больше положительного в 4 раза (80/20)."
   ]
  },
  {
   "cell_type": "code",
   "execution_count": 410,
   "metadata": {
    "id": "y7IARp4AXWpN"
   },
   "outputs": [],
   "source": [
    "def upsample(features, target, repeat):\n",
    "    features_zeros = features[target == 0]\n",
    "    features_ones = features[target == 1]\n",
    "    target_zeros = target[target == 0]\n",
    "    target_ones = target[target == 1]\n",
    "\n",
    "    features_upsampled = pd.concat([features_zeros] + [features_ones] * repeat)\n",
    "    target_upsampled = pd.concat([target_zeros] + [target_ones] * repeat)\n",
    "\n",
    "    features_upsampled, target_upsampled = shuffle(features_upsampled, target_upsampled, random_state=123)\n",
    "    return features_upsampled, target_upsampled"
   ]
  },
  {
   "cell_type": "markdown",
   "metadata": {
    "id": "6g6actbhdM_-"
   },
   "source": [
    "Применяем функцию к данным и проверяем размер получившейся выобрки."
   ]
  },
  {
   "cell_type": "code",
   "execution_count": 411,
   "metadata": {
    "colab": {
     "base_uri": "https://localhost:8080/"
    },
    "id": "XDq4xnr6agP2",
    "outputId": "01c8f7e5-615f-4fd4-c0f6-69302aeb09d2"
   },
   "outputs": [
    {
     "name": "stdout",
     "output_type": "stream",
     "text": [
      "(9609, 11)\n",
      "(9609,)\n"
     ]
    }
   ],
   "source": [
    "features_upsampled, target_upsampled = upsample(features_train, target_train, 4)\n",
    "\n",
    "print(features_upsampled.shape)\n",
    "print(target_upsampled.shape)"
   ]
  },
  {
   "cell_type": "markdown",
   "metadata": {
    "id": "i4pA8VRsdXEy"
   },
   "source": [
    "Далее обучаем модели на наших получившихся данных и измеряем результаты."
   ]
  },
  {
   "cell_type": "markdown",
   "metadata": {
    "id": "s1ILuDMCdmoE"
   },
   "source": [
    "#### Дерево решений"
   ]
  },
  {
   "cell_type": "code",
   "execution_count": 412,
   "metadata": {
    "colab": {
     "base_uri": "https://localhost:8080/"
    },
    "id": "9rWluczudyYO",
    "outputId": "b1f2fa6c-d2de-4c6c-dfc1-4c08f3d909ef"
   },
   "outputs": [
    {
     "name": "stdout",
     "output_type": "stream",
     "text": [
      "Лучшее значение F1-метрики 0.5509586276488395 при глубине дерева 8\n"
     ]
    }
   ],
   "source": [
    "best_f1 = 0\n",
    "\n",
    "for depth in range(1, 16):\n",
    "    model_tree = DecisionTreeClassifier(random_state=123, max_depth=depth)\n",
    "    model_tree.fit(features_upsampled, target_upsampled)\n",
    "    predictions_valid_tree = model_tree.predict(features_valid)\n",
    "    f1_tree = f1_score(target_valid, predictions_valid_tree)\n",
    "    if f1_tree > best_f1:\n",
    "        best_tree = model_tree\n",
    "        best_depth = depth\n",
    "        best_f1 = f1_tree\n",
    "\n",
    "print('Лучшее значение F1-метрики', best_f1, 'при глубине дерева', best_depth)"
   ]
  },
  {
   "cell_type": "code",
   "execution_count": 413,
   "metadata": {
    "colab": {
     "base_uri": "https://localhost:8080/"
    },
    "id": "hpfcWR_teCbd",
    "outputId": "a11bce96-fad5-4c3d-b766-99abc8688e09"
   },
   "outputs": [
    {
     "name": "stdout",
     "output_type": "stream",
     "text": [
      "Полнота дерева решений: 0.65\n",
      "Точность дерева решений: 0.47810858143607704\n",
      "F1-метрика: 0.5509586276488395\n",
      "ROC-AUC: 0.799669228450874\n"
     ]
    }
   ],
   "source": [
    "predictions_valid_tree = best_tree.predict(features_valid)\n",
    "probabilities_valid_tree = best_tree.predict_proba(features_valid)\n",
    "probabilities_one_valid_tree = probabilities_valid_tree[:, 1]\n",
    "\n",
    "print('Полнота дерева решений:', recall_score(target_valid, predictions_valid_tree))\n",
    "print('Точность дерева решений:', precision_score(target_valid, predictions_valid_tree))\n",
    "print('F1-метрика:', f1_score(target_valid, predictions_valid_tree))\n",
    "print('ROC-AUC:', roc_auc_score(target_valid, probabilities_one_valid_tree))"
   ]
  },
  {
   "cell_type": "markdown",
   "metadata": {
    "id": "7kRPWGWDeT_w"
   },
   "source": [
    "#### Случайный лес"
   ]
  },
  {
   "cell_type": "code",
   "execution_count": 414,
   "metadata": {
    "colab": {
     "base_uri": "https://localhost:8080/"
    },
    "id": "pPDo49YVeT_4",
    "outputId": "fa06216d-95c1-43ab-f248-612f0d272fcb"
   },
   "outputs": [
    {
     "name": "stdout",
     "output_type": "stream",
     "text": [
      "Лучшее значение F1-метрики 0.6109725685785536 при глубине деревьев 13 и численности леса 25\n"
     ]
    }
   ],
   "source": [
    "best_f1 = 0\n",
    "\n",
    "for depth in range(1, 16):\n",
    "    for est in range(5, 51, 5):\n",
    "        model_forest = RandomForestClassifier(random_state=123, max_depth=depth, n_estimators=est)\n",
    "        model_forest.fit(features_upsampled, target_upsampled)\n",
    "        predictions_valid_forest = model_forest.predict(features_valid)\n",
    "        f1_forest = f1_score(target_valid, predictions_valid_forest)\n",
    "        if f1_forest > best_f1:\n",
    "            best_forest = model_forest\n",
    "            best_depth = depth\n",
    "            best_est = est\n",
    "            best_f1 = f1_forest\n",
    "\n",
    "print('Лучшее значение F1-метрики', best_f1, 'при глубине деревьев', best_depth, 'и численности леса', best_est)"
   ]
  },
  {
   "cell_type": "code",
   "execution_count": 415,
   "metadata": {
    "colab": {
     "base_uri": "https://localhost:8080/"
    },
    "id": "-6jTgB65eT_5",
    "outputId": "e90a7f47-48b6-496a-a8e1-4c6bddf68fbd"
   },
   "outputs": [
    {
     "name": "stdout",
     "output_type": "stream",
     "text": [
      "Полнота случайного леса: 0.5833333333333334\n",
      "Точность случайного леса: 0.6413612565445026\n",
      "F1-метрика: 0.6109725685785536\n",
      "ROC-AUC: 0.8369891500904159\n"
     ]
    }
   ],
   "source": [
    "predictions_valid_forest = best_forest.predict(features_valid)\n",
    "probabilities_valid_forest = best_forest.predict_proba(features_valid)\n",
    "probabilities_one_valid_forest = probabilities_valid_forest[:, 1]\n",
    "\n",
    "print('Полнота случайного леса:', recall_score(target_valid, predictions_valid_forest))\n",
    "print('Точность случайного леса:', precision_score(target_valid, predictions_valid_forest))\n",
    "print('F1-метрика:', f1_score(target_valid, predictions_valid_forest))\n",
    "print('ROC-AUC:', roc_auc_score(target_valid, probabilities_one_valid_forest))"
   ]
  },
  {
   "cell_type": "markdown",
   "metadata": {
    "id": "RmaMVWhXeT_5"
   },
   "source": [
    "#### Логистическая регрессия"
   ]
  },
  {
   "cell_type": "code",
   "execution_count": 416,
   "metadata": {
    "colab": {
     "base_uri": "https://localhost:8080/"
    },
    "id": "SenLw1oxeT_5",
    "outputId": "2ded501f-4f3b-4ec4-cd04-84968bb130f8"
   },
   "outputs": [
    {
     "name": "stdout",
     "output_type": "stream",
     "text": [
      "Полнота логистической регрессии: 0.6952380952380952\n",
      "Точность логистической регрессии: 0.38675496688741723\n",
      "F1-метрика: 0.4970212765957447\n",
      "ROC-AUC: 0.7636754068716094\n"
     ]
    }
   ],
   "source": [
    "model_logistic = LogisticRegression(random_state=123, solver='liblinear', class_weight='balanced')\n",
    "model_logistic.fit(features_upsampled, target_upsampled)\n",
    "predictions_valid_logistic = model_logistic.predict(features_valid)\n",
    "probabilities_valid_logistic = model_logistic.predict_proba(features_valid)\n",
    "probabilities_one_valid_logistic = probabilities_valid_logistic[:, 1]\n",
    "\n",
    "print('Полнота логистической регрессии:', recall_score(target_valid, predictions_valid_logistic))\n",
    "print('Точность логистической регрессии:', precision_score(target_valid, predictions_valid_logistic))\n",
    "print('F1-метрика:', f1_score(target_valid, predictions_valid_logistic))\n",
    "print('ROC-AUC:', roc_auc_score(target_valid, probabilities_one_valid_logistic))"
   ]
  },
  {
   "cell_type": "markdown",
   "metadata": {
    "id": "nywNNOg0eT_6"
   },
   "source": [
    "#### *Выводы*"
   ]
  },
  {
   "cell_type": "markdown",
   "metadata": {
    "id": "GH4N2na2eT_6"
   },
   "source": [
    "Оценим изменения, которые произошли от изначельного значения метрики F1:\n",
    "\n",
    "* дерево решений - 0.568 -> 0.555\n",
    "* случайный лес - 0.581 -> 0.605\n",
    "* логистическая регрессия - 0.023 -> 0.458\n",
    "\n",
    "Сильнее всего улучшилось качество метрики модели линецной регрессии, но показатель по прежнему показывает минимальное значение. Наилучший показатель по прежнему у модели случайного леса. Модель дерева решений наоборот показала меньшее значение метрики F1, чем в первом случае."
   ]
  },
  {
   "cell_type": "markdown",
   "metadata": {
    "id": "yHg_1Unqe-8l"
   },
   "source": [
    "### Уменьшение выборки"
   ]
  },
  {
   "cell_type": "markdown",
   "metadata": {
    "id": "SoNu0qJNfGaG"
   },
   "source": [
    "Для использования метода уменьшения выборки напишем функцию, которая будет выкидавать случайные объекты из преобладающего отрицательного класса. Аргументами функции будут выступать признаки, целевой признак и доля, которая останется от исходных данных. Уменьшать выборку будем в 4 раза, так как в изначальных данных отрицательный класс преобладает в 4 раза."
   ]
  },
  {
   "cell_type": "code",
   "execution_count": 417,
   "metadata": {
    "id": "m9w_Tijdg2Sh"
   },
   "outputs": [],
   "source": [
    "def downsample(features, target, fraction):\n",
    "    features_zeros = features[target == 0]\n",
    "    features_ones = features[target == 1]\n",
    "    target_zeros = target[target == 0]\n",
    "    target_ones = target[target == 1]\n",
    "\n",
    "    features_downsampled = pd.concat([features_zeros.sample(frac=fraction, random_state=12345)] + [features_ones])\n",
    "    target_downsampled = pd.concat([target_zeros.sample(frac=fraction, random_state=12345)] + [target_ones])\n",
    "\n",
    "    features_downsampled, target_downsampled = shuffle(features_downsampled, target_downsampled, random_state=12345)\n",
    "    return features_downsampled, target_downsampled"
   ]
  },
  {
   "cell_type": "markdown",
   "metadata": {
    "id": "XhnGoGM4hMfM"
   },
   "source": [
    "Преобразуем данные и проверим размер получившейся выборки."
   ]
  },
  {
   "cell_type": "code",
   "execution_count": 418,
   "metadata": {
    "colab": {
     "base_uri": "https://localhost:8080/"
    },
    "id": "IHHJBr4RhIuP",
    "outputId": "b406c8f2-ec7a-44d3-a420-d0fdf38f5d36"
   },
   "outputs": [
    {
     "name": "stdout",
     "output_type": "stream",
     "text": [
      "(2402, 11)\n",
      "(2402,)\n"
     ]
    }
   ],
   "source": [
    "features_downsampled, target_downsampled = downsample(features_train, target_train, 0.25)\n",
    "\n",
    "print(features_downsampled.shape)\n",
    "print(target_downsampled.shape)"
   ]
  },
  {
   "cell_type": "markdown",
   "metadata": {
    "id": "kkgn3N7MhaEt"
   },
   "source": [
    "Далее обучаем модели на наших получившихся данных и измеряем результаты."
   ]
  },
  {
   "cell_type": "markdown",
   "metadata": {
    "id": "vyuTHTH5haE0"
   },
   "source": [
    "#### Дерево решений"
   ]
  },
  {
   "cell_type": "code",
   "execution_count": 419,
   "metadata": {
    "colab": {
     "base_uri": "https://localhost:8080/"
    },
    "id": "5cY4O6l_haE0",
    "outputId": "a68abda7-c0d5-497c-b425-eee5d523714e"
   },
   "outputs": [
    {
     "name": "stdout",
     "output_type": "stream",
     "text": [
      "Лучшее значение F1-метрики 0.5459825750242013 при глубине дерева 5\n"
     ]
    }
   ],
   "source": [
    "best_f1 = 0\n",
    "\n",
    "for depth in range(1, 16):\n",
    "    model_tree = DecisionTreeClassifier(random_state=123, max_depth=depth)\n",
    "    model_tree.fit(features_downsampled, target_downsampled)\n",
    "    predictions_valid_tree = model_tree.predict(features_valid)\n",
    "    f1_tree = f1_score(target_valid, predictions_valid_tree)\n",
    "    if f1_tree > best_f1:\n",
    "        best_tree = model_tree\n",
    "        best_depth = depth\n",
    "        best_f1 = f1_tree\n",
    "\n",
    "print('Лучшее значение F1-метрики', best_f1, 'при глубине дерева', best_depth)"
   ]
  },
  {
   "cell_type": "code",
   "execution_count": 420,
   "metadata": {
    "colab": {
     "base_uri": "https://localhost:8080/"
    },
    "id": "yJf-kIM3haE1",
    "outputId": "e1d7fcf7-3e83-4e26-9ab5-35bf173c455d"
   },
   "outputs": [
    {
     "name": "stdout",
     "output_type": "stream",
     "text": [
      "Полнота дерева решений: 0.6714285714285714\n",
      "Точность дерева решений: 0.4600326264274062\n",
      "F1-метрика: 0.5459825750242013\n",
      "ROC-AUC: 0.8231977094635323\n"
     ]
    }
   ],
   "source": [
    "predictions_valid_tree = best_tree.predict(features_valid)\n",
    "probabilities_valid_tree = best_tree.predict_proba(features_valid)\n",
    "probabilities_one_valid_tree = probabilities_valid_tree[:, 1]\n",
    "\n",
    "print('Полнота дерева решений:', recall_score(target_valid, predictions_valid_tree))\n",
    "print('Точность дерева решений:', precision_score(target_valid, predictions_valid_tree))\n",
    "print('F1-метрика:', f1_score(target_valid, predictions_valid_tree))\n",
    "print('ROC-AUC:', roc_auc_score(target_valid, probabilities_one_valid_tree))"
   ]
  },
  {
   "cell_type": "markdown",
   "metadata": {
    "id": "4tYX4CxLhaE1"
   },
   "source": [
    "#### Случайный лес"
   ]
  },
  {
   "cell_type": "code",
   "execution_count": 421,
   "metadata": {
    "colab": {
     "base_uri": "https://localhost:8080/"
    },
    "id": "qHZEgi_AhaE1",
    "outputId": "fc5e0c54-db6c-46bc-ff12-5f61d981c286"
   },
   "outputs": [
    {
     "name": "stdout",
     "output_type": "stream",
     "text": [
      "Лучшее значение F1-метрики 0.5733207190160833 при глубине деревьев 12 и численности леса 40\n"
     ]
    }
   ],
   "source": [
    "best_f1 = 0\n",
    "\n",
    "for depth in range(1, 16):\n",
    "    for est in range(5, 51, 5):\n",
    "        model_forest = RandomForestClassifier(random_state=123, max_depth=depth, n_estimators=est)\n",
    "        model_forest.fit(features_downsampled, target_downsampled)\n",
    "        predictions_valid_forest = model_forest.predict(features_valid)\n",
    "        f1_forest = f1_score(target_valid, predictions_valid_forest)\n",
    "        if f1_forest > best_f1:\n",
    "            best_forest = model_forest\n",
    "            best_depth = depth\n",
    "            best_est = est\n",
    "            best_f1 = f1_forest\n",
    "\n",
    "print('Лучшее значение F1-метрики', best_f1, 'при глубине деревьев', best_depth, 'и численности леса', best_est)"
   ]
  },
  {
   "cell_type": "code",
   "execution_count": 422,
   "metadata": {
    "colab": {
     "base_uri": "https://localhost:8080/"
    },
    "id": "EDXlT3tohaE1",
    "outputId": "1e301b1c-3b4a-4b4d-b929-6f6dcd726017"
   },
   "outputs": [
    {
     "name": "stdout",
     "output_type": "stream",
     "text": [
      "Полнота случайного леса: 0.7214285714285714\n",
      "Точность случайного леса: 0.47566718995290425\n",
      "F1-метрика: 0.5733207190160833\n",
      "ROC-AUC: 0.8319635322483424\n"
     ]
    }
   ],
   "source": [
    "predictions_valid_forest = best_forest.predict(features_valid)\n",
    "probabilities_valid_forest = best_forest.predict_proba(features_valid)\n",
    "probabilities_one_valid_forest = probabilities_valid_forest[:, 1]\n",
    "\n",
    "print('Полнота случайного леса:', recall_score(target_valid, predictions_valid_forest))\n",
    "print('Точность случайного леса:', precision_score(target_valid, predictions_valid_forest))\n",
    "print('F1-метрика:', f1_score(target_valid, predictions_valid_forest))\n",
    "print('ROC-AUC:', roc_auc_score(target_valid, probabilities_one_valid_forest))"
   ]
  },
  {
   "cell_type": "markdown",
   "metadata": {
    "id": "5cUGtylZhaE1"
   },
   "source": [
    "#### Логистическая регрессия"
   ]
  },
  {
   "cell_type": "code",
   "execution_count": 423,
   "metadata": {
    "colab": {
     "base_uri": "https://localhost:8080/"
    },
    "id": "PDJ2HKbphaE1",
    "outputId": "8018fc6b-51f9-418a-bb0b-c23653f7ef8b"
   },
   "outputs": [
    {
     "name": "stdout",
     "output_type": "stream",
     "text": [
      "Полнота логистической регрессии: 0.6928571428571428\n",
      "Точность логистической регрессии: 0.3885180240320427\n",
      "F1-метрика: 0.49786142001710865\n",
      "ROC-AUC: 0.7624397227245328\n"
     ]
    }
   ],
   "source": [
    "model_logistic = LogisticRegression(random_state=123, solver='liblinear', class_weight='balanced')\n",
    "model_logistic.fit(features_downsampled, target_downsampled)\n",
    "predictions_valid_logistic = model_logistic.predict(features_valid)\n",
    "probabilities_valid_logistic = model_logistic.predict_proba(features_valid)\n",
    "probabilities_one_valid_logistic = probabilities_valid_logistic[:, 1]\n",
    "\n",
    "print('Полнота логистической регрессии:', recall_score(target_valid, predictions_valid_logistic))\n",
    "print('Точность логистической регрессии:', precision_score(target_valid, predictions_valid_logistic))\n",
    "print('F1-метрика:', f1_score(target_valid, predictions_valid_logistic))\n",
    "print('ROC-AUC:', roc_auc_score(target_valid, probabilities_one_valid_logistic))"
   ]
  },
  {
   "cell_type": "markdown",
   "metadata": {
    "id": "fqQ86kyihaE2"
   },
   "source": [
    "#### *Выводы*"
   ]
  },
  {
   "cell_type": "markdown",
   "metadata": {
    "id": "rF8KEYBOhaE2"
   },
   "source": [
    "Оценим изменения, которые произошли от изначельного значения метрики F1:\n",
    "\n",
    "* дерево решений - 0.568 -> 0.55\n",
    "* случайный лес - 0.581 -> 0.573\n",
    "* логистическая регрессия - 0.278 -> 0.498\n",
    "\n",
    "Сильнее всего улучшилось качество метрики модели линецной регрессии, но показатель по прежнему показывает минимальное значение. Наилучший показатель по прежнему у модели случайного леса, несмотря на то, что у моделей дерева решений и случайного леса меньшее значение метрики F1, чем в случае без учёта дисбаланса классов."
   ]
  },
  {
   "cell_type": "markdown",
   "metadata": {
    "id": "4D2LitLXibQ0"
   },
   "source": [
    "### Выводы"
   ]
  },
  {
   "cell_type": "markdown",
   "metadata": {
    "id": "iv_XSAA5kXQk"
   },
   "source": [
    "Для наглядности соберем получившиеся значения метрики F1 для каждой модели в одну таблицу:"
   ]
  },
  {
   "cell_type": "code",
   "execution_count": 424,
   "metadata": {
    "colab": {
     "base_uri": "https://localhost:8080/",
     "height": 143
    },
    "id": "eRDi7B2eigr6",
    "outputId": "231a0884-c12b-496b-e627-70088b8b14d4"
   },
   "outputs": [
    {
     "data": {
      "text/html": [
       "\n",
       "  <div id=\"df-fb59e161-507f-4a67-9cb6-98ef73b4ffe8\" class=\"colab-df-container\">\n",
       "    <div>\n",
       "<style scoped>\n",
       "    .dataframe tbody tr th:only-of-type {\n",
       "        vertical-align: middle;\n",
       "    }\n",
       "\n",
       "    .dataframe tbody tr th {\n",
       "        vertical-align: top;\n",
       "    }\n",
       "\n",
       "    .dataframe thead th {\n",
       "        text-align: right;\n",
       "    }\n",
       "</style>\n",
       "<table border=\"1\" class=\"dataframe\">\n",
       "  <thead>\n",
       "    <tr style=\"text-align: right;\">\n",
       "      <th></th>\n",
       "      <th>Модель</th>\n",
       "      <th>Первоначальные значения</th>\n",
       "      <th>Взвешивание классов</th>\n",
       "      <th>Уменьшение выборки</th>\n",
       "      <th>Увеличение выборки</th>\n",
       "    </tr>\n",
       "  </thead>\n",
       "  <tbody>\n",
       "    <tr>\n",
       "      <th>0</th>\n",
       "      <td>Дерево решений</td>\n",
       "      <td>0.57</td>\n",
       "      <td>0.55</td>\n",
       "      <td>0.56</td>\n",
       "      <td>0.55</td>\n",
       "    </tr>\n",
       "    <tr>\n",
       "      <th>1</th>\n",
       "      <td>Случайный лес</td>\n",
       "      <td>0.58</td>\n",
       "      <td>0.61</td>\n",
       "      <td>0.60</td>\n",
       "      <td>0.57</td>\n",
       "    </tr>\n",
       "    <tr>\n",
       "      <th>2</th>\n",
       "      <td>Логистическая регрессия</td>\n",
       "      <td>0.28</td>\n",
       "      <td>0.50</td>\n",
       "      <td>0.50</td>\n",
       "      <td>0.50</td>\n",
       "    </tr>\n",
       "  </tbody>\n",
       "</table>\n",
       "</div>\n",
       "    <div class=\"colab-df-buttons\">\n",
       "\n",
       "  <div class=\"colab-df-container\">\n",
       "    <button class=\"colab-df-convert\" onclick=\"convertToInteractive('df-fb59e161-507f-4a67-9cb6-98ef73b4ffe8')\"\n",
       "            title=\"Convert this dataframe to an interactive table.\"\n",
       "            style=\"display:none;\">\n",
       "\n",
       "  <svg xmlns=\"http://www.w3.org/2000/svg\" height=\"24px\" viewBox=\"0 -960 960 960\">\n",
       "    <path d=\"M120-120v-720h720v720H120Zm60-500h600v-160H180v160Zm220 220h160v-160H400v160Zm0 220h160v-160H400v160ZM180-400h160v-160H180v160Zm440 0h160v-160H620v160ZM180-180h160v-160H180v160Zm440 0h160v-160H620v160Z\"/>\n",
       "  </svg>\n",
       "    </button>\n",
       "\n",
       "  <style>\n",
       "    .colab-df-container {\n",
       "      display:flex;\n",
       "      gap: 12px;\n",
       "    }\n",
       "\n",
       "    .colab-df-convert {\n",
       "      background-color: #E8F0FE;\n",
       "      border: none;\n",
       "      border-radius: 50%;\n",
       "      cursor: pointer;\n",
       "      display: none;\n",
       "      fill: #1967D2;\n",
       "      height: 32px;\n",
       "      padding: 0 0 0 0;\n",
       "      width: 32px;\n",
       "    }\n",
       "\n",
       "    .colab-df-convert:hover {\n",
       "      background-color: #E2EBFA;\n",
       "      box-shadow: 0px 1px 2px rgba(60, 64, 67, 0.3), 0px 1px 3px 1px rgba(60, 64, 67, 0.15);\n",
       "      fill: #174EA6;\n",
       "    }\n",
       "\n",
       "    .colab-df-buttons div {\n",
       "      margin-bottom: 4px;\n",
       "    }\n",
       "\n",
       "    [theme=dark] .colab-df-convert {\n",
       "      background-color: #3B4455;\n",
       "      fill: #D2E3FC;\n",
       "    }\n",
       "\n",
       "    [theme=dark] .colab-df-convert:hover {\n",
       "      background-color: #434B5C;\n",
       "      box-shadow: 0px 1px 3px 1px rgba(0, 0, 0, 0.15);\n",
       "      filter: drop-shadow(0px 1px 2px rgba(0, 0, 0, 0.3));\n",
       "      fill: #FFFFFF;\n",
       "    }\n",
       "  </style>\n",
       "\n",
       "    <script>\n",
       "      const buttonEl =\n",
       "        document.querySelector('#df-fb59e161-507f-4a67-9cb6-98ef73b4ffe8 button.colab-df-convert');\n",
       "      buttonEl.style.display =\n",
       "        google.colab.kernel.accessAllowed ? 'block' : 'none';\n",
       "\n",
       "      async function convertToInteractive(key) {\n",
       "        const element = document.querySelector('#df-fb59e161-507f-4a67-9cb6-98ef73b4ffe8');\n",
       "        const dataTable =\n",
       "          await google.colab.kernel.invokeFunction('convertToInteractive',\n",
       "                                                    [key], {});\n",
       "        if (!dataTable) return;\n",
       "\n",
       "        const docLinkHtml = 'Like what you see? Visit the ' +\n",
       "          '<a target=\"_blank\" href=https://colab.research.google.com/notebooks/data_table.ipynb>data table notebook</a>'\n",
       "          + ' to learn more about interactive tables.';\n",
       "        element.innerHTML = '';\n",
       "        dataTable['output_type'] = 'display_data';\n",
       "        await google.colab.output.renderOutput(dataTable, element);\n",
       "        const docLink = document.createElement('div');\n",
       "        docLink.innerHTML = docLinkHtml;\n",
       "        element.appendChild(docLink);\n",
       "      }\n",
       "    </script>\n",
       "  </div>\n",
       "\n",
       "    </div>\n",
       "  </div>\n"
      ],
      "text/plain": [
       "                    Модель  Первоначальные значения  Взвешивание классов  \\\n",
       "0           Дерево решений                     0.57                 0.55   \n",
       "1            Случайный лес                     0.58                 0.61   \n",
       "2  Логистическая регрессия                     0.28                 0.50   \n",
       "\n",
       "   Уменьшение выборки  Увеличение выборки  \n",
       "0                0.56                0.55  \n",
       "1                0.60                0.57  \n",
       "2                0.50                0.50  "
      ]
     },
     "execution_count": 424,
     "metadata": {},
     "output_type": "execute_result"
    }
   ],
   "source": [
    "model = ['Дерево решений', 'Случайный лес', 'Логистическая регрессия']\n",
    "primary = [0.568, 0.581, 0.278]\n",
    "weighting = [0.55, 0.612, 0.497]\n",
    "downsampling = [0.555, 0.605, 0.497]\n",
    "upsampling = [0.55, 0.573, 0.498]\n",
    "\n",
    "f1_metrics = pd.DataFrame({'Модель': model,\n",
    "                           'Первоначальные значения': primary,\n",
    "                           'Взвешивание классов': weighting,\n",
    "                           'Уменьшение выборки': downsampling,\n",
    "                           'Увеличение выборки': upsampling })\n",
    "\n",
    "f1_metrics"
   ]
  },
  {
   "cell_type": "markdown",
   "metadata": {
    "id": "6femgE3XkiRE"
   },
   "source": [
    "Самый лучший результат по метрике F1 дала модель случайного леса после применения метода взвешивания классов при борьбе с дисбалансом, а также со следующими гиперпараметрами: максимальная глубина деревьев - 11, оптимальное количество оценок - 40. Данную модель и будем использовать для дальнейшего тестирования."
   ]
  },
  {
   "cell_type": "markdown",
   "metadata": {
    "id": "csnnKSFfmYdd"
   },
   "source": [
    "Также соберем значения метрики AUC-ROC для каждой модели в одну таблицу, чтобы убедиться, что данная модель лучшая по всем показателям"
   ]
  },
  {
   "cell_type": "code",
   "execution_count": 425,
   "metadata": {
    "colab": {
     "base_uri": "https://localhost:8080/",
     "height": 143
    },
    "id": "R7eJcSr5k6K-",
    "outputId": "36c8fbff-16f2-4b15-8580-d9265b0384c4"
   },
   "outputs": [
    {
     "data": {
      "text/html": [
       "\n",
       "  <div id=\"df-fce04205-d08f-476a-aaac-411b1b0913b8\" class=\"colab-df-container\">\n",
       "    <div>\n",
       "<style scoped>\n",
       "    .dataframe tbody tr th:only-of-type {\n",
       "        vertical-align: middle;\n",
       "    }\n",
       "\n",
       "    .dataframe tbody tr th {\n",
       "        vertical-align: top;\n",
       "    }\n",
       "\n",
       "    .dataframe thead th {\n",
       "        text-align: right;\n",
       "    }\n",
       "</style>\n",
       "<table border=\"1\" class=\"dataframe\">\n",
       "  <thead>\n",
       "    <tr style=\"text-align: right;\">\n",
       "      <th></th>\n",
       "      <th>Модель</th>\n",
       "      <th>Первоначальные значения</th>\n",
       "      <th>Взвешивание классов</th>\n",
       "      <th>Уменьшение выборки</th>\n",
       "      <th>Увеличение выборки</th>\n",
       "    </tr>\n",
       "  </thead>\n",
       "  <tbody>\n",
       "    <tr>\n",
       "      <th>0</th>\n",
       "      <td>Дерево решений</td>\n",
       "      <td>0.82</td>\n",
       "      <td>0.82</td>\n",
       "      <td>0.78</td>\n",
       "      <td>0.79</td>\n",
       "    </tr>\n",
       "    <tr>\n",
       "      <th>1</th>\n",
       "      <td>Случайный лес</td>\n",
       "      <td>0.83</td>\n",
       "      <td>0.84</td>\n",
       "      <td>0.84</td>\n",
       "      <td>0.83</td>\n",
       "    </tr>\n",
       "    <tr>\n",
       "      <th>2</th>\n",
       "      <td>Логистическая регрессия</td>\n",
       "      <td>0.76</td>\n",
       "      <td>0.72</td>\n",
       "      <td>0.71</td>\n",
       "      <td>0.71</td>\n",
       "    </tr>\n",
       "  </tbody>\n",
       "</table>\n",
       "</div>\n",
       "    <div class=\"colab-df-buttons\">\n",
       "\n",
       "  <div class=\"colab-df-container\">\n",
       "    <button class=\"colab-df-convert\" onclick=\"convertToInteractive('df-fce04205-d08f-476a-aaac-411b1b0913b8')\"\n",
       "            title=\"Convert this dataframe to an interactive table.\"\n",
       "            style=\"display:none;\">\n",
       "\n",
       "  <svg xmlns=\"http://www.w3.org/2000/svg\" height=\"24px\" viewBox=\"0 -960 960 960\">\n",
       "    <path d=\"M120-120v-720h720v720H120Zm60-500h600v-160H180v160Zm220 220h160v-160H400v160Zm0 220h160v-160H400v160ZM180-400h160v-160H180v160Zm440 0h160v-160H620v160ZM180-180h160v-160H180v160Zm440 0h160v-160H620v160Z\"/>\n",
       "  </svg>\n",
       "    </button>\n",
       "\n",
       "  <style>\n",
       "    .colab-df-container {\n",
       "      display:flex;\n",
       "      gap: 12px;\n",
       "    }\n",
       "\n",
       "    .colab-df-convert {\n",
       "      background-color: #E8F0FE;\n",
       "      border: none;\n",
       "      border-radius: 50%;\n",
       "      cursor: pointer;\n",
       "      display: none;\n",
       "      fill: #1967D2;\n",
       "      height: 32px;\n",
       "      padding: 0 0 0 0;\n",
       "      width: 32px;\n",
       "    }\n",
       "\n",
       "    .colab-df-convert:hover {\n",
       "      background-color: #E2EBFA;\n",
       "      box-shadow: 0px 1px 2px rgba(60, 64, 67, 0.3), 0px 1px 3px 1px rgba(60, 64, 67, 0.15);\n",
       "      fill: #174EA6;\n",
       "    }\n",
       "\n",
       "    .colab-df-buttons div {\n",
       "      margin-bottom: 4px;\n",
       "    }\n",
       "\n",
       "    [theme=dark] .colab-df-convert {\n",
       "      background-color: #3B4455;\n",
       "      fill: #D2E3FC;\n",
       "    }\n",
       "\n",
       "    [theme=dark] .colab-df-convert:hover {\n",
       "      background-color: #434B5C;\n",
       "      box-shadow: 0px 1px 3px 1px rgba(0, 0, 0, 0.15);\n",
       "      filter: drop-shadow(0px 1px 2px rgba(0, 0, 0, 0.3));\n",
       "      fill: #FFFFFF;\n",
       "    }\n",
       "  </style>\n",
       "\n",
       "    <script>\n",
       "      const buttonEl =\n",
       "        document.querySelector('#df-fce04205-d08f-476a-aaac-411b1b0913b8 button.colab-df-convert');\n",
       "      buttonEl.style.display =\n",
       "        google.colab.kernel.accessAllowed ? 'block' : 'none';\n",
       "\n",
       "      async function convertToInteractive(key) {\n",
       "        const element = document.querySelector('#df-fce04205-d08f-476a-aaac-411b1b0913b8');\n",
       "        const dataTable =\n",
       "          await google.colab.kernel.invokeFunction('convertToInteractive',\n",
       "                                                    [key], {});\n",
       "        if (!dataTable) return;\n",
       "\n",
       "        const docLinkHtml = 'Like what you see? Visit the ' +\n",
       "          '<a target=\"_blank\" href=https://colab.research.google.com/notebooks/data_table.ipynb>data table notebook</a>'\n",
       "          + ' to learn more about interactive tables.';\n",
       "        element.innerHTML = '';\n",
       "        dataTable['output_type'] = 'display_data';\n",
       "        await google.colab.output.renderOutput(dataTable, element);\n",
       "        const docLink = document.createElement('div');\n",
       "        docLink.innerHTML = docLinkHtml;\n",
       "        element.appendChild(docLink);\n",
       "      }\n",
       "    </script>\n",
       "  </div>\n",
       "\n",
       "    </div>\n",
       "  </div>\n"
      ],
      "text/plain": [
       "                    Модель  Первоначальные значения  Взвешивание классов  \\\n",
       "0           Дерево решений                     0.82                 0.82   \n",
       "1            Случайный лес                     0.83                 0.84   \n",
       "2  Логистическая регрессия                     0.76                 0.72   \n",
       "\n",
       "   Уменьшение выборки  Увеличение выборки  \n",
       "0                0.78                0.79  \n",
       "1                0.84                0.83  \n",
       "2                0.71                0.71  "
      ]
     },
     "execution_count": 425,
     "metadata": {},
     "output_type": "execute_result"
    }
   ],
   "source": [
    "model = ['Дерево решений', 'Случайный лес', 'Логистическая регрессия']\n",
    "primary = [0.819, 0.828, 0.761]\n",
    "weighting = [0.818, 0.842, 0.725]\n",
    "downsampling = [0.776, 0.844, 0.714]\n",
    "upsampling = [0.785, 0.829, 0.706]\n",
    "\n",
    "auc_roc_metrics = pd.DataFrame({'Модель': model,\n",
    "                                'Первоначальные значения': primary,\n",
    "                                'Взвешивание классов': weighting,\n",
    "                                'Уменьшение выборки': downsampling,\n",
    "                                'Увеличение выборки': upsampling })\n",
    "\n",
    "auc_roc_metrics"
   ]
  },
  {
   "cell_type": "markdown",
   "metadata": {
    "id": "nznNUS7BmlaB"
   },
   "source": [
    "Видим, что наши выводы подтвердились. Также можем отметить, что во всех случаях значение метрики AUC_ROC на порядок выше, чем метрика F1, что дает нам понимание - данная метрика менее критична к результатам модели, а также не чувствительна к дисбалансу классов."
   ]
  },
  {
   "cell_type": "markdown",
   "metadata": {
    "id": "qYqMqEtN-Vwf"
   },
   "source": [
    "## Тестирование модели"
   ]
  },
  {
   "cell_type": "markdown",
   "metadata": {
    "id": "g6G7cfgQLCZv"
   },
   "source": [
    "Перед тем, как перейти к тестированию, улучшим нашу обучающую выборку, добавив к ней валидационную."
   ]
  },
  {
   "cell_type": "code",
   "execution_count": 426,
   "metadata": {
    "id": "qkPtaQAnIV8E"
   },
   "outputs": [],
   "source": [
    "features_train = pd.concat([features_train, features_valid], axis=0, ignore_index=True)\n",
    "target_train = pd.concat([target_train, target_valid], axis=0, ignore_index=True)"
   ]
  },
  {
   "cell_type": "markdown",
   "metadata": {
    "id": "DBvkGvPgLMvQ"
   },
   "source": [
    "Проверим, что объединение прошло успешно"
   ]
  },
  {
   "cell_type": "code",
   "execution_count": 427,
   "metadata": {
    "colab": {
     "base_uri": "https://localhost:8080/"
    },
    "id": "OtaoMbeUJHm4",
    "outputId": "c3b35776-ba16-44a5-ba28-f7c9b759ac8e"
   },
   "outputs": [
    {
     "name": "stdout",
     "output_type": "stream",
     "text": [
      "(8000, 11)\n",
      "(8000,)\n"
     ]
    }
   ],
   "source": [
    "print(features_train.shape)\n",
    "print(target_train.shape)"
   ]
  },
  {
   "cell_type": "markdown",
   "metadata": {
    "id": "o0WT0dqWLRyP"
   },
   "source": [
    "Далее обучаем модель случайного леса с ранее определенными оптимальными для неё гиперпараметрами - глубина деревьев 11 и численность деревьев 40."
   ]
  },
  {
   "cell_type": "code",
   "execution_count": 428,
   "metadata": {
    "colab": {
     "base_uri": "https://localhost:8080/"
    },
    "id": "kiePYqYv-Vwf",
    "outputId": "702486ea-9ac1-4c49-9f58-2b3c2456a212"
   },
   "outputs": [
    {
     "name": "stdout",
     "output_type": "stream",
     "text": [
      "Полнота случайного леса: 0.6183574879227053\n",
      "Точность случайного леса: 0.6432160804020101\n",
      "F1-метрика: 0.6305418719211823\n",
      "ROC-AUC: 0.8651196154759947\n"
     ]
    }
   ],
   "source": [
    "model = RandomForestClassifier(random_state=123, max_depth=11, n_estimators=40, class_weight='balanced')\n",
    "model.fit(features_train, target_train)\n",
    "predictions_test = model.predict(features_test)\n",
    "\n",
    "probabilities_test = model.predict_proba(features_test)\n",
    "probabilities_one_test = probabilities_test[:, 1]\n",
    "\n",
    "print('Полнота случайного леса:', recall_score(target_test, predictions_test))\n",
    "print('Точность случайного леса:', precision_score(target_test, predictions_test))\n",
    "print('F1-метрика:', f1_score(target_test, predictions_test))\n",
    "print('ROC-AUC:', roc_auc_score(target_test, probabilities_one_test))"
   ]
  },
  {
   "cell_type": "markdown",
   "metadata": {
    "id": "UviANYD0LhY3"
   },
   "source": [
    "По замерам метрик видим, что нам удалось корректно обучить и настроить модель: значение метрики F1 0.631 - это больше задаваемого для нас порога (0.59), что значит то, что с задачей мы справились успешно. Также значение метрики AUC_ROC 0.866 - весьма неплохой результат."
   ]
  },
  {
   "cell_type": "markdown",
   "metadata": {
    "id": "64bQbNy-L8I7"
   },
   "source": [
    "Построим ROC-кривую и наглядно убедимся в хорошем качестве и адекватности модели."
   ]
  },
  {
   "cell_type": "code",
   "execution_count": 429,
   "metadata": {
    "colab": {
     "base_uri": "https://localhost:8080/",
     "height": 472
    },
    "id": "Eti05FtOKgKK",
    "outputId": "09e3f059-7ac5-43f1-bcf4-734e3b73ca41"
   },
   "outputs": [
    {
     "data": {
      "image/png": "[encoded data removed]",
      "text/plain": [
       "<Figure size 640x480 with 1 Axes>"
      ]
     },
     "metadata": {},
     "output_type": "display_data"
    }
   ],
   "source": [
    "fpr, tpr, thresholds = roc_curve(target_test, probabilities_one_test)\n",
    "\n",
    "plt.figure()\n",
    "plt.plot(fpr, tpr)\n",
    "\n",
    "plt.plot([0, 1], [0, 1], linestyle='--')\n",
    "\n",
    "plt.xlim(0, 1)\n",
    "plt.ylim(0, 1)\n",
    "\n",
    "plt.xlabel('False Positive Rate')\n",
    "plt.ylabel('True Positive Rate')\n",
    "\n",
    "plt.title('ROC-кривая')\n",
    "plt.show()"
   ]
  },
  {
   "cell_type": "markdown",
   "metadata": {
    "id": "Xia1Y39IThF5"
   },
   "source": [
    "Проведем ещё один тест на адекватность модели и сравним метрику F1 нашей настроенней модели с метрикой F1 константной модели, которая всегда предсказывает 1."
   ]
  },
  {
   "cell_type": "code",
   "execution_count": 430,
   "metadata": {
    "colab": {
     "base_uri": "https://localhost:8080/"
    },
    "id": "eZvlHvvoTQZ6",
    "outputId": "84b213de-f9fc-4b85-86bb-8ec66049059c"
   },
   "outputs": [
    {
     "data": {
      "text/plain": [
       "0.3429991714995857"
      ]
     },
     "execution_count": 430,
     "metadata": {},
     "output_type": "execute_result"
    }
   ],
   "source": [
    "dummy_model = DummyClassifier(strategy='constant', constant=1)\n",
    "dummy_model.fit(features_train, target_train)\n",
    "f1_score(dummy_model.predict(features_test), target_test)"
   ]
  },
  {
   "cell_type": "markdown",
   "metadata": {
    "id": "UjUf0BxqT3ol"
   },
   "source": [
    "Метрика F1 константой модели 0.343, что почти в 2 раза меньше, чем метрика F1 нашей модели, что доказывает её адекватность и объективность."
   ]
  },
  {
   "cell_type": "markdown",
   "metadata": {
    "id": "rU5g0kI2MF8u"
   },
   "source": [
    "## Общий вывод"
   ]
  },
  {
   "cell_type": "markdown",
   "metadata": {
    "id": "KSBwoidzMKdX"
   },
   "source": [
    "***Первом этапом*** в данном проекте мы подготовили данные:\n",
    "* провели предобработку данных (выявили и заполнили пропуски в столбце **Tenure**)\n",
    "* произвели преобразование прямым кодированием над категориальными столбцами **Geography** и **Gender**\n",
    "* удалили столбцы **RowNumber**, **CustomerId** и **Surname**, так как они могли создать лишний шум в данных\n",
    "* провели деление данных на три выборки - обучающую, валидационную и тестовую - в соотношении 60/20/20 перед масштабированием признаков\n",
    "* промасштабировали столбцы **CreditScore**, **Balance** и **EstimatedSalary** с помощью стандартизации\n",
    "\n",
    "***Вторым этапом*** было выявление наличия дисбаланса классов в данных и изучение моделей без учёта дисбаланса:\n",
    "* выявили дисбаланс отрицательного и положительного класса в соотношении 80/20 соответственно\n",
    "* получили следующие показания ***F1-метрики*** у модели:\n",
    "  * *дерева решений - 0.568*\n",
    "  * *случайного леса - 0.581*\n",
    "  * *логистической регрессии - 0.278*\n",
    "\n",
    "По результатам видим, что хуже всего и с огромным отрывом справилась модель логистической регрессии. Модель случайного леса показала наилучшие результаты.\n",
    "\n",
    "* построили матрицы ошибок для всех трёх моделей и выявили, что показатели чуть лучше у модели дерева решений: самый низкий показатель ложнонегативных предсказаний (11.15%), чем у моделей случайного леса (11.20%) и логистической регрессии (20.75%), и также самый высокий показатель истинноположительных предсказаний (9.85%), чем у моделей случайного леса (9.80%) и логистической регрессии (0.25%)\n",
    "\n",
    "В ***третьем этапе*** опробовали 3 метода борьбы с влиянием дисбаланса классов и благодаря сранительной таблице метрик F1 выявили, что лучше всего себя показал ***метод взвешивания классов*** для ***модели случайного леса*** с оптимальными для неё гиперпараметрами - глубина деревьев 11 и численность деревьев 40.\n",
    "\n",
    "Также обратили внимание, что метрика AUC_ROC менее критична к резульатам предсказаний модели, так как её значение всегда было на порядок выше, чем значение метрики F1.\n",
    "\n",
    "В ***четвёртом этапе*** проекта провели тестирование лучшей модели, добивших следующих результатов:\n",
    "\n",
    "* F1-метрика - 0.631\n",
    "* метрика ROC-AUC - 0.866\n",
    "\n",
    "По значениям метрик видим, что нам удалось корректно обучить и настроить модель: значение *метрики F1* больше задаваемого для нас порога (0.59), что значит то, что с задачей мы справились успешно. Также значение *метрики AUC_ROC* достаточно высокое.\n",
    "\n",
    "Далее построили *ROC-кривую* и наглядно убедились в высоком качестве и адекватности модели.\n",
    "\n",
    "Также сравнили результаты метрики F1 нашей модели случайного леса (0.631) с метрикой константной модели (0.343), разница которых дополнительно доказала объективность доработанной модели."
   ]
  }
 ],
 "metadata": {
  "colab": {
   "provenance": [],
   "toc_visible": true
  },
  "kernelspec": {
   "display_name": "Python 3 (ipykernel)",
   "language": "python",
   "name": "python3"
  },
  "language_info": {
   "codemirror_mode": {
    "name": "ipython",
    "version": 3
   },
   "file_extension": ".py",
   "mimetype": "text/x-python",
   "name": "python",
   "nbconvert_exporter": "python",
   "pygments_lexer": "ipython3",
   "version": "3.11.7"
  },
  "toc": {
   "base_numbering": 1,
   "nav_menu": {},
   "number_sections": true,
   "sideBar": true,
   "skip_h1_title": true,
   "title_cell": "Содержание",
   "title_sidebar": "Contents",
   "toc_cell": true,
   "toc_position": {},
   "toc_section_display": true,
   "toc_window_display": false
  }
 },
 "nbformat": 4,
 "nbformat_minor": 4
}
